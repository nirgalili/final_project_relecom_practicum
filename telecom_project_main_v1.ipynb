{
  "cells": [
    {
      "cell_type": "markdown",
      "id": "c2fd689e",
      "metadata": {
        "id": "c2fd689e"
      },
      "source": [
        "# Download and look into the data"
      ]
    },
    {
      "cell_type": "markdown",
      "id": "6a60a911",
      "metadata": {
        "id": "6a60a911"
      },
      "source": [
        "## Project description"
      ]
    },
    {
      "cell_type": "markdown",
      "id": "0eff0acb",
      "metadata": {
        "id": "0eff0acb"
      },
      "source": [
        "The telecom operator Interconnect would like to be able to forecast their churn of clients. If it's discovered that a user is planning to leave, they will be offered promotional codes and special plan options. Interconnect's marketing team has collected some of their clientele's personal data, including information about their plans and contracts.\n",
        "\n",
        "**Interconnect's services**\n",
        "\n",
        "Interconnect mainly provides two types of services:\n",
        "\n",
        "1. Landline communication. The telephone can be connected to several lines simultaneously.\n",
        "2. Internet. The network can be set up via a telephone line (DSL, *digital subscriber line*) or through a fiber optic cable.\n",
        "\n",
        "Some other services the company provides include:\n",
        "\n",
        "- Internet security: antivirus software (*DeviceProtection*) and a malicious website blocker (*OnlineSecurity*)\n",
        "- A dedicated technical support line (*TechSupport*)\n",
        "- Cloud file storage and data backup (*OnlineBackup*)\n",
        "- TV streaming (*StreamingTV*) and a movie directory (*StreamingMovies*)\n",
        "\n",
        "The clients can choose either a monthly payment or sign a 1- or 2-year contract. They can use various payment methods and receive an electronic invoice after a transaction."
      ]
    },
    {
      "cell_type": "markdown",
      "id": "e70afd60",
      "metadata": {
        "id": "e70afd60"
      },
      "source": [
        "### Import needed libraries"
      ]
    },
    {
      "cell_type": "code",
      "execution_count": null,
      "id": "45365e90",
      "metadata": {
        "colab": {
          "base_uri": "https://localhost:8080/"
        },
        "id": "45365e90",
        "outputId": "c2bbec98-94cb-43c0-98e0-9563e8cb2fe9"
      },
      "outputs": [
        {
          "output_type": "stream",
          "name": "stdout",
          "text": [
            "Looking in indexes: https://pypi.org/simple, https://us-python.pkg.dev/colab-wheels/public/simple/\n",
            "Requirement already satisfied: statsmodels in /usr/local/lib/python3.7/dist-packages (0.12.2)\n",
            "Requirement already satisfied: numpy>=1.15 in /usr/local/lib/python3.7/dist-packages (from statsmodels) (1.21.6)\n",
            "Requirement already satisfied: pandas>=0.21 in /usr/local/lib/python3.7/dist-packages (from statsmodels) (1.3.5)\n",
            "Requirement already satisfied: scipy>=1.1 in /usr/local/lib/python3.7/dist-packages (from statsmodels) (1.7.3)\n",
            "Requirement already satisfied: patsy>=0.5 in /usr/local/lib/python3.7/dist-packages (from statsmodels) (0.5.3)\n",
            "Requirement already satisfied: pytz>=2017.3 in /usr/local/lib/python3.7/dist-packages (from pandas>=0.21->statsmodels) (2022.6)\n",
            "Requirement already satisfied: python-dateutil>=2.7.3 in /usr/local/lib/python3.7/dist-packages (from pandas>=0.21->statsmodels) (2.8.2)\n",
            "Requirement already satisfied: six in /usr/local/lib/python3.7/dist-packages (from patsy>=0.5->statsmodels) (1.15.0)\n",
            "Looking in indexes: https://pypi.org/simple, https://us-python.pkg.dev/colab-wheels/public/simple/\n",
            "Requirement already satisfied: catboost in /usr/local/lib/python3.7/dist-packages (1.1.1)\n",
            "Requirement already satisfied: graphviz in /usr/local/lib/python3.7/dist-packages (from catboost) (0.10.1)\n",
            "Requirement already satisfied: pandas>=0.24.0 in /usr/local/lib/python3.7/dist-packages (from catboost) (1.3.5)\n",
            "Requirement already satisfied: scipy in /usr/local/lib/python3.7/dist-packages (from catboost) (1.7.3)\n",
            "Requirement already satisfied: plotly in /usr/local/lib/python3.7/dist-packages (from catboost) (5.5.0)\n",
            "Requirement already satisfied: six in /usr/local/lib/python3.7/dist-packages (from catboost) (1.15.0)\n",
            "Requirement already satisfied: matplotlib in /usr/local/lib/python3.7/dist-packages (from catboost) (3.2.2)\n",
            "Requirement already satisfied: numpy>=1.16.0 in /usr/local/lib/python3.7/dist-packages (from catboost) (1.21.6)\n",
            "Requirement already satisfied: python-dateutil>=2.7.3 in /usr/local/lib/python3.7/dist-packages (from pandas>=0.24.0->catboost) (2.8.2)\n",
            "Requirement already satisfied: pytz>=2017.3 in /usr/local/lib/python3.7/dist-packages (from pandas>=0.24.0->catboost) (2022.6)\n",
            "Requirement already satisfied: kiwisolver>=1.0.1 in /usr/local/lib/python3.7/dist-packages (from matplotlib->catboost) (1.4.4)\n",
            "Requirement already satisfied: cycler>=0.10 in /usr/local/lib/python3.7/dist-packages (from matplotlib->catboost) (0.11.0)\n",
            "Requirement already satisfied: pyparsing!=2.0.4,!=2.1.2,!=2.1.6,>=2.0.1 in /usr/local/lib/python3.7/dist-packages (from matplotlib->catboost) (3.0.9)\n",
            "Requirement already satisfied: typing-extensions in /usr/local/lib/python3.7/dist-packages (from kiwisolver>=1.0.1->matplotlib->catboost) (4.1.1)\n",
            "Requirement already satisfied: tenacity>=6.2.0 in /usr/local/lib/python3.7/dist-packages (from plotly->catboost) (8.1.0)\n",
            "Looking in indexes: https://pypi.org/simple, https://us-python.pkg.dev/colab-wheels/public/simple/\n",
            "Requirement already satisfied: lightgbm in /usr/local/lib/python3.7/dist-packages (2.2.3)\n",
            "Requirement already satisfied: scipy in /usr/local/lib/python3.7/dist-packages (from lightgbm) (1.7.3)\n",
            "Requirement already satisfied: scikit-learn in /usr/local/lib/python3.7/dist-packages (from lightgbm) (1.0.2)\n",
            "Requirement already satisfied: numpy in /usr/local/lib/python3.7/dist-packages (from lightgbm) (1.21.6)\n",
            "Requirement already satisfied: joblib>=0.11 in /usr/local/lib/python3.7/dist-packages (from scikit-learn->lightgbm) (1.2.0)\n",
            "Requirement already satisfied: threadpoolctl>=2.0.0 in /usr/local/lib/python3.7/dist-packages (from scikit-learn->lightgbm) (3.1.0)\n",
            "Project libraries has been successfully been imported!\n"
          ]
        }
      ],
      "source": [
        "# Data tools\n",
        "import pandas as pd\n",
        "import numpy as np\n",
        "#from pandas_profiling import ProfileReport\n",
        "\n",
        "# others\n",
        "import time\n",
        "from functools import reduce\n",
        "!pip install statsmodels\n",
        "from statsmodels.tsa.seasonal import seasonal_decompose\n",
        "\n",
        "# Graphics and display\n",
        "from IPython.core.interactiveshell import InteractiveShell\n",
        "import plotly.express as px\n",
        "import seaborn as sns\n",
        "import matplotlib.pyplot as plt\n",
        "from matplotlib import pyplot\n",
        "\n",
        "%matplotlib inline\n",
        "\n",
        "# Ml\n",
        "from sklearn.model_selection import train_test_split, cross_val_score\n",
        "from sklearn.preprocessing import OneHotEncoder, StandardScaler\n",
        "from sklearn.utils import shuffle\n",
        "from sklearn.ensemble import RandomForestClassifier\n",
        "from sklearn.compose import make_column_transformer\n",
        "import sklearn.metrics\n",
        "from sklearn.tree import DecisionTreeClassifier\n",
        "from sklearn.model_selection import RandomizedSearchCV, StratifiedKFold, GridSearchCV\n",
        "from sklearn.linear_model import LogisticRegression\n",
        "!pip install catboost\n",
        "from catboost import CatBoostClassifier\n",
        "from sklearn.dummy import DummyClassifier\n",
        "from sklearn.metrics import confusion_matrix, ConfusionMatrixDisplay, f1_score, \\\n",
        "roc_auc_score, recall_score, precision_score, accuracy_score\n",
        "from imblearn.pipeline import Pipeline, make_pipeline\n",
        "from imblearn.over_sampling import SMOTE\n",
        "! pip install lightgbm\n",
        "from lightgbm import LGBMClassifier\n",
        "from sklearn.ensemble import VotingClassifier\n",
        "\n",
        "# Statistics\n",
        "from scipy.stats import randint\n",
        "\n",
        "print('Project libraries has been successfully been imported!')"
      ]
    },
    {
      "cell_type": "markdown",
      "id": "4fad6ebd",
      "metadata": {
        "id": "4fad6ebd"
      },
      "source": [
        "1.0.3  Set environment variables"
      ]
    },
    {
      "cell_type": "code",
      "execution_count": null,
      "id": "46a8efd4",
      "metadata": {
        "id": "46a8efd4"
      },
      "outputs": [],
      "source": [
        "# set to display all output not only print() or last output\n",
        "InteractiveShell.ast_node_interactivity = \"all\"\n",
        "\n",
        "# set display all columns when showing dataframes\n",
        "pd.options.display.max_columns = None    "
      ]
    },
    {
      "cell_type": "markdown",
      "id": "c37a66f2",
      "metadata": {
        "id": "c37a66f2"
      },
      "source": [
        "1.1  Open the file and look into the data."
      ]
    },
    {
      "cell_type": "code",
      "source": [
        "# mount google drive\n",
        "\n",
        "from google.colab import drive\n",
        "drive.mount('/content/drive')"
      ],
      "metadata": {
        "colab": {
          "base_uri": "https://localhost:8080/"
        },
        "id": "CTBrVkOoSP0B",
        "outputId": "9ca23936-58e9-4a69-9cf5-4704b22a1f68"
      },
      "id": "CTBrVkOoSP0B",
      "execution_count": null,
      "outputs": [
        {
          "output_type": "stream",
          "name": "stdout",
          "text": [
            "Drive already mounted at /content/drive; to attempt to forcibly remount, call drive.mount(\"/content/drive\", force_remount=True).\n"
          ]
        }
      ]
    },
    {
      "cell_type": "code",
      "source": [
        "import glob\n",
        "\n",
        "for name in glob.glob(r'/content/drive/MyDrive/churn_gm/*'):\n",
        "    print(name)"
      ],
      "metadata": {
        "colab": {
          "base_uri": "https://localhost:8080/"
        },
        "id": "MbyCwg_KSP3D",
        "outputId": "60745700-f2e8-425e-a829-75b58246248c"
      },
      "id": "MbyCwg_KSP3D",
      "execution_count": null,
      "outputs": [
        {
          "output_type": "stream",
          "name": "stdout",
          "text": [
            "/content/drive/MyDrive/churn_gm/phone.csv\n",
            "/content/drive/MyDrive/churn_gm/contract.csv\n",
            "/content/drive/MyDrive/churn_gm/internet.csv\n",
            "/content/drive/MyDrive/churn_gm/personal.csv\n",
            "/content/drive/MyDrive/churn_gm/telecom_project_main_for_randomizedcv.ipynb\n",
            "/content/drive/MyDrive/churn_gm/practicum100-telecom-churn-prediction.ipynb\n",
            "/content/drive/MyDrive/churn_gm/Copy of telecom_project_main.ipynb\n",
            "/content/drive/MyDrive/churn_gm/backup_telecom_project_main_v1.ipynb\n",
            "/content/drive/MyDrive/churn_gm/telecom_project_main_v1.ipynb\n"
          ]
        }
      ]
    },
    {
      "cell_type": "code",
      "execution_count": null,
      "id": "879d071d",
      "metadata": {
        "colab": {
          "base_uri": "https://localhost:8080/"
        },
        "id": "879d071d",
        "outputId": "60934600-9461-422b-9aba-b43eaf93131b"
      },
      "outputs": [
        {
          "output_type": "stream",
          "name": "stdout",
          "text": [
            "Data has been read correctly!\n"
          ]
        }
      ],
      "source": [
        "try:\n",
        "    contract = pd.read_csv('contract.csv')\n",
        "    internet = pd.read_csv('internet.csv')\n",
        "    personal = pd.read_csv('personal.csv')\n",
        "    phone = pd.read_csv('phone.csv')\n",
        "    \n",
        "except:\n",
        "    contract = pd.read_csv('/content/drive/MyDrive/churn_gm/contract.csv')\n",
        "    internet = pd.read_csv('/content/drive/MyDrive/churn_gm/internet.csv')\n",
        "    personal = pd.read_csv('/content/drive/MyDrive/churn_gm/personal.csv')\n",
        "    phone = pd.read_csv('/content/drive/MyDrive/churn_gm/phone.csv')\n",
        "\n",
        "\n",
        "contract.name = 'contract'\n",
        "internet.name = 'internet'\n",
        "personal.name = 'personal'\n",
        "phone.name = 'phone'\n",
        "\n",
        "    \n",
        "print('Data has been read correctly!')"
      ]
    },
    {
      "cell_type": "markdown",
      "source": [
        "### Looking at the data"
      ],
      "metadata": {
        "id": "zzMcEjNhXZe_"
      },
      "id": "zzMcEjNhXZe_"
    },
    {
      "cell_type": "code",
      "source": [
        "# display basic information about each of the dataframes we use\n",
        "for df in [contract, internet, personal, phone]:\n",
        "    df.name\n",
        "    df.info()\n",
        "    df.sample(2)\n",
        "    print()\n",
        "    print('@@@@@@@@@@@@@@@@@@@@@@@@@@@@@@@@@@@@@@@@@@@@@@@@@@@@@@@@@@@@@@@@@@@@@@@@@@@@@@@@@@@@@@')\n",
        "    print()"
      ],
      "metadata": {
        "colab": {
          "base_uri": "https://localhost:8080/",
          "height": 1000
        },
        "id": "1B_Tya27T2ap",
        "outputId": "468fddd7-e6e5-4107-b372-9b1b1518cb57"
      },
      "id": "1B_Tya27T2ap",
      "execution_count": null,
      "outputs": [
        {
          "output_type": "execute_result",
          "data": {
            "text/plain": [
              "'contract'"
            ],
            "application/vnd.google.colaboratory.intrinsic+json": {
              "type": "string"
            }
          },
          "metadata": {},
          "execution_count": 118
        },
        {
          "output_type": "stream",
          "name": "stdout",
          "text": [
            "<class 'pandas.core.frame.DataFrame'>\n",
            "RangeIndex: 7043 entries, 0 to 7042\n",
            "Data columns (total 8 columns):\n",
            " #   Column            Non-Null Count  Dtype  \n",
            "---  ------            --------------  -----  \n",
            " 0   customerID        7043 non-null   object \n",
            " 1   BeginDate         7043 non-null   object \n",
            " 2   EndDate           7043 non-null   object \n",
            " 3   Type              7043 non-null   object \n",
            " 4   PaperlessBilling  7043 non-null   object \n",
            " 5   PaymentMethod     7043 non-null   object \n",
            " 6   MonthlyCharges    7043 non-null   float64\n",
            " 7   TotalCharges      7043 non-null   object \n",
            "dtypes: float64(1), object(7)\n",
            "memory usage: 440.3+ KB\n"
          ]
        },
        {
          "output_type": "execute_result",
          "data": {
            "text/plain": [
              "      customerID   BeginDate              EndDate            Type  \\\n",
              "3565  4317-VTEOA  2019-11-01  2019-12-01 00:00:00  Month-to-month   \n",
              "2823  4884-LEVMQ  2016-11-01                   No        Two year   \n",
              "\n",
              "     PaperlessBilling              PaymentMethod  MonthlyCharges TotalCharges  \n",
              "3565              Yes           Electronic check           50.75        50.75  \n",
              "2823              Yes  Bank transfer (automatic)           20.45          790  "
            ],
            "text/html": [
              "\n",
              "  <div id=\"df-2d894c05-877b-495d-89ed-18ec1ac2672a\">\n",
              "    <div class=\"colab-df-container\">\n",
              "      <div>\n",
              "<style scoped>\n",
              "    .dataframe tbody tr th:only-of-type {\n",
              "        vertical-align: middle;\n",
              "    }\n",
              "\n",
              "    .dataframe tbody tr th {\n",
              "        vertical-align: top;\n",
              "    }\n",
              "\n",
              "    .dataframe thead th {\n",
              "        text-align: right;\n",
              "    }\n",
              "</style>\n",
              "<table border=\"1\" class=\"dataframe\">\n",
              "  <thead>\n",
              "    <tr style=\"text-align: right;\">\n",
              "      <th></th>\n",
              "      <th>customerID</th>\n",
              "      <th>BeginDate</th>\n",
              "      <th>EndDate</th>\n",
              "      <th>Type</th>\n",
              "      <th>PaperlessBilling</th>\n",
              "      <th>PaymentMethod</th>\n",
              "      <th>MonthlyCharges</th>\n",
              "      <th>TotalCharges</th>\n",
              "    </tr>\n",
              "  </thead>\n",
              "  <tbody>\n",
              "    <tr>\n",
              "      <th>3565</th>\n",
              "      <td>4317-VTEOA</td>\n",
              "      <td>2019-11-01</td>\n",
              "      <td>2019-12-01 00:00:00</td>\n",
              "      <td>Month-to-month</td>\n",
              "      <td>Yes</td>\n",
              "      <td>Electronic check</td>\n",
              "      <td>50.75</td>\n",
              "      <td>50.75</td>\n",
              "    </tr>\n",
              "    <tr>\n",
              "      <th>2823</th>\n",
              "      <td>4884-LEVMQ</td>\n",
              "      <td>2016-11-01</td>\n",
              "      <td>No</td>\n",
              "      <td>Two year</td>\n",
              "      <td>Yes</td>\n",
              "      <td>Bank transfer (automatic)</td>\n",
              "      <td>20.45</td>\n",
              "      <td>790</td>\n",
              "    </tr>\n",
              "  </tbody>\n",
              "</table>\n",
              "</div>\n",
              "      <button class=\"colab-df-convert\" onclick=\"convertToInteractive('df-2d894c05-877b-495d-89ed-18ec1ac2672a')\"\n",
              "              title=\"Convert this dataframe to an interactive table.\"\n",
              "              style=\"display:none;\">\n",
              "        \n",
              "  <svg xmlns=\"http://www.w3.org/2000/svg\" height=\"24px\"viewBox=\"0 0 24 24\"\n",
              "       width=\"24px\">\n",
              "    <path d=\"M0 0h24v24H0V0z\" fill=\"none\"/>\n",
              "    <path d=\"M18.56 5.44l.94 2.06.94-2.06 2.06-.94-2.06-.94-.94-2.06-.94 2.06-2.06.94zm-11 1L8.5 8.5l.94-2.06 2.06-.94-2.06-.94L8.5 2.5l-.94 2.06-2.06.94zm10 10l.94 2.06.94-2.06 2.06-.94-2.06-.94-.94-2.06-.94 2.06-2.06.94z\"/><path d=\"M17.41 7.96l-1.37-1.37c-.4-.4-.92-.59-1.43-.59-.52 0-1.04.2-1.43.59L10.3 9.45l-7.72 7.72c-.78.78-.78 2.05 0 2.83L4 21.41c.39.39.9.59 1.41.59.51 0 1.02-.2 1.41-.59l7.78-7.78 2.81-2.81c.8-.78.8-2.07 0-2.86zM5.41 20L4 18.59l7.72-7.72 1.47 1.35L5.41 20z\"/>\n",
              "  </svg>\n",
              "      </button>\n",
              "      \n",
              "  <style>\n",
              "    .colab-df-container {\n",
              "      display:flex;\n",
              "      flex-wrap:wrap;\n",
              "      gap: 12px;\n",
              "    }\n",
              "\n",
              "    .colab-df-convert {\n",
              "      background-color: #E8F0FE;\n",
              "      border: none;\n",
              "      border-radius: 50%;\n",
              "      cursor: pointer;\n",
              "      display: none;\n",
              "      fill: #1967D2;\n",
              "      height: 32px;\n",
              "      padding: 0 0 0 0;\n",
              "      width: 32px;\n",
              "    }\n",
              "\n",
              "    .colab-df-convert:hover {\n",
              "      background-color: #E2EBFA;\n",
              "      box-shadow: 0px 1px 2px rgba(60, 64, 67, 0.3), 0px 1px 3px 1px rgba(60, 64, 67, 0.15);\n",
              "      fill: #174EA6;\n",
              "    }\n",
              "\n",
              "    [theme=dark] .colab-df-convert {\n",
              "      background-color: #3B4455;\n",
              "      fill: #D2E3FC;\n",
              "    }\n",
              "\n",
              "    [theme=dark] .colab-df-convert:hover {\n",
              "      background-color: #434B5C;\n",
              "      box-shadow: 0px 1px 3px 1px rgba(0, 0, 0, 0.15);\n",
              "      filter: drop-shadow(0px 1px 2px rgba(0, 0, 0, 0.3));\n",
              "      fill: #FFFFFF;\n",
              "    }\n",
              "  </style>\n",
              "\n",
              "      <script>\n",
              "        const buttonEl =\n",
              "          document.querySelector('#df-2d894c05-877b-495d-89ed-18ec1ac2672a button.colab-df-convert');\n",
              "        buttonEl.style.display =\n",
              "          google.colab.kernel.accessAllowed ? 'block' : 'none';\n",
              "\n",
              "        async function convertToInteractive(key) {\n",
              "          const element = document.querySelector('#df-2d894c05-877b-495d-89ed-18ec1ac2672a');\n",
              "          const dataTable =\n",
              "            await google.colab.kernel.invokeFunction('convertToInteractive',\n",
              "                                                     [key], {});\n",
              "          if (!dataTable) return;\n",
              "\n",
              "          const docLinkHtml = 'Like what you see? Visit the ' +\n",
              "            '<a target=\"_blank\" href=https://colab.research.google.com/notebooks/data_table.ipynb>data table notebook</a>'\n",
              "            + ' to learn more about interactive tables.';\n",
              "          element.innerHTML = '';\n",
              "          dataTable['output_type'] = 'display_data';\n",
              "          await google.colab.output.renderOutput(dataTable, element);\n",
              "          const docLink = document.createElement('div');\n",
              "          docLink.innerHTML = docLinkHtml;\n",
              "          element.appendChild(docLink);\n",
              "        }\n",
              "      </script>\n",
              "    </div>\n",
              "  </div>\n",
              "  "
            ]
          },
          "metadata": {},
          "execution_count": 118
        },
        {
          "output_type": "stream",
          "name": "stdout",
          "text": [
            "\n",
            "@@@@@@@@@@@@@@@@@@@@@@@@@@@@@@@@@@@@@@@@@@@@@@@@@@@@@@@@@@@@@@@@@@@@@@@@@@@@@@@@@@@@@@\n",
            "\n"
          ]
        },
        {
          "output_type": "execute_result",
          "data": {
            "text/plain": [
              "'internet'"
            ],
            "application/vnd.google.colaboratory.intrinsic+json": {
              "type": "string"
            }
          },
          "metadata": {},
          "execution_count": 118
        },
        {
          "output_type": "stream",
          "name": "stdout",
          "text": [
            "<class 'pandas.core.frame.DataFrame'>\n",
            "RangeIndex: 5517 entries, 0 to 5516\n",
            "Data columns (total 8 columns):\n",
            " #   Column            Non-Null Count  Dtype \n",
            "---  ------            --------------  ----- \n",
            " 0   customerID        5517 non-null   object\n",
            " 1   InternetService   5517 non-null   object\n",
            " 2   OnlineSecurity    5517 non-null   object\n",
            " 3   OnlineBackup      5517 non-null   object\n",
            " 4   DeviceProtection  5517 non-null   object\n",
            " 5   TechSupport       5517 non-null   object\n",
            " 6   StreamingTV       5517 non-null   object\n",
            " 7   StreamingMovies   5517 non-null   object\n",
            "dtypes: object(8)\n",
            "memory usage: 344.9+ KB\n"
          ]
        },
        {
          "output_type": "execute_result",
          "data": {
            "text/plain": [
              "      customerID InternetService OnlineSecurity OnlineBackup DeviceProtection  \\\n",
              "1135  8752-GHJFU     Fiber optic            Yes          Yes              Yes   \n",
              "5440  2451-YMUXS             DSL            Yes          Yes               No   \n",
              "\n",
              "     TechSupport StreamingTV StreamingMovies  \n",
              "1135         Yes          No              No  \n",
              "5440         Yes          No              No  "
            ],
            "text/html": [
              "\n",
              "  <div id=\"df-1fb4c1c3-73ce-4ff8-b907-f8643aa8a9f9\">\n",
              "    <div class=\"colab-df-container\">\n",
              "      <div>\n",
              "<style scoped>\n",
              "    .dataframe tbody tr th:only-of-type {\n",
              "        vertical-align: middle;\n",
              "    }\n",
              "\n",
              "    .dataframe tbody tr th {\n",
              "        vertical-align: top;\n",
              "    }\n",
              "\n",
              "    .dataframe thead th {\n",
              "        text-align: right;\n",
              "    }\n",
              "</style>\n",
              "<table border=\"1\" class=\"dataframe\">\n",
              "  <thead>\n",
              "    <tr style=\"text-align: right;\">\n",
              "      <th></th>\n",
              "      <th>customerID</th>\n",
              "      <th>InternetService</th>\n",
              "      <th>OnlineSecurity</th>\n",
              "      <th>OnlineBackup</th>\n",
              "      <th>DeviceProtection</th>\n",
              "      <th>TechSupport</th>\n",
              "      <th>StreamingTV</th>\n",
              "      <th>StreamingMovies</th>\n",
              "    </tr>\n",
              "  </thead>\n",
              "  <tbody>\n",
              "    <tr>\n",
              "      <th>1135</th>\n",
              "      <td>8752-GHJFU</td>\n",
              "      <td>Fiber optic</td>\n",
              "      <td>Yes</td>\n",
              "      <td>Yes</td>\n",
              "      <td>Yes</td>\n",
              "      <td>Yes</td>\n",
              "      <td>No</td>\n",
              "      <td>No</td>\n",
              "    </tr>\n",
              "    <tr>\n",
              "      <th>5440</th>\n",
              "      <td>2451-YMUXS</td>\n",
              "      <td>DSL</td>\n",
              "      <td>Yes</td>\n",
              "      <td>Yes</td>\n",
              "      <td>No</td>\n",
              "      <td>Yes</td>\n",
              "      <td>No</td>\n",
              "      <td>No</td>\n",
              "    </tr>\n",
              "  </tbody>\n",
              "</table>\n",
              "</div>\n",
              "      <button class=\"colab-df-convert\" onclick=\"convertToInteractive('df-1fb4c1c3-73ce-4ff8-b907-f8643aa8a9f9')\"\n",
              "              title=\"Convert this dataframe to an interactive table.\"\n",
              "              style=\"display:none;\">\n",
              "        \n",
              "  <svg xmlns=\"http://www.w3.org/2000/svg\" height=\"24px\"viewBox=\"0 0 24 24\"\n",
              "       width=\"24px\">\n",
              "    <path d=\"M0 0h24v24H0V0z\" fill=\"none\"/>\n",
              "    <path d=\"M18.56 5.44l.94 2.06.94-2.06 2.06-.94-2.06-.94-.94-2.06-.94 2.06-2.06.94zm-11 1L8.5 8.5l.94-2.06 2.06-.94-2.06-.94L8.5 2.5l-.94 2.06-2.06.94zm10 10l.94 2.06.94-2.06 2.06-.94-2.06-.94-.94-2.06-.94 2.06-2.06.94z\"/><path d=\"M17.41 7.96l-1.37-1.37c-.4-.4-.92-.59-1.43-.59-.52 0-1.04.2-1.43.59L10.3 9.45l-7.72 7.72c-.78.78-.78 2.05 0 2.83L4 21.41c.39.39.9.59 1.41.59.51 0 1.02-.2 1.41-.59l7.78-7.78 2.81-2.81c.8-.78.8-2.07 0-2.86zM5.41 20L4 18.59l7.72-7.72 1.47 1.35L5.41 20z\"/>\n",
              "  </svg>\n",
              "      </button>\n",
              "      \n",
              "  <style>\n",
              "    .colab-df-container {\n",
              "      display:flex;\n",
              "      flex-wrap:wrap;\n",
              "      gap: 12px;\n",
              "    }\n",
              "\n",
              "    .colab-df-convert {\n",
              "      background-color: #E8F0FE;\n",
              "      border: none;\n",
              "      border-radius: 50%;\n",
              "      cursor: pointer;\n",
              "      display: none;\n",
              "      fill: #1967D2;\n",
              "      height: 32px;\n",
              "      padding: 0 0 0 0;\n",
              "      width: 32px;\n",
              "    }\n",
              "\n",
              "    .colab-df-convert:hover {\n",
              "      background-color: #E2EBFA;\n",
              "      box-shadow: 0px 1px 2px rgba(60, 64, 67, 0.3), 0px 1px 3px 1px rgba(60, 64, 67, 0.15);\n",
              "      fill: #174EA6;\n",
              "    }\n",
              "\n",
              "    [theme=dark] .colab-df-convert {\n",
              "      background-color: #3B4455;\n",
              "      fill: #D2E3FC;\n",
              "    }\n",
              "\n",
              "    [theme=dark] .colab-df-convert:hover {\n",
              "      background-color: #434B5C;\n",
              "      box-shadow: 0px 1px 3px 1px rgba(0, 0, 0, 0.15);\n",
              "      filter: drop-shadow(0px 1px 2px rgba(0, 0, 0, 0.3));\n",
              "      fill: #FFFFFF;\n",
              "    }\n",
              "  </style>\n",
              "\n",
              "      <script>\n",
              "        const buttonEl =\n",
              "          document.querySelector('#df-1fb4c1c3-73ce-4ff8-b907-f8643aa8a9f9 button.colab-df-convert');\n",
              "        buttonEl.style.display =\n",
              "          google.colab.kernel.accessAllowed ? 'block' : 'none';\n",
              "\n",
              "        async function convertToInteractive(key) {\n",
              "          const element = document.querySelector('#df-1fb4c1c3-73ce-4ff8-b907-f8643aa8a9f9');\n",
              "          const dataTable =\n",
              "            await google.colab.kernel.invokeFunction('convertToInteractive',\n",
              "                                                     [key], {});\n",
              "          if (!dataTable) return;\n",
              "\n",
              "          const docLinkHtml = 'Like what you see? Visit the ' +\n",
              "            '<a target=\"_blank\" href=https://colab.research.google.com/notebooks/data_table.ipynb>data table notebook</a>'\n",
              "            + ' to learn more about interactive tables.';\n",
              "          element.innerHTML = '';\n",
              "          dataTable['output_type'] = 'display_data';\n",
              "          await google.colab.output.renderOutput(dataTable, element);\n",
              "          const docLink = document.createElement('div');\n",
              "          docLink.innerHTML = docLinkHtml;\n",
              "          element.appendChild(docLink);\n",
              "        }\n",
              "      </script>\n",
              "    </div>\n",
              "  </div>\n",
              "  "
            ]
          },
          "metadata": {},
          "execution_count": 118
        },
        {
          "output_type": "stream",
          "name": "stdout",
          "text": [
            "\n",
            "@@@@@@@@@@@@@@@@@@@@@@@@@@@@@@@@@@@@@@@@@@@@@@@@@@@@@@@@@@@@@@@@@@@@@@@@@@@@@@@@@@@@@@\n",
            "\n"
          ]
        },
        {
          "output_type": "execute_result",
          "data": {
            "text/plain": [
              "'personal'"
            ],
            "application/vnd.google.colaboratory.intrinsic+json": {
              "type": "string"
            }
          },
          "metadata": {},
          "execution_count": 118
        },
        {
          "output_type": "stream",
          "name": "stdout",
          "text": [
            "<class 'pandas.core.frame.DataFrame'>\n",
            "RangeIndex: 7043 entries, 0 to 7042\n",
            "Data columns (total 5 columns):\n",
            " #   Column         Non-Null Count  Dtype \n",
            "---  ------         --------------  ----- \n",
            " 0   customerID     7043 non-null   object\n",
            " 1   gender         7043 non-null   object\n",
            " 2   SeniorCitizen  7043 non-null   int64 \n",
            " 3   Partner        7043 non-null   object\n",
            " 4   Dependents     7043 non-null   object\n",
            "dtypes: int64(1), object(4)\n",
            "memory usage: 275.2+ KB\n"
          ]
        },
        {
          "output_type": "execute_result",
          "data": {
            "text/plain": [
              "      customerID  gender  SeniorCitizen Partner Dependents\n",
              "2412  1623-NLDOT  Female              0     Yes         No\n",
              "6273  4342-HENTK  Female              1      No         No"
            ],
            "text/html": [
              "\n",
              "  <div id=\"df-f9ed396e-b66a-40bb-a516-e987ecaadffb\">\n",
              "    <div class=\"colab-df-container\">\n",
              "      <div>\n",
              "<style scoped>\n",
              "    .dataframe tbody tr th:only-of-type {\n",
              "        vertical-align: middle;\n",
              "    }\n",
              "\n",
              "    .dataframe tbody tr th {\n",
              "        vertical-align: top;\n",
              "    }\n",
              "\n",
              "    .dataframe thead th {\n",
              "        text-align: right;\n",
              "    }\n",
              "</style>\n",
              "<table border=\"1\" class=\"dataframe\">\n",
              "  <thead>\n",
              "    <tr style=\"text-align: right;\">\n",
              "      <th></th>\n",
              "      <th>customerID</th>\n",
              "      <th>gender</th>\n",
              "      <th>SeniorCitizen</th>\n",
              "      <th>Partner</th>\n",
              "      <th>Dependents</th>\n",
              "    </tr>\n",
              "  </thead>\n",
              "  <tbody>\n",
              "    <tr>\n",
              "      <th>2412</th>\n",
              "      <td>1623-NLDOT</td>\n",
              "      <td>Female</td>\n",
              "      <td>0</td>\n",
              "      <td>Yes</td>\n",
              "      <td>No</td>\n",
              "    </tr>\n",
              "    <tr>\n",
              "      <th>6273</th>\n",
              "      <td>4342-HENTK</td>\n",
              "      <td>Female</td>\n",
              "      <td>1</td>\n",
              "      <td>No</td>\n",
              "      <td>No</td>\n",
              "    </tr>\n",
              "  </tbody>\n",
              "</table>\n",
              "</div>\n",
              "      <button class=\"colab-df-convert\" onclick=\"convertToInteractive('df-f9ed396e-b66a-40bb-a516-e987ecaadffb')\"\n",
              "              title=\"Convert this dataframe to an interactive table.\"\n",
              "              style=\"display:none;\">\n",
              "        \n",
              "  <svg xmlns=\"http://www.w3.org/2000/svg\" height=\"24px\"viewBox=\"0 0 24 24\"\n",
              "       width=\"24px\">\n",
              "    <path d=\"M0 0h24v24H0V0z\" fill=\"none\"/>\n",
              "    <path d=\"M18.56 5.44l.94 2.06.94-2.06 2.06-.94-2.06-.94-.94-2.06-.94 2.06-2.06.94zm-11 1L8.5 8.5l.94-2.06 2.06-.94-2.06-.94L8.5 2.5l-.94 2.06-2.06.94zm10 10l.94 2.06.94-2.06 2.06-.94-2.06-.94-.94-2.06-.94 2.06-2.06.94z\"/><path d=\"M17.41 7.96l-1.37-1.37c-.4-.4-.92-.59-1.43-.59-.52 0-1.04.2-1.43.59L10.3 9.45l-7.72 7.72c-.78.78-.78 2.05 0 2.83L4 21.41c.39.39.9.59 1.41.59.51 0 1.02-.2 1.41-.59l7.78-7.78 2.81-2.81c.8-.78.8-2.07 0-2.86zM5.41 20L4 18.59l7.72-7.72 1.47 1.35L5.41 20z\"/>\n",
              "  </svg>\n",
              "      </button>\n",
              "      \n",
              "  <style>\n",
              "    .colab-df-container {\n",
              "      display:flex;\n",
              "      flex-wrap:wrap;\n",
              "      gap: 12px;\n",
              "    }\n",
              "\n",
              "    .colab-df-convert {\n",
              "      background-color: #E8F0FE;\n",
              "      border: none;\n",
              "      border-radius: 50%;\n",
              "      cursor: pointer;\n",
              "      display: none;\n",
              "      fill: #1967D2;\n",
              "      height: 32px;\n",
              "      padding: 0 0 0 0;\n",
              "      width: 32px;\n",
              "    }\n",
              "\n",
              "    .colab-df-convert:hover {\n",
              "      background-color: #E2EBFA;\n",
              "      box-shadow: 0px 1px 2px rgba(60, 64, 67, 0.3), 0px 1px 3px 1px rgba(60, 64, 67, 0.15);\n",
              "      fill: #174EA6;\n",
              "    }\n",
              "\n",
              "    [theme=dark] .colab-df-convert {\n",
              "      background-color: #3B4455;\n",
              "      fill: #D2E3FC;\n",
              "    }\n",
              "\n",
              "    [theme=dark] .colab-df-convert:hover {\n",
              "      background-color: #434B5C;\n",
              "      box-shadow: 0px 1px 3px 1px rgba(0, 0, 0, 0.15);\n",
              "      filter: drop-shadow(0px 1px 2px rgba(0, 0, 0, 0.3));\n",
              "      fill: #FFFFFF;\n",
              "    }\n",
              "  </style>\n",
              "\n",
              "      <script>\n",
              "        const buttonEl =\n",
              "          document.querySelector('#df-f9ed396e-b66a-40bb-a516-e987ecaadffb button.colab-df-convert');\n",
              "        buttonEl.style.display =\n",
              "          google.colab.kernel.accessAllowed ? 'block' : 'none';\n",
              "\n",
              "        async function convertToInteractive(key) {\n",
              "          const element = document.querySelector('#df-f9ed396e-b66a-40bb-a516-e987ecaadffb');\n",
              "          const dataTable =\n",
              "            await google.colab.kernel.invokeFunction('convertToInteractive',\n",
              "                                                     [key], {});\n",
              "          if (!dataTable) return;\n",
              "\n",
              "          const docLinkHtml = 'Like what you see? Visit the ' +\n",
              "            '<a target=\"_blank\" href=https://colab.research.google.com/notebooks/data_table.ipynb>data table notebook</a>'\n",
              "            + ' to learn more about interactive tables.';\n",
              "          element.innerHTML = '';\n",
              "          dataTable['output_type'] = 'display_data';\n",
              "          await google.colab.output.renderOutput(dataTable, element);\n",
              "          const docLink = document.createElement('div');\n",
              "          docLink.innerHTML = docLinkHtml;\n",
              "          element.appendChild(docLink);\n",
              "        }\n",
              "      </script>\n",
              "    </div>\n",
              "  </div>\n",
              "  "
            ]
          },
          "metadata": {},
          "execution_count": 118
        },
        {
          "output_type": "stream",
          "name": "stdout",
          "text": [
            "\n",
            "@@@@@@@@@@@@@@@@@@@@@@@@@@@@@@@@@@@@@@@@@@@@@@@@@@@@@@@@@@@@@@@@@@@@@@@@@@@@@@@@@@@@@@\n",
            "\n"
          ]
        },
        {
          "output_type": "execute_result",
          "data": {
            "text/plain": [
              "'phone'"
            ],
            "application/vnd.google.colaboratory.intrinsic+json": {
              "type": "string"
            }
          },
          "metadata": {},
          "execution_count": 118
        },
        {
          "output_type": "stream",
          "name": "stdout",
          "text": [
            "<class 'pandas.core.frame.DataFrame'>\n",
            "RangeIndex: 6361 entries, 0 to 6360\n",
            "Data columns (total 2 columns):\n",
            " #   Column         Non-Null Count  Dtype \n",
            "---  ------         --------------  ----- \n",
            " 0   customerID     6361 non-null   object\n",
            " 1   MultipleLines  6361 non-null   object\n",
            "dtypes: object(2)\n",
            "memory usage: 99.5+ KB\n"
          ]
        },
        {
          "output_type": "execute_result",
          "data": {
            "text/plain": [
              "      customerID MultipleLines\n",
              "4113  9688-YGXVR            No\n",
              "4808  9700-ISPUP            No"
            ],
            "text/html": [
              "\n",
              "  <div id=\"df-0e11f5e3-624b-4a86-993f-e5b605d35c48\">\n",
              "    <div class=\"colab-df-container\">\n",
              "      <div>\n",
              "<style scoped>\n",
              "    .dataframe tbody tr th:only-of-type {\n",
              "        vertical-align: middle;\n",
              "    }\n",
              "\n",
              "    .dataframe tbody tr th {\n",
              "        vertical-align: top;\n",
              "    }\n",
              "\n",
              "    .dataframe thead th {\n",
              "        text-align: right;\n",
              "    }\n",
              "</style>\n",
              "<table border=\"1\" class=\"dataframe\">\n",
              "  <thead>\n",
              "    <tr style=\"text-align: right;\">\n",
              "      <th></th>\n",
              "      <th>customerID</th>\n",
              "      <th>MultipleLines</th>\n",
              "    </tr>\n",
              "  </thead>\n",
              "  <tbody>\n",
              "    <tr>\n",
              "      <th>4113</th>\n",
              "      <td>9688-YGXVR</td>\n",
              "      <td>No</td>\n",
              "    </tr>\n",
              "    <tr>\n",
              "      <th>4808</th>\n",
              "      <td>9700-ISPUP</td>\n",
              "      <td>No</td>\n",
              "    </tr>\n",
              "  </tbody>\n",
              "</table>\n",
              "</div>\n",
              "      <button class=\"colab-df-convert\" onclick=\"convertToInteractive('df-0e11f5e3-624b-4a86-993f-e5b605d35c48')\"\n",
              "              title=\"Convert this dataframe to an interactive table.\"\n",
              "              style=\"display:none;\">\n",
              "        \n",
              "  <svg xmlns=\"http://www.w3.org/2000/svg\" height=\"24px\"viewBox=\"0 0 24 24\"\n",
              "       width=\"24px\">\n",
              "    <path d=\"M0 0h24v24H0V0z\" fill=\"none\"/>\n",
              "    <path d=\"M18.56 5.44l.94 2.06.94-2.06 2.06-.94-2.06-.94-.94-2.06-.94 2.06-2.06.94zm-11 1L8.5 8.5l.94-2.06 2.06-.94-2.06-.94L8.5 2.5l-.94 2.06-2.06.94zm10 10l.94 2.06.94-2.06 2.06-.94-2.06-.94-.94-2.06-.94 2.06-2.06.94z\"/><path d=\"M17.41 7.96l-1.37-1.37c-.4-.4-.92-.59-1.43-.59-.52 0-1.04.2-1.43.59L10.3 9.45l-7.72 7.72c-.78.78-.78 2.05 0 2.83L4 21.41c.39.39.9.59 1.41.59.51 0 1.02-.2 1.41-.59l7.78-7.78 2.81-2.81c.8-.78.8-2.07 0-2.86zM5.41 20L4 18.59l7.72-7.72 1.47 1.35L5.41 20z\"/>\n",
              "  </svg>\n",
              "      </button>\n",
              "      \n",
              "  <style>\n",
              "    .colab-df-container {\n",
              "      display:flex;\n",
              "      flex-wrap:wrap;\n",
              "      gap: 12px;\n",
              "    }\n",
              "\n",
              "    .colab-df-convert {\n",
              "      background-color: #E8F0FE;\n",
              "      border: none;\n",
              "      border-radius: 50%;\n",
              "      cursor: pointer;\n",
              "      display: none;\n",
              "      fill: #1967D2;\n",
              "      height: 32px;\n",
              "      padding: 0 0 0 0;\n",
              "      width: 32px;\n",
              "    }\n",
              "\n",
              "    .colab-df-convert:hover {\n",
              "      background-color: #E2EBFA;\n",
              "      box-shadow: 0px 1px 2px rgba(60, 64, 67, 0.3), 0px 1px 3px 1px rgba(60, 64, 67, 0.15);\n",
              "      fill: #174EA6;\n",
              "    }\n",
              "\n",
              "    [theme=dark] .colab-df-convert {\n",
              "      background-color: #3B4455;\n",
              "      fill: #D2E3FC;\n",
              "    }\n",
              "\n",
              "    [theme=dark] .colab-df-convert:hover {\n",
              "      background-color: #434B5C;\n",
              "      box-shadow: 0px 1px 3px 1px rgba(0, 0, 0, 0.15);\n",
              "      filter: drop-shadow(0px 1px 2px rgba(0, 0, 0, 0.3));\n",
              "      fill: #FFFFFF;\n",
              "    }\n",
              "  </style>\n",
              "\n",
              "      <script>\n",
              "        const buttonEl =\n",
              "          document.querySelector('#df-0e11f5e3-624b-4a86-993f-e5b605d35c48 button.colab-df-convert');\n",
              "        buttonEl.style.display =\n",
              "          google.colab.kernel.accessAllowed ? 'block' : 'none';\n",
              "\n",
              "        async function convertToInteractive(key) {\n",
              "          const element = document.querySelector('#df-0e11f5e3-624b-4a86-993f-e5b605d35c48');\n",
              "          const dataTable =\n",
              "            await google.colab.kernel.invokeFunction('convertToInteractive',\n",
              "                                                     [key], {});\n",
              "          if (!dataTable) return;\n",
              "\n",
              "          const docLinkHtml = 'Like what you see? Visit the ' +\n",
              "            '<a target=\"_blank\" href=https://colab.research.google.com/notebooks/data_table.ipynb>data table notebook</a>'\n",
              "            + ' to learn more about interactive tables.';\n",
              "          element.innerHTML = '';\n",
              "          dataTable['output_type'] = 'display_data';\n",
              "          await google.colab.output.renderOutput(dataTable, element);\n",
              "          const docLink = document.createElement('div');\n",
              "          docLink.innerHTML = docLinkHtml;\n",
              "          element.appendChild(docLink);\n",
              "        }\n",
              "      </script>\n",
              "    </div>\n",
              "  </div>\n",
              "  "
            ]
          },
          "metadata": {},
          "execution_count": 118
        },
        {
          "output_type": "stream",
          "name": "stdout",
          "text": [
            "\n",
            "@@@@@@@@@@@@@@@@@@@@@@@@@@@@@@@@@@@@@@@@@@@@@@@@@@@@@@@@@@@@@@@@@@@@@@@@@@@@@@@@@@@@@@\n",
            "\n"
          ]
        }
      ]
    },
    {
      "cell_type": "code",
      "source": [
        "frac_No_for_ballance = len(contract[contract['EndDate'] == 'No']) / len(contract['EndDate'])\n",
        "print('The \"No\" precent in the EndDate column (target) is: {:.0%}'.format(frac_No_for_ballance))"
      ],
      "metadata": {
        "colab": {
          "base_uri": "https://localhost:8080/"
        },
        "id": "ixFKi9zxPu_o",
        "outputId": "21585f89-f7a7-4ad3-b4d6-a9cdf1ae10ab"
      },
      "id": "ixFKi9zxPu_o",
      "execution_count": null,
      "outputs": [
        {
          "output_type": "stream",
          "name": "stdout",
          "text": [
            "The \"No\" precent in the EndDate column (target) is: 73%\n"
          ]
        }
      ]
    },
    {
      "cell_type": "markdown",
      "id": "e90923a1",
      "metadata": {
        "id": "e90923a1"
      },
      "source": [
        "##  Data describe notes"
      ]
    },
    {
      "cell_type": "markdown",
      "id": "caca5fcb",
      "metadata": {
        "id": "caca5fcb"
      },
      "source": [
        "#### Special function for data describe"
      ]
    },
    {
      "cell_type": "code",
      "execution_count": null,
      "id": "ba7d3b8e",
      "metadata": {
        "id": "ba7d3b8e"
      },
      "outputs": [],
      "source": [
        "# Checking 0's\n",
        "def zero_check(df):\n",
        "    for i in df:\n",
        "        print(i,len(df[df[i]==0]))\n",
        "        \n",
        "# function to determine if columns in file have null values        \n",
        "def get_percent_of_na(df, num):\n",
        "    count = 0\n",
        "    df = df.copy()\n",
        "    s = (df.isna().sum() / df.shape[0])\n",
        "    for column, percent in zip(s.index, s.values):\n",
        "        num_of_nulls = df[column].isna().sum()\n",
        "        if num_of_nulls == 0:\n",
        "            continue\n",
        "        else:\n",
        "            count += 1\n",
        "        print('{} has {} nulls, which is {:.{}%} percent of Nulls'.format(column, num_of_nulls, percent, num))\n",
        "    if count != 0:\n",
        "        print(\"\\033[1m\" + 'There are {} columns with NA.'.format(count) + \"\\033[0m\")\n",
        "    else:\n",
        "        print()\n",
        "        print(\"\\033[1m\" + 'There are no columns with NA.' + \"\\033[0m\")       \n",
        "        \n",
        "# function to display general information about the dataset\n",
        "def general_info(df):\n",
        "    print(\"\\033[1m\" + \"\\033[0m\")\n",
        "    display(pd.concat([df.dtypes, df.count(),df.isna().sum(),df.isna().sum()*100/len(df)], keys=['type','count','na','na%'],\n",
        "                      axis=1))\n",
        "    print()\n",
        "    print(\"\\033[1m\" + 'Head:')  \n",
        "    display(df.head())\n",
        "    print()\n",
        "    print(\"\\033[1m\" + 'Tail:')\n",
        "    display(df.tail())\n",
        "    print()\n",
        "    print(\"\\033[1m\" + 'Info:')\n",
        "    print()\n",
        "    display(df.info())\n",
        "    print()\n",
        "    print(\"\\033[1m\" + 'Describe:')\n",
        "    print()\n",
        "    display(df.describe())\n",
        "    print()\n",
        "    print(\"\\033[1m\" + 'Describe include: all :')\n",
        "    print()\n",
        "    display(df.describe(include='all'))\n",
        "    print()\n",
        "    print(\"\\033[1m\" + 'nulls in the columns:')\n",
        "    print()\n",
        "    display(get_percent_of_na(df, 4))  # check this out\n",
        "    print()\n",
        "    print(\"\\033[1m\" + 'Zeros in the columns:') \n",
        "    print()\n",
        "    display(zero_check(df))\n",
        "    print()\n",
        "    print(\"\\033[1m\" + 'Shape:', df.shape)\n",
        "    print()\n",
        "    print()\n",
        "    print('Duplicated:',\"\\033[1m\" + 'We have {} duplicated rows\\n'.format(df.duplicated().sum()) + \"\\033[0m\")\n",
        "    print()\n",
        "    print(\"\\033[1m\" + 'Dtypes:')  \n",
        "    display(df.dtypes)\n",
        "    print()"
      ]
    },
    {
      "cell_type": "markdown",
      "id": "5f7f99b0",
      "metadata": {
        "id": "5f7f99b0"
      },
      "source": [
        "# Preprocessing"
      ]
    },
    {
      "cell_type": "markdown",
      "id": "a3830147",
      "metadata": {
        "id": "a3830147"
      },
      "source": [
        "## Merge data bases"
      ]
    },
    {
      "cell_type": "code",
      "execution_count": null,
      "id": "c328f935",
      "metadata": {
        "id": "c328f935"
      },
      "outputs": [],
      "source": [
        "# merge all dataframes\n",
        "\n",
        "# compile the list of dataframes you want to merge\n",
        "data_frames = [contract, internet, personal, phone]\n",
        "\n",
        "df_merged = reduce(lambda  left,right: pd.merge(left,right,on=['customerID'],\n",
        "                                            how='outer'), data_frames)\n"
      ]
    },
    {
      "cell_type": "code",
      "execution_count": null,
      "id": "8f65c416",
      "metadata": {
        "colab": {
          "base_uri": "https://localhost:8080/",
          "height": 426
        },
        "id": "8f65c416",
        "outputId": "e01213e1-9e8f-4f7c-dbd7-df514481497a"
      },
      "outputs": [
        {
          "output_type": "execute_result",
          "data": {
            "text/plain": [
              "      customerID   BeginDate              EndDate            Type  \\\n",
              "2671  4191-XOVOM  2014-11-01                   No  Month-to-month   \n",
              "3273  7112-OPOTK  2017-02-01  2019-11-01 00:00:00  Month-to-month   \n",
              "5839  2077-MPJQO  2019-07-01                   No  Month-to-month   \n",
              "3692  7159-FVYPK  2019-11-01                   No  Month-to-month   \n",
              "529   0356-OBMAC  2015-06-01                   No        Two year   \n",
              "\n",
              "     PaperlessBilling              PaymentMethod  MonthlyCharges TotalCharges  \\\n",
              "2671               No           Electronic check          105.40       6713.2   \n",
              "3273               No           Electronic check           68.25      2171.15   \n",
              "5839              Yes           Electronic check           75.40       533.05   \n",
              "3692              Yes  Bank transfer (automatic)           69.15          235   \n",
              "529               Yes  Bank transfer (automatic)           99.90       5706.3   \n",
              "\n",
              "     InternetService OnlineSecurity OnlineBackup DeviceProtection TechSupport  \\\n",
              "2671     Fiber optic             No          Yes               No         Yes   \n",
              "3273     Fiber optic             No           No               No          No   \n",
              "5839     Fiber optic             No           No               No          No   \n",
              "3692             DSL             No          Yes              Yes          No   \n",
              "529      Fiber optic             No          Yes              Yes         Yes   \n",
              "\n",
              "     StreamingTV StreamingMovies  gender  SeniorCitizen Partner Dependents  \\\n",
              "2671         Yes             Yes    Male              0      No         No   \n",
              "3273          No              No    Male              0      No         No   \n",
              "5839          No              No    Male              1     Yes         No   \n",
              "3692         Yes              No  Female              0     Yes        Yes   \n",
              "529          Yes              No  Female              1      No         No   \n",
              "\n",
              "     MultipleLines  \n",
              "2671           Yes  \n",
              "3273            No  \n",
              "5839           Yes  \n",
              "3692           Yes  \n",
              "529            Yes  "
            ],
            "text/html": [
              "\n",
              "  <div id=\"df-38d48b55-2ca9-41cb-88f3-cfcc862e8f23\">\n",
              "    <div class=\"colab-df-container\">\n",
              "      <div>\n",
              "<style scoped>\n",
              "    .dataframe tbody tr th:only-of-type {\n",
              "        vertical-align: middle;\n",
              "    }\n",
              "\n",
              "    .dataframe tbody tr th {\n",
              "        vertical-align: top;\n",
              "    }\n",
              "\n",
              "    .dataframe thead th {\n",
              "        text-align: right;\n",
              "    }\n",
              "</style>\n",
              "<table border=\"1\" class=\"dataframe\">\n",
              "  <thead>\n",
              "    <tr style=\"text-align: right;\">\n",
              "      <th></th>\n",
              "      <th>customerID</th>\n",
              "      <th>BeginDate</th>\n",
              "      <th>EndDate</th>\n",
              "      <th>Type</th>\n",
              "      <th>PaperlessBilling</th>\n",
              "      <th>PaymentMethod</th>\n",
              "      <th>MonthlyCharges</th>\n",
              "      <th>TotalCharges</th>\n",
              "      <th>InternetService</th>\n",
              "      <th>OnlineSecurity</th>\n",
              "      <th>OnlineBackup</th>\n",
              "      <th>DeviceProtection</th>\n",
              "      <th>TechSupport</th>\n",
              "      <th>StreamingTV</th>\n",
              "      <th>StreamingMovies</th>\n",
              "      <th>gender</th>\n",
              "      <th>SeniorCitizen</th>\n",
              "      <th>Partner</th>\n",
              "      <th>Dependents</th>\n",
              "      <th>MultipleLines</th>\n",
              "    </tr>\n",
              "  </thead>\n",
              "  <tbody>\n",
              "    <tr>\n",
              "      <th>2671</th>\n",
              "      <td>4191-XOVOM</td>\n",
              "      <td>2014-11-01</td>\n",
              "      <td>No</td>\n",
              "      <td>Month-to-month</td>\n",
              "      <td>No</td>\n",
              "      <td>Electronic check</td>\n",
              "      <td>105.40</td>\n",
              "      <td>6713.2</td>\n",
              "      <td>Fiber optic</td>\n",
              "      <td>No</td>\n",
              "      <td>Yes</td>\n",
              "      <td>No</td>\n",
              "      <td>Yes</td>\n",
              "      <td>Yes</td>\n",
              "      <td>Yes</td>\n",
              "      <td>Male</td>\n",
              "      <td>0</td>\n",
              "      <td>No</td>\n",
              "      <td>No</td>\n",
              "      <td>Yes</td>\n",
              "    </tr>\n",
              "    <tr>\n",
              "      <th>3273</th>\n",
              "      <td>7112-OPOTK</td>\n",
              "      <td>2017-02-01</td>\n",
              "      <td>2019-11-01 00:00:00</td>\n",
              "      <td>Month-to-month</td>\n",
              "      <td>No</td>\n",
              "      <td>Electronic check</td>\n",
              "      <td>68.25</td>\n",
              "      <td>2171.15</td>\n",
              "      <td>Fiber optic</td>\n",
              "      <td>No</td>\n",
              "      <td>No</td>\n",
              "      <td>No</td>\n",
              "      <td>No</td>\n",
              "      <td>No</td>\n",
              "      <td>No</td>\n",
              "      <td>Male</td>\n",
              "      <td>0</td>\n",
              "      <td>No</td>\n",
              "      <td>No</td>\n",
              "      <td>No</td>\n",
              "    </tr>\n",
              "    <tr>\n",
              "      <th>5839</th>\n",
              "      <td>2077-MPJQO</td>\n",
              "      <td>2019-07-01</td>\n",
              "      <td>No</td>\n",
              "      <td>Month-to-month</td>\n",
              "      <td>Yes</td>\n",
              "      <td>Electronic check</td>\n",
              "      <td>75.40</td>\n",
              "      <td>533.05</td>\n",
              "      <td>Fiber optic</td>\n",
              "      <td>No</td>\n",
              "      <td>No</td>\n",
              "      <td>No</td>\n",
              "      <td>No</td>\n",
              "      <td>No</td>\n",
              "      <td>No</td>\n",
              "      <td>Male</td>\n",
              "      <td>1</td>\n",
              "      <td>Yes</td>\n",
              "      <td>No</td>\n",
              "      <td>Yes</td>\n",
              "    </tr>\n",
              "    <tr>\n",
              "      <th>3692</th>\n",
              "      <td>7159-FVYPK</td>\n",
              "      <td>2019-11-01</td>\n",
              "      <td>No</td>\n",
              "      <td>Month-to-month</td>\n",
              "      <td>Yes</td>\n",
              "      <td>Bank transfer (automatic)</td>\n",
              "      <td>69.15</td>\n",
              "      <td>235</td>\n",
              "      <td>DSL</td>\n",
              "      <td>No</td>\n",
              "      <td>Yes</td>\n",
              "      <td>Yes</td>\n",
              "      <td>No</td>\n",
              "      <td>Yes</td>\n",
              "      <td>No</td>\n",
              "      <td>Female</td>\n",
              "      <td>0</td>\n",
              "      <td>Yes</td>\n",
              "      <td>Yes</td>\n",
              "      <td>Yes</td>\n",
              "    </tr>\n",
              "    <tr>\n",
              "      <th>529</th>\n",
              "      <td>0356-OBMAC</td>\n",
              "      <td>2015-06-01</td>\n",
              "      <td>No</td>\n",
              "      <td>Two year</td>\n",
              "      <td>Yes</td>\n",
              "      <td>Bank transfer (automatic)</td>\n",
              "      <td>99.90</td>\n",
              "      <td>5706.3</td>\n",
              "      <td>Fiber optic</td>\n",
              "      <td>No</td>\n",
              "      <td>Yes</td>\n",
              "      <td>Yes</td>\n",
              "      <td>Yes</td>\n",
              "      <td>Yes</td>\n",
              "      <td>No</td>\n",
              "      <td>Female</td>\n",
              "      <td>1</td>\n",
              "      <td>No</td>\n",
              "      <td>No</td>\n",
              "      <td>Yes</td>\n",
              "    </tr>\n",
              "  </tbody>\n",
              "</table>\n",
              "</div>\n",
              "      <button class=\"colab-df-convert\" onclick=\"convertToInteractive('df-38d48b55-2ca9-41cb-88f3-cfcc862e8f23')\"\n",
              "              title=\"Convert this dataframe to an interactive table.\"\n",
              "              style=\"display:none;\">\n",
              "        \n",
              "  <svg xmlns=\"http://www.w3.org/2000/svg\" height=\"24px\"viewBox=\"0 0 24 24\"\n",
              "       width=\"24px\">\n",
              "    <path d=\"M0 0h24v24H0V0z\" fill=\"none\"/>\n",
              "    <path d=\"M18.56 5.44l.94 2.06.94-2.06 2.06-.94-2.06-.94-.94-2.06-.94 2.06-2.06.94zm-11 1L8.5 8.5l.94-2.06 2.06-.94-2.06-.94L8.5 2.5l-.94 2.06-2.06.94zm10 10l.94 2.06.94-2.06 2.06-.94-2.06-.94-.94-2.06-.94 2.06-2.06.94z\"/><path d=\"M17.41 7.96l-1.37-1.37c-.4-.4-.92-.59-1.43-.59-.52 0-1.04.2-1.43.59L10.3 9.45l-7.72 7.72c-.78.78-.78 2.05 0 2.83L4 21.41c.39.39.9.59 1.41.59.51 0 1.02-.2 1.41-.59l7.78-7.78 2.81-2.81c.8-.78.8-2.07 0-2.86zM5.41 20L4 18.59l7.72-7.72 1.47 1.35L5.41 20z\"/>\n",
              "  </svg>\n",
              "      </button>\n",
              "      \n",
              "  <style>\n",
              "    .colab-df-container {\n",
              "      display:flex;\n",
              "      flex-wrap:wrap;\n",
              "      gap: 12px;\n",
              "    }\n",
              "\n",
              "    .colab-df-convert {\n",
              "      background-color: #E8F0FE;\n",
              "      border: none;\n",
              "      border-radius: 50%;\n",
              "      cursor: pointer;\n",
              "      display: none;\n",
              "      fill: #1967D2;\n",
              "      height: 32px;\n",
              "      padding: 0 0 0 0;\n",
              "      width: 32px;\n",
              "    }\n",
              "\n",
              "    .colab-df-convert:hover {\n",
              "      background-color: #E2EBFA;\n",
              "      box-shadow: 0px 1px 2px rgba(60, 64, 67, 0.3), 0px 1px 3px 1px rgba(60, 64, 67, 0.15);\n",
              "      fill: #174EA6;\n",
              "    }\n",
              "\n",
              "    [theme=dark] .colab-df-convert {\n",
              "      background-color: #3B4455;\n",
              "      fill: #D2E3FC;\n",
              "    }\n",
              "\n",
              "    [theme=dark] .colab-df-convert:hover {\n",
              "      background-color: #434B5C;\n",
              "      box-shadow: 0px 1px 3px 1px rgba(0, 0, 0, 0.15);\n",
              "      filter: drop-shadow(0px 1px 2px rgba(0, 0, 0, 0.3));\n",
              "      fill: #FFFFFF;\n",
              "    }\n",
              "  </style>\n",
              "\n",
              "      <script>\n",
              "        const buttonEl =\n",
              "          document.querySelector('#df-38d48b55-2ca9-41cb-88f3-cfcc862e8f23 button.colab-df-convert');\n",
              "        buttonEl.style.display =\n",
              "          google.colab.kernel.accessAllowed ? 'block' : 'none';\n",
              "\n",
              "        async function convertToInteractive(key) {\n",
              "          const element = document.querySelector('#df-38d48b55-2ca9-41cb-88f3-cfcc862e8f23');\n",
              "          const dataTable =\n",
              "            await google.colab.kernel.invokeFunction('convertToInteractive',\n",
              "                                                     [key], {});\n",
              "          if (!dataTable) return;\n",
              "\n",
              "          const docLinkHtml = 'Like what you see? Visit the ' +\n",
              "            '<a target=\"_blank\" href=https://colab.research.google.com/notebooks/data_table.ipynb>data table notebook</a>'\n",
              "            + ' to learn more about interactive tables.';\n",
              "          element.innerHTML = '';\n",
              "          dataTable['output_type'] = 'display_data';\n",
              "          await google.colab.output.renderOutput(dataTable, element);\n",
              "          const docLink = document.createElement('div');\n",
              "          docLink.innerHTML = docLinkHtml;\n",
              "          element.appendChild(docLink);\n",
              "        }\n",
              "      </script>\n",
              "    </div>\n",
              "  </div>\n",
              "  "
            ]
          },
          "metadata": {},
          "execution_count": 122
        }
      ],
      "source": [
        "df_merged.sample(5)"
      ]
    },
    {
      "cell_type": "code",
      "execution_count": null,
      "id": "52d508c6",
      "metadata": {
        "colab": {
          "base_uri": "https://localhost:8080/"
        },
        "id": "52d508c6",
        "outputId": "01a8ac38-04d7-4970-96b2-4c6377297f1c"
      },
      "outputs": [
        {
          "output_type": "stream",
          "name": "stdout",
          "text": [
            "InternetService has 1526 nulls, which is 21.6669% percent of Nulls\n",
            "OnlineSecurity has 1526 nulls, which is 21.6669% percent of Nulls\n",
            "OnlineBackup has 1526 nulls, which is 21.6669% percent of Nulls\n",
            "DeviceProtection has 1526 nulls, which is 21.6669% percent of Nulls\n",
            "TechSupport has 1526 nulls, which is 21.6669% percent of Nulls\n",
            "StreamingTV has 1526 nulls, which is 21.6669% percent of Nulls\n",
            "StreamingMovies has 1526 nulls, which is 21.6669% percent of Nulls\n",
            "MultipleLines has 682 nulls, which is 9.6834% percent of Nulls\n",
            "\u001b[1mThere are 8 columns with NA.\u001b[0m\n"
          ]
        }
      ],
      "source": [
        "get_percent_of_na(df_merged, 4)"
      ]
    },
    {
      "cell_type": "markdown",
      "id": "a1f530fc",
      "metadata": {
        "id": "a1f530fc"
      },
      "source": [
        "## Fill nan\n"
      ]
    },
    {
      "cell_type": "code",
      "execution_count": null,
      "id": "1f456eb2",
      "metadata": {
        "scrolled": true,
        "colab": {
          "base_uri": "https://localhost:8080/"
        },
        "id": "1f456eb2",
        "outputId": "04e6473f-5044-43d3-96be-fd3e7930ea04"
      },
      "outputs": [
        {
          "output_type": "stream",
          "name": "stdout",
          "text": [
            "The values in each column in original internet data base\n",
            "---------------------------------------------------------\n",
            "\n",
            "InternetService\n",
            "['DSL' 'Fiber optic']\n",
            "\n",
            "OnlineSecurity\n",
            "['No' 'Yes']\n",
            "\n",
            "OnlineBackup\n",
            "['Yes' 'No']\n",
            "\n",
            "DeviceProtection\n",
            "['No' 'Yes']\n",
            "\n",
            "TechSupport\n",
            "['No' 'Yes']\n",
            "\n",
            "StreamingTV\n",
            "['No' 'Yes']\n",
            "\n",
            "StreamingMovies\n",
            "['No' 'Yes']\n",
            "\n"
          ]
        }
      ],
      "source": [
        "# fill the nan values from internet database\n",
        "internet_columns = internet.columns.to_list()[1:]\n",
        "print('The values in each column in original internet data base')\n",
        "print('---------------------------------------------------------')\n",
        "print()\n",
        "for column in internet_columns:\n",
        "    print(column)\n",
        "    print(internet[column].unique())\n",
        "    print()\n"
      ]
    },
    {
      "cell_type": "markdown",
      "id": "3ec32588",
      "metadata": {
        "id": "3ec32588"
      },
      "source": [
        "I will fill No in all the nan for these columns "
      ]
    },
    {
      "cell_type": "code",
      "execution_count": null,
      "id": "556c2ec0",
      "metadata": {
        "id": "556c2ec0"
      },
      "outputs": [],
      "source": [
        "df_merged[internet_columns] = df_merged[internet_columns].fillna(value='No')"
      ]
    },
    {
      "cell_type": "code",
      "execution_count": null,
      "id": "fd16674f",
      "metadata": {
        "colab": {
          "base_uri": "https://localhost:8080/"
        },
        "id": "fd16674f",
        "outputId": "2be61650-e7e0-4b4d-84b1-238e4b9c056f"
      },
      "outputs": [
        {
          "output_type": "stream",
          "name": "stdout",
          "text": [
            "MultipleLines has 682 nulls, which is 9.6834% percent of Nulls\n",
            "\u001b[1mThere are 1 columns with NA.\u001b[0m\n"
          ]
        }
      ],
      "source": [
        "get_percent_of_na(df_merged, 4)"
      ]
    },
    {
      "cell_type": "code",
      "execution_count": null,
      "id": "5f54e9bf",
      "metadata": {
        "colab": {
          "base_uri": "https://localhost:8080/"
        },
        "id": "5f54e9bf",
        "outputId": "2f927321-68aa-4d21-878a-89ec56180378"
      },
      "outputs": [
        {
          "output_type": "stream",
          "name": "stdout",
          "text": [
            "The values in each column in original phone data base\n",
            "---------------------------------------------------------\n",
            "\n",
            "MultipleLines\n",
            "['No' 'Yes']\n",
            "\n"
          ]
        }
      ],
      "source": [
        "# fill the nan values in MultipleLines column\n",
        "\n",
        "phone_columns = phone.columns.to_list()[1:]\n",
        "print('The values in each column in original phone data base')\n",
        "print('---------------------------------------------------------')\n",
        "print()\n",
        "for column in phone_columns:\n",
        "    print(column)\n",
        "    print(phone[column].unique())\n",
        "    print()\n"
      ]
    },
    {
      "cell_type": "markdown",
      "id": "d722b2cd",
      "metadata": {
        "id": "d722b2cd"
      },
      "source": [
        "I will replace this with num_of_lines\n",
        "- 0 for nan\n",
        "- 1 for 1 line (MultipleLines = No)\n",
        "- 1 for more than 1 line (MultipleLines = Yes)"
      ]
    },
    {
      "cell_type": "code",
      "execution_count": null,
      "id": "55d6cd25",
      "metadata": {
        "id": "55d6cd25"
      },
      "outputs": [],
      "source": [
        "df_merged['MultipleLines'] = df_merged['MultipleLines'].replace(\n",
        "    {'No': 1, 'Yes':2}\n",
        ").fillna(value=0)"
      ]
    },
    {
      "cell_type": "code",
      "execution_count": null,
      "id": "6fc4a728",
      "metadata": {
        "colab": {
          "base_uri": "https://localhost:8080/"
        },
        "id": "6fc4a728",
        "outputId": "26aee998-c5ec-46ab-d037-cd889b2c417a"
      },
      "outputs": [
        {
          "output_type": "stream",
          "name": "stdout",
          "text": [
            "\n",
            "\u001b[1mThere are no columns with NA.\u001b[0m\n"
          ]
        }
      ],
      "source": [
        "get_percent_of_na(df_merged, 4)"
      ]
    },
    {
      "cell_type": "markdown",
      "id": "efdd9c39",
      "metadata": {
        "id": "efdd9c39"
      },
      "source": [
        "## Change columns names"
      ]
    },
    {
      "cell_type": "code",
      "execution_count": null,
      "id": "ff5d7f8c",
      "metadata": {
        "id": "ff5d7f8c"
      },
      "outputs": [],
      "source": [
        "column_list = ['customerID', 'BeginDate', 'EndDate', 'Type', 'PaperlessBilling',\n",
        "       'PaymentMethod', 'MonthlyCharges', 'TotalCharges', 'InternetService',\n",
        "       'OnlineSecurity', 'OnlineBackup', 'DeviceProtection', 'TechSupport',\n",
        "       'StreamingTV', 'StreamingMovies', 'gender', 'SeniorCitizen', 'Partner',\n",
        "       'Dependents', 'MultipleLines']"
      ]
    },
    {
      "cell_type": "code",
      "execution_count": null,
      "id": "f0af0ace",
      "metadata": {
        "colab": {
          "base_uri": "https://localhost:8080/"
        },
        "id": "f0af0ace",
        "outputId": "f610186e-1a0e-4572-e215-e53318736ab3"
      },
      "outputs": [
        {
          "output_type": "execute_result",
          "data": {
            "text/plain": [
              "['customerid',\n",
              " 'begindate',\n",
              " 'enddate',\n",
              " 'type',\n",
              " 'paperlessbilling',\n",
              " 'paymentmethod',\n",
              " 'monthlycharges',\n",
              " 'totalcharges',\n",
              " 'internetservice',\n",
              " 'onlinesecurity',\n",
              " 'onlinebackup',\n",
              " 'deviceprotection',\n",
              " 'techsupport',\n",
              " 'streamingtv',\n",
              " 'streamingmovies',\n",
              " 'gender',\n",
              " 'seniorcitizen',\n",
              " 'partner',\n",
              " 'dependents',\n",
              " 'multiplelines']"
            ]
          },
          "metadata": {},
          "execution_count": 131
        }
      ],
      "source": [
        "[column.lower() for column in column_list]"
      ]
    },
    {
      "cell_type": "code",
      "execution_count": null,
      "id": "f2cd220e",
      "metadata": {
        "id": "f2cd220e"
      },
      "outputs": [],
      "source": [
        "df_merged.columns = ['customer_id',\n",
        " 'begin_date',\n",
        " 'end_date',\n",
        " 'type',\n",
        " 'paperless_billing',\n",
        " 'payment_method',\n",
        " 'monthly_charges',\n",
        " 'total_charges',\n",
        " 'internet_service',\n",
        " 'online_security',\n",
        " 'online_backup',\n",
        " 'device_protection',\n",
        " 'tech_support',\n",
        " 'streaming_tv',\n",
        " 'streaming_movies',\n",
        " 'gender',\n",
        " 'senior_citizen',\n",
        " 'partner',\n",
        " 'dependents',\n",
        " 'multiple_lines']"
      ]
    },
    {
      "cell_type": "code",
      "execution_count": null,
      "id": "dc0ba161",
      "metadata": {
        "colab": {
          "base_uri": "https://localhost:8080/"
        },
        "id": "dc0ba161",
        "outputId": "e82e25b4-5834-478d-c33f-5b6f57c7e199"
      },
      "outputs": [
        {
          "output_type": "execute_result",
          "data": {
            "text/plain": [
              "Index(['customer_id', 'begin_date', 'end_date', 'type', 'paperless_billing',\n",
              "       'payment_method', 'monthly_charges', 'total_charges',\n",
              "       'internet_service', 'online_security', 'online_backup',\n",
              "       'device_protection', 'tech_support', 'streaming_tv', 'streaming_movies',\n",
              "       'gender', 'senior_citizen', 'partner', 'dependents', 'multiple_lines'],\n",
              "      dtype='object')"
            ]
          },
          "metadata": {},
          "execution_count": 133
        }
      ],
      "source": [
        "df_merged.columns"
      ]
    },
    {
      "cell_type": "markdown",
      "id": "296b29eb",
      "metadata": {
        "id": "296b29eb"
      },
      "source": [
        "## Convert type"
      ]
    },
    {
      "cell_type": "markdown",
      "id": "5ef2dca4",
      "metadata": {
        "id": "5ef2dca4"
      },
      "source": [
        "### Date"
      ]
    },
    {
      "cell_type": "code",
      "execution_count": null,
      "id": "db8b62cf",
      "metadata": {
        "id": "db8b62cf"
      },
      "outputs": [],
      "source": [
        "# to datetime\n",
        "df_merged['begin_date'] = pd.to_datetime(df_merged['begin_date'], format='%Y.%m.%d')"
      ]
    },
    {
      "cell_type": "markdown",
      "id": "ec5bfcd8",
      "metadata": {
        "id": "ec5bfcd8"
      },
      "source": [
        "### Numerical"
      ]
    },
    {
      "cell_type": "code",
      "execution_count": null,
      "id": "56c1d9d4",
      "metadata": {
        "colab": {
          "base_uri": "https://localhost:8080/"
        },
        "id": "56c1d9d4",
        "outputId": "5bfe9f0f-b62d-484e-beff-06ed4619c7ff"
      },
      "outputs": [
        {
          "output_type": "execute_result",
          "data": {
            "text/plain": [
              "          11\n",
              "20.2      11\n",
              "19.75      9\n",
              "20.05      8\n",
              "19.9       8\n",
              "          ..\n",
              "6849.4     1\n",
              "692.35     1\n",
              "130.15     1\n",
              "3211.9     1\n",
              "6844.5     1\n",
              "Name: total_charges, Length: 6531, dtype: int64"
            ]
          },
          "metadata": {},
          "execution_count": 135
        }
      ],
      "source": [
        "# convert to numerical\n",
        "df_merged['total_charges'].value_counts()"
      ]
    },
    {
      "cell_type": "markdown",
      "id": "d96407a9",
      "metadata": {
        "id": "d96407a9"
      },
      "source": [
        "replace the ' '  with 0"
      ]
    },
    {
      "cell_type": "code",
      "execution_count": null,
      "id": "ed43ace5",
      "metadata": {
        "id": "ed43ace5"
      },
      "outputs": [],
      "source": [
        "df_merged['total_charges'] = df_merged['total_charges'].replace(to_replace=' ', value='0')"
      ]
    },
    {
      "cell_type": "code",
      "execution_count": null,
      "id": "93fb2190",
      "metadata": {
        "colab": {
          "base_uri": "https://localhost:8080/"
        },
        "id": "93fb2190",
        "outputId": "158fb5ed-19c7-4b71-cb23-1f9fce5d2265"
      },
      "outputs": [
        {
          "output_type": "execute_result",
          "data": {
            "text/plain": [
              "0         11\n",
              "20.2      11\n",
              "19.75      9\n",
              "20.05      8\n",
              "19.9       8\n",
              "          ..\n",
              "6849.4     1\n",
              "692.35     1\n",
              "130.15     1\n",
              "3211.9     1\n",
              "6844.5     1\n",
              "Name: total_charges, Length: 6531, dtype: int64"
            ]
          },
          "metadata": {},
          "execution_count": 137
        }
      ],
      "source": [
        "df_merged['total_charges'].value_counts()"
      ]
    },
    {
      "cell_type": "code",
      "execution_count": null,
      "id": "71de6f4d",
      "metadata": {
        "id": "71de6f4d"
      },
      "outputs": [],
      "source": [
        "# to numeric\n",
        "df_merged['total_charges'] = df_merged['total_charges'].astype(float)"
      ]
    },
    {
      "cell_type": "markdown",
      "id": "0d03498c",
      "metadata": {
        "id": "0d03498c"
      },
      "source": [
        "### Categorical"
      ]
    },
    {
      "cell_type": "code",
      "execution_count": null,
      "id": "66cbdd5f",
      "metadata": {
        "id": "66cbdd5f"
      },
      "outputs": [],
      "source": [
        "column_to_categorical = ['type', 'paperless_billing', 'payment_method', 'internet_service',\n",
        " 'online_security', 'online_backup','device_protection', 'tech_support', 'streaming_tv',\n",
        " 'streaming_movies', 'gender', 'senior_citizen', 'partner', 'dependents', 'multiple_lines']"
      ]
    },
    {
      "cell_type": "code",
      "execution_count": null,
      "id": "2ce9969e",
      "metadata": {
        "id": "2ce9969e"
      },
      "outputs": [],
      "source": [
        "for column in column_to_categorical:\n",
        "    df_merged[column] = df_merged[column].astype('category')"
      ]
    },
    {
      "cell_type": "markdown",
      "id": "0afea3c9",
      "metadata": {
        "id": "0afea3c9"
      },
      "source": [
        "### create churn feature"
      ]
    },
    {
      "cell_type": "code",
      "execution_count": null,
      "id": "561ad94d",
      "metadata": {
        "id": "561ad94d"
      },
      "outputs": [],
      "source": [
        "def churn_0_1(row):\n",
        "    \"\"\"\n",
        "    return 0 if user still on the service and 1 if user churned\n",
        "    \"\"\"\n",
        "    end_date = row['end_date']\n",
        "    if end_date == 'No':\n",
        "        return 0\n",
        "    else:\n",
        "        return 1"
      ]
    },
    {
      "cell_type": "code",
      "execution_count": null,
      "id": "7dd00a76",
      "metadata": {
        "id": "7dd00a76"
      },
      "outputs": [],
      "source": [
        "df_merged['churn'] = df_merged.apply(churn_0_1, axis=1)"
      ]
    },
    {
      "cell_type": "code",
      "source": [
        "df_merged.sample(2)"
      ],
      "metadata": {
        "colab": {
          "base_uri": "https://localhost:8080/",
          "height": 228
        },
        "id": "AX70x7SOYuN0",
        "outputId": "e8c9f463-ae90-4405-d535-b865a85a27bd"
      },
      "id": "AX70x7SOYuN0",
      "execution_count": null,
      "outputs": [
        {
          "output_type": "execute_result",
          "data": {
            "text/plain": [
              "     customer_id begin_date end_date            type paperless_billing  \\\n",
              "6573  1094-BKOSX 2016-05-01       No        One year                No   \n",
              "5075  4879-GZLFH 2016-08-01       No  Month-to-month               Yes   \n",
              "\n",
              "                 payment_method  monthly_charges  total_charges  \\\n",
              "6573  Bank transfer (automatic)            51.00         2264.5   \n",
              "5075           Electronic check            92.15         3875.4   \n",
              "\n",
              "     internet_service online_security online_backup device_protection  \\\n",
              "6573              DSL              No           Yes               Yes   \n",
              "5075      Fiber optic              No            No               Yes   \n",
              "\n",
              "     tech_support streaming_tv streaming_movies  gender senior_citizen  \\\n",
              "6573          Yes           No              Yes  Female              0   \n",
              "5075           No          Yes              Yes  Female              0   \n",
              "\n",
              "     partner dependents multiple_lines  churn  \n",
              "6573     Yes        Yes            0.0      0  \n",
              "5075     Yes        Yes            1.0      0  "
            ],
            "text/html": [
              "\n",
              "  <div id=\"df-f060588e-9999-4c9d-8943-71c3d155fb0d\">\n",
              "    <div class=\"colab-df-container\">\n",
              "      <div>\n",
              "<style scoped>\n",
              "    .dataframe tbody tr th:only-of-type {\n",
              "        vertical-align: middle;\n",
              "    }\n",
              "\n",
              "    .dataframe tbody tr th {\n",
              "        vertical-align: top;\n",
              "    }\n",
              "\n",
              "    .dataframe thead th {\n",
              "        text-align: right;\n",
              "    }\n",
              "</style>\n",
              "<table border=\"1\" class=\"dataframe\">\n",
              "  <thead>\n",
              "    <tr style=\"text-align: right;\">\n",
              "      <th></th>\n",
              "      <th>customer_id</th>\n",
              "      <th>begin_date</th>\n",
              "      <th>end_date</th>\n",
              "      <th>type</th>\n",
              "      <th>paperless_billing</th>\n",
              "      <th>payment_method</th>\n",
              "      <th>monthly_charges</th>\n",
              "      <th>total_charges</th>\n",
              "      <th>internet_service</th>\n",
              "      <th>online_security</th>\n",
              "      <th>online_backup</th>\n",
              "      <th>device_protection</th>\n",
              "      <th>tech_support</th>\n",
              "      <th>streaming_tv</th>\n",
              "      <th>streaming_movies</th>\n",
              "      <th>gender</th>\n",
              "      <th>senior_citizen</th>\n",
              "      <th>partner</th>\n",
              "      <th>dependents</th>\n",
              "      <th>multiple_lines</th>\n",
              "      <th>churn</th>\n",
              "    </tr>\n",
              "  </thead>\n",
              "  <tbody>\n",
              "    <tr>\n",
              "      <th>6573</th>\n",
              "      <td>1094-BKOSX</td>\n",
              "      <td>2016-05-01</td>\n",
              "      <td>No</td>\n",
              "      <td>One year</td>\n",
              "      <td>No</td>\n",
              "      <td>Bank transfer (automatic)</td>\n",
              "      <td>51.00</td>\n",
              "      <td>2264.5</td>\n",
              "      <td>DSL</td>\n",
              "      <td>No</td>\n",
              "      <td>Yes</td>\n",
              "      <td>Yes</td>\n",
              "      <td>Yes</td>\n",
              "      <td>No</td>\n",
              "      <td>Yes</td>\n",
              "      <td>Female</td>\n",
              "      <td>0</td>\n",
              "      <td>Yes</td>\n",
              "      <td>Yes</td>\n",
              "      <td>0.0</td>\n",
              "      <td>0</td>\n",
              "    </tr>\n",
              "    <tr>\n",
              "      <th>5075</th>\n",
              "      <td>4879-GZLFH</td>\n",
              "      <td>2016-08-01</td>\n",
              "      <td>No</td>\n",
              "      <td>Month-to-month</td>\n",
              "      <td>Yes</td>\n",
              "      <td>Electronic check</td>\n",
              "      <td>92.15</td>\n",
              "      <td>3875.4</td>\n",
              "      <td>Fiber optic</td>\n",
              "      <td>No</td>\n",
              "      <td>No</td>\n",
              "      <td>Yes</td>\n",
              "      <td>No</td>\n",
              "      <td>Yes</td>\n",
              "      <td>Yes</td>\n",
              "      <td>Female</td>\n",
              "      <td>0</td>\n",
              "      <td>Yes</td>\n",
              "      <td>Yes</td>\n",
              "      <td>1.0</td>\n",
              "      <td>0</td>\n",
              "    </tr>\n",
              "  </tbody>\n",
              "</table>\n",
              "</div>\n",
              "      <button class=\"colab-df-convert\" onclick=\"convertToInteractive('df-f060588e-9999-4c9d-8943-71c3d155fb0d')\"\n",
              "              title=\"Convert this dataframe to an interactive table.\"\n",
              "              style=\"display:none;\">\n",
              "        \n",
              "  <svg xmlns=\"http://www.w3.org/2000/svg\" height=\"24px\"viewBox=\"0 0 24 24\"\n",
              "       width=\"24px\">\n",
              "    <path d=\"M0 0h24v24H0V0z\" fill=\"none\"/>\n",
              "    <path d=\"M18.56 5.44l.94 2.06.94-2.06 2.06-.94-2.06-.94-.94-2.06-.94 2.06-2.06.94zm-11 1L8.5 8.5l.94-2.06 2.06-.94-2.06-.94L8.5 2.5l-.94 2.06-2.06.94zm10 10l.94 2.06.94-2.06 2.06-.94-2.06-.94-.94-2.06-.94 2.06-2.06.94z\"/><path d=\"M17.41 7.96l-1.37-1.37c-.4-.4-.92-.59-1.43-.59-.52 0-1.04.2-1.43.59L10.3 9.45l-7.72 7.72c-.78.78-.78 2.05 0 2.83L4 21.41c.39.39.9.59 1.41.59.51 0 1.02-.2 1.41-.59l7.78-7.78 2.81-2.81c.8-.78.8-2.07 0-2.86zM5.41 20L4 18.59l7.72-7.72 1.47 1.35L5.41 20z\"/>\n",
              "  </svg>\n",
              "      </button>\n",
              "      \n",
              "  <style>\n",
              "    .colab-df-container {\n",
              "      display:flex;\n",
              "      flex-wrap:wrap;\n",
              "      gap: 12px;\n",
              "    }\n",
              "\n",
              "    .colab-df-convert {\n",
              "      background-color: #E8F0FE;\n",
              "      border: none;\n",
              "      border-radius: 50%;\n",
              "      cursor: pointer;\n",
              "      display: none;\n",
              "      fill: #1967D2;\n",
              "      height: 32px;\n",
              "      padding: 0 0 0 0;\n",
              "      width: 32px;\n",
              "    }\n",
              "\n",
              "    .colab-df-convert:hover {\n",
              "      background-color: #E2EBFA;\n",
              "      box-shadow: 0px 1px 2px rgba(60, 64, 67, 0.3), 0px 1px 3px 1px rgba(60, 64, 67, 0.15);\n",
              "      fill: #174EA6;\n",
              "    }\n",
              "\n",
              "    [theme=dark] .colab-df-convert {\n",
              "      background-color: #3B4455;\n",
              "      fill: #D2E3FC;\n",
              "    }\n",
              "\n",
              "    [theme=dark] .colab-df-convert:hover {\n",
              "      background-color: #434B5C;\n",
              "      box-shadow: 0px 1px 3px 1px rgba(0, 0, 0, 0.15);\n",
              "      filter: drop-shadow(0px 1px 2px rgba(0, 0, 0, 0.3));\n",
              "      fill: #FFFFFF;\n",
              "    }\n",
              "  </style>\n",
              "\n",
              "      <script>\n",
              "        const buttonEl =\n",
              "          document.querySelector('#df-f060588e-9999-4c9d-8943-71c3d155fb0d button.colab-df-convert');\n",
              "        buttonEl.style.display =\n",
              "          google.colab.kernel.accessAllowed ? 'block' : 'none';\n",
              "\n",
              "        async function convertToInteractive(key) {\n",
              "          const element = document.querySelector('#df-f060588e-9999-4c9d-8943-71c3d155fb0d');\n",
              "          const dataTable =\n",
              "            await google.colab.kernel.invokeFunction('convertToInteractive',\n",
              "                                                     [key], {});\n",
              "          if (!dataTable) return;\n",
              "\n",
              "          const docLinkHtml = 'Like what you see? Visit the ' +\n",
              "            '<a target=\"_blank\" href=https://colab.research.google.com/notebooks/data_table.ipynb>data table notebook</a>'\n",
              "            + ' to learn more about interactive tables.';\n",
              "          element.innerHTML = '';\n",
              "          dataTable['output_type'] = 'display_data';\n",
              "          await google.colab.output.renderOutput(dataTable, element);\n",
              "          const docLink = document.createElement('div');\n",
              "          docLink.innerHTML = docLinkHtml;\n",
              "          element.appendChild(docLink);\n",
              "        }\n",
              "      </script>\n",
              "    </div>\n",
              "  </div>\n",
              "  "
            ]
          },
          "metadata": {},
          "execution_count": 143
        }
      ]
    },
    {
      "cell_type": "markdown",
      "id": "1cdaf4dd",
      "metadata": {
        "id": "1cdaf4dd"
      },
      "source": [
        "# EDA \n"
      ]
    },
    {
      "cell_type": "markdown",
      "source": [
        "### Categorical feature differences correlating with churned status"
      ],
      "metadata": {
        "id": "xquIX48RcInU"
      },
      "id": "xquIX48RcInU"
    },
    {
      "cell_type": "code",
      "source": [
        "\n",
        "def check_categorical_features(df, features, cols=3):\n",
        "    \"\"\"\n",
        "    this function displays bar charts comparing the churned population with the non churned population\n",
        "    \"\"\"\n",
        "\n",
        "    # count number of subplots needed\n",
        "    num_of_features = len(features)\n",
        "    rows = round(num_of_features/cols)\n",
        "\n",
        "    # figure size depends on number of rows\n",
        "    height = rows*6\n",
        "    width = 15\n",
        "\n",
        "    # create subplots\n",
        "    fig, ax = plt.subplots(nrows=rows, ncols=cols, figsize=(width, height), sharey='row')\n",
        "\n",
        "    # fill subplots\n",
        "    for f, f_ax in zip(features, ax.ravel()):\n",
        "        pd.crosstab(index=df[f], columns=df['churn'], normalize='columns').plot(kind='bar', ax=f_ax, title=f).set_xlabel('')\n",
        "        f_ax.set_ylabel('Proportion')\n",
        "    plt.setp(ax, ylim=[0,1])\n",
        "    plt.tight_layout()"
      ],
      "metadata": {
        "id": "1QsZzqFNcE61"
      },
      "id": "1QsZzqFNcE61",
      "execution_count": null,
      "outputs": []
    },
    {
      "cell_type": "code",
      "source": [
        "categorical_features = ['gender', 'senior_citizen', 'partner', 'dependents',\n",
        "       'type', 'paperless_billing', 'payment_method', 'internet_service',\n",
        "       'online_security', 'online_backup', 'device_protection', 'tech_support',\n",
        "       'streaming_tv', 'streaming_movies', 'multiple_lines']"
      ],
      "metadata": {
        "id": "jfmJplNFcFDi"
      },
      "id": "jfmJplNFcFDi",
      "execution_count": null,
      "outputs": []
    },
    {
      "cell_type": "code",
      "source": [
        "check_categorical_features(df_merged, categorical_features)"
      ],
      "metadata": {
        "colab": {
          "base_uri": "https://localhost:8080/",
          "height": 1000
        },
        "id": "2b7yYkBqeLm7",
        "outputId": "bf692682-30e3-4313-fc3a-bcd716797b91"
      },
      "id": "2b7yYkBqeLm7",
      "execution_count": null,
      "outputs": [
        {
          "output_type": "display_data",
          "data": {
            "text/plain": [
              "<Figure size 1080x2160 with 15 Axes>"
            ],
            "image/png": "[encoded data removed]"
          },
          "metadata": {
            "needs_background": "light"
          }
        }
      ]
    },
    {
      "cell_type": "markdown",
      "source": [
        "We can see that some features distributed the same or close to the same for churned and non-churned users, while others vary more widely. It is important to remember that these are correlations only, we do not know if that the cause for leaving the telecom provider.\n",
        "\n",
        "* `gender` - no difference between churned and non-churned.\n",
        "* `senior_citizen` - we have a higher percentage of senior citizens in the churned group.\n",
        "* `partner` - we have a higher percentage of singles in the churned group.\n",
        "* `dependents` - we have a higher percentage of users without dependents in the churned group.\n",
        "* `type` - churned users belonged mainly to the month-to-month package.\n",
        "* `paperless_billing` - we have a higher percentage of users using paperless billing in the churned group.\n",
        "* `payment_method` - churned users belonged mainly to the electronic check payment method.\n",
        "* `internet_service` - churned users belonged mainly to the fiber optic internet service\n",
        "* `online_security` - we have a higher percentage of churned users not use the online security service.\n",
        "* `online_backup` - we have a somewhat higher percentage of churned users not use the online backup service.\n",
        "* `device_protection` - we have a somewhat higher percentage of churned users not use the device protection service.\n",
        "* `tech_support` - we have a higher percentage of churned users not use the tech support service.\n",
        "* `streaming_tv` - we have a somewhat higher percentage of churned users use the TV streaming service.\n",
        "* `streaming_movies` - we have a somewhat higher percentage of churned users use the movie streaming service.\n",
        "* `multiple lines` - almost no difference between churned and non-churned users.\n",
        "\n",
        "If we are resource restricted, it would be possible to remove the features which differ very slightly or not at all between the two groups from the modeling. It is not the case here so we will leave these in for now."
      ],
      "metadata": {
        "id": "JGNTJssGe1Fe"
      },
      "id": "JGNTJssGe1Fe"
    },
    {
      "cell_type": "markdown",
      "source": [
        "### Quantitative feature differences correlating with churned status"
      ],
      "metadata": {
        "id": "D5xdeoYfgOLI"
      },
      "id": "D5xdeoYfgOLI"
    },
    {
      "cell_type": "markdown",
      "source": [
        "Now that we have looked at the categorical features, it's interesting also to look at the distribution of quantitative features between the two groups. The features we can look at here are the begin_date, monthly_charges and total_charges."
      ],
      "metadata": {
        "id": "qwHycPthgXvi"
      },
      "id": "qwHycPthgXvi"
    },
    {
      "cell_type": "code",
      "source": [
        "# plot normalized distribution for the 3 quantitative features\n",
        "for feat in ['begin_date', 'monthly_charges', 'total_charges']:\n",
        "\n",
        "    # create figure\n",
        "    plt.figure(figsize=(10,5))\n",
        "    \n",
        "    # plot the histogram\n",
        "    sns.histplot(df_merged, x=feat, hue='churn', stat='probability', common_norm=False)\n",
        "    \n",
        "    # add title\n",
        "    plt.title('Normalized histogram comparing churned and non-churned users - ' + str(feat))\n",
        "    plt.show()\n",
        "    \n",
        "print(); # suppress unneeded output relating to figure creation etc."
      ],
      "metadata": {
        "colab": {
          "base_uri": "https://localhost:8080/",
          "height": 1000
        },
        "id": "UkvgKWwxgaSR",
        "outputId": "0e405df6-07dc-4fdc-d4b6-ea78b00834a0"
      },
      "id": "UkvgKWwxgaSR",
      "execution_count": null,
      "outputs": [
        {
          "output_type": "display_data",
          "data": {
            "text/plain": [
              "<Figure size 720x360 with 1 Axes>"
            ],
            "image/png": "[encoded data removed]"
          },
          "metadata": {
            "needs_background": "light"
          }
        },
        {
          "output_type": "display_data",
          "data": {
            "text/plain": [
              "<Figure size 720x360 with 1 Axes>"
            ],
            "image/png": "[encoded data removed]"
          },
          "metadata": {
            "needs_background": "light"
          }
        },
        {
          "output_type": "display_data",
          "data": {
            "text/plain": [
              "<Figure size 720x360 with 1 Axes>"
            ],
            "image/png": "[encoded data removed]"
          },
          "metadata": {
            "needs_background": "light"
          }
        },
        {
          "output_type": "stream",
          "name": "stdout",
          "text": [
            "\n"
          ]
        }
      ]
    },
    {
      "cell_type": "markdown",
      "source": [
        "We can see that the two groups are obviously different.\n",
        "\n",
        "* `begin_date` - on average, churned users are more recent joiners than non-churned users.\n",
        "* `monthly_charges` - we can see that a large proportion of churned users had high monthly payments compared to non-churned users.\n",
        "* `total_charges` - we can see that churned users have a much higher percentage of them in the lowest bin. This can probably be explained by the fact that most churned users are recent users (so less monthly number of charges). It could also have also been explained by the fact that these users left so in general they payed for less months than similar users who didn't leave, except that all the churning occurred in the last 4 months of the dataset."
      ],
      "metadata": {
        "id": "_nfPZYf1i8N3"
      },
      "id": "_nfPZYf1i8N3"
    },
    {
      "cell_type": "markdown",
      "source": [
        "### Statistical correlation of features"
      ],
      "metadata": {
        "id": "ktkRrk4CtWNs"
      },
      "id": "ktkRrk4CtWNs"
    },
    {
      "cell_type": "code",
      "source": [
        "# create dataframe copy before performing changes.\n",
        "df_copy = df_merged.copy()\n",
        "\n",
        "# convert boolean columns to boolean type so they will appear in the matrix\n",
        "for c in categorical_features:\n",
        "    options = df_copy[c].unique()\n",
        "    \n",
        "    if sorted(options) == ['No', 'Yes']:\n",
        "        df_copy[c] = (df_copy[c] == 'Yes').astype('boolean')\n",
        "    elif sorted(options) == [0, 1]:\n",
        "        df_copy[c] = (df_copy[c] == 1).astype('boolean')\n",
        "\n",
        "corr = df_copy.corr()\n",
        "\n",
        "f, ax = plt.subplots(figsize=(12, 8))\n",
        "\n",
        "sns.heatmap(corr, cmap=\"Blues\", annot=True, square=False, ax=ax,  linewidth = 1)\n",
        "plt.title('Pearson Correlation of Features')\n",
        "plt.yticks(rotation=0);"
      ],
      "metadata": {
        "colab": {
          "base_uri": "https://localhost:8080/",
          "height": 580
        },
        "id": "6xDEYCR5jYyJ",
        "outputId": "a23f7ad1-6d11-487b-c31e-ad0d6b653a23"
      },
      "id": "6xDEYCR5jYyJ",
      "execution_count": null,
      "outputs": [
        {
          "output_type": "display_data",
          "data": {
            "text/plain": [
              "<Figure size 864x576 with 2 Axes>"
            ],
            "image/png": "[encoded data removed]"
          },
          "metadata": {
            "needs_background": "light"
          }
        }
      ]
    },
    {
      "cell_type": "markdown",
      "source": [
        "<ins>Correlation of features with churned status</ins> \n",
        "\n",
        "Of the numerical and boolean types we could analyse this way, we can see that the largest correlation factors exist for the features we already noticed above. High monthly charges correlate with churning, and so does the use of paperless billing, being a senior_citizen. On the negative size, the highest correlations with churning exist for low total charges, no online security plan, no tech support, no dependents and no having partner. Still, all these 1 vs 1 correlations have an absolute Pearson factor of < 0.2, which is not very impressive, but noticeable.\n",
        "\n",
        "<ins>Other noteworthy correlation of features</ins> \n",
        "\n",
        "Streaming_tv and streaming_movies are both highly correlated with each other and with charges (monthly and total) also device protection and online backup. It is obvious that extra services elavate the price. Monthly and total charges correlate with each other. this make sence and the relation is the lengh of use which we will extract later for feature engineering. \n",
        "\n"
      ],
      "metadata": {
        "id": "t8JhKn59oQYf"
      },
      "id": "t8JhKn59oQYf"
    },
    {
      "cell_type": "markdown",
      "id": "b86be2b7",
      "metadata": {
        "id": "b86be2b7"
      },
      "source": [
        "### Time series exploration"
      ]
    },
    {
      "cell_type": "code",
      "execution_count": null,
      "id": "77d95cca",
      "metadata": {
        "id": "77d95cca"
      },
      "outputs": [],
      "source": [
        "def churn_0_1_raw(row):\n",
        "    end_date = row['EndDate']\n",
        "    if end_date == 'No':\n",
        "        return 0\n",
        "    else:\n",
        "        return 1"
      ]
    },
    {
      "cell_type": "code",
      "execution_count": null,
      "id": "0782bee5",
      "metadata": {
        "id": "0782bee5"
      },
      "outputs": [],
      "source": [
        "try:\n",
        "    df_time_series = pd.read_csv('contract.csv', index_col=['BeginDate'], parse_dates=['BeginDate'])\n",
        "    \n",
        "except:\n",
        "    df_time_series = pd.read_csv('/content/drive/MyDrive/churn_gm/contract.csv', index_col=['BeginDate'], parse_dates=['BeginDate'])\n",
        "\n",
        "\n",
        "df_time_series.sort_index(inplace=True)"
      ]
    },
    {
      "cell_type": "code",
      "execution_count": null,
      "id": "25898cd5",
      "metadata": {
        "scrolled": true,
        "id": "25898cd5"
      },
      "outputs": [],
      "source": [
        "df_time_series['churn'] = df_time_series.apply(churn_0_1_raw, axis=1)\n",
        "df_time_series = df_time_series.drop(['customerID', 'EndDate', 'Type', 'PaperlessBilling', 'PaymentMethod',\n",
        "       'MonthlyCharges', 'TotalCharges'], axis=1)"
      ]
    },
    {
      "cell_type": "code",
      "execution_count": null,
      "id": "d651baf9",
      "metadata": {
        "colab": {
          "base_uri": "https://localhost:8080/",
          "height": 603
        },
        "id": "d651baf9",
        "outputId": "de8f48ce-6a89-42dd-b53d-304a3d54b7e9"
      },
      "outputs": [
        {
          "output_type": "stream",
          "name": "stdout",
          "text": [
            "Yearly seasonal\n"
          ]
        },
        {
          "output_type": "display_data",
          "data": {
            "text/plain": [
              "<Figure size 720x576 with 3 Axes>"
            ],
            "image/png": "[encoded data removed]"
          },
          "metadata": {
            "needs_background": "light"
          }
        }
      ],
      "source": [
        "df_time_series_Y = df_time_series.resample('1Y').sum()\n",
        "result_Y = seasonal_decompose(df_time_series_Y, model='additive')\n",
        "fig = result_Y.plot(seasonal=False)\n",
        "fig.set_size_inches((10, 8))\n",
        "# Tight layout to realign things\n",
        "fig.tight_layout()\n",
        "print('Yearly seasonal')\n",
        "plt.show()"
      ]
    },
    {
      "cell_type": "markdown",
      "id": "bc16c285",
      "metadata": {
        "id": "bc16c285"
      },
      "source": [
        "We see general increase in churn over years. will add it also as a feature. \n",
        "\n",
        "Let's check the seasonality over month."
      ]
    },
    {
      "cell_type": "code",
      "execution_count": null,
      "id": "16098c6c",
      "metadata": {
        "colab": {
          "base_uri": "https://localhost:8080/",
          "height": 606
        },
        "id": "16098c6c",
        "outputId": "84b9646c-dc7a-42e6-c09b-90f1bf4b7193"
      },
      "outputs": [
        {
          "output_type": "stream",
          "name": "stdout",
          "text": [
            "Monthly seasonal all years\n"
          ]
        },
        {
          "output_type": "display_data",
          "data": {
            "text/plain": [
              "<Figure size 720x576 with 3 Axes>"
            ],
            "image/png": "[encoded data removed]"
          },
          "metadata": {
            "needs_background": "light"
          }
        }
      ],
      "source": [
        "df_time_series_M = df_time_series['2015-01':'2020-01']\n",
        "df_time_series_M = df_time_series.resample('1M').sum()\n",
        "result_M = seasonal_decompose(df_time_series_M, model='additive')\n",
        "fig= result_M.plot(\n",
        "    observed=True,\n",
        "    seasonal=True,\n",
        "    trend=False,\n",
        "    resid=True,\n",
        "    weights=False\n",
        ")\n",
        "fig.set_size_inches((10, 8))\n",
        "fig.autofmt_xdate()\n",
        "\n",
        "# Tight layout to realign things\n",
        "fig.tight_layout()\n",
        "print('Monthly seasonal all years')\n",
        "plt.show()"
      ]
    },
    {
      "cell_type": "markdown",
      "id": "71269e00",
      "metadata": {
        "id": "71269e00"
      },
      "source": [
        "There is a clear seasonality with the month so we will add it also as a feature"
      ]
    },
    {
      "cell_type": "markdown",
      "id": "a8277a8f",
      "metadata": {
        "id": "a8277a8f"
      },
      "source": [
        "# Feature engineering"
      ]
    },
    {
      "cell_type": "markdown",
      "id": "3da044a8",
      "metadata": {
        "id": "3da044a8"
      },
      "source": [
        "## Add new features"
      ]
    },
    {
      "cell_type": "code",
      "execution_count": null,
      "id": "cf6643b7",
      "metadata": {
        "id": "cf6643b7"
      },
      "outputs": [],
      "source": [
        "# change to yes no the senior_citizen\n",
        "df_merged['senior_citizen'] = df_merged['senior_citizen'].replace(to_replace={0:'No', 1:'Yes'})"
      ]
    },
    {
      "cell_type": "code",
      "execution_count": null,
      "id": "bd11bc62",
      "metadata": {
        "id": "bd11bc62"
      },
      "outputs": [],
      "source": [
        "# create new boolean column\n",
        "df_merged['Male'] = df_merged['gender'].replace(to_replace={'Female':'No', 'Male':'Yes'})"
      ]
    },
    {
      "cell_type": "code",
      "execution_count": null,
      "id": "2b472b07",
      "metadata": {
        "id": "2b472b07"
      },
      "outputs": [],
      "source": [
        "features_for_ohe_yes_no = [\n",
        "   'paperless_billing', 'online_security', 'online_backup', 'device_protection',\n",
        "   'tech_support', 'streaming_tv', 'streaming_movies', 'senior_citizen',\n",
        "   'partner', 'dependents', 'Male'\n",
        "]"
      ]
    },
    {
      "cell_type": "code",
      "execution_count": null,
      "id": "0651e51b",
      "metadata": {
        "id": "0651e51b"
      },
      "outputs": [],
      "source": [
        "# change all yes no to 1 0\n",
        "df_merged[features_for_ohe_yes_no] = df_merged[features_for_ohe_yes_no].replace(\n",
        "    to_replace={'No':0, 'Yes':1}\n",
        ")"
      ]
    },
    {
      "cell_type": "code",
      "execution_count": null,
      "id": "754c2581",
      "metadata": {
        "id": "754c2581"
      },
      "outputs": [],
      "source": [
        "# OHE for internet_service and remove the no as it is same as dsl == 0 and fiber_optic == 0\n",
        "df_merged['dsl'] = pd.get_dummies(\n",
        "    df_merged['internet_service'])['DSL']\n",
        "df_merged['fiber_optic'] = pd.get_dummies(\n",
        "    df_merged['internet_service'])['Fiber optic']"
      ]
    },
    {
      "cell_type": "code",
      "execution_count": null,
      "id": "22f5ad64",
      "metadata": {
        "id": "22f5ad64"
      },
      "outputs": [],
      "source": [
        "# ohe for 'type' and 'payment_method'\n",
        "columns_for_ohe = ['type', 'payment_method']\n",
        "df_merged_ohe = pd.get_dummies(df_merged[columns_for_ohe], drop_first=True)\n",
        "df_merged = df_merged.join(df_merged_ohe)"
      ]
    },
    {
      "cell_type": "code",
      "execution_count": null,
      "id": "fe943786",
      "metadata": {
        "id": "fe943786"
      },
      "outputs": [],
      "source": [
        "# add month and year feature\n",
        "\n",
        "try:\n",
        "    df_time_series_for_month_year_feature = pd.read_csv('contract.csv', index_col=['BeginDate'], parse_dates=['BeginDate'])\n",
        "    \n",
        "except:\n",
        "    df_time_series_for_month_year_feature = pd.read_csv('/content/drive/MyDrive/churn_gm/contract.csv', index_col=['BeginDate'], parse_dates=['BeginDate'])\n",
        "\n",
        "\n",
        "df_time_series_for_month_year_feature['month'] = df_time_series_for_month_year_feature.index.month\n",
        "df_time_series_for_month_year_feature['year'] = df_time_series_for_month_year_feature.index.year\n",
        "df_time_series_for_month_year_feature.reset_index(inplace=True)\n",
        "\n",
        "df_merged['month'] = df_time_series_for_month_year_feature['month']\n",
        "df_merged['year'] = df_time_series_for_month_year_feature['year']"
      ]
    },
    {
      "cell_type": "code",
      "source": [
        "# create new feature representing length of registration in months\n",
        "df_merged['months_registered'] = df_merged['total_charges'] / df_merged['monthly_charges']"
      ],
      "metadata": {
        "id": "43vChIwBAVDu"
      },
      "id": "43vChIwBAVDu",
      "execution_count": null,
      "outputs": []
    },
    {
      "cell_type": "code",
      "source": [
        "df_merged.sample(2)"
      ],
      "metadata": {
        "colab": {
          "base_uri": "https://localhost:8080/",
          "height": 263
        },
        "id": "pu2rnjc0A-sf",
        "outputId": "0dfca5b8-a88f-4845-d71b-4f7803a3f68a"
      },
      "id": "pu2rnjc0A-sf",
      "execution_count": null,
      "outputs": [
        {
          "output_type": "execute_result",
          "data": {
            "text/plain": [
              "     customer_id begin_date             end_date            type  \\\n",
              "1558  0637-YLETY 2018-08-01  2019-12-01 00:00:00  Month-to-month   \n",
              "3388  8498-XXGWA 2014-09-01                   No  Month-to-month   \n",
              "\n",
              "      paperless_billing           payment_method  monthly_charges  \\\n",
              "1558                  1  Credit card (automatic)            95.60   \n",
              "3388                  1             Mailed check            55.15   \n",
              "\n",
              "      total_charges internet_service  online_security  online_backup  \\\n",
              "1558        1555.65      Fiber optic                0              1   \n",
              "3388        3673.15              DSL                1              0   \n",
              "\n",
              "      device_protection  tech_support  streaming_tv  streaming_movies  gender  \\\n",
              "1558                  1             0             0                 1  Female   \n",
              "3388                  1             0             0                 0  Female   \n",
              "\n",
              "      senior_citizen  partner  dependents multiple_lines  churn  Male  dsl  \\\n",
              "1558               0        0           0            2.0      1     0    0   \n",
              "3388               0        1           0            1.0      0     0    1   \n",
              "\n",
              "      fiber_optic  type_One year  type_Two year  \\\n",
              "1558            1              0              0   \n",
              "3388            0              0              0   \n",
              "\n",
              "      payment_method_Credit card (automatic)  payment_method_Electronic check  \\\n",
              "1558                                       1                                0   \n",
              "3388                                       0                                0   \n",
              "\n",
              "      payment_method_Mailed check  month  year  months_registered  \n",
              "1558                            0      8  2018          16.272490  \n",
              "3388                            1      9  2014          66.602901  "
            ],
            "text/html": [
              "\n",
              "  <div id=\"df-c366ce97-5aaf-4fad-9a0d-7adaf5e2b983\">\n",
              "    <div class=\"colab-df-container\">\n",
              "      <div>\n",
              "<style scoped>\n",
              "    .dataframe tbody tr th:only-of-type {\n",
              "        vertical-align: middle;\n",
              "    }\n",
              "\n",
              "    .dataframe tbody tr th {\n",
              "        vertical-align: top;\n",
              "    }\n",
              "\n",
              "    .dataframe thead th {\n",
              "        text-align: right;\n",
              "    }\n",
              "</style>\n",
              "<table border=\"1\" class=\"dataframe\">\n",
              "  <thead>\n",
              "    <tr style=\"text-align: right;\">\n",
              "      <th></th>\n",
              "      <th>customer_id</th>\n",
              "      <th>begin_date</th>\n",
              "      <th>end_date</th>\n",
              "      <th>type</th>\n",
              "      <th>paperless_billing</th>\n",
              "      <th>payment_method</th>\n",
              "      <th>monthly_charges</th>\n",
              "      <th>total_charges</th>\n",
              "      <th>internet_service</th>\n",
              "      <th>online_security</th>\n",
              "      <th>online_backup</th>\n",
              "      <th>device_protection</th>\n",
              "      <th>tech_support</th>\n",
              "      <th>streaming_tv</th>\n",
              "      <th>streaming_movies</th>\n",
              "      <th>gender</th>\n",
              "      <th>senior_citizen</th>\n",
              "      <th>partner</th>\n",
              "      <th>dependents</th>\n",
              "      <th>multiple_lines</th>\n",
              "      <th>churn</th>\n",
              "      <th>Male</th>\n",
              "      <th>dsl</th>\n",
              "      <th>fiber_optic</th>\n",
              "      <th>type_One year</th>\n",
              "      <th>type_Two year</th>\n",
              "      <th>payment_method_Credit card (automatic)</th>\n",
              "      <th>payment_method_Electronic check</th>\n",
              "      <th>payment_method_Mailed check</th>\n",
              "      <th>month</th>\n",
              "      <th>year</th>\n",
              "      <th>months_registered</th>\n",
              "    </tr>\n",
              "  </thead>\n",
              "  <tbody>\n",
              "    <tr>\n",
              "      <th>1558</th>\n",
              "      <td>0637-YLETY</td>\n",
              "      <td>2018-08-01</td>\n",
              "      <td>2019-12-01 00:00:00</td>\n",
              "      <td>Month-to-month</td>\n",
              "      <td>1</td>\n",
              "      <td>Credit card (automatic)</td>\n",
              "      <td>95.60</td>\n",
              "      <td>1555.65</td>\n",
              "      <td>Fiber optic</td>\n",
              "      <td>0</td>\n",
              "      <td>1</td>\n",
              "      <td>1</td>\n",
              "      <td>0</td>\n",
              "      <td>0</td>\n",
              "      <td>1</td>\n",
              "      <td>Female</td>\n",
              "      <td>0</td>\n",
              "      <td>0</td>\n",
              "      <td>0</td>\n",
              "      <td>2.0</td>\n",
              "      <td>1</td>\n",
              "      <td>0</td>\n",
              "      <td>0</td>\n",
              "      <td>1</td>\n",
              "      <td>0</td>\n",
              "      <td>0</td>\n",
              "      <td>1</td>\n",
              "      <td>0</td>\n",
              "      <td>0</td>\n",
              "      <td>8</td>\n",
              "      <td>2018</td>\n",
              "      <td>16.272490</td>\n",
              "    </tr>\n",
              "    <tr>\n",
              "      <th>3388</th>\n",
              "      <td>8498-XXGWA</td>\n",
              "      <td>2014-09-01</td>\n",
              "      <td>No</td>\n",
              "      <td>Month-to-month</td>\n",
              "      <td>1</td>\n",
              "      <td>Mailed check</td>\n",
              "      <td>55.15</td>\n",
              "      <td>3673.15</td>\n",
              "      <td>DSL</td>\n",
              "      <td>1</td>\n",
              "      <td>0</td>\n",
              "      <td>1</td>\n",
              "      <td>0</td>\n",
              "      <td>0</td>\n",
              "      <td>0</td>\n",
              "      <td>Female</td>\n",
              "      <td>0</td>\n",
              "      <td>1</td>\n",
              "      <td>0</td>\n",
              "      <td>1.0</td>\n",
              "      <td>0</td>\n",
              "      <td>0</td>\n",
              "      <td>1</td>\n",
              "      <td>0</td>\n",
              "      <td>0</td>\n",
              "      <td>0</td>\n",
              "      <td>0</td>\n",
              "      <td>0</td>\n",
              "      <td>1</td>\n",
              "      <td>9</td>\n",
              "      <td>2014</td>\n",
              "      <td>66.602901</td>\n",
              "    </tr>\n",
              "  </tbody>\n",
              "</table>\n",
              "</div>\n",
              "      <button class=\"colab-df-convert\" onclick=\"convertToInteractive('df-c366ce97-5aaf-4fad-9a0d-7adaf5e2b983')\"\n",
              "              title=\"Convert this dataframe to an interactive table.\"\n",
              "              style=\"display:none;\">\n",
              "        \n",
              "  <svg xmlns=\"http://www.w3.org/2000/svg\" height=\"24px\"viewBox=\"0 0 24 24\"\n",
              "       width=\"24px\">\n",
              "    <path d=\"M0 0h24v24H0V0z\" fill=\"none\"/>\n",
              "    <path d=\"M18.56 5.44l.94 2.06.94-2.06 2.06-.94-2.06-.94-.94-2.06-.94 2.06-2.06.94zm-11 1L8.5 8.5l.94-2.06 2.06-.94-2.06-.94L8.5 2.5l-.94 2.06-2.06.94zm10 10l.94 2.06.94-2.06 2.06-.94-2.06-.94-.94-2.06-.94 2.06-2.06.94z\"/><path d=\"M17.41 7.96l-1.37-1.37c-.4-.4-.92-.59-1.43-.59-.52 0-1.04.2-1.43.59L10.3 9.45l-7.72 7.72c-.78.78-.78 2.05 0 2.83L4 21.41c.39.39.9.59 1.41.59.51 0 1.02-.2 1.41-.59l7.78-7.78 2.81-2.81c.8-.78.8-2.07 0-2.86zM5.41 20L4 18.59l7.72-7.72 1.47 1.35L5.41 20z\"/>\n",
              "  </svg>\n",
              "      </button>\n",
              "      \n",
              "  <style>\n",
              "    .colab-df-container {\n",
              "      display:flex;\n",
              "      flex-wrap:wrap;\n",
              "      gap: 12px;\n",
              "    }\n",
              "\n",
              "    .colab-df-convert {\n",
              "      background-color: #E8F0FE;\n",
              "      border: none;\n",
              "      border-radius: 50%;\n",
              "      cursor: pointer;\n",
              "      display: none;\n",
              "      fill: #1967D2;\n",
              "      height: 32px;\n",
              "      padding: 0 0 0 0;\n",
              "      width: 32px;\n",
              "    }\n",
              "\n",
              "    .colab-df-convert:hover {\n",
              "      background-color: #E2EBFA;\n",
              "      box-shadow: 0px 1px 2px rgba(60, 64, 67, 0.3), 0px 1px 3px 1px rgba(60, 64, 67, 0.15);\n",
              "      fill: #174EA6;\n",
              "    }\n",
              "\n",
              "    [theme=dark] .colab-df-convert {\n",
              "      background-color: #3B4455;\n",
              "      fill: #D2E3FC;\n",
              "    }\n",
              "\n",
              "    [theme=dark] .colab-df-convert:hover {\n",
              "      background-color: #434B5C;\n",
              "      box-shadow: 0px 1px 3px 1px rgba(0, 0, 0, 0.15);\n",
              "      filter: drop-shadow(0px 1px 2px rgba(0, 0, 0, 0.3));\n",
              "      fill: #FFFFFF;\n",
              "    }\n",
              "  </style>\n",
              "\n",
              "      <script>\n",
              "        const buttonEl =\n",
              "          document.querySelector('#df-c366ce97-5aaf-4fad-9a0d-7adaf5e2b983 button.colab-df-convert');\n",
              "        buttonEl.style.display =\n",
              "          google.colab.kernel.accessAllowed ? 'block' : 'none';\n",
              "\n",
              "        async function convertToInteractive(key) {\n",
              "          const element = document.querySelector('#df-c366ce97-5aaf-4fad-9a0d-7adaf5e2b983');\n",
              "          const dataTable =\n",
              "            await google.colab.kernel.invokeFunction('convertToInteractive',\n",
              "                                                     [key], {});\n",
              "          if (!dataTable) return;\n",
              "\n",
              "          const docLinkHtml = 'Like what you see? Visit the ' +\n",
              "            '<a target=\"_blank\" href=https://colab.research.google.com/notebooks/data_table.ipynb>data table notebook</a>'\n",
              "            + ' to learn more about interactive tables.';\n",
              "          element.innerHTML = '';\n",
              "          dataTable['output_type'] = 'display_data';\n",
              "          await google.colab.output.renderOutput(dataTable, element);\n",
              "          const docLink = document.createElement('div');\n",
              "          docLink.innerHTML = docLinkHtml;\n",
              "          element.appendChild(docLink);\n",
              "        }\n",
              "      </script>\n",
              "    </div>\n",
              "  </div>\n",
              "  "
            ]
          },
          "metadata": {},
          "execution_count": 162
        }
      ]
    },
    {
      "cell_type": "markdown",
      "id": "c65fcaab",
      "metadata": {
        "id": "c65fcaab"
      },
      "source": [
        "# Prepare data for modeling"
      ]
    },
    {
      "cell_type": "markdown",
      "id": "c3972bdb",
      "metadata": {
        "id": "c3972bdb"
      },
      "source": [
        "## Split train and test"
      ]
    },
    {
      "cell_type": "code",
      "execution_count": null,
      "id": "11cfc0fb",
      "metadata": {
        "id": "11cfc0fb"
      },
      "outputs": [],
      "source": [
        "features_columns = [\n",
        "    'paperless_billing', 'monthly_charges', 'total_charges',\n",
        "    'online_security', 'online_backup',\n",
        "    'device_protection', 'tech_support', 'streaming_tv', 'streaming_movies',\n",
        "    'senior_citizen', 'partner', 'dependents', 'multiple_lines',\n",
        "    'Male', 'dsl', 'fiber_optic', 'type_One year', 'type_Two year',\n",
        "    'payment_method_Credit card (automatic)',\n",
        "    'payment_method_Electronic check', 'payment_method_Mailed check',\n",
        "    'month', 'year', 'months_registered'\n",
        "]\n",
        "\n",
        "target_column = ['churn']"
      ]
    },
    {
      "cell_type": "code",
      "execution_count": null,
      "id": "db599b6c",
      "metadata": {
        "id": "db599b6c"
      },
      "outputs": [],
      "source": [
        "X = df_merged[features_columns]\n",
        "y = df_merged[target_column]\n",
        "X_train, X_test, y_train, y_test = train_test_split(\n",
        "    X, y, test_size=0.2, random_state=12345, stratify=df_merged['churn']\n",
        ")"
      ]
    },
    {
      "cell_type": "code",
      "execution_count": null,
      "id": "deb2bef9",
      "metadata": {
        "colab": {
          "base_uri": "https://localhost:8080/"
        },
        "id": "deb2bef9",
        "outputId": "5cf0bae0-7c36-43c3-daa2-90b9cbbea9eb"
      },
      "outputs": [
        {
          "output_type": "execute_result",
          "data": {
            "text/plain": [
              "((5634, 24), (1409, 24), (5634, 1), (1409, 1))"
            ]
          },
          "metadata": {},
          "execution_count": 165
        }
      ],
      "source": [
        "X_train.shape, X_test.shape, y_train.shape, y_test.shape"
      ]
    },
    {
      "cell_type": "code",
      "execution_count": null,
      "id": "9d4df17d",
      "metadata": {
        "id": "9d4df17d"
      },
      "outputs": [],
      "source": [
        "X_train = X_train.astype(float)\n",
        "X_test = X_test.astype(float)"
      ]
    },
    {
      "cell_type": "code",
      "execution_count": null,
      "id": "6ac94938",
      "metadata": {
        "colab": {
          "base_uri": "https://localhost:8080/"
        },
        "id": "6ac94938",
        "outputId": "a3d4e040-168d-4d3e-a082-3a120c836774"
      },
      "outputs": [
        {
          "output_type": "execute_result",
          "data": {
            "text/plain": [
              "True"
            ]
          },
          "metadata": {},
          "execution_count": 167
        }
      ],
      "source": [
        "# check if stratify worked\n",
        "round(y_train['churn'].sum() / len(y_train), 3) == round(y_test['churn'].sum() / len(y_test), 3)"
      ]
    },
    {
      "cell_type": "code",
      "execution_count": null,
      "id": "207980e8",
      "metadata": {
        "colab": {
          "base_uri": "https://localhost:8080/"
        },
        "id": "207980e8",
        "outputId": "d10cd4bf-c97e-4bb0-efe5-e8a0717dbf0f"
      },
      "outputs": [
        {
          "output_type": "execute_result",
          "data": {
            "text/plain": [
              "0.2653532126375577"
            ]
          },
          "metadata": {},
          "execution_count": 168
        }
      ],
      "source": [
        "y_train['churn'].sum() / len(y_train['churn'])"
      ]
    },
    {
      "cell_type": "markdown",
      "source": [
        "# Model Building (Baseline Validation Performance)\n",
        "Train models with the drain dataset without manipulations"
      ],
      "metadata": {
        "id": "ipD4XiBHt38d"
      },
      "id": "ipD4XiBHt38d"
    },
    {
      "cell_type": "code",
      "source": [
        "def simple_model_training(classifier, x_train=X_train, y_train=y_train):\n",
        "  cv = StratifiedKFold(n_splits=5, shuffle=True, random_state=12345)\n",
        "  scores = cross_val_score(classifier, x_train, y_train.values.ravel(), cv=cv, scoring='roc_auc')\n",
        "  print(scores)\n",
        "  print(scores.mean())  \n"
      ],
      "metadata": {
        "id": "ksMfhFPgmpDH"
      },
      "id": "ksMfhFPgmpDH",
      "execution_count": null,
      "outputs": []
    },
    {
      "cell_type": "markdown",
      "source": [
        "## Logistic regression"
      ],
      "metadata": {
        "id": "H1YRX9j7uJdJ"
      },
      "id": "H1YRX9j7uJdJ"
    },
    {
      "cell_type": "code",
      "source": [
        "lr = LogisticRegression(random_state=12345, solver='liblinear', class_weight='balanced')\n",
        "simple_model_training(classifier=lr)"
      ],
      "metadata": {
        "colab": {
          "base_uri": "https://localhost:8080/"
        },
        "id": "_5qKWVkxoyc9",
        "outputId": "8ff9efd4-f29f-4893-cf99-7d927a948ecb"
      },
      "id": "_5qKWVkxoyc9",
      "execution_count": null,
      "outputs": [
        {
          "output_type": "stream",
          "name": "stdout",
          "text": [
            "[0.85869161 0.8289023  0.85334367 0.86584913 0.8264024 ]\n",
            "0.8466378219805211\n"
          ]
        }
      ]
    },
    {
      "cell_type": "markdown",
      "source": [
        "## Random forest"
      ],
      "metadata": {
        "id": "hdUuU3vNBAWh"
      },
      "id": "hdUuU3vNBAWh"
    },
    {
      "cell_type": "code",
      "source": [
        "rf = RandomForestClassifier(random_state=12345, class_weight='balanced')\n",
        "simple_model_training(classifier=rf)"
      ],
      "metadata": {
        "colab": {
          "base_uri": "https://localhost:8080/"
        },
        "id": "86iyNieNBEez",
        "outputId": "57d0249e-c43d-4910-cfb6-285134ea1395"
      },
      "id": "86iyNieNBEez",
      "execution_count": null,
      "outputs": [
        {
          "output_type": "stream",
          "name": "stdout",
          "text": [
            "[0.89755304 0.87803548 0.90605157 0.90437529 0.88608744]\n",
            "0.8944205646398646\n"
          ]
        }
      ]
    },
    {
      "cell_type": "markdown",
      "source": [
        "## LGBM Classifier"
      ],
      "metadata": {
        "id": "QXFJuqO-BY1w"
      },
      "id": "QXFJuqO-BY1w"
    },
    {
      "cell_type": "code",
      "source": [
        "lgbm = LGBMClassifier(random_state=12345, objective='binary', class_weight='balanced')\n",
        "simple_model_training(classifier=lgbm)"
      ],
      "metadata": {
        "colab": {
          "base_uri": "https://localhost:8080/"
        },
        "id": "5rcSYK9KBbrJ",
        "outputId": "459a2184-d26d-40a8-cbaf-607f827fc624"
      },
      "id": "5rcSYK9KBbrJ",
      "execution_count": null,
      "outputs": [
        {
          "output_type": "stream",
          "name": "stdout",
          "text": [
            "[0.94738904 0.94007804 0.9660624  0.9607185  0.95363829]\n",
            "0.9535772525549271\n"
          ]
        }
      ]
    },
    {
      "cell_type": "markdown",
      "source": [
        "Testing the best preforming model on the test set"
      ],
      "metadata": {
        "id": "v8lhzsa3JZYf"
      },
      "id": "v8lhzsa3JZYf"
    },
    {
      "cell_type": "code",
      "source": [
        "lgbm.fit(X_train, y_train.values.ravel())\n",
        "print('')\n",
        "roc_auc_score(y_test, lgbm.predict_proba(X_test)[:, 1])"
      ],
      "metadata": {
        "colab": {
          "base_uri": "https://localhost:8080/"
        },
        "id": "zVVJjBUeCdxv",
        "outputId": "15f83722-1f9d-49c6-f485-09aa8791861e"
      },
      "id": "zVVJjBUeCdxv",
      "execution_count": null,
      "outputs": [
        {
          "output_type": "execute_result",
          "data": {
            "text/plain": [
              "LGBMClassifier(class_weight='balanced', objective='binary', random_state=12345)"
            ]
          },
          "metadata": {},
          "execution_count": 173
        },
        {
          "output_type": "stream",
          "name": "stdout",
          "text": [
            "\n"
          ]
        },
        {
          "output_type": "execute_result",
          "data": {
            "text/plain": [
              "0.9598129633935261"
            ]
          },
          "metadata": {},
          "execution_count": 173
        }
      ]
    },
    {
      "cell_type": "markdown",
      "source": [
        "We see small score improvment from the cross validate model.\n",
        "\n",
        "Let's try to tune the models with emphesis to class imbalance and numerical features scaling."
      ],
      "metadata": {
        "id": "LKomHxGnqBrm"
      },
      "id": "LKomHxGnqBrm"
    },
    {
      "cell_type": "markdown",
      "source": [
        "# Scaling of numerical features\n",
        "Since we are planning on performing cross validation, to limit data leakage between the train and validation folds I will create a preprocessing step that includes scaling the data, but it will be performed based on each training fold and not globally on the whole training set at this point."
      ],
      "metadata": {
        "id": "d7nHlA53B0NO"
      },
      "id": "d7nHlA53B0NO"
    },
    {
      "cell_type": "code",
      "source": [
        "# choose which columns to scale\n",
        "num_cols = ['monthly_charges', 'total_charges', 'months_registered', 'month', 'year']\n",
        "\n",
        "# define possible transformers\n",
        "scaler = StandardScaler()\n",
        "\n",
        "# define column transformer for pipeline\n",
        "preprocess = make_column_transformer(\n",
        "    (scaler, num_cols),\n",
        "    remainder='passthrough')"
      ],
      "metadata": {
        "id": "0kdNi4BzB9aE"
      },
      "id": "0kdNi4BzB9aE",
      "execution_count": null,
      "outputs": []
    },
    {
      "cell_type": "markdown",
      "id": "a56d3eb0",
      "metadata": {
        "id": "a56d3eb0"
      },
      "source": [
        "# Model training with hyperparameter tuning"
      ]
    },
    {
      "cell_type": "code",
      "execution_count": null,
      "id": "17919d88",
      "metadata": {
        "id": "17919d88"
      },
      "outputs": [],
      "source": [
        "# create df to store results\n",
        "df_results_tunning = pd.DataFrame(columns=['model', 'roc_auc_scores'])\n",
        "\n",
        "def append_to_score_df(model_name, roc_auc):\n",
        "    row_val = [model_name, round(roc_auc, 3)]\n",
        "    df_results_tunning.loc[len(df_results_tunning)] = row_val\n",
        "    print(df_results_tunning)"
      ]
    },
    {
      "cell_type": "code",
      "source": [
        "def random_tune_model(model, param_dist, x_train, y_train):\n",
        "    \n",
        "    # define pipeline\n",
        "    steps = [('preprocessing', preprocess), ('smote', SMOTE(random_state=12345)), ('model', model)]\n",
        "    pipeline = Pipeline(steps=steps)\n",
        "\n",
        "\n",
        "    # create stratified cross validation folds\n",
        "    cv = StratifiedKFold(n_splits=5, shuffle=True, random_state=12345)\n",
        "    \n",
        "    # define grid search model\n",
        "    random_search = RandomizedSearchCV(estimator=pipeline, param_distributions=param_dist,\n",
        "                                       n_jobs=-1, cv=cv, scoring='roc_auc', n_iter=30)\n",
        "    \n",
        "    # perform the search\n",
        "    random_result = random_search.fit(x_train, y_train.values.ravel())\n",
        "    \n",
        "    # get scores for this model\n",
        "    print(\"Best: %f using %s\" % (random_result.best_score_, random_result.best_params_))\n",
        "    print('')\n",
        "    means = random_result.cv_results_['mean_test_score']\n",
        "    stds = random_result.cv_results_['std_test_score']\n",
        "    params = random_result.cv_results_['params']\n",
        "\n",
        "    zipped = zip(means, stds, params) \n",
        "\n",
        "    # Converting to list\n",
        "    zipped = list(zipped)\n",
        "\n",
        "    # Using sorted and lambda\n",
        "    res = sorted(zipped, key = lambda x: x[0], reverse=True)\n",
        "\n",
        "\n",
        "    for mean, stdev, param in res:\n",
        "        print(\"%f (%f) with: %r\" % (mean, stdev, param))\n",
        "        \n",
        "    return random_result, params\n"
      ],
      "metadata": {
        "id": "muFtTseYiI80"
      },
      "id": "muFtTseYiI80",
      "execution_count": null,
      "outputs": []
    },
    {
      "cell_type": "markdown",
      "source": [
        "## Logistic regression"
      ],
      "metadata": {
        "id": "UaE_Fc_f0hxw"
      },
      "id": "UaE_Fc_f0hxw"
    },
    {
      "cell_type": "code",
      "source": [
        "# define model\n",
        "model_lr = LogisticRegression(random_state=12345)\n",
        "\n",
        "# Creating the hyperparameter dist\n",
        "# The main hyperparameters we may tune in logistic regression are: solver, penalty, and regularization strength\n",
        "solver = ['liblinear', 'newton-cg']\n",
        "C = np.arange(0.01, 1, 0.01)\n",
        "param_dist ={\n",
        "    'solver' : solver,\n",
        "    'C' : C,\n",
        "}\n",
        "new_params_dist = {'model__' + key: param_dist[key] for key in param_dist}\n",
        "\n",
        "# perform hyperparameter tuning\n",
        "random_result_lr, random_params_lr = random_tune_model(model_lr, new_params_dist, X_train, y_train)\n",
        "\n",
        "print(\"\")\n",
        "\n",
        "# append to df_train_results\n",
        "append_to_score_df('LogisticRegression', random_result_lr.best_score_)"
      ],
      "metadata": {
        "colab": {
          "base_uri": "https://localhost:8080/"
        },
        "id": "kHTZMYBTjcG6",
        "outputId": "4b262787-0d35-414a-a4a7-1de35698cd0a"
      },
      "id": "kHTZMYBTjcG6",
      "execution_count": null,
      "outputs": [
        {
          "output_type": "stream",
          "name": "stdout",
          "text": [
            "Best: 0.956727 using {'model__solver': 'newton-cg', 'model__C': 0.89}\n",
            "\n",
            "0.956727 (0.008009) with: {'model__solver': 'newton-cg', 'model__C': 0.89}\n",
            "0.956417 (0.008081) with: {'model__solver': 'newton-cg', 'model__C': 0.87}\n",
            "0.956257 (0.008098) with: {'model__solver': 'newton-cg', 'model__C': 0.86}\n",
            "0.955745 (0.008098) with: {'model__solver': 'liblinear', 'model__C': 0.8400000000000001}\n",
            "0.955689 (0.008183) with: {'model__solver': 'newton-cg', 'model__C': 0.8300000000000001}\n",
            "0.955315 (0.008236) with: {'model__solver': 'newton-cg', 'model__C': 0.81}\n",
            "0.955199 (0.008213) with: {'model__solver': 'liblinear', 'model__C': 0.81}\n",
            "0.955116 (0.008299) with: {'model__solver': 'newton-cg', 'model__C': 0.8}\n",
            "0.955000 (0.008242) with: {'model__solver': 'liblinear', 'model__C': 0.8}\n",
            "0.954684 (0.008372) with: {'model__solver': 'newton-cg', 'model__C': 0.78}\n",
            "0.953908 (0.008382) with: {'model__solver': 'liblinear', 'model__C': 0.75}\n",
            "0.953200 (0.008492) with: {'model__solver': 'liblinear', 'model__C': 0.72}\n",
            "0.951492 (0.008867) with: {'model__solver': 'newton-cg', 'model__C': 0.65}\n",
            "0.951050 (0.008873) with: {'model__solver': 'liblinear', 'model__C': 0.64}\n",
            "0.950704 (0.008942) with: {'model__solver': 'liblinear', 'model__C': 0.63}\n",
            "0.950553 (0.009035) with: {'model__solver': 'newton-cg', 'model__C': 0.62}\n",
            "0.949123 (0.009285) with: {'model__solver': 'newton-cg', 'model__C': 0.5800000000000001}\n",
            "0.948714 (0.009318) with: {'model__solver': 'newton-cg', 'model__C': 0.5700000000000001}\n",
            "0.946140 (0.009737) with: {'model__solver': 'newton-cg', 'model__C': 0.51}\n",
            "0.942709 (0.010235) with: {'model__solver': 'liblinear', 'model__C': 0.45}\n",
            "0.938655 (0.010898) with: {'model__solver': 'liblinear', 'model__C': 0.39}\n",
            "0.938111 (0.011020) with: {'model__solver': 'newton-cg', 'model__C': 0.38}\n",
            "0.936453 (0.011185) with: {'model__solver': 'newton-cg', 'model__C': 0.36000000000000004}\n",
            "0.934623 (0.011402) with: {'model__solver': 'newton-cg', 'model__C': 0.34}\n",
            "0.931537 (0.011719) with: {'model__solver': 'newton-cg', 'model__C': 0.31}\n",
            "0.926706 (0.012193) with: {'model__solver': 'newton-cg', 'model__C': 0.27}\n",
            "0.906942 (0.013682) with: {'model__solver': 'newton-cg', 'model__C': 0.16}\n",
            "0.898902 (0.013961) with: {'model__solver': 'newton-cg', 'model__C': 0.13}\n",
            "0.898695 (0.013869) with: {'model__solver': 'liblinear', 'model__C': 0.13}\n",
            "0.889334 (0.014368) with: {'model__solver': 'newton-cg', 'model__C': 0.09999999999999999}\n",
            "\n",
            "                model  roc_auc_scores\n",
            "0  LogisticRegression           0.957\n"
          ]
        }
      ]
    },
    {
      "cell_type": "markdown",
      "source": [
        "## Random forest"
      ],
      "metadata": {
        "id": "dhfvA8Of0kAS"
      },
      "id": "dhfvA8Of0kAS"
    },
    {
      "cell_type": "code",
      "source": [
        "# define model\n",
        "model_rf = RandomForestClassifier(random_state=12345)\n",
        "\n",
        "# Creating the hyperparameter dist\n",
        "# the most important settings are the number of trees in the forest (n_estimators) and the number of features considered for splitting at each leaf node (max_features)\n",
        "n_estimators = range(10, 100)\n",
        "max_features = [\"auto\", \"sqrt\", \"log2\"]\n",
        "\n",
        "param_dist ={\n",
        "    'n_estimators' : n_estimators,\n",
        "    'max_features' : max_features\n",
        "}\n",
        "\n",
        "new_params_dist = {'model__' + key: param_dist[key] for key in param_dist}\n",
        "\n",
        "# perform hyperparameter tuning\n",
        "random_result_rf, random_params_rf = random_tune_model(model_rf, new_params_dist, X_train, y_train)\n",
        "\n",
        "print(\"\")\n",
        "\n",
        "# append to df_train_results\n",
        "append_to_score_df('RandomForestClassifier', random_result_rf.best_score_)"
      ],
      "metadata": {
        "colab": {
          "base_uri": "https://localhost:8080/"
        },
        "id": "2Xuh-xWfXmKk",
        "outputId": "ee1eb554-bd6c-45a7-f195-4e24d62f0228"
      },
      "id": "2Xuh-xWfXmKk",
      "execution_count": null,
      "outputs": [
        {
          "output_type": "stream",
          "name": "stdout",
          "text": [
            "Best: 0.891099 using {'model__n_estimators': 95, 'model__max_features': 'log2'}\n",
            "\n",
            "0.891099 (0.012196) with: {'model__n_estimators': 95, 'model__max_features': 'log2'}\n",
            "0.890780 (0.012096) with: {'model__n_estimators': 78, 'model__max_features': 'log2'}\n",
            "0.890758 (0.012012) with: {'model__n_estimators': 92, 'model__max_features': 'auto'}\n",
            "0.890758 (0.012012) with: {'model__n_estimators': 92, 'model__max_features': 'sqrt'}\n",
            "0.890709 (0.011990) with: {'model__n_estimators': 91, 'model__max_features': 'auto'}\n",
            "0.890707 (0.012058) with: {'model__n_estimators': 80, 'model__max_features': 'sqrt'}\n",
            "0.890448 (0.012170) with: {'model__n_estimators': 77, 'model__max_features': 'auto'}\n",
            "0.890446 (0.011979) with: {'model__n_estimators': 84, 'model__max_features': 'sqrt'}\n",
            "0.890403 (0.011963) with: {'model__n_estimators': 83, 'model__max_features': 'auto'}\n",
            "0.889999 (0.011903) with: {'model__n_estimators': 74, 'model__max_features': 'auto'}\n",
            "0.889852 (0.012280) with: {'model__n_estimators': 70, 'model__max_features': 'auto'}\n",
            "0.889587 (0.012405) with: {'model__n_estimators': 68, 'model__max_features': 'auto'}\n",
            "0.889331 (0.012287) with: {'model__n_estimators': 67, 'model__max_features': 'log2'}\n",
            "0.889280 (0.012179) with: {'model__n_estimators': 64, 'model__max_features': 'sqrt'}\n",
            "0.889228 (0.011959) with: {'model__n_estimators': 60, 'model__max_features': 'auto'}\n",
            "0.889062 (0.011933) with: {'model__n_estimators': 59, 'model__max_features': 'auto'}\n",
            "0.888612 (0.011774) with: {'model__n_estimators': 56, 'model__max_features': 'auto'}\n",
            "0.888185 (0.011834) with: {'model__n_estimators': 51, 'model__max_features': 'auto'}\n",
            "0.887292 (0.012186) with: {'model__n_estimators': 46, 'model__max_features': 'sqrt'}\n",
            "0.886943 (0.012256) with: {'model__n_estimators': 39, 'model__max_features': 'auto'}\n",
            "0.885652 (0.011514) with: {'model__n_estimators': 36, 'model__max_features': 'sqrt'}\n",
            "0.885652 (0.011514) with: {'model__n_estimators': 36, 'model__max_features': 'log2'}\n",
            "0.885122 (0.012408) with: {'model__n_estimators': 33, 'model__max_features': 'sqrt'}\n",
            "0.883828 (0.012148) with: {'model__n_estimators': 31, 'model__max_features': 'auto'}\n",
            "0.883044 (0.012064) with: {'model__n_estimators': 24, 'model__max_features': 'auto'}\n",
            "0.882866 (0.011674) with: {'model__n_estimators': 22, 'model__max_features': 'auto'}\n",
            "0.882866 (0.011674) with: {'model__n_estimators': 22, 'model__max_features': 'log2'}\n",
            "0.882314 (0.012120) with: {'model__n_estimators': 26, 'model__max_features': 'log2'}\n",
            "0.873806 (0.014560) with: {'model__n_estimators': 12, 'model__max_features': 'log2'}\n",
            "0.872290 (0.014320) with: {'model__n_estimators': 11, 'model__max_features': 'auto'}\n",
            "\n",
            "                    model  roc_auc_scores\n",
            "0      LogisticRegression           0.957\n",
            "1  RandomForestClassifier           0.891\n"
          ]
        }
      ]
    },
    {
      "cell_type": "markdown",
      "source": [
        "## LGBMClassifier"
      ],
      "metadata": {
        "id": "aXkvTgs_1Mc3"
      },
      "id": "aXkvTgs_1Mc3"
    },
    {
      "cell_type": "code",
      "source": [
        "# define model\n",
        "model_lgbm = LGBMClassifier(random_state=12345, objective='binary')\n",
        "\n",
        "# Creating the hyperparameter dist\n",
        "\n",
        "boosting_type = ['gbdt', 'dart', 'goss']\n",
        "n_estimators = range(10, 100)\n",
        "learning_rate = np.arange(0.025, 0.3, 0.05)\n",
        "\n",
        "param_dist ={\n",
        "    'boosting_type' : boosting_type,\n",
        "    'n_estimators' : n_estimators,\n",
        "    'learning_rate' : learning_rate\n",
        "}\n",
        "\n",
        "new_params_dist = {'model__' + key: param_dist[key] for key in param_dist}\n",
        "\n",
        "# perform hyperparameter tuning\n",
        "random_result_lgbm, random_params_lgbm = random_tune_model(model_lgbm, new_params_dist, X_train, y_train)\n",
        "\n",
        "print(\"\")\n",
        "\n",
        "# append to df_train_results\n",
        "append_to_score_df('LGBMClassifier', random_result_lgbm.best_score_)"
      ],
      "metadata": {
        "colab": {
          "base_uri": "https://localhost:8080/"
        },
        "id": "ZquoNqyDZfvr",
        "outputId": "d5ecfd2d-4688-404b-8c30-1e3d11d3c9cc"
      },
      "id": "ZquoNqyDZfvr",
      "execution_count": null,
      "outputs": [
        {
          "output_type": "stream",
          "name": "stdout",
          "text": [
            "Best: 0.956163 using {'model__n_estimators': 71, 'model__learning_rate': 0.17500000000000002, 'model__boosting_type': 'gbdt'}\n",
            "\n",
            "0.956163 (0.008865) with: {'model__n_estimators': 71, 'model__learning_rate': 0.17500000000000002, 'model__boosting_type': 'gbdt'}\n",
            "0.955193 (0.009152) with: {'model__n_estimators': 64, 'model__learning_rate': 0.17500000000000002, 'model__boosting_type': 'gbdt'}\n",
            "0.954464 (0.008034) with: {'model__n_estimators': 64, 'model__learning_rate': 0.22500000000000003, 'model__boosting_type': 'gbdt'}\n",
            "0.954168 (0.007279) with: {'model__n_estimators': 55, 'model__learning_rate': 0.2750000000000001, 'model__boosting_type': 'gbdt'}\n",
            "0.953537 (0.008400) with: {'model__n_estimators': 54, 'model__learning_rate': 0.22500000000000003, 'model__boosting_type': 'gbdt'}\n",
            "0.951749 (0.006641) with: {'model__n_estimators': 37, 'model__learning_rate': 0.2750000000000001, 'model__boosting_type': 'gbdt'}\n",
            "0.951046 (0.007575) with: {'model__n_estimators': 91, 'model__learning_rate': 0.2750000000000001, 'model__boosting_type': 'dart'}\n",
            "0.950941 (0.007990) with: {'model__n_estimators': 81, 'model__learning_rate': 0.22500000000000003, 'model__boosting_type': 'goss'}\n",
            "0.950709 (0.006992) with: {'model__n_estimators': 36, 'model__learning_rate': 0.2750000000000001, 'model__boosting_type': 'gbdt'}\n",
            "0.950273 (0.010131) with: {'model__n_estimators': 91, 'model__learning_rate': 0.2750000000000001, 'model__boosting_type': 'goss'}\n",
            "0.949180 (0.010170) with: {'model__n_estimators': 82, 'model__learning_rate': 0.2750000000000001, 'model__boosting_type': 'goss'}\n",
            "0.948651 (0.008600) with: {'model__n_estimators': 68, 'model__learning_rate': 0.17500000000000002, 'model__boosting_type': 'goss'}\n",
            "0.948466 (0.009682) with: {'model__n_estimators': 70, 'model__learning_rate': 0.2750000000000001, 'model__boosting_type': 'goss'}\n",
            "0.946596 (0.009037) with: {'model__n_estimators': 47, 'model__learning_rate': 0.22500000000000003, 'model__boosting_type': 'goss'}\n",
            "0.945395 (0.008954) with: {'model__n_estimators': 97, 'model__learning_rate': 0.07500000000000001, 'model__boosting_type': 'goss'}\n",
            "0.942483 (0.005965) with: {'model__n_estimators': 96, 'model__learning_rate': 0.17500000000000002, 'model__boosting_type': 'dart'}\n",
            "0.939996 (0.005861) with: {'model__n_estimators': 55, 'model__learning_rate': 0.22500000000000003, 'model__boosting_type': 'dart'}\n",
            "0.934757 (0.010003) with: {'model__n_estimators': 64, 'model__learning_rate': 0.07500000000000001, 'model__boosting_type': 'gbdt'}\n",
            "0.928452 (0.011229) with: {'model__n_estimators': 59, 'model__learning_rate': 0.07500000000000001, 'model__boosting_type': 'goss'}\n",
            "0.917983 (0.009589) with: {'model__n_estimators': 20, 'model__learning_rate': 0.22500000000000003, 'model__boosting_type': 'goss'}\n",
            "0.913955 (0.011768) with: {'model__n_estimators': 72, 'model__learning_rate': 0.07500000000000001, 'model__boosting_type': 'dart'}\n",
            "0.908659 (0.010562) with: {'model__n_estimators': 42, 'model__learning_rate': 0.07500000000000001, 'model__boosting_type': 'dart'}\n",
            "0.907900 (0.011457) with: {'model__n_estimators': 83, 'model__learning_rate': 0.025, 'model__boosting_type': 'goss'}\n",
            "0.907436 (0.010699) with: {'model__n_estimators': 70, 'model__learning_rate': 0.025, 'model__boosting_type': 'gbdt'}\n",
            "0.900812 (0.012172) with: {'model__n_estimators': 52, 'model__learning_rate': 0.025, 'model__boosting_type': 'gbdt'}\n",
            "0.896767 (0.014234) with: {'model__n_estimators': 15, 'model__learning_rate': 0.07500000000000001, 'model__boosting_type': 'gbdt'}\n",
            "0.896632 (0.012534) with: {'model__n_estimators': 24, 'model__learning_rate': 0.07500000000000001, 'model__boosting_type': 'dart'}\n",
            "0.896217 (0.012267) with: {'model__n_estimators': 40, 'model__learning_rate': 0.025, 'model__boosting_type': 'gbdt'}\n",
            "0.893343 (0.013138) with: {'model__n_estimators': 35, 'model__learning_rate': 0.025, 'model__boosting_type': 'gbdt'}\n",
            "0.888738 (0.014493) with: {'model__n_estimators': 49, 'model__learning_rate': 0.025, 'model__boosting_type': 'dart'}\n",
            "\n",
            "                    model  roc_auc_scores\n",
            "0      LogisticRegression           0.957\n",
            "1  RandomForestClassifier           0.891\n",
            "2          LGBMClassifier           0.956\n"
          ]
        }
      ]
    },
    {
      "cell_type": "markdown",
      "source": [
        "We have two models that works very good and almost the same. Let's try ensemble them with voting model"
      ],
      "metadata": {
        "id": "G0K-rjTm5LcG"
      },
      "id": "G0K-rjTm5LcG"
    },
    {
      "cell_type": "markdown",
      "source": [
        "### Ensemble Method with voting model"
      ],
      "metadata": {
        "id": "7cdZZhXx1Bpg"
      },
      "id": "7cdZZhXx1Bpg"
    },
    {
      "cell_type": "code",
      "source": [
        "#Voting classifier takes all of the inputs and averages the results. For a \"hard\" voting classifier each classifier gets 1 vote \"yes\" or \"no\" and the result is just a popular vote. For this, you generally want odd numbers\n",
        "#A \"soft\" classifier averages the confidence of each of the models. If a the average confidence is > 50% that it is a 1 it will be counted as such\n",
        "\n",
        "voting_clf = VotingClassifier(estimators = [('model_lr',model_lr),('model_lgbm',model_lgbm)], voting = 'soft') "
      ],
      "metadata": {
        "id": "LdOFrNRG1T3t"
      },
      "id": "LdOFrNRG1T3t",
      "execution_count": null,
      "outputs": []
    },
    {
      "cell_type": "code",
      "source": [
        "model = voting_clf\n",
        "steps = [('preprocessing', preprocess), ('smote', SMOTE(random_state=12345)), ('model', model)]\n",
        "pipeline = Pipeline(steps=steps)\n",
        "\n",
        "# create stratified cross validation folds\n",
        "cv = StratifiedKFold(n_splits=5, shuffle=True, random_state=12345)\n",
        "\n",
        "score = cross_val_score(pipeline,X_train, y_train.values.ravel(),cv=cv)\n",
        "print(score)\n",
        "print(score.mean())"
      ],
      "metadata": {
        "colab": {
          "base_uri": "https://localhost:8080/"
        },
        "id": "Ke9Jk2KS3Su_",
        "outputId": "e26273be-dcad-44b9-c82d-188cf8db6d0c"
      },
      "id": "Ke9Jk2KS3Su_",
      "execution_count": null,
      "outputs": [
        {
          "output_type": "stream",
          "name": "stderr",
          "text": [
            "/usr/local/lib/python3.7/dist-packages/sklearn/linear_model/_logistic.py:818: ConvergenceWarning: lbfgs failed to converge (status=1):\n",
            "STOP: TOTAL NO. of ITERATIONS REACHED LIMIT.\n",
            "\n",
            "Increase the number of iterations (max_iter) or scale the data as shown in:\n",
            "    https://scikit-learn.org/stable/modules/preprocessing.html\n",
            "Please also refer to the documentation for alternative solver options:\n",
            "    https://scikit-learn.org/stable/modules/linear_model.html#logistic-regression\n",
            "  extra_warning_msg=_LOGISTIC_SOLVER_CONVERGENCE_MSG,\n"
          ]
        },
        {
          "output_type": "stream",
          "name": "stdout",
          "text": [
            "[0.92635315 0.91304348 0.9299024  0.93256433 0.91918295]\n",
            "0.9242092605054996\n"
          ]
        }
      ]
    },
    {
      "cell_type": "markdown",
      "source": [
        "Ensemble the two best preforming models gave outcome that is worse than the two model sepratly. The opposite of synergy."
      ],
      "metadata": {
        "id": "avYA8hBb4o2A"
      },
      "id": "avYA8hBb4o2A"
    },
    {
      "cell_type": "markdown",
      "id": "a4b1cb7a",
      "metadata": {
        "id": "a4b1cb7a"
      },
      "source": [
        "## Dummy Classifier"
      ]
    },
    {
      "cell_type": "code",
      "execution_count": null,
      "id": "5a93d7c3",
      "metadata": {
        "id": "5a93d7c3"
      },
      "outputs": [],
      "source": [
        "clf_dummy = DummyClassifier(random_state=12345, strategy='most_frequent') "
      ]
    },
    {
      "cell_type": "code",
      "execution_count": null,
      "id": "535a662e",
      "metadata": {
        "colab": {
          "base_uri": "https://localhost:8080/"
        },
        "id": "535a662e",
        "outputId": "e517aed1-1fe0-41ee-831a-4089b950fed6"
      },
      "outputs": [
        {
          "output_type": "execute_result",
          "data": {
            "text/plain": [
              "((4507, 24), (1127, 24), (4507, 1), (1127, 1))"
            ]
          },
          "metadata": {},
          "execution_count": 188
        }
      ],
      "source": [
        "X_train_dummy, X_valid_dummy, y_train_dummy, y_valid_dummy = train_test_split(\n",
        "    X_train, y_train, test_size=0.2, random_state=12345\n",
        ")\n",
        "X_train_dummy.shape, X_valid_dummy.shape, y_train_dummy.shape, y_valid_dummy.shape"
      ]
    },
    {
      "cell_type": "code",
      "execution_count": null,
      "id": "33b00c6a",
      "metadata": {
        "scrolled": true,
        "colab": {
          "base_uri": "https://localhost:8080/"
        },
        "id": "33b00c6a",
        "outputId": "154f9919-a763-4c70-dcf1-c03e6bd2f86b"
      },
      "outputs": [
        {
          "output_type": "execute_result",
          "data": {
            "text/plain": [
              "DummyClassifier(random_state=12345, strategy='most_frequent')"
            ]
          },
          "metadata": {},
          "execution_count": 189
        }
      ],
      "source": [
        "clf_dummy.fit(X_train_dummy, y_train_dummy)"
      ]
    },
    {
      "cell_type": "code",
      "execution_count": null,
      "id": "4268a9ca",
      "metadata": {
        "colab": {
          "base_uri": "https://localhost:8080/"
        },
        "id": "4268a9ca",
        "outputId": "6abaa818-1f42-452c-e8aa-ef7d5eb75a13"
      },
      "outputs": [
        {
          "output_type": "stream",
          "name": "stdout",
          "text": [
            "The roc_auc score is: 0.500\n"
          ]
        }
      ],
      "source": [
        "probabilities_test = clf_dummy.predict_proba(X_valid_dummy)\n",
        "probabilities_one_test = probabilities_test[:, 1]\n",
        "roc_auc = roc_auc_score(y_valid_dummy, probabilities_one_test)\n",
        "print('The roc_auc score is: {:.3f}'.format(roc_auc))"
      ]
    },
    {
      "cell_type": "markdown",
      "source": [
        "# Testing the models on the test set\n",
        "We will now use the parameters we found above to train the best model on the whole training set, then predict the test targets and finally compare the results by calculating the roc-auc score on the unseen data in the test set. For reference, I will also include the 2 other less effective models. We will also time the modeling and add an additional score in the form of F1 score. Since this is an imbalanced classification problem the F1 score gives us a better way to score the models. I'll post both results."
      ],
      "metadata": {
        "id": "zesiWtdUtDAI"
      },
      "id": "zesiWtdUtDAI"
    },
    {
      "cell_type": "markdown",
      "source": [
        "## Performing the testing"
      ],
      "metadata": {
        "id": "mo4jZxZVtPqJ"
      },
      "id": "mo4jZxZVtPqJ"
    },
    {
      "cell_type": "code",
      "source": [
        "# define lists to store timing and scores\n",
        "training_time = []\n",
        "predicting_time = []\n",
        "roc_auc_scores = []\n",
        "f1_scores = []\n",
        "acc_scores = []\n",
        "fpr_vals = []\n",
        "tpr_vals = []\n",
        "\n",
        "# define all the models with optimal parameters\n",
        "models = [DummyClassifier(strategy='prior'),\n",
        "          random_result_lr.best_estimator_.named_steps['model'],\n",
        "          random_result_rf.best_estimator_.named_steps['model'],\n",
        "          random_result_lgbm.best_estimator_.named_steps['model']]\n",
        "\n",
        "# define all model names\n",
        "model_names = ['DummyClassifier()', 'LogisticRegression()', 'RandomForestClassifier()', 'LGBMClassifier()']"
      ],
      "metadata": {
        "id": "Eu530s0Xs-QH"
      },
      "id": "Eu530s0Xs-QH",
      "execution_count": null,
      "outputs": []
    },
    {
      "cell_type": "code",
      "source": [
        "# perform scaling on whole train dataset and on test set based on the train set\n",
        "scaler = random_result_lr.best_estimator_.named_steps['preprocessing'] # the preprocessing step is identical for all\n",
        "x_train_scaled = scaler.fit_transform(X_train)\n",
        "x_test_scaled = scaler.transform(X_test)\n",
        "\n",
        "# perform smoting on whole dataset \n",
        "sm = SMOTE(random_state=12345)\n",
        "x_train_scaled_sm, y_train_sm = sm.fit_resample(x_train_scaled, y_train.values.ravel())\n",
        "x_test_scaled_sm, y_test_sm = sm.fit_resample(x_test_scaled, y_test.values.ravel())\n",
        "\n",
        "\n",
        "# perform training on full train dataset\n",
        "for estimator, name in zip(models, model_names):\n",
        "\n",
        "    # training\n",
        "    timing_train = %timeit -n3 -r3 -o estimator.fit(x_train_scaled_sm, y_train_sm)\n",
        "    training_time.append(timing_train.average)\n",
        "    \n",
        "    # predict test results and probabilities for roc_auc\n",
        "    preds_proba = estimator.predict_proba(x_test_scaled_sm)[:, 1]\n",
        "    preds = estimator.predict(x_test_scaled_sm)\n",
        "    timing_pred = %timeit -n3 -r3 -o estimator.predict(x_test_scaled_sm) # time the prediction step\n",
        "    predicting_time.append(timing_pred.average)\n",
        "    \n",
        "    # calculate scores\n",
        "    roc_auc_scores.append(roc_auc_score(y_test_sm, preds_proba))\n",
        "    f1_scores.append(f1_score(y_test_sm, preds))\n",
        "    acc_scores.append(accuracy_score(y_test_sm, preds))\n",
        "\n",
        "    # calculate probabilities\n",
        "    probabilities_test = estimator.predict_proba(x_test_scaled_sm)\n",
        "    probabilities_one_test = probabilities_test[:, 1]\n",
        "    fpr, tpr, thresholds = sklearn.metrics.roc_curve(y_test_sm, probabilities_one_test)\n",
        "    fpr_vals.append(fpr)\n",
        "    tpr_vals.append(tpr)"
      ],
      "metadata": {
        "colab": {
          "base_uri": "https://localhost:8080/"
        },
        "id": "LZ4Ej8POl4gO",
        "outputId": "ed9627c4-3cac-42df-f33b-29d57ded53bd"
      },
      "id": "LZ4Ej8POl4gO",
      "execution_count": null,
      "outputs": [
        {
          "output_type": "stream",
          "name": "stdout",
          "text": [
            "519 µs ± 34.3 µs per loop (mean ± std. dev. of 3 runs, 3 loops each)\n",
            "63.4 µs ± 9.51 µs per loop (mean ± std. dev. of 3 runs, 3 loops each)\n",
            "129 ms ± 7.55 ms per loop (mean ± std. dev. of 3 runs, 3 loops each)\n",
            "181 µs ± 20 µs per loop (mean ± std. dev. of 3 runs, 3 loops each)\n",
            "971 ms ± 9.02 ms per loop (mean ± std. dev. of 3 runs, 3 loops each)\n",
            "48.1 ms ± 1.02 ms per loop (mean ± std. dev. of 3 runs, 3 loops each)\n",
            "374 ms ± 8.22 ms per loop (mean ± std. dev. of 3 runs, 3 loops each)\n",
            "7.95 ms ± 62.7 µs per loop (mean ± std. dev. of 3 runs, 3 loops each)\n"
          ]
        }
      ]
    },
    {
      "cell_type": "code",
      "source": [
        "def roc_curve_generate(fpr_vals, tpr_vals, model_names):\n",
        "\n",
        "  # Initialise the subplot function using number of rows and columns\n",
        "  figure, axis = plt.subplots(2, 2, figsize=(10, 10));\n",
        "\n",
        "  for count, name  in enumerate(model_names):\n",
        "    \n",
        "    fpr = fpr_vals[count]\n",
        "    tpr = tpr_vals[count]\n",
        "\n",
        "    if count == 0:\n",
        "      first = 0\n",
        "      second = 0\n",
        "    elif count == 1:\n",
        "      first = 0\n",
        "      second = 1\n",
        "    elif count == 2:\n",
        "      first = 1\n",
        "      second = 0\n",
        "    else:\n",
        "      first = 1\n",
        "      second = 1\n",
        "\n",
        "\n",
        "    # < plot the graph >\n",
        "    axis[first, second].plot(fpr, tpr)\n",
        "\n",
        "    # ROC curve for random model (looks like a straight line)\n",
        "    axis[first, second].plot([0, 1], [0, 1], linestyle='--')\n",
        "\n",
        "    # < use the functions plt.xlim() and plt.ylim() to\n",
        "    #   set the boundary for the axes from 0 to 1 >\n",
        "    plt.xlim([0, 1])\n",
        "    plt.ylim([0, 1])\n",
        "\n",
        "    # < use the functions plt.xlabel() and plt.ylabel() to\n",
        "    #   name the axes \"False Positive Rate\" and \"True Positive Rate\" >\n",
        "    axis[first, second].set_xlabel('False Positive Rate')\n",
        "    axis[first, second].set_ylabel('True Positive Rate')\n",
        "\n",
        "    # < add the heading \"ROC curve\" with the function plt.title() >\n",
        "    axis[first, second].set_title('ROC curve'+'for model: '+name);"
      ],
      "metadata": {
        "id": "A6xuiZ2i106r"
      },
      "id": "A6xuiZ2i106r",
      "execution_count": null,
      "outputs": []
    },
    {
      "cell_type": "code",
      "source": [
        "def confusion_summery_f1(clf, X_test, y_test):\n",
        "    predictions = clf.predict(X_test)\n",
        "    cm = confusion_matrix(y_test, predictions, labels=clf.classes_)\n",
        "    disp = ConfusionMatrixDisplay(confusion_matrix=cm, display_labels=clf.classes_)\n",
        "    disp.plot()\n",
        "\n",
        "    plt.show();\n",
        "\n",
        "    # changing the rc parameters and plotting a line plot\n",
        "    plt.rcParams['figure.figsize'] = [10, 10]\n",
        "    \n",
        "    my_recall_score = recall_score(y_test, predictions)\n",
        "    print('The recall score is: {:.3f}'.format(my_recall_score))\n",
        "    \n",
        "    my_precision_score = precision_score(y_test, predictions)\n",
        "    print('The precision score is: {:.3f}'.format(my_precision_score))\n",
        "    \n",
        "    my_f1_score = f1_score(y_test, predictions)\n",
        "    print('The f1 score is: {:.3f}'.format(my_f1_score)) "
      ],
      "metadata": {
        "id": "Z9sQN4Em48V2"
      },
      "id": "Z9sQN4Em48V2",
      "execution_count": null,
      "outputs": []
    },
    {
      "cell_type": "markdown",
      "source": [
        "## Results analysis\n",
        "Having timed the different steps and retained the scores, we will now analyze the results."
      ],
      "metadata": {
        "id": "3OU82tdQvUsf"
      },
      "id": "3OU82tdQvUsf"
    },
    {
      "cell_type": "code",
      "source": [
        "# arrange results together\n",
        "df_results = pd.DataFrame([model_names, training_time, predicting_time, roc_auc_scores, f1_scores, acc_scores]).T\n",
        "df_results.columns = ['model', 'training_time', 'predict_time', 'roc_auc_scores', 'f1_scores', 'acc_scores']\n",
        "df_results\n",
        "\n",
        "# plot bar chart of training and prediction time\n",
        "df_results.plot(kind='bar', stacked=True, x='model', y=['training_time','predict_time'], figsize=(10,5), title='Time of processing for each model')\n",
        "plt.ylabel('Time [s]')\n",
        "plt.xticks(rotation=45);"
      ],
      "metadata": {
        "colab": {
          "base_uri": "https://localhost:8080/",
          "height": 435
        },
        "id": "ozUsGkwYvT9x",
        "outputId": "48df0d7f-312b-4110-ea06-fedd0ac921cb"
      },
      "id": "ozUsGkwYvT9x",
      "execution_count": null,
      "outputs": [
        {
          "output_type": "display_data",
          "data": {
            "text/plain": [
              "<Figure size 720x360 with 1 Axes>"
            ],
            "image/png": "[encoded data removed]"
          },
          "metadata": {
            "needs_background": "light"
          }
        }
      ]
    },
    {
      "cell_type": "markdown",
      "source": [
        "We can see that all models in general are pretty fast, with both training and prediction time totalling around second for even the \"slowest\" of the models, the random forest."
      ],
      "metadata": {
        "id": "Q8rfWcwBArd8"
      },
      "id": "Q8rfWcwBArd8"
    },
    {
      "cell_type": "code",
      "source": [
        "roc_curve_generate(fpr_vals, tpr_vals, model_names)"
      ],
      "metadata": {
        "colab": {
          "base_uri": "https://localhost:8080/",
          "height": 621
        },
        "id": "7lvtzLVu2FmH",
        "outputId": "20b9df4a-bab7-4e68-c29e-ead9727def47"
      },
      "id": "7lvtzLVu2FmH",
      "execution_count": null,
      "outputs": [
        {
          "output_type": "display_data",
          "data": {
            "text/plain": [
              "<Figure size 720x720 with 4 Axes>"
            ],
            "image/png": "[encoded data removed]"
          },
          "metadata": {
            "needs_background": "light"
          }
        }
      ]
    },
    {
      "cell_type": "markdown",
      "source": [
        "\n",
        "\n",
        "The Receiver operating characteristic (ROC) curve shows the trade-off between sensitivity (or TPR) and specificity (1 – FPR). Classifiers that give curves closer to the top-left corner indicate a better performance. As a baseline, a random classifier is expected to give points lying along the diagonal (FPR = TPR). The lgbm is the closest to the top left corner while the senity check dummy model lays on the diagonal. "
      ],
      "metadata": {
        "id": "k_zwlTgMwDkw"
      },
      "id": "k_zwlTgMwDkw"
    },
    {
      "cell_type": "code",
      "source": [
        "# plot bar chart of scores\n",
        "df_results.plot(kind='bar', x='model', y=['roc_auc_scores', 'f1_scores', 'acc_scores'], figsize=(15,10), title='Scores of each model on test dataset (higher is better)')\n",
        "plt.grid(color = 'grey', linestyle = '--', linewidth = 0.5, axis='y')\n",
        "plt.ylabel('Score')\n",
        "plt.ylim(0.4,1)\n",
        "plt.xticks(rotation=45);"
      ],
      "metadata": {
        "colab": {
          "base_uri": "https://localhost:8080/",
          "height": 707
        },
        "id": "PF5mzdQ5wBVx",
        "outputId": "9bfe55a3-8fc2-419f-b43e-362ca7f2f2f3"
      },
      "id": "PF5mzdQ5wBVx",
      "execution_count": null,
      "outputs": [
        {
          "output_type": "display_data",
          "data": {
            "text/plain": [
              "<Figure size 1080x720 with 1 Axes>"
            ],
            "image/png": "[encoded data removed]"
          },
          "metadata": {
            "needs_background": "light"
          }
        }
      ]
    },
    {
      "cell_type": "code",
      "source": [
        "df_results_tunning"
      ],
      "metadata": {
        "colab": {
          "base_uri": "https://localhost:8080/",
          "height": 143
        },
        "id": "DUW4qclM1jt2",
        "outputId": "da547148-699f-419d-dbf9-36137f6bd210"
      },
      "id": "DUW4qclM1jt2",
      "execution_count": null,
      "outputs": [
        {
          "output_type": "execute_result",
          "data": {
            "text/plain": [
              "                    model  roc_auc_scores\n",
              "0      LogisticRegression           0.957\n",
              "1  RandomForestClassifier           0.891\n",
              "2          LGBMClassifier           0.956"
            ],
            "text/html": [
              "\n",
              "  <div id=\"df-b06f0cc1-4c78-47d0-8f34-eb11463bf383\">\n",
              "    <div class=\"colab-df-container\">\n",
              "      <div>\n",
              "<style scoped>\n",
              "    .dataframe tbody tr th:only-of-type {\n",
              "        vertical-align: middle;\n",
              "    }\n",
              "\n",
              "    .dataframe tbody tr th {\n",
              "        vertical-align: top;\n",
              "    }\n",
              "\n",
              "    .dataframe thead th {\n",
              "        text-align: right;\n",
              "    }\n",
              "</style>\n",
              "<table border=\"1\" class=\"dataframe\">\n",
              "  <thead>\n",
              "    <tr style=\"text-align: right;\">\n",
              "      <th></th>\n",
              "      <th>model</th>\n",
              "      <th>roc_auc_scores</th>\n",
              "    </tr>\n",
              "  </thead>\n",
              "  <tbody>\n",
              "    <tr>\n",
              "      <th>0</th>\n",
              "      <td>LogisticRegression</td>\n",
              "      <td>0.957</td>\n",
              "    </tr>\n",
              "    <tr>\n",
              "      <th>1</th>\n",
              "      <td>RandomForestClassifier</td>\n",
              "      <td>0.891</td>\n",
              "    </tr>\n",
              "    <tr>\n",
              "      <th>2</th>\n",
              "      <td>LGBMClassifier</td>\n",
              "      <td>0.956</td>\n",
              "    </tr>\n",
              "  </tbody>\n",
              "</table>\n",
              "</div>\n",
              "      <button class=\"colab-df-convert\" onclick=\"convertToInteractive('df-b06f0cc1-4c78-47d0-8f34-eb11463bf383')\"\n",
              "              title=\"Convert this dataframe to an interactive table.\"\n",
              "              style=\"display:none;\">\n",
              "        \n",
              "  <svg xmlns=\"http://www.w3.org/2000/svg\" height=\"24px\"viewBox=\"0 0 24 24\"\n",
              "       width=\"24px\">\n",
              "    <path d=\"M0 0h24v24H0V0z\" fill=\"none\"/>\n",
              "    <path d=\"M18.56 5.44l.94 2.06.94-2.06 2.06-.94-2.06-.94-.94-2.06-.94 2.06-2.06.94zm-11 1L8.5 8.5l.94-2.06 2.06-.94-2.06-.94L8.5 2.5l-.94 2.06-2.06.94zm10 10l.94 2.06.94-2.06 2.06-.94-2.06-.94-.94-2.06-.94 2.06-2.06.94z\"/><path d=\"M17.41 7.96l-1.37-1.37c-.4-.4-.92-.59-1.43-.59-.52 0-1.04.2-1.43.59L10.3 9.45l-7.72 7.72c-.78.78-.78 2.05 0 2.83L4 21.41c.39.39.9.59 1.41.59.51 0 1.02-.2 1.41-.59l7.78-7.78 2.81-2.81c.8-.78.8-2.07 0-2.86zM5.41 20L4 18.59l7.72-7.72 1.47 1.35L5.41 20z\"/>\n",
              "  </svg>\n",
              "      </button>\n",
              "      \n",
              "  <style>\n",
              "    .colab-df-container {\n",
              "      display:flex;\n",
              "      flex-wrap:wrap;\n",
              "      gap: 12px;\n",
              "    }\n",
              "\n",
              "    .colab-df-convert {\n",
              "      background-color: #E8F0FE;\n",
              "      border: none;\n",
              "      border-radius: 50%;\n",
              "      cursor: pointer;\n",
              "      display: none;\n",
              "      fill: #1967D2;\n",
              "      height: 32px;\n",
              "      padding: 0 0 0 0;\n",
              "      width: 32px;\n",
              "    }\n",
              "\n",
              "    .colab-df-convert:hover {\n",
              "      background-color: #E2EBFA;\n",
              "      box-shadow: 0px 1px 2px rgba(60, 64, 67, 0.3), 0px 1px 3px 1px rgba(60, 64, 67, 0.15);\n",
              "      fill: #174EA6;\n",
              "    }\n",
              "\n",
              "    [theme=dark] .colab-df-convert {\n",
              "      background-color: #3B4455;\n",
              "      fill: #D2E3FC;\n",
              "    }\n",
              "\n",
              "    [theme=dark] .colab-df-convert:hover {\n",
              "      background-color: #434B5C;\n",
              "      box-shadow: 0px 1px 3px 1px rgba(0, 0, 0, 0.15);\n",
              "      filter: drop-shadow(0px 1px 2px rgba(0, 0, 0, 0.3));\n",
              "      fill: #FFFFFF;\n",
              "    }\n",
              "  </style>\n",
              "\n",
              "      <script>\n",
              "        const buttonEl =\n",
              "          document.querySelector('#df-b06f0cc1-4c78-47d0-8f34-eb11463bf383 button.colab-df-convert');\n",
              "        buttonEl.style.display =\n",
              "          google.colab.kernel.accessAllowed ? 'block' : 'none';\n",
              "\n",
              "        async function convertToInteractive(key) {\n",
              "          const element = document.querySelector('#df-b06f0cc1-4c78-47d0-8f34-eb11463bf383');\n",
              "          const dataTable =\n",
              "            await google.colab.kernel.invokeFunction('convertToInteractive',\n",
              "                                                     [key], {});\n",
              "          if (!dataTable) return;\n",
              "\n",
              "          const docLinkHtml = 'Like what you see? Visit the ' +\n",
              "            '<a target=\"_blank\" href=https://colab.research.google.com/notebooks/data_table.ipynb>data table notebook</a>'\n",
              "            + ' to learn more about interactive tables.';\n",
              "          element.innerHTML = '';\n",
              "          dataTable['output_type'] = 'display_data';\n",
              "          await google.colab.output.renderOutput(dataTable, element);\n",
              "          const docLink = document.createElement('div');\n",
              "          docLink.innerHTML = docLinkHtml;\n",
              "          element.appendChild(docLink);\n",
              "        }\n",
              "      </script>\n",
              "    </div>\n",
              "  </div>\n",
              "  "
            ]
          },
          "metadata": {},
          "execution_count": 198
        }
      ]
    },
    {
      "cell_type": "code",
      "source": [
        "df_results"
      ],
      "metadata": {
        "colab": {
          "base_uri": "https://localhost:8080/",
          "height": 175
        },
        "id": "nd4EE8RRwLTx",
        "outputId": "de5a9492-3f42-47b5-a31e-c0ce02aeaf2f"
      },
      "id": "nd4EE8RRwLTx",
      "execution_count": null,
      "outputs": [
        {
          "output_type": "execute_result",
          "data": {
            "text/plain": [
              "                      model training_time predict_time roc_auc_scores  \\\n",
              "0         DummyClassifier()      0.000519     0.000063            0.5   \n",
              "1      LogisticRegression()      0.128683     0.000181       0.970311   \n",
              "2  RandomForestClassifier()      0.971184     0.048058         0.9383   \n",
              "3          LGBMClassifier()      0.374308     0.007949       0.985407   \n",
              "\n",
              "  f1_scores acc_scores  \n",
              "0       0.0        0.5  \n",
              "1  0.905253   0.902415  \n",
              "2  0.858591   0.865217  \n",
              "3    0.9529   0.954106  "
            ],
            "text/html": [
              "\n",
              "  <div id=\"df-67f29e4a-edce-4513-bd6f-a54cdd816b5b\">\n",
              "    <div class=\"colab-df-container\">\n",
              "      <div>\n",
              "<style scoped>\n",
              "    .dataframe tbody tr th:only-of-type {\n",
              "        vertical-align: middle;\n",
              "    }\n",
              "\n",
              "    .dataframe tbody tr th {\n",
              "        vertical-align: top;\n",
              "    }\n",
              "\n",
              "    .dataframe thead th {\n",
              "        text-align: right;\n",
              "    }\n",
              "</style>\n",
              "<table border=\"1\" class=\"dataframe\">\n",
              "  <thead>\n",
              "    <tr style=\"text-align: right;\">\n",
              "      <th></th>\n",
              "      <th>model</th>\n",
              "      <th>training_time</th>\n",
              "      <th>predict_time</th>\n",
              "      <th>roc_auc_scores</th>\n",
              "      <th>f1_scores</th>\n",
              "      <th>acc_scores</th>\n",
              "    </tr>\n",
              "  </thead>\n",
              "  <tbody>\n",
              "    <tr>\n",
              "      <th>0</th>\n",
              "      <td>DummyClassifier()</td>\n",
              "      <td>0.000519</td>\n",
              "      <td>0.000063</td>\n",
              "      <td>0.5</td>\n",
              "      <td>0.0</td>\n",
              "      <td>0.5</td>\n",
              "    </tr>\n",
              "    <tr>\n",
              "      <th>1</th>\n",
              "      <td>LogisticRegression()</td>\n",
              "      <td>0.128683</td>\n",
              "      <td>0.000181</td>\n",
              "      <td>0.970311</td>\n",
              "      <td>0.905253</td>\n",
              "      <td>0.902415</td>\n",
              "    </tr>\n",
              "    <tr>\n",
              "      <th>2</th>\n",
              "      <td>RandomForestClassifier()</td>\n",
              "      <td>0.971184</td>\n",
              "      <td>0.048058</td>\n",
              "      <td>0.9383</td>\n",
              "      <td>0.858591</td>\n",
              "      <td>0.865217</td>\n",
              "    </tr>\n",
              "    <tr>\n",
              "      <th>3</th>\n",
              "      <td>LGBMClassifier()</td>\n",
              "      <td>0.374308</td>\n",
              "      <td>0.007949</td>\n",
              "      <td>0.985407</td>\n",
              "      <td>0.9529</td>\n",
              "      <td>0.954106</td>\n",
              "    </tr>\n",
              "  </tbody>\n",
              "</table>\n",
              "</div>\n",
              "      <button class=\"colab-df-convert\" onclick=\"convertToInteractive('df-67f29e4a-edce-4513-bd6f-a54cdd816b5b')\"\n",
              "              title=\"Convert this dataframe to an interactive table.\"\n",
              "              style=\"display:none;\">\n",
              "        \n",
              "  <svg xmlns=\"http://www.w3.org/2000/svg\" height=\"24px\"viewBox=\"0 0 24 24\"\n",
              "       width=\"24px\">\n",
              "    <path d=\"M0 0h24v24H0V0z\" fill=\"none\"/>\n",
              "    <path d=\"M18.56 5.44l.94 2.06.94-2.06 2.06-.94-2.06-.94-.94-2.06-.94 2.06-2.06.94zm-11 1L8.5 8.5l.94-2.06 2.06-.94-2.06-.94L8.5 2.5l-.94 2.06-2.06.94zm10 10l.94 2.06.94-2.06 2.06-.94-2.06-.94-.94-2.06-.94 2.06-2.06.94z\"/><path d=\"M17.41 7.96l-1.37-1.37c-.4-.4-.92-.59-1.43-.59-.52 0-1.04.2-1.43.59L10.3 9.45l-7.72 7.72c-.78.78-.78 2.05 0 2.83L4 21.41c.39.39.9.59 1.41.59.51 0 1.02-.2 1.41-.59l7.78-7.78 2.81-2.81c.8-.78.8-2.07 0-2.86zM5.41 20L4 18.59l7.72-7.72 1.47 1.35L5.41 20z\"/>\n",
              "  </svg>\n",
              "      </button>\n",
              "      \n",
              "  <style>\n",
              "    .colab-df-container {\n",
              "      display:flex;\n",
              "      flex-wrap:wrap;\n",
              "      gap: 12px;\n",
              "    }\n",
              "\n",
              "    .colab-df-convert {\n",
              "      background-color: #E8F0FE;\n",
              "      border: none;\n",
              "      border-radius: 50%;\n",
              "      cursor: pointer;\n",
              "      display: none;\n",
              "      fill: #1967D2;\n",
              "      height: 32px;\n",
              "      padding: 0 0 0 0;\n",
              "      width: 32px;\n",
              "    }\n",
              "\n",
              "    .colab-df-convert:hover {\n",
              "      background-color: #E2EBFA;\n",
              "      box-shadow: 0px 1px 2px rgba(60, 64, 67, 0.3), 0px 1px 3px 1px rgba(60, 64, 67, 0.15);\n",
              "      fill: #174EA6;\n",
              "    }\n",
              "\n",
              "    [theme=dark] .colab-df-convert {\n",
              "      background-color: #3B4455;\n",
              "      fill: #D2E3FC;\n",
              "    }\n",
              "\n",
              "    [theme=dark] .colab-df-convert:hover {\n",
              "      background-color: #434B5C;\n",
              "      box-shadow: 0px 1px 3px 1px rgba(0, 0, 0, 0.15);\n",
              "      filter: drop-shadow(0px 1px 2px rgba(0, 0, 0, 0.3));\n",
              "      fill: #FFFFFF;\n",
              "    }\n",
              "  </style>\n",
              "\n",
              "      <script>\n",
              "        const buttonEl =\n",
              "          document.querySelector('#df-67f29e4a-edce-4513-bd6f-a54cdd816b5b button.colab-df-convert');\n",
              "        buttonEl.style.display =\n",
              "          google.colab.kernel.accessAllowed ? 'block' : 'none';\n",
              "\n",
              "        async function convertToInteractive(key) {\n",
              "          const element = document.querySelector('#df-67f29e4a-edce-4513-bd6f-a54cdd816b5b');\n",
              "          const dataTable =\n",
              "            await google.colab.kernel.invokeFunction('convertToInteractive',\n",
              "                                                     [key], {});\n",
              "          if (!dataTable) return;\n",
              "\n",
              "          const docLinkHtml = 'Like what you see? Visit the ' +\n",
              "            '<a target=\"_blank\" href=https://colab.research.google.com/notebooks/data_table.ipynb>data table notebook</a>'\n",
              "            + ' to learn more about interactive tables.';\n",
              "          element.innerHTML = '';\n",
              "          dataTable['output_type'] = 'display_data';\n",
              "          await google.colab.output.renderOutput(dataTable, element);\n",
              "          const docLink = document.createElement('div');\n",
              "          docLink.innerHTML = docLinkHtml;\n",
              "          element.appendChild(docLink);\n",
              "        }\n",
              "      </script>\n",
              "    </div>\n",
              "  </div>\n",
              "  "
            ]
          },
          "metadata": {},
          "execution_count": 199
        }
      ]
    },
    {
      "cell_type": "markdown",
      "source": [
        "We can see all of our real models perform much better than the sanity check. We reached ~0.99 ROC-AUC score for the LGBMClassifier model, which shows that it wasn't overfitted on the training/validation set. The score is even a little bit higher than it was on the training/validation set. The other two models also reached scores higher then what they reached on the training/validation set.\n",
        "\n",
        "Looking at the F1 and accuracy scores, it follows the same order of results we saw as in ROC-AUC, the LGBMClassifier classifier takes the lead again, with ~0.95, while the other two models reach lower scores of ~0.94 for the LogisticRegression and ~0.86 for the RandomForestClassifier.\n",
        "\n",
        "LGBMClassifier and LogisticRegression are the favorite models. LGBMClassifier performs better on all the scoring metrics while LogisticRegression predicts just a little bit faster."
      ],
      "metadata": {
        "id": "jsHLSltZyZ-U"
      },
      "id": "jsHLSltZyZ-U"
    },
    {
      "cell_type": "code",
      "source": [
        "confusion_summery_f1(estimator, x_test_scaled_sm, y_test_sm)"
      ],
      "metadata": {
        "colab": {
          "base_uri": "https://localhost:8080/",
          "height": 335
        },
        "id": "lyn84UtO4eQ3",
        "outputId": "30fc3bd8-5c8b-4de8-cad0-0b590a00af04"
      },
      "id": "lyn84UtO4eQ3",
      "execution_count": null,
      "outputs": [
        {
          "output_type": "display_data",
          "data": {
            "text/plain": [
              "<Figure size 432x288 with 2 Axes>"
            ],
            "image/png": "[encoded data removed]"
          },
          "metadata": {
            "needs_background": "light"
          }
        },
        {
          "output_type": "stream",
          "name": "stdout",
          "text": [
            "The recall score is: 0.929\n",
            "The precision score is: 0.979\n",
            "The f1 score is: 0.953\n"
          ]
        }
      ]
    },
    {
      "cell_type": "markdown",
      "source": [
        "From the confusion matrix we get extra confidence in the lgbm classifier. The model predicts well the positive and negative classes. Since the precision is much larger we can understand that the model's ability to predict real churn clients from all what the model sugest will churn. "
      ],
      "metadata": {
        "id": "7ThprSRm5c26"
      },
      "id": "7ThprSRm5c26"
    },
    {
      "cell_type": "markdown",
      "source": [
        "# Conclusions and summary"
      ],
      "metadata": {
        "id": "jwS650vbiOYi"
      },
      "id": "jwS650vbiOYi"
    },
    {
      "cell_type": "markdown",
      "source": [
        "Taking both the scores and the time and model complexity into account, the LGBM classifier is still the best model for Interconnect's needs. The time difference is neglectable for our purpose. It has the highest AUC-ROC score and the highest F1 and accuracy scores and while it takes longer to train/predict than the logistic regression model, we are still talking about less than half  a second which is insignificant compared to the added correctness of the predictions it generates.\n",
        "\n",
        "To sum up, I downloaded the data, took a brief look at it and then:\n",
        "\n",
        "* **Preprocessing**:\n",
        "    * merged the different datasets into one based on `customer_id`\n",
        "    * filled in missing data due to the merging\n",
        "    * standardized column names to lowercase and underscore between words\n",
        "    * created the `churn` 0/1 column based on `end_date`\n",
        "        * noticed a 3:1 class imbalance in favor of the negative class\n",
        "        * 11 observations had missing `total_charges` due to joining on the last day of the data, and were dropped\n",
        "\n",
        "* **Exploratory data analysis**:\n",
        "    * looked graphically at categorical feature differences in regards to churned status which showed us which features could be important in the modeling stage\n",
        "    * analyzed the histograms of `begin_date`, `total_charges` and `monthly_charges` comparing between the churned statuses \n",
        "        * discovered churned users are usually more recent, had higher monthly charges and lower total charges\n",
        "    * looked at the correlation matrix vs churn status to confirm the correlations, noticing the highest absolute Pearson correlation of features 1 to 1 vs churned status to be below 0.2.\n",
        "\n",
        "* **Preparing data for supervised learning**:\n",
        "    * engineered a few extra features which might be helpful\n",
        "        * `months_registered` as the ratio of total charges to monthly charges, representing how long users were registered\n",
        "        * `month` and `year` as features that might show seasonality in regards to churning\n",
        "    * converted all Yes/No categorical features to 0/1 int types\n",
        "    * converted `multiple lines` to a 0/1/2 value `num_lines` representing how many phone lines the user has\n",
        "    * dropped unneeded columns (`customer_id`, `end_date`, `multiple_lines` and `begin_date`)\n",
        "    * performed dummy encoding / OHE for the `gender`, `type`, `payment_method` and `internet_service` features\n",
        "    * divided the data 4:1 between train/validation and test sets\n",
        "    * prepared a pre-processing step for the modeling pipelines that scales all numerical features using StandardScaler() and produced synthetic observation to the minority positive class using SMOTE().\n",
        "\n",
        "* **Modeling and hyperparameter tuning**:\n",
        "    * created a helper function to perform the repetitive parts of hyperparameter tuning\n",
        "    * tuned parameters for 3 different functions using randomsearch cross validation via 5 StratifiedKfold folds:\n",
        "        * LogisticRegression: tuned the solver, penalty and  Inverse of regularization strength parameter.\n",
        "        * RandomForestClassifier: tuned the max_features and n_estimators parameters\n",
        "        * LGBMClassifier: tuned the boosting_type, learning_rate and n_estimators parameters\n",
        "    * the LGBMClassifier model had the highest score with 0.96 maximum AUC-ROC score.\n",
        "\n",
        "* **Testing the models**:\n",
        "    * used the above optimal parameters train the models on the full training set\n",
        "    * as a sanity check, added a DummyClassifier() that always predicts the most common class\n",
        "    * noticed that in terms of learning and prediction time, RF > LGBM > LR, but all models took less than 1 second\n",
        "    * achieved AUC-ROC scores of 0.99 for the LGBM model, with the next best model being RF and last LR\n",
        "    * achieved accuracy scores of \\~0.87 for RF, \\~0.94 for LR and \\~0.96 for LGBM"
      ],
      "metadata": {
        "id": "l61kjP2m5-75"
      },
      "id": "l61kjP2m5-75"
    }
  ],
  "metadata": {
    "kernelspec": {
      "display_name": "Python 3 (ipykernel)",
      "language": "python",
      "name": "python3"
    },
    "language_info": {
      "codemirror_mode": {
        "name": "ipython",
        "version": 3
      },
      "file_extension": ".py",
      "mimetype": "text/x-python",
      "name": "python",
      "nbconvert_exporter": "python",
      "pygments_lexer": "ipython3",
      "version": "3.11.0"
    },
    "toc": {
      "base_numbering": 1,
      "nav_menu": {},
      "number_sections": true,
      "sideBar": true,
      "skip_h1_title": false,
      "title_cell": "Table of Contents",
      "title_sidebar": "Contents",
      "toc_cell": false,
      "toc_position": {
        "height": "calc(100% - 180px)",
        "left": "10px",
        "top": "150px",
        "width": "384px"
      },
      "toc_section_display": true,
      "toc_window_display": false
    },
    "colab": {
      "provenance": [],
      "collapsed_sections": [
        "caca5fcb"
      ],
      "toc_visible": true
    }
  },
  "nbformat": 4,
  "nbformat_minor": 5
}