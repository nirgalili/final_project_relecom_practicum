{
  "cells": [
    {
      "cell_type": "markdown",
      "id": "c2fd689e",
      "metadata": {
        "id": "c2fd689e"
      },
      "source": [
        "# Download and look into the data"
      ]
    },
    {
      "cell_type": "markdown",
      "id": "6a60a911",
      "metadata": {
        "id": "6a60a911"
      },
      "source": [
        "## Project description"
      ]
    },
    {
      "cell_type": "markdown",
      "id": "0eff0acb",
      "metadata": {
        "id": "0eff0acb"
      },
      "source": [
        "The telecom operator Interconnect would like to be able to forecast their churn of clients. If it's discovered that a user is planning to leave, they will be offered promotional codes and special plan options. Interconnect's marketing team has collected some of their clientele's personal data, including information about their plans and contracts.\n",
        "\n",
        "**Interconnect's services**\n",
        "\n",
        "Interconnect mainly provides two types of services:\n",
        "\n",
        "1. Landline communication. The telephone can be connected to several lines simultaneously.\n",
        "2. Internet. The network can be set up via a telephone line (DSL, *digital subscriber line*) or through a fiber optic cable.\n",
        "\n",
        "Some other services the company provides include:\n",
        "\n",
        "- Internet security: antivirus software (*DeviceProtection*) and a malicious website blocker (*OnlineSecurity*)\n",
        "- A dedicated technical support line (*TechSupport*)\n",
        "- Cloud file storage and data backup (*OnlineBackup*)\n",
        "- TV streaming (*StreamingTV*) and a movie directory (*StreamingMovies*)\n",
        "\n",
        "The clients can choose either a monthly payment or sign a 1- or 2-year contract. They can use various payment methods and receive an electronic invoice after a transaction."
      ]
    },
    {
      "cell_type": "markdown",
      "id": "e70afd60",
      "metadata": {
        "id": "e70afd60"
      },
      "source": [
        "### Import needed libraries"
      ]
    },
    {
      "cell_type": "code",
      "execution_count": 92,
      "id": "45365e90",
      "metadata": {
        "colab": {
          "base_uri": "https://localhost:8080/",
          "height": 0
        },
        "id": "45365e90",
        "outputId": "675d28b4-aa6e-4ede-f30b-ec25d98bedcf"
      },
      "outputs": [
        {
          "output_type": "stream",
          "name": "stdout",
          "text": [
            "Looking in indexes: https://pypi.org/simple, https://us-python.pkg.dev/colab-wheels/public/simple/\n",
            "Requirement already satisfied: statsmodels in /usr/local/lib/python3.7/dist-packages (0.12.2)\n",
            "Requirement already satisfied: numpy>=1.15 in /usr/local/lib/python3.7/dist-packages (from statsmodels) (1.21.6)\n",
            "Requirement already satisfied: scipy>=1.1 in /usr/local/lib/python3.7/dist-packages (from statsmodels) (1.7.3)\n",
            "Requirement already satisfied: pandas>=0.21 in /usr/local/lib/python3.7/dist-packages (from statsmodels) (1.3.5)\n",
            "Requirement already satisfied: patsy>=0.5 in /usr/local/lib/python3.7/dist-packages (from statsmodels) (0.5.3)\n",
            "Requirement already satisfied: pytz>=2017.3 in /usr/local/lib/python3.7/dist-packages (from pandas>=0.21->statsmodels) (2022.6)\n",
            "Requirement already satisfied: python-dateutil>=2.7.3 in /usr/local/lib/python3.7/dist-packages (from pandas>=0.21->statsmodels) (2.8.2)\n",
            "Requirement already satisfied: six in /usr/local/lib/python3.7/dist-packages (from patsy>=0.5->statsmodels) (1.15.0)\n",
            "Looking in indexes: https://pypi.org/simple, https://us-python.pkg.dev/colab-wheels/public/simple/\n",
            "Requirement already satisfied: catboost in /usr/local/lib/python3.7/dist-packages (1.1.1)\n",
            "Requirement already satisfied: numpy>=1.16.0 in /usr/local/lib/python3.7/dist-packages (from catboost) (1.21.6)\n",
            "Requirement already satisfied: scipy in /usr/local/lib/python3.7/dist-packages (from catboost) (1.7.3)\n",
            "Requirement already satisfied: plotly in /usr/local/lib/python3.7/dist-packages (from catboost) (5.5.0)\n",
            "Requirement already satisfied: matplotlib in /usr/local/lib/python3.7/dist-packages (from catboost) (3.2.2)\n",
            "Requirement already satisfied: six in /usr/local/lib/python3.7/dist-packages (from catboost) (1.15.0)\n",
            "Requirement already satisfied: graphviz in /usr/local/lib/python3.7/dist-packages (from catboost) (0.10.1)\n",
            "Requirement already satisfied: pandas>=0.24.0 in /usr/local/lib/python3.7/dist-packages (from catboost) (1.3.5)\n",
            "Requirement already satisfied: pytz>=2017.3 in /usr/local/lib/python3.7/dist-packages (from pandas>=0.24.0->catboost) (2022.6)\n",
            "Requirement already satisfied: python-dateutil>=2.7.3 in /usr/local/lib/python3.7/dist-packages (from pandas>=0.24.0->catboost) (2.8.2)\n",
            "Requirement already satisfied: kiwisolver>=1.0.1 in /usr/local/lib/python3.7/dist-packages (from matplotlib->catboost) (1.4.4)\n",
            "Requirement already satisfied: cycler>=0.10 in /usr/local/lib/python3.7/dist-packages (from matplotlib->catboost) (0.11.0)\n",
            "Requirement already satisfied: pyparsing!=2.0.4,!=2.1.2,!=2.1.6,>=2.0.1 in /usr/local/lib/python3.7/dist-packages (from matplotlib->catboost) (3.0.9)\n",
            "Requirement already satisfied: typing-extensions in /usr/local/lib/python3.7/dist-packages (from kiwisolver>=1.0.1->matplotlib->catboost) (4.1.1)\n",
            "Requirement already satisfied: tenacity>=6.2.0 in /usr/local/lib/python3.7/dist-packages (from plotly->catboost) (8.1.0)\n",
            "Looking in indexes: https://pypi.org/simple, https://us-python.pkg.dev/colab-wheels/public/simple/\n",
            "Requirement already satisfied: lightgbm in /usr/local/lib/python3.7/dist-packages (2.2.3)\n",
            "Requirement already satisfied: scikit-learn in /usr/local/lib/python3.7/dist-packages (from lightgbm) (1.0.2)\n",
            "Requirement already satisfied: numpy in /usr/local/lib/python3.7/dist-packages (from lightgbm) (1.21.6)\n",
            "Requirement already satisfied: scipy in /usr/local/lib/python3.7/dist-packages (from lightgbm) (1.7.3)\n",
            "Requirement already satisfied: threadpoolctl>=2.0.0 in /usr/local/lib/python3.7/dist-packages (from scikit-learn->lightgbm) (3.1.0)\n",
            "Requirement already satisfied: joblib>=0.11 in /usr/local/lib/python3.7/dist-packages (from scikit-learn->lightgbm) (1.2.0)\n",
            "Project libraries has been successfully been imported!\n"
          ]
        }
      ],
      "source": [
        "# Data tools\n",
        "import pandas as pd\n",
        "import numpy as np\n",
        "#from pandas_profiling import ProfileReport\n",
        "\n",
        "# others\n",
        "import time\n",
        "from functools import reduce\n",
        "!pip install statsmodels\n",
        "from statsmodels.tsa.seasonal import seasonal_decompose\n",
        "from copy import deepcopy\n",
        "\n",
        "# Graphics and display\n",
        "from IPython.core.interactiveshell import InteractiveShell\n",
        "import plotly.express as px\n",
        "import seaborn as sns\n",
        "import matplotlib.pyplot as plt\n",
        "from matplotlib import pyplot\n",
        "\n",
        "%matplotlib inline\n",
        "\n",
        "# Ml\n",
        "from sklearn.model_selection import train_test_split, cross_val_score\n",
        "from sklearn.preprocessing import OneHotEncoder, StandardScaler\n",
        "from sklearn.utils import shuffle\n",
        "from sklearn.ensemble import RandomForestClassifier\n",
        "from sklearn.compose import make_column_transformer\n",
        "import sklearn.metrics\n",
        "from sklearn.tree import DecisionTreeClassifier\n",
        "from sklearn.model_selection import RandomizedSearchCV, StratifiedKFold, GridSearchCV\n",
        "from sklearn.linear_model import LogisticRegression\n",
        "!pip install catboost\n",
        "from catboost import CatBoostClassifier\n",
        "from sklearn.dummy import DummyClassifier\n",
        "from sklearn.metrics import confusion_matrix, ConfusionMatrixDisplay, f1_score, \\\n",
        "roc_auc_score, recall_score, precision_score, accuracy_score\n",
        "from imblearn.pipeline import Pipeline, make_pipeline\n",
        "from imblearn.over_sampling import SMOTE\n",
        "! pip install lightgbm\n",
        "from lightgbm import LGBMClassifier\n",
        "from sklearn.ensemble import VotingClassifier\n",
        "\n",
        "# Statistics\n",
        "from scipy.stats import randint\n",
        "\n",
        "print('Project libraries has been successfully been imported!')"
      ]
    },
    {
      "cell_type": "markdown",
      "id": "4fad6ebd",
      "metadata": {
        "id": "4fad6ebd"
      },
      "source": [
        "1.0.3  Set environment variables"
      ]
    },
    {
      "cell_type": "code",
      "execution_count": 2,
      "id": "46a8efd4",
      "metadata": {
        "id": "46a8efd4"
      },
      "outputs": [],
      "source": [
        "# set to display all output not only print() or last output\n",
        "InteractiveShell.ast_node_interactivity = \"all\"\n",
        "\n",
        "# set display all columns when showing dataframes\n",
        "pd.options.display.max_columns = None    "
      ]
    },
    {
      "cell_type": "markdown",
      "id": "c37a66f2",
      "metadata": {
        "id": "c37a66f2"
      },
      "source": [
        "1.1  Open the file and look into the data."
      ]
    },
    {
      "cell_type": "code",
      "source": [
        "# mount google drive\n",
        "\n",
        "from google.colab import drive\n",
        "drive.mount('/content/drive')"
      ],
      "metadata": {
        "colab": {
          "base_uri": "https://localhost:8080/",
          "height": 0
        },
        "id": "CTBrVkOoSP0B",
        "outputId": "1b57b47e-7dcd-4d1b-c71b-6371673868c2"
      },
      "id": "CTBrVkOoSP0B",
      "execution_count": 3,
      "outputs": [
        {
          "output_type": "stream",
          "name": "stdout",
          "text": [
            "Mounted at /content/drive\n"
          ]
        }
      ]
    },
    {
      "cell_type": "code",
      "source": [
        "import glob\n",
        "\n",
        "for name in glob.glob(r'/content/drive/MyDrive/churn_gm/*'):\n",
        "    print(name)"
      ],
      "metadata": {
        "colab": {
          "base_uri": "https://localhost:8080/",
          "height": 0
        },
        "id": "MbyCwg_KSP3D",
        "outputId": "7a90481b-3565-4b64-dc8e-f5b4724aa7f0"
      },
      "id": "MbyCwg_KSP3D",
      "execution_count": 4,
      "outputs": [
        {
          "output_type": "stream",
          "name": "stdout",
          "text": [
            "/content/drive/MyDrive/churn_gm/phone.csv\n",
            "/content/drive/MyDrive/churn_gm/contract.csv\n",
            "/content/drive/MyDrive/churn_gm/internet.csv\n",
            "/content/drive/MyDrive/churn_gm/personal.csv\n",
            "/content/drive/MyDrive/churn_gm/telecom_project_main_for_randomizedcv.ipynb\n",
            "/content/drive/MyDrive/churn_gm/practicum100-telecom-churn-prediction.ipynb\n",
            "/content/drive/MyDrive/churn_gm/Copy of telecom_project_main.ipynb\n",
            "/content/drive/MyDrive/churn_gm/backup_22.11.22_telecom_project_main_v1.ipynb\n",
            "/content/drive/MyDrive/churn_gm/backup_telecom_project_main_v1.ipynb\n",
            "/content/drive/MyDrive/churn_gm/telecom_project_main_v1.ipynb\n",
            "/content/drive/MyDrive/churn_gm/telecom_project_main_v2.ipynb\n"
          ]
        }
      ]
    },
    {
      "cell_type": "code",
      "execution_count": 5,
      "id": "879d071d",
      "metadata": {
        "colab": {
          "base_uri": "https://localhost:8080/",
          "height": 0
        },
        "id": "879d071d",
        "outputId": "3bf19ca6-4085-4592-d64c-60ea98fe3dfd"
      },
      "outputs": [
        {
          "output_type": "stream",
          "name": "stdout",
          "text": [
            "Data has been read correctly!\n"
          ]
        }
      ],
      "source": [
        "try:\n",
        "    contract = pd.read_csv('contract.csv')\n",
        "    internet = pd.read_csv('internet.csv')\n",
        "    personal = pd.read_csv('personal.csv')\n",
        "    phone = pd.read_csv('phone.csv')\n",
        "    \n",
        "except:\n",
        "    contract = pd.read_csv('/content/drive/MyDrive/churn_gm/contract.csv')\n",
        "    internet = pd.read_csv('/content/drive/MyDrive/churn_gm/internet.csv')\n",
        "    personal = pd.read_csv('/content/drive/MyDrive/churn_gm/personal.csv')\n",
        "    phone = pd.read_csv('/content/drive/MyDrive/churn_gm/phone.csv')\n",
        "\n",
        "\n",
        "contract.name = 'contract'\n",
        "internet.name = 'internet'\n",
        "personal.name = 'personal'\n",
        "phone.name = 'phone'\n",
        "\n",
        "    \n",
        "print('Data has been read correctly!')"
      ]
    },
    {
      "cell_type": "markdown",
      "source": [
        "### Looking at the data"
      ],
      "metadata": {
        "id": "zzMcEjNhXZe_"
      },
      "id": "zzMcEjNhXZe_"
    },
    {
      "cell_type": "code",
      "source": [
        "# display basic information about each of the dataframes we use\n",
        "for df in [contract, internet, personal, phone]:\n",
        "    df.name\n",
        "    df.info()\n",
        "    df.sample(2)\n",
        "    print()\n",
        "    print('@@@@@@@@@@@@@@@@@@@@@@@@@@@@@@@@@@@@@@@@@@@@@@@@@@@@@@@@@@@@@@@@@@@@@@@@@@@@@@@@@@@@@@')\n",
        "    print()"
      ],
      "metadata": {
        "colab": {
          "base_uri": "https://localhost:8080/",
          "height": 1495
        },
        "id": "1B_Tya27T2ap",
        "outputId": "aea6d4ff-007a-4451-ff27-07324c28bfbd"
      },
      "id": "1B_Tya27T2ap",
      "execution_count": 6,
      "outputs": [
        {
          "output_type": "execute_result",
          "data": {
            "text/plain": [
              "'contract'"
            ],
            "application/vnd.google.colaboratory.intrinsic+json": {
              "type": "string"
            }
          },
          "metadata": {},
          "execution_count": 6
        },
        {
          "output_type": "stream",
          "name": "stdout",
          "text": [
            "<class 'pandas.core.frame.DataFrame'>\n",
            "RangeIndex: 7043 entries, 0 to 7042\n",
            "Data columns (total 8 columns):\n",
            " #   Column            Non-Null Count  Dtype  \n",
            "---  ------            --------------  -----  \n",
            " 0   customerID        7043 non-null   object \n",
            " 1   BeginDate         7043 non-null   object \n",
            " 2   EndDate           7043 non-null   object \n",
            " 3   Type              7043 non-null   object \n",
            " 4   PaperlessBilling  7043 non-null   object \n",
            " 5   PaymentMethod     7043 non-null   object \n",
            " 6   MonthlyCharges    7043 non-null   float64\n",
            " 7   TotalCharges      7043 non-null   object \n",
            "dtypes: float64(1), object(7)\n",
            "memory usage: 440.3+ KB\n"
          ]
        },
        {
          "output_type": "execute_result",
          "data": {
            "text/plain": [
              "      customerID   BeginDate EndDate            Type PaperlessBilling  \\\n",
              "3794  4280-DLSHD  2019-06-01      No  Month-to-month              Yes   \n",
              "2823  4884-LEVMQ  2016-11-01      No        Two year              Yes   \n",
              "\n",
              "                  PaymentMethod  MonthlyCharges TotalCharges  \n",
              "3794               Mailed check           54.75       445.85  \n",
              "2823  Bank transfer (automatic)           20.45          790  "
            ],
            "text/html": [
              "\n",
              "  <div id=\"df-047948f8-dcd7-4fd6-9008-3b32803c7057\">\n",
              "    <div class=\"colab-df-container\">\n",
              "      <div>\n",
              "<style scoped>\n",
              "    .dataframe tbody tr th:only-of-type {\n",
              "        vertical-align: middle;\n",
              "    }\n",
              "\n",
              "    .dataframe tbody tr th {\n",
              "        vertical-align: top;\n",
              "    }\n",
              "\n",
              "    .dataframe thead th {\n",
              "        text-align: right;\n",
              "    }\n",
              "</style>\n",
              "<table border=\"1\" class=\"dataframe\">\n",
              "  <thead>\n",
              "    <tr style=\"text-align: right;\">\n",
              "      <th></th>\n",
              "      <th>customerID</th>\n",
              "      <th>BeginDate</th>\n",
              "      <th>EndDate</th>\n",
              "      <th>Type</th>\n",
              "      <th>PaperlessBilling</th>\n",
              "      <th>PaymentMethod</th>\n",
              "      <th>MonthlyCharges</th>\n",
              "      <th>TotalCharges</th>\n",
              "    </tr>\n",
              "  </thead>\n",
              "  <tbody>\n",
              "    <tr>\n",
              "      <th>3794</th>\n",
              "      <td>4280-DLSHD</td>\n",
              "      <td>2019-06-01</td>\n",
              "      <td>No</td>\n",
              "      <td>Month-to-month</td>\n",
              "      <td>Yes</td>\n",
              "      <td>Mailed check</td>\n",
              "      <td>54.75</td>\n",
              "      <td>445.85</td>\n",
              "    </tr>\n",
              "    <tr>\n",
              "      <th>2823</th>\n",
              "      <td>4884-LEVMQ</td>\n",
              "      <td>2016-11-01</td>\n",
              "      <td>No</td>\n",
              "      <td>Two year</td>\n",
              "      <td>Yes</td>\n",
              "      <td>Bank transfer (automatic)</td>\n",
              "      <td>20.45</td>\n",
              "      <td>790</td>\n",
              "    </tr>\n",
              "  </tbody>\n",
              "</table>\n",
              "</div>\n",
              "      <button class=\"colab-df-convert\" onclick=\"convertToInteractive('df-047948f8-dcd7-4fd6-9008-3b32803c7057')\"\n",
              "              title=\"Convert this dataframe to an interactive table.\"\n",
              "              style=\"display:none;\">\n",
              "        \n",
              "  <svg xmlns=\"http://www.w3.org/2000/svg\" height=\"24px\"viewBox=\"0 0 24 24\"\n",
              "       width=\"24px\">\n",
              "    <path d=\"M0 0h24v24H0V0z\" fill=\"none\"/>\n",
              "    <path d=\"M18.56 5.44l.94 2.06.94-2.06 2.06-.94-2.06-.94-.94-2.06-.94 2.06-2.06.94zm-11 1L8.5 8.5l.94-2.06 2.06-.94-2.06-.94L8.5 2.5l-.94 2.06-2.06.94zm10 10l.94 2.06.94-2.06 2.06-.94-2.06-.94-.94-2.06-.94 2.06-2.06.94z\"/><path d=\"M17.41 7.96l-1.37-1.37c-.4-.4-.92-.59-1.43-.59-.52 0-1.04.2-1.43.59L10.3 9.45l-7.72 7.72c-.78.78-.78 2.05 0 2.83L4 21.41c.39.39.9.59 1.41.59.51 0 1.02-.2 1.41-.59l7.78-7.78 2.81-2.81c.8-.78.8-2.07 0-2.86zM5.41 20L4 18.59l7.72-7.72 1.47 1.35L5.41 20z\"/>\n",
              "  </svg>\n",
              "      </button>\n",
              "      \n",
              "  <style>\n",
              "    .colab-df-container {\n",
              "      display:flex;\n",
              "      flex-wrap:wrap;\n",
              "      gap: 12px;\n",
              "    }\n",
              "\n",
              "    .colab-df-convert {\n",
              "      background-color: #E8F0FE;\n",
              "      border: none;\n",
              "      border-radius: 50%;\n",
              "      cursor: pointer;\n",
              "      display: none;\n",
              "      fill: #1967D2;\n",
              "      height: 32px;\n",
              "      padding: 0 0 0 0;\n",
              "      width: 32px;\n",
              "    }\n",
              "\n",
              "    .colab-df-convert:hover {\n",
              "      background-color: #E2EBFA;\n",
              "      box-shadow: 0px 1px 2px rgba(60, 64, 67, 0.3), 0px 1px 3px 1px rgba(60, 64, 67, 0.15);\n",
              "      fill: #174EA6;\n",
              "    }\n",
              "\n",
              "    [theme=dark] .colab-df-convert {\n",
              "      background-color: #3B4455;\n",
              "      fill: #D2E3FC;\n",
              "    }\n",
              "\n",
              "    [theme=dark] .colab-df-convert:hover {\n",
              "      background-color: #434B5C;\n",
              "      box-shadow: 0px 1px 3px 1px rgba(0, 0, 0, 0.15);\n",
              "      filter: drop-shadow(0px 1px 2px rgba(0, 0, 0, 0.3));\n",
              "      fill: #FFFFFF;\n",
              "    }\n",
              "  </style>\n",
              "\n",
              "      <script>\n",
              "        const buttonEl =\n",
              "          document.querySelector('#df-047948f8-dcd7-4fd6-9008-3b32803c7057 button.colab-df-convert');\n",
              "        buttonEl.style.display =\n",
              "          google.colab.kernel.accessAllowed ? 'block' : 'none';\n",
              "\n",
              "        async function convertToInteractive(key) {\n",
              "          const element = document.querySelector('#df-047948f8-dcd7-4fd6-9008-3b32803c7057');\n",
              "          const dataTable =\n",
              "            await google.colab.kernel.invokeFunction('convertToInteractive',\n",
              "                                                     [key], {});\n",
              "          if (!dataTable) return;\n",
              "\n",
              "          const docLinkHtml = 'Like what you see? Visit the ' +\n",
              "            '<a target=\"_blank\" href=https://colab.research.google.com/notebooks/data_table.ipynb>data table notebook</a>'\n",
              "            + ' to learn more about interactive tables.';\n",
              "          element.innerHTML = '';\n",
              "          dataTable['output_type'] = 'display_data';\n",
              "          await google.colab.output.renderOutput(dataTable, element);\n",
              "          const docLink = document.createElement('div');\n",
              "          docLink.innerHTML = docLinkHtml;\n",
              "          element.appendChild(docLink);\n",
              "        }\n",
              "      </script>\n",
              "    </div>\n",
              "  </div>\n",
              "  "
            ]
          },
          "metadata": {},
          "execution_count": 6
        },
        {
          "output_type": "stream",
          "name": "stdout",
          "text": [
            "\n",
            "@@@@@@@@@@@@@@@@@@@@@@@@@@@@@@@@@@@@@@@@@@@@@@@@@@@@@@@@@@@@@@@@@@@@@@@@@@@@@@@@@@@@@@\n",
            "\n"
          ]
        },
        {
          "output_type": "execute_result",
          "data": {
            "text/plain": [
              "'internet'"
            ],
            "application/vnd.google.colaboratory.intrinsic+json": {
              "type": "string"
            }
          },
          "metadata": {},
          "execution_count": 6
        },
        {
          "output_type": "stream",
          "name": "stdout",
          "text": [
            "<class 'pandas.core.frame.DataFrame'>\n",
            "RangeIndex: 5517 entries, 0 to 5516\n",
            "Data columns (total 8 columns):\n",
            " #   Column            Non-Null Count  Dtype \n",
            "---  ------            --------------  ----- \n",
            " 0   customerID        5517 non-null   object\n",
            " 1   InternetService   5517 non-null   object\n",
            " 2   OnlineSecurity    5517 non-null   object\n",
            " 3   OnlineBackup      5517 non-null   object\n",
            " 4   DeviceProtection  5517 non-null   object\n",
            " 5   TechSupport       5517 non-null   object\n",
            " 6   StreamingTV       5517 non-null   object\n",
            " 7   StreamingMovies   5517 non-null   object\n",
            "dtypes: object(8)\n",
            "memory usage: 344.9+ KB\n"
          ]
        },
        {
          "output_type": "execute_result",
          "data": {
            "text/plain": [
              "      customerID InternetService OnlineSecurity OnlineBackup DeviceProtection  \\\n",
              "1796  6140-QNRQQ     Fiber optic             No           No               No   \n",
              "1836  4238-JSSWH     Fiber optic             No           No              Yes   \n",
              "\n",
              "     TechSupport StreamingTV StreamingMovies  \n",
              "1796          No          No              No  \n",
              "1836          No         Yes             Yes  "
            ],
            "text/html": [
              "\n",
              "  <div id=\"df-ce537073-7f78-4c04-9862-3d9edb13a065\">\n",
              "    <div class=\"colab-df-container\">\n",
              "      <div>\n",
              "<style scoped>\n",
              "    .dataframe tbody tr th:only-of-type {\n",
              "        vertical-align: middle;\n",
              "    }\n",
              "\n",
              "    .dataframe tbody tr th {\n",
              "        vertical-align: top;\n",
              "    }\n",
              "\n",
              "    .dataframe thead th {\n",
              "        text-align: right;\n",
              "    }\n",
              "</style>\n",
              "<table border=\"1\" class=\"dataframe\">\n",
              "  <thead>\n",
              "    <tr style=\"text-align: right;\">\n",
              "      <th></th>\n",
              "      <th>customerID</th>\n",
              "      <th>InternetService</th>\n",
              "      <th>OnlineSecurity</th>\n",
              "      <th>OnlineBackup</th>\n",
              "      <th>DeviceProtection</th>\n",
              "      <th>TechSupport</th>\n",
              "      <th>StreamingTV</th>\n",
              "      <th>StreamingMovies</th>\n",
              "    </tr>\n",
              "  </thead>\n",
              "  <tbody>\n",
              "    <tr>\n",
              "      <th>1796</th>\n",
              "      <td>6140-QNRQQ</td>\n",
              "      <td>Fiber optic</td>\n",
              "      <td>No</td>\n",
              "      <td>No</td>\n",
              "      <td>No</td>\n",
              "      <td>No</td>\n",
              "      <td>No</td>\n",
              "      <td>No</td>\n",
              "    </tr>\n",
              "    <tr>\n",
              "      <th>1836</th>\n",
              "      <td>4238-JSSWH</td>\n",
              "      <td>Fiber optic</td>\n",
              "      <td>No</td>\n",
              "      <td>No</td>\n",
              "      <td>Yes</td>\n",
              "      <td>No</td>\n",
              "      <td>Yes</td>\n",
              "      <td>Yes</td>\n",
              "    </tr>\n",
              "  </tbody>\n",
              "</table>\n",
              "</div>\n",
              "      <button class=\"colab-df-convert\" onclick=\"convertToInteractive('df-ce537073-7f78-4c04-9862-3d9edb13a065')\"\n",
              "              title=\"Convert this dataframe to an interactive table.\"\n",
              "              style=\"display:none;\">\n",
              "        \n",
              "  <svg xmlns=\"http://www.w3.org/2000/svg\" height=\"24px\"viewBox=\"0 0 24 24\"\n",
              "       width=\"24px\">\n",
              "    <path d=\"M0 0h24v24H0V0z\" fill=\"none\"/>\n",
              "    <path d=\"M18.56 5.44l.94 2.06.94-2.06 2.06-.94-2.06-.94-.94-2.06-.94 2.06-2.06.94zm-11 1L8.5 8.5l.94-2.06 2.06-.94-2.06-.94L8.5 2.5l-.94 2.06-2.06.94zm10 10l.94 2.06.94-2.06 2.06-.94-2.06-.94-.94-2.06-.94 2.06-2.06.94z\"/><path d=\"M17.41 7.96l-1.37-1.37c-.4-.4-.92-.59-1.43-.59-.52 0-1.04.2-1.43.59L10.3 9.45l-7.72 7.72c-.78.78-.78 2.05 0 2.83L4 21.41c.39.39.9.59 1.41.59.51 0 1.02-.2 1.41-.59l7.78-7.78 2.81-2.81c.8-.78.8-2.07 0-2.86zM5.41 20L4 18.59l7.72-7.72 1.47 1.35L5.41 20z\"/>\n",
              "  </svg>\n",
              "      </button>\n",
              "      \n",
              "  <style>\n",
              "    .colab-df-container {\n",
              "      display:flex;\n",
              "      flex-wrap:wrap;\n",
              "      gap: 12px;\n",
              "    }\n",
              "\n",
              "    .colab-df-convert {\n",
              "      background-color: #E8F0FE;\n",
              "      border: none;\n",
              "      border-radius: 50%;\n",
              "      cursor: pointer;\n",
              "      display: none;\n",
              "      fill: #1967D2;\n",
              "      height: 32px;\n",
              "      padding: 0 0 0 0;\n",
              "      width: 32px;\n",
              "    }\n",
              "\n",
              "    .colab-df-convert:hover {\n",
              "      background-color: #E2EBFA;\n",
              "      box-shadow: 0px 1px 2px rgba(60, 64, 67, 0.3), 0px 1px 3px 1px rgba(60, 64, 67, 0.15);\n",
              "      fill: #174EA6;\n",
              "    }\n",
              "\n",
              "    [theme=dark] .colab-df-convert {\n",
              "      background-color: #3B4455;\n",
              "      fill: #D2E3FC;\n",
              "    }\n",
              "\n",
              "    [theme=dark] .colab-df-convert:hover {\n",
              "      background-color: #434B5C;\n",
              "      box-shadow: 0px 1px 3px 1px rgba(0, 0, 0, 0.15);\n",
              "      filter: drop-shadow(0px 1px 2px rgba(0, 0, 0, 0.3));\n",
              "      fill: #FFFFFF;\n",
              "    }\n",
              "  </style>\n",
              "\n",
              "      <script>\n",
              "        const buttonEl =\n",
              "          document.querySelector('#df-ce537073-7f78-4c04-9862-3d9edb13a065 button.colab-df-convert');\n",
              "        buttonEl.style.display =\n",
              "          google.colab.kernel.accessAllowed ? 'block' : 'none';\n",
              "\n",
              "        async function convertToInteractive(key) {\n",
              "          const element = document.querySelector('#df-ce537073-7f78-4c04-9862-3d9edb13a065');\n",
              "          const dataTable =\n",
              "            await google.colab.kernel.invokeFunction('convertToInteractive',\n",
              "                                                     [key], {});\n",
              "          if (!dataTable) return;\n",
              "\n",
              "          const docLinkHtml = 'Like what you see? Visit the ' +\n",
              "            '<a target=\"_blank\" href=https://colab.research.google.com/notebooks/data_table.ipynb>data table notebook</a>'\n",
              "            + ' to learn more about interactive tables.';\n",
              "          element.innerHTML = '';\n",
              "          dataTable['output_type'] = 'display_data';\n",
              "          await google.colab.output.renderOutput(dataTable, element);\n",
              "          const docLink = document.createElement('div');\n",
              "          docLink.innerHTML = docLinkHtml;\n",
              "          element.appendChild(docLink);\n",
              "        }\n",
              "      </script>\n",
              "    </div>\n",
              "  </div>\n",
              "  "
            ]
          },
          "metadata": {},
          "execution_count": 6
        },
        {
          "output_type": "stream",
          "name": "stdout",
          "text": [
            "\n",
            "@@@@@@@@@@@@@@@@@@@@@@@@@@@@@@@@@@@@@@@@@@@@@@@@@@@@@@@@@@@@@@@@@@@@@@@@@@@@@@@@@@@@@@\n",
            "\n"
          ]
        },
        {
          "output_type": "execute_result",
          "data": {
            "text/plain": [
              "'personal'"
            ],
            "application/vnd.google.colaboratory.intrinsic+json": {
              "type": "string"
            }
          },
          "metadata": {},
          "execution_count": 6
        },
        {
          "output_type": "stream",
          "name": "stdout",
          "text": [
            "<class 'pandas.core.frame.DataFrame'>\n",
            "RangeIndex: 7043 entries, 0 to 7042\n",
            "Data columns (total 5 columns):\n",
            " #   Column         Non-Null Count  Dtype \n",
            "---  ------         --------------  ----- \n",
            " 0   customerID     7043 non-null   object\n",
            " 1   gender         7043 non-null   object\n",
            " 2   SeniorCitizen  7043 non-null   int64 \n",
            " 3   Partner        7043 non-null   object\n",
            " 4   Dependents     7043 non-null   object\n",
            "dtypes: int64(1), object(4)\n",
            "memory usage: 275.2+ KB\n"
          ]
        },
        {
          "output_type": "execute_result",
          "data": {
            "text/plain": [
              "      customerID  gender  SeniorCitizen Partner Dependents\n",
              "4792  7067-KSAZT  Female              1     Yes         No\n",
              "979   6461-PPAXN  Female              0     Yes        Yes"
            ],
            "text/html": [
              "\n",
              "  <div id=\"df-9223cfb3-cc9d-457b-9ca7-01865dad308a\">\n",
              "    <div class=\"colab-df-container\">\n",
              "      <div>\n",
              "<style scoped>\n",
              "    .dataframe tbody tr th:only-of-type {\n",
              "        vertical-align: middle;\n",
              "    }\n",
              "\n",
              "    .dataframe tbody tr th {\n",
              "        vertical-align: top;\n",
              "    }\n",
              "\n",
              "    .dataframe thead th {\n",
              "        text-align: right;\n",
              "    }\n",
              "</style>\n",
              "<table border=\"1\" class=\"dataframe\">\n",
              "  <thead>\n",
              "    <tr style=\"text-align: right;\">\n",
              "      <th></th>\n",
              "      <th>customerID</th>\n",
              "      <th>gender</th>\n",
              "      <th>SeniorCitizen</th>\n",
              "      <th>Partner</th>\n",
              "      <th>Dependents</th>\n",
              "    </tr>\n",
              "  </thead>\n",
              "  <tbody>\n",
              "    <tr>\n",
              "      <th>4792</th>\n",
              "      <td>7067-KSAZT</td>\n",
              "      <td>Female</td>\n",
              "      <td>1</td>\n",
              "      <td>Yes</td>\n",
              "      <td>No</td>\n",
              "    </tr>\n",
              "    <tr>\n",
              "      <th>979</th>\n",
              "      <td>6461-PPAXN</td>\n",
              "      <td>Female</td>\n",
              "      <td>0</td>\n",
              "      <td>Yes</td>\n",
              "      <td>Yes</td>\n",
              "    </tr>\n",
              "  </tbody>\n",
              "</table>\n",
              "</div>\n",
              "      <button class=\"colab-df-convert\" onclick=\"convertToInteractive('df-9223cfb3-cc9d-457b-9ca7-01865dad308a')\"\n",
              "              title=\"Convert this dataframe to an interactive table.\"\n",
              "              style=\"display:none;\">\n",
              "        \n",
              "  <svg xmlns=\"http://www.w3.org/2000/svg\" height=\"24px\"viewBox=\"0 0 24 24\"\n",
              "       width=\"24px\">\n",
              "    <path d=\"M0 0h24v24H0V0z\" fill=\"none\"/>\n",
              "    <path d=\"M18.56 5.44l.94 2.06.94-2.06 2.06-.94-2.06-.94-.94-2.06-.94 2.06-2.06.94zm-11 1L8.5 8.5l.94-2.06 2.06-.94-2.06-.94L8.5 2.5l-.94 2.06-2.06.94zm10 10l.94 2.06.94-2.06 2.06-.94-2.06-.94-.94-2.06-.94 2.06-2.06.94z\"/><path d=\"M17.41 7.96l-1.37-1.37c-.4-.4-.92-.59-1.43-.59-.52 0-1.04.2-1.43.59L10.3 9.45l-7.72 7.72c-.78.78-.78 2.05 0 2.83L4 21.41c.39.39.9.59 1.41.59.51 0 1.02-.2 1.41-.59l7.78-7.78 2.81-2.81c.8-.78.8-2.07 0-2.86zM5.41 20L4 18.59l7.72-7.72 1.47 1.35L5.41 20z\"/>\n",
              "  </svg>\n",
              "      </button>\n",
              "      \n",
              "  <style>\n",
              "    .colab-df-container {\n",
              "      display:flex;\n",
              "      flex-wrap:wrap;\n",
              "      gap: 12px;\n",
              "    }\n",
              "\n",
              "    .colab-df-convert {\n",
              "      background-color: #E8F0FE;\n",
              "      border: none;\n",
              "      border-radius: 50%;\n",
              "      cursor: pointer;\n",
              "      display: none;\n",
              "      fill: #1967D2;\n",
              "      height: 32px;\n",
              "      padding: 0 0 0 0;\n",
              "      width: 32px;\n",
              "    }\n",
              "\n",
              "    .colab-df-convert:hover {\n",
              "      background-color: #E2EBFA;\n",
              "      box-shadow: 0px 1px 2px rgba(60, 64, 67, 0.3), 0px 1px 3px 1px rgba(60, 64, 67, 0.15);\n",
              "      fill: #174EA6;\n",
              "    }\n",
              "\n",
              "    [theme=dark] .colab-df-convert {\n",
              "      background-color: #3B4455;\n",
              "      fill: #D2E3FC;\n",
              "    }\n",
              "\n",
              "    [theme=dark] .colab-df-convert:hover {\n",
              "      background-color: #434B5C;\n",
              "      box-shadow: 0px 1px 3px 1px rgba(0, 0, 0, 0.15);\n",
              "      filter: drop-shadow(0px 1px 2px rgba(0, 0, 0, 0.3));\n",
              "      fill: #FFFFFF;\n",
              "    }\n",
              "  </style>\n",
              "\n",
              "      <script>\n",
              "        const buttonEl =\n",
              "          document.querySelector('#df-9223cfb3-cc9d-457b-9ca7-01865dad308a button.colab-df-convert');\n",
              "        buttonEl.style.display =\n",
              "          google.colab.kernel.accessAllowed ? 'block' : 'none';\n",
              "\n",
              "        async function convertToInteractive(key) {\n",
              "          const element = document.querySelector('#df-9223cfb3-cc9d-457b-9ca7-01865dad308a');\n",
              "          const dataTable =\n",
              "            await google.colab.kernel.invokeFunction('convertToInteractive',\n",
              "                                                     [key], {});\n",
              "          if (!dataTable) return;\n",
              "\n",
              "          const docLinkHtml = 'Like what you see? Visit the ' +\n",
              "            '<a target=\"_blank\" href=https://colab.research.google.com/notebooks/data_table.ipynb>data table notebook</a>'\n",
              "            + ' to learn more about interactive tables.';\n",
              "          element.innerHTML = '';\n",
              "          dataTable['output_type'] = 'display_data';\n",
              "          await google.colab.output.renderOutput(dataTable, element);\n",
              "          const docLink = document.createElement('div');\n",
              "          docLink.innerHTML = docLinkHtml;\n",
              "          element.appendChild(docLink);\n",
              "        }\n",
              "      </script>\n",
              "    </div>\n",
              "  </div>\n",
              "  "
            ]
          },
          "metadata": {},
          "execution_count": 6
        },
        {
          "output_type": "stream",
          "name": "stdout",
          "text": [
            "\n",
            "@@@@@@@@@@@@@@@@@@@@@@@@@@@@@@@@@@@@@@@@@@@@@@@@@@@@@@@@@@@@@@@@@@@@@@@@@@@@@@@@@@@@@@\n",
            "\n"
          ]
        },
        {
          "output_type": "execute_result",
          "data": {
            "text/plain": [
              "'phone'"
            ],
            "application/vnd.google.colaboratory.intrinsic+json": {
              "type": "string"
            }
          },
          "metadata": {},
          "execution_count": 6
        },
        {
          "output_type": "stream",
          "name": "stdout",
          "text": [
            "<class 'pandas.core.frame.DataFrame'>\n",
            "RangeIndex: 6361 entries, 0 to 6360\n",
            "Data columns (total 2 columns):\n",
            " #   Column         Non-Null Count  Dtype \n",
            "---  ------         --------------  ----- \n",
            " 0   customerID     6361 non-null   object\n",
            " 1   MultipleLines  6361 non-null   object\n",
            "dtypes: object(2)\n",
            "memory usage: 99.5+ KB\n"
          ]
        },
        {
          "output_type": "execute_result",
          "data": {
            "text/plain": [
              "      customerID MultipleLines\n",
              "2538  4760-THGOT           Yes\n",
              "1596  4137-JOPHL            No"
            ],
            "text/html": [
              "\n",
              "  <div id=\"df-82ec9000-e5b1-4612-9550-5c8f19617933\">\n",
              "    <div class=\"colab-df-container\">\n",
              "      <div>\n",
              "<style scoped>\n",
              "    .dataframe tbody tr th:only-of-type {\n",
              "        vertical-align: middle;\n",
              "    }\n",
              "\n",
              "    .dataframe tbody tr th {\n",
              "        vertical-align: top;\n",
              "    }\n",
              "\n",
              "    .dataframe thead th {\n",
              "        text-align: right;\n",
              "    }\n",
              "</style>\n",
              "<table border=\"1\" class=\"dataframe\">\n",
              "  <thead>\n",
              "    <tr style=\"text-align: right;\">\n",
              "      <th></th>\n",
              "      <th>customerID</th>\n",
              "      <th>MultipleLines</th>\n",
              "    </tr>\n",
              "  </thead>\n",
              "  <tbody>\n",
              "    <tr>\n",
              "      <th>2538</th>\n",
              "      <td>4760-THGOT</td>\n",
              "      <td>Yes</td>\n",
              "    </tr>\n",
              "    <tr>\n",
              "      <th>1596</th>\n",
              "      <td>4137-JOPHL</td>\n",
              "      <td>No</td>\n",
              "    </tr>\n",
              "  </tbody>\n",
              "</table>\n",
              "</div>\n",
              "      <button class=\"colab-df-convert\" onclick=\"convertToInteractive('df-82ec9000-e5b1-4612-9550-5c8f19617933')\"\n",
              "              title=\"Convert this dataframe to an interactive table.\"\n",
              "              style=\"display:none;\">\n",
              "        \n",
              "  <svg xmlns=\"http://www.w3.org/2000/svg\" height=\"24px\"viewBox=\"0 0 24 24\"\n",
              "       width=\"24px\">\n",
              "    <path d=\"M0 0h24v24H0V0z\" fill=\"none\"/>\n",
              "    <path d=\"M18.56 5.44l.94 2.06.94-2.06 2.06-.94-2.06-.94-.94-2.06-.94 2.06-2.06.94zm-11 1L8.5 8.5l.94-2.06 2.06-.94-2.06-.94L8.5 2.5l-.94 2.06-2.06.94zm10 10l.94 2.06.94-2.06 2.06-.94-2.06-.94-.94-2.06-.94 2.06-2.06.94z\"/><path d=\"M17.41 7.96l-1.37-1.37c-.4-.4-.92-.59-1.43-.59-.52 0-1.04.2-1.43.59L10.3 9.45l-7.72 7.72c-.78.78-.78 2.05 0 2.83L4 21.41c.39.39.9.59 1.41.59.51 0 1.02-.2 1.41-.59l7.78-7.78 2.81-2.81c.8-.78.8-2.07 0-2.86zM5.41 20L4 18.59l7.72-7.72 1.47 1.35L5.41 20z\"/>\n",
              "  </svg>\n",
              "      </button>\n",
              "      \n",
              "  <style>\n",
              "    .colab-df-container {\n",
              "      display:flex;\n",
              "      flex-wrap:wrap;\n",
              "      gap: 12px;\n",
              "    }\n",
              "\n",
              "    .colab-df-convert {\n",
              "      background-color: #E8F0FE;\n",
              "      border: none;\n",
              "      border-radius: 50%;\n",
              "      cursor: pointer;\n",
              "      display: none;\n",
              "      fill: #1967D2;\n",
              "      height: 32px;\n",
              "      padding: 0 0 0 0;\n",
              "      width: 32px;\n",
              "    }\n",
              "\n",
              "    .colab-df-convert:hover {\n",
              "      background-color: #E2EBFA;\n",
              "      box-shadow: 0px 1px 2px rgba(60, 64, 67, 0.3), 0px 1px 3px 1px rgba(60, 64, 67, 0.15);\n",
              "      fill: #174EA6;\n",
              "    }\n",
              "\n",
              "    [theme=dark] .colab-df-convert {\n",
              "      background-color: #3B4455;\n",
              "      fill: #D2E3FC;\n",
              "    }\n",
              "\n",
              "    [theme=dark] .colab-df-convert:hover {\n",
              "      background-color: #434B5C;\n",
              "      box-shadow: 0px 1px 3px 1px rgba(0, 0, 0, 0.15);\n",
              "      filter: drop-shadow(0px 1px 2px rgba(0, 0, 0, 0.3));\n",
              "      fill: #FFFFFF;\n",
              "    }\n",
              "  </style>\n",
              "\n",
              "      <script>\n",
              "        const buttonEl =\n",
              "          document.querySelector('#df-82ec9000-e5b1-4612-9550-5c8f19617933 button.colab-df-convert');\n",
              "        buttonEl.style.display =\n",
              "          google.colab.kernel.accessAllowed ? 'block' : 'none';\n",
              "\n",
              "        async function convertToInteractive(key) {\n",
              "          const element = document.querySelector('#df-82ec9000-e5b1-4612-9550-5c8f19617933');\n",
              "          const dataTable =\n",
              "            await google.colab.kernel.invokeFunction('convertToInteractive',\n",
              "                                                     [key], {});\n",
              "          if (!dataTable) return;\n",
              "\n",
              "          const docLinkHtml = 'Like what you see? Visit the ' +\n",
              "            '<a target=\"_blank\" href=https://colab.research.google.com/notebooks/data_table.ipynb>data table notebook</a>'\n",
              "            + ' to learn more about interactive tables.';\n",
              "          element.innerHTML = '';\n",
              "          dataTable['output_type'] = 'display_data';\n",
              "          await google.colab.output.renderOutput(dataTable, element);\n",
              "          const docLink = document.createElement('div');\n",
              "          docLink.innerHTML = docLinkHtml;\n",
              "          element.appendChild(docLink);\n",
              "        }\n",
              "      </script>\n",
              "    </div>\n",
              "  </div>\n",
              "  "
            ]
          },
          "metadata": {},
          "execution_count": 6
        },
        {
          "output_type": "stream",
          "name": "stdout",
          "text": [
            "\n",
            "@@@@@@@@@@@@@@@@@@@@@@@@@@@@@@@@@@@@@@@@@@@@@@@@@@@@@@@@@@@@@@@@@@@@@@@@@@@@@@@@@@@@@@\n",
            "\n"
          ]
        }
      ]
    },
    {
      "cell_type": "code",
      "source": [
        "frac_No_for_ballance = len(contract[contract['EndDate'] == 'No']) / len(contract['EndDate'])\n",
        "print('The \"No\" precent in the EndDate column (target) is: {:.0%}'.format(frac_No_for_ballance))"
      ],
      "metadata": {
        "colab": {
          "base_uri": "https://localhost:8080/",
          "height": 0
        },
        "id": "ixFKi9zxPu_o",
        "outputId": "dbbccb37-d7be-430a-eaa5-52a7d7bb97fd"
      },
      "id": "ixFKi9zxPu_o",
      "execution_count": 7,
      "outputs": [
        {
          "output_type": "stream",
          "name": "stdout",
          "text": [
            "The \"No\" precent in the EndDate column (target) is: 73%\n"
          ]
        }
      ]
    },
    {
      "cell_type": "markdown",
      "id": "e90923a1",
      "metadata": {
        "id": "e90923a1"
      },
      "source": [
        "##  Data describe notes"
      ]
    },
    {
      "cell_type": "markdown",
      "id": "caca5fcb",
      "metadata": {
        "id": "caca5fcb"
      },
      "source": [
        "#### Special function for data describe"
      ]
    },
    {
      "cell_type": "code",
      "execution_count": 8,
      "id": "ba7d3b8e",
      "metadata": {
        "id": "ba7d3b8e"
      },
      "outputs": [],
      "source": [
        "# Checking 0's\n",
        "def zero_check(df):\n",
        "    for i in df:\n",
        "        print(i,len(df[df[i]==0]))\n",
        "        \n",
        "# function to determine if columns in file have null values        \n",
        "def get_percent_of_na(df, num):\n",
        "    count = 0\n",
        "    df = df.copy()\n",
        "    s = (df.isna().sum() / df.shape[0])\n",
        "    for column, percent in zip(s.index, s.values):\n",
        "        num_of_nulls = df[column].isna().sum()\n",
        "        if num_of_nulls == 0:\n",
        "            continue\n",
        "        else:\n",
        "            count += 1\n",
        "        print('{} has {} nulls, which is {:.{}%} percent of Nulls'.format(column, num_of_nulls, percent, num))\n",
        "    if count != 0:\n",
        "        print(\"\\033[1m\" + 'There are {} columns with NA.'.format(count) + \"\\033[0m\")\n",
        "    else:\n",
        "        print()\n",
        "        print(\"\\033[1m\" + 'There are no columns with NA.' + \"\\033[0m\")       \n",
        "        \n",
        "# function to display general information about the dataset\n",
        "def general_info(df):\n",
        "    print(\"\\033[1m\" + \"\\033[0m\")\n",
        "    display(pd.concat([df.dtypes, df.count(),df.isna().sum(),df.isna().sum()*100/len(df)], keys=['type','count','na','na%'],\n",
        "                      axis=1))\n",
        "    print()\n",
        "    print(\"\\033[1m\" + 'Head:')  \n",
        "    display(df.head())\n",
        "    print()\n",
        "    print(\"\\033[1m\" + 'Tail:')\n",
        "    display(df.tail())\n",
        "    print()\n",
        "    print(\"\\033[1m\" + 'Info:')\n",
        "    print()\n",
        "    display(df.info())\n",
        "    print()\n",
        "    print(\"\\033[1m\" + 'Describe:')\n",
        "    print()\n",
        "    display(df.describe())\n",
        "    print()\n",
        "    print(\"\\033[1m\" + 'Describe include: all :')\n",
        "    print()\n",
        "    display(df.describe(include='all'))\n",
        "    print()\n",
        "    print(\"\\033[1m\" + 'nulls in the columns:')\n",
        "    print()\n",
        "    display(get_percent_of_na(df, 4))  # check this out\n",
        "    print()\n",
        "    print(\"\\033[1m\" + 'Zeros in the columns:') \n",
        "    print()\n",
        "    display(zero_check(df))\n",
        "    print()\n",
        "    print(\"\\033[1m\" + 'Shape:', df.shape)\n",
        "    print()\n",
        "    print()\n",
        "    print('Duplicated:',\"\\033[1m\" + 'We have {} duplicated rows\\n'.format(df.duplicated().sum()) + \"\\033[0m\")\n",
        "    print()\n",
        "    print(\"\\033[1m\" + 'Dtypes:')  \n",
        "    display(df.dtypes)\n",
        "    print()"
      ]
    },
    {
      "cell_type": "markdown",
      "id": "5f7f99b0",
      "metadata": {
        "id": "5f7f99b0"
      },
      "source": [
        "# Preprocessing"
      ]
    },
    {
      "cell_type": "markdown",
      "id": "a3830147",
      "metadata": {
        "id": "a3830147"
      },
      "source": [
        "## Merge data bases"
      ]
    },
    {
      "cell_type": "code",
      "execution_count": 9,
      "id": "c328f935",
      "metadata": {
        "id": "c328f935"
      },
      "outputs": [],
      "source": [
        "# merge all dataframes\n",
        "\n",
        "# compile the list of dataframes you want to merge\n",
        "data_frames = [contract, internet, personal, phone]\n",
        "\n",
        "df_merged = reduce(lambda  left,right: pd.merge(left,right,on=['customerID'],\n",
        "                                            how='outer'), data_frames)\n"
      ]
    },
    {
      "cell_type": "code",
      "execution_count": 10,
      "id": "8f65c416",
      "metadata": {
        "colab": {
          "base_uri": "https://localhost:8080/",
          "height": 374
        },
        "id": "8f65c416",
        "outputId": "849fa932-019f-4719-fe24-8665e19d02eb"
      },
      "outputs": [
        {
          "output_type": "execute_result",
          "data": {
            "text/plain": [
              "      customerID   BeginDate              EndDate      Type PaperlessBilling  \\\n",
              "3564  7820-ZYGNY  2014-11-01                   No  One year               No   \n",
              "1168  5562-BETPV  2020-01-01                   No  One year               No   \n",
              "5229  8327-LZKAS  2016-03-01  2019-10-01 00:00:00  One year              Yes   \n",
              "4627  3680-CTHUH  2015-02-01                   No  One year              Yes   \n",
              "3211  4359-INNWN  2018-09-01                   No  One year               No   \n",
              "\n",
              "                PaymentMethod  MonthlyCharges TotalCharges InternetService  \\\n",
              "3564  Credit card (automatic)           90.45       5825.5     Fiber optic   \n",
              "1168             Mailed check           19.65        19.65             NaN   \n",
              "5229         Electronic check          107.55       4533.9     Fiber optic   \n",
              "4627  Credit card (automatic)          116.60       7049.5     Fiber optic   \n",
              "3211  Credit card (automatic)           20.05        337.9             NaN   \n",
              "\n",
              "     OnlineSecurity OnlineBackup DeviceProtection TechSupport StreamingTV  \\\n",
              "3564             No          Yes               No          No          No   \n",
              "1168            NaN          NaN              NaN         NaN         NaN   \n",
              "5229             No           No              Yes         Yes         Yes   \n",
              "4627            Yes          Yes              Yes         Yes         Yes   \n",
              "3211            NaN          NaN              NaN         NaN         NaN   \n",
              "\n",
              "     StreamingMovies  gender  SeniorCitizen Partner Dependents MultipleLines  \n",
              "3564             Yes    Male              0      No         No           Yes  \n",
              "1168             NaN    Male              0     Yes        Yes            No  \n",
              "5229             Yes  Female              1     Yes         No           Yes  \n",
              "4627             Yes    Male              0      No         No           Yes  \n",
              "3211             NaN  Female              0      No         No            No  "
            ],
            "text/html": [
              "\n",
              "  <div id=\"df-e46fbbe9-8762-4b75-ab46-67d39ff252e9\">\n",
              "    <div class=\"colab-df-container\">\n",
              "      <div>\n",
              "<style scoped>\n",
              "    .dataframe tbody tr th:only-of-type {\n",
              "        vertical-align: middle;\n",
              "    }\n",
              "\n",
              "    .dataframe tbody tr th {\n",
              "        vertical-align: top;\n",
              "    }\n",
              "\n",
              "    .dataframe thead th {\n",
              "        text-align: right;\n",
              "    }\n",
              "</style>\n",
              "<table border=\"1\" class=\"dataframe\">\n",
              "  <thead>\n",
              "    <tr style=\"text-align: right;\">\n",
              "      <th></th>\n",
              "      <th>customerID</th>\n",
              "      <th>BeginDate</th>\n",
              "      <th>EndDate</th>\n",
              "      <th>Type</th>\n",
              "      <th>PaperlessBilling</th>\n",
              "      <th>PaymentMethod</th>\n",
              "      <th>MonthlyCharges</th>\n",
              "      <th>TotalCharges</th>\n",
              "      <th>InternetService</th>\n",
              "      <th>OnlineSecurity</th>\n",
              "      <th>OnlineBackup</th>\n",
              "      <th>DeviceProtection</th>\n",
              "      <th>TechSupport</th>\n",
              "      <th>StreamingTV</th>\n",
              "      <th>StreamingMovies</th>\n",
              "      <th>gender</th>\n",
              "      <th>SeniorCitizen</th>\n",
              "      <th>Partner</th>\n",
              "      <th>Dependents</th>\n",
              "      <th>MultipleLines</th>\n",
              "    </tr>\n",
              "  </thead>\n",
              "  <tbody>\n",
              "    <tr>\n",
              "      <th>3564</th>\n",
              "      <td>7820-ZYGNY</td>\n",
              "      <td>2014-11-01</td>\n",
              "      <td>No</td>\n",
              "      <td>One year</td>\n",
              "      <td>No</td>\n",
              "      <td>Credit card (automatic)</td>\n",
              "      <td>90.45</td>\n",
              "      <td>5825.5</td>\n",
              "      <td>Fiber optic</td>\n",
              "      <td>No</td>\n",
              "      <td>Yes</td>\n",
              "      <td>No</td>\n",
              "      <td>No</td>\n",
              "      <td>No</td>\n",
              "      <td>Yes</td>\n",
              "      <td>Male</td>\n",
              "      <td>0</td>\n",
              "      <td>No</td>\n",
              "      <td>No</td>\n",
              "      <td>Yes</td>\n",
              "    </tr>\n",
              "    <tr>\n",
              "      <th>1168</th>\n",
              "      <td>5562-BETPV</td>\n",
              "      <td>2020-01-01</td>\n",
              "      <td>No</td>\n",
              "      <td>One year</td>\n",
              "      <td>No</td>\n",
              "      <td>Mailed check</td>\n",
              "      <td>19.65</td>\n",
              "      <td>19.65</td>\n",
              "      <td>NaN</td>\n",
              "      <td>NaN</td>\n",
              "      <td>NaN</td>\n",
              "      <td>NaN</td>\n",
              "      <td>NaN</td>\n",
              "      <td>NaN</td>\n",
              "      <td>NaN</td>\n",
              "      <td>Male</td>\n",
              "      <td>0</td>\n",
              "      <td>Yes</td>\n",
              "      <td>Yes</td>\n",
              "      <td>No</td>\n",
              "    </tr>\n",
              "    <tr>\n",
              "      <th>5229</th>\n",
              "      <td>8327-LZKAS</td>\n",
              "      <td>2016-03-01</td>\n",
              "      <td>2019-10-01 00:00:00</td>\n",
              "      <td>One year</td>\n",
              "      <td>Yes</td>\n",
              "      <td>Electronic check</td>\n",
              "      <td>107.55</td>\n",
              "      <td>4533.9</td>\n",
              "      <td>Fiber optic</td>\n",
              "      <td>No</td>\n",
              "      <td>No</td>\n",
              "      <td>Yes</td>\n",
              "      <td>Yes</td>\n",
              "      <td>Yes</td>\n",
              "      <td>Yes</td>\n",
              "      <td>Female</td>\n",
              "      <td>1</td>\n",
              "      <td>Yes</td>\n",
              "      <td>No</td>\n",
              "      <td>Yes</td>\n",
              "    </tr>\n",
              "    <tr>\n",
              "      <th>4627</th>\n",
              "      <td>3680-CTHUH</td>\n",
              "      <td>2015-02-01</td>\n",
              "      <td>No</td>\n",
              "      <td>One year</td>\n",
              "      <td>Yes</td>\n",
              "      <td>Credit card (automatic)</td>\n",
              "      <td>116.60</td>\n",
              "      <td>7049.5</td>\n",
              "      <td>Fiber optic</td>\n",
              "      <td>Yes</td>\n",
              "      <td>Yes</td>\n",
              "      <td>Yes</td>\n",
              "      <td>Yes</td>\n",
              "      <td>Yes</td>\n",
              "      <td>Yes</td>\n",
              "      <td>Male</td>\n",
              "      <td>0</td>\n",
              "      <td>No</td>\n",
              "      <td>No</td>\n",
              "      <td>Yes</td>\n",
              "    </tr>\n",
              "    <tr>\n",
              "      <th>3211</th>\n",
              "      <td>4359-INNWN</td>\n",
              "      <td>2018-09-01</td>\n",
              "      <td>No</td>\n",
              "      <td>One year</td>\n",
              "      <td>No</td>\n",
              "      <td>Credit card (automatic)</td>\n",
              "      <td>20.05</td>\n",
              "      <td>337.9</td>\n",
              "      <td>NaN</td>\n",
              "      <td>NaN</td>\n",
              "      <td>NaN</td>\n",
              "      <td>NaN</td>\n",
              "      <td>NaN</td>\n",
              "      <td>NaN</td>\n",
              "      <td>NaN</td>\n",
              "      <td>Female</td>\n",
              "      <td>0</td>\n",
              "      <td>No</td>\n",
              "      <td>No</td>\n",
              "      <td>No</td>\n",
              "    </tr>\n",
              "  </tbody>\n",
              "</table>\n",
              "</div>\n",
              "      <button class=\"colab-df-convert\" onclick=\"convertToInteractive('df-e46fbbe9-8762-4b75-ab46-67d39ff252e9')\"\n",
              "              title=\"Convert this dataframe to an interactive table.\"\n",
              "              style=\"display:none;\">\n",
              "        \n",
              "  <svg xmlns=\"http://www.w3.org/2000/svg\" height=\"24px\"viewBox=\"0 0 24 24\"\n",
              "       width=\"24px\">\n",
              "    <path d=\"M0 0h24v24H0V0z\" fill=\"none\"/>\n",
              "    <path d=\"M18.56 5.44l.94 2.06.94-2.06 2.06-.94-2.06-.94-.94-2.06-.94 2.06-2.06.94zm-11 1L8.5 8.5l.94-2.06 2.06-.94-2.06-.94L8.5 2.5l-.94 2.06-2.06.94zm10 10l.94 2.06.94-2.06 2.06-.94-2.06-.94-.94-2.06-.94 2.06-2.06.94z\"/><path d=\"M17.41 7.96l-1.37-1.37c-.4-.4-.92-.59-1.43-.59-.52 0-1.04.2-1.43.59L10.3 9.45l-7.72 7.72c-.78.78-.78 2.05 0 2.83L4 21.41c.39.39.9.59 1.41.59.51 0 1.02-.2 1.41-.59l7.78-7.78 2.81-2.81c.8-.78.8-2.07 0-2.86zM5.41 20L4 18.59l7.72-7.72 1.47 1.35L5.41 20z\"/>\n",
              "  </svg>\n",
              "      </button>\n",
              "      \n",
              "  <style>\n",
              "    .colab-df-container {\n",
              "      display:flex;\n",
              "      flex-wrap:wrap;\n",
              "      gap: 12px;\n",
              "    }\n",
              "\n",
              "    .colab-df-convert {\n",
              "      background-color: #E8F0FE;\n",
              "      border: none;\n",
              "      border-radius: 50%;\n",
              "      cursor: pointer;\n",
              "      display: none;\n",
              "      fill: #1967D2;\n",
              "      height: 32px;\n",
              "      padding: 0 0 0 0;\n",
              "      width: 32px;\n",
              "    }\n",
              "\n",
              "    .colab-df-convert:hover {\n",
              "      background-color: #E2EBFA;\n",
              "      box-shadow: 0px 1px 2px rgba(60, 64, 67, 0.3), 0px 1px 3px 1px rgba(60, 64, 67, 0.15);\n",
              "      fill: #174EA6;\n",
              "    }\n",
              "\n",
              "    [theme=dark] .colab-df-convert {\n",
              "      background-color: #3B4455;\n",
              "      fill: #D2E3FC;\n",
              "    }\n",
              "\n",
              "    [theme=dark] .colab-df-convert:hover {\n",
              "      background-color: #434B5C;\n",
              "      box-shadow: 0px 1px 3px 1px rgba(0, 0, 0, 0.15);\n",
              "      filter: drop-shadow(0px 1px 2px rgba(0, 0, 0, 0.3));\n",
              "      fill: #FFFFFF;\n",
              "    }\n",
              "  </style>\n",
              "\n",
              "      <script>\n",
              "        const buttonEl =\n",
              "          document.querySelector('#df-e46fbbe9-8762-4b75-ab46-67d39ff252e9 button.colab-df-convert');\n",
              "        buttonEl.style.display =\n",
              "          google.colab.kernel.accessAllowed ? 'block' : 'none';\n",
              "\n",
              "        async function convertToInteractive(key) {\n",
              "          const element = document.querySelector('#df-e46fbbe9-8762-4b75-ab46-67d39ff252e9');\n",
              "          const dataTable =\n",
              "            await google.colab.kernel.invokeFunction('convertToInteractive',\n",
              "                                                     [key], {});\n",
              "          if (!dataTable) return;\n",
              "\n",
              "          const docLinkHtml = 'Like what you see? Visit the ' +\n",
              "            '<a target=\"_blank\" href=https://colab.research.google.com/notebooks/data_table.ipynb>data table notebook</a>'\n",
              "            + ' to learn more about interactive tables.';\n",
              "          element.innerHTML = '';\n",
              "          dataTable['output_type'] = 'display_data';\n",
              "          await google.colab.output.renderOutput(dataTable, element);\n",
              "          const docLink = document.createElement('div');\n",
              "          docLink.innerHTML = docLinkHtml;\n",
              "          element.appendChild(docLink);\n",
              "        }\n",
              "      </script>\n",
              "    </div>\n",
              "  </div>\n",
              "  "
            ]
          },
          "metadata": {},
          "execution_count": 10
        }
      ],
      "source": [
        "df_merged.sample(5)"
      ]
    },
    {
      "cell_type": "code",
      "execution_count": 11,
      "id": "52d508c6",
      "metadata": {
        "colab": {
          "base_uri": "https://localhost:8080/",
          "height": 0
        },
        "id": "52d508c6",
        "outputId": "2f7b116c-de8a-4f1e-dd45-d16f285b67df"
      },
      "outputs": [
        {
          "output_type": "stream",
          "name": "stdout",
          "text": [
            "InternetService has 1526 nulls, which is 21.6669% percent of Nulls\n",
            "OnlineSecurity has 1526 nulls, which is 21.6669% percent of Nulls\n",
            "OnlineBackup has 1526 nulls, which is 21.6669% percent of Nulls\n",
            "DeviceProtection has 1526 nulls, which is 21.6669% percent of Nulls\n",
            "TechSupport has 1526 nulls, which is 21.6669% percent of Nulls\n",
            "StreamingTV has 1526 nulls, which is 21.6669% percent of Nulls\n",
            "StreamingMovies has 1526 nulls, which is 21.6669% percent of Nulls\n",
            "MultipleLines has 682 nulls, which is 9.6834% percent of Nulls\n",
            "\u001b[1mThere are 8 columns with NA.\u001b[0m\n"
          ]
        }
      ],
      "source": [
        "get_percent_of_na(df_merged, 4)"
      ]
    },
    {
      "cell_type": "markdown",
      "id": "a1f530fc",
      "metadata": {
        "id": "a1f530fc"
      },
      "source": [
        "## Fill nan\n"
      ]
    },
    {
      "cell_type": "code",
      "execution_count": 12,
      "id": "1f456eb2",
      "metadata": {
        "scrolled": true,
        "colab": {
          "base_uri": "https://localhost:8080/",
          "height": 0
        },
        "id": "1f456eb2",
        "outputId": "ca3f1257-cbe3-4618-a891-16282ba22b4a"
      },
      "outputs": [
        {
          "output_type": "stream",
          "name": "stdout",
          "text": [
            "The values in each column in original internet data base\n",
            "---------------------------------------------------------\n",
            "\n",
            "InternetService\n",
            "['DSL' 'Fiber optic']\n",
            "\n",
            "OnlineSecurity\n",
            "['No' 'Yes']\n",
            "\n",
            "OnlineBackup\n",
            "['Yes' 'No']\n",
            "\n",
            "DeviceProtection\n",
            "['No' 'Yes']\n",
            "\n",
            "TechSupport\n",
            "['No' 'Yes']\n",
            "\n",
            "StreamingTV\n",
            "['No' 'Yes']\n",
            "\n",
            "StreamingMovies\n",
            "['No' 'Yes']\n",
            "\n"
          ]
        }
      ],
      "source": [
        "# fill the nan values from internet database\n",
        "internet_columns = internet.columns.to_list()[1:]\n",
        "print('The values in each column in original internet data base')\n",
        "print('---------------------------------------------------------')\n",
        "print()\n",
        "for column in internet_columns:\n",
        "    print(column)\n",
        "    print(internet[column].unique())\n",
        "    print()\n"
      ]
    },
    {
      "cell_type": "markdown",
      "id": "3ec32588",
      "metadata": {
        "id": "3ec32588"
      },
      "source": [
        "I will fill No in all the nan for these columns "
      ]
    },
    {
      "cell_type": "code",
      "execution_count": 13,
      "id": "556c2ec0",
      "metadata": {
        "id": "556c2ec0"
      },
      "outputs": [],
      "source": [
        "df_merged[internet_columns] = df_merged[internet_columns].fillna(value='No')"
      ]
    },
    {
      "cell_type": "code",
      "execution_count": 14,
      "id": "fd16674f",
      "metadata": {
        "colab": {
          "base_uri": "https://localhost:8080/",
          "height": 0
        },
        "id": "fd16674f",
        "outputId": "5fb69fa0-0c73-42ec-cdf2-347978b1c1ab"
      },
      "outputs": [
        {
          "output_type": "stream",
          "name": "stdout",
          "text": [
            "MultipleLines has 682 nulls, which is 9.6834% percent of Nulls\n",
            "\u001b[1mThere are 1 columns with NA.\u001b[0m\n"
          ]
        }
      ],
      "source": [
        "get_percent_of_na(df_merged, 4)"
      ]
    },
    {
      "cell_type": "code",
      "execution_count": 15,
      "id": "5f54e9bf",
      "metadata": {
        "colab": {
          "base_uri": "https://localhost:8080/",
          "height": 0
        },
        "id": "5f54e9bf",
        "outputId": "52539eca-30c3-41db-fa47-295bca07f874"
      },
      "outputs": [
        {
          "output_type": "stream",
          "name": "stdout",
          "text": [
            "The values in each column in original phone data base\n",
            "---------------------------------------------------------\n",
            "\n",
            "MultipleLines\n",
            "['No' 'Yes']\n",
            "\n"
          ]
        }
      ],
      "source": [
        "# fill the nan values in MultipleLines column\n",
        "\n",
        "phone_columns = phone.columns.to_list()[1:]\n",
        "print('The values in each column in original phone data base')\n",
        "print('---------------------------------------------------------')\n",
        "print()\n",
        "for column in phone_columns:\n",
        "    print(column)\n",
        "    print(phone[column].unique())\n",
        "    print()\n"
      ]
    },
    {
      "cell_type": "markdown",
      "id": "d722b2cd",
      "metadata": {
        "id": "d722b2cd"
      },
      "source": [
        "I will replace this with num_of_lines\n",
        "- 0 for nan\n",
        "- 1 for 1 line (MultipleLines = No)\n",
        "- 1 for more than 1 line (MultipleLines = Yes)"
      ]
    },
    {
      "cell_type": "code",
      "execution_count": 16,
      "id": "55d6cd25",
      "metadata": {
        "id": "55d6cd25"
      },
      "outputs": [],
      "source": [
        "df_merged['MultipleLines'] = df_merged['MultipleLines'].replace(\n",
        "    {'No': 1, 'Yes':2}\n",
        ").fillna(value=0)"
      ]
    },
    {
      "cell_type": "code",
      "execution_count": 17,
      "id": "6fc4a728",
      "metadata": {
        "colab": {
          "base_uri": "https://localhost:8080/",
          "height": 0
        },
        "id": "6fc4a728",
        "outputId": "bc98edc5-ca6f-45cc-caaa-be225c972463"
      },
      "outputs": [
        {
          "output_type": "stream",
          "name": "stdout",
          "text": [
            "\n",
            "\u001b[1mThere are no columns with NA.\u001b[0m\n"
          ]
        }
      ],
      "source": [
        "get_percent_of_na(df_merged, 4)"
      ]
    },
    {
      "cell_type": "markdown",
      "id": "efdd9c39",
      "metadata": {
        "id": "efdd9c39"
      },
      "source": [
        "## Change columns names"
      ]
    },
    {
      "cell_type": "code",
      "execution_count": 18,
      "id": "ff5d7f8c",
      "metadata": {
        "id": "ff5d7f8c"
      },
      "outputs": [],
      "source": [
        "column_list = ['customerID', 'BeginDate', 'EndDate', 'Type', 'PaperlessBilling',\n",
        "       'PaymentMethod', 'MonthlyCharges', 'TotalCharges', 'InternetService',\n",
        "       'OnlineSecurity', 'OnlineBackup', 'DeviceProtection', 'TechSupport',\n",
        "       'StreamingTV', 'StreamingMovies', 'gender', 'SeniorCitizen', 'Partner',\n",
        "       'Dependents', 'MultipleLines']"
      ]
    },
    {
      "cell_type": "code",
      "execution_count": 19,
      "id": "f0af0ace",
      "metadata": {
        "colab": {
          "base_uri": "https://localhost:8080/",
          "height": 0
        },
        "id": "f0af0ace",
        "outputId": "06a2d697-d538-4bcf-89df-8a09bb8605ea"
      },
      "outputs": [
        {
          "output_type": "execute_result",
          "data": {
            "text/plain": [
              "['customerid',\n",
              " 'begindate',\n",
              " 'enddate',\n",
              " 'type',\n",
              " 'paperlessbilling',\n",
              " 'paymentmethod',\n",
              " 'monthlycharges',\n",
              " 'totalcharges',\n",
              " 'internetservice',\n",
              " 'onlinesecurity',\n",
              " 'onlinebackup',\n",
              " 'deviceprotection',\n",
              " 'techsupport',\n",
              " 'streamingtv',\n",
              " 'streamingmovies',\n",
              " 'gender',\n",
              " 'seniorcitizen',\n",
              " 'partner',\n",
              " 'dependents',\n",
              " 'multiplelines']"
            ]
          },
          "metadata": {},
          "execution_count": 19
        }
      ],
      "source": [
        "[column.lower() for column in column_list]"
      ]
    },
    {
      "cell_type": "code",
      "execution_count": 20,
      "id": "f2cd220e",
      "metadata": {
        "id": "f2cd220e"
      },
      "outputs": [],
      "source": [
        "df_merged.columns = ['customer_id',\n",
        " 'begin_date',\n",
        " 'end_date',\n",
        " 'type',\n",
        " 'paperless_billing',\n",
        " 'payment_method',\n",
        " 'monthly_charges',\n",
        " 'total_charges',\n",
        " 'internet_service',\n",
        " 'online_security',\n",
        " 'online_backup',\n",
        " 'device_protection',\n",
        " 'tech_support',\n",
        " 'streaming_tv',\n",
        " 'streaming_movies',\n",
        " 'gender',\n",
        " 'senior_citizen',\n",
        " 'partner',\n",
        " 'dependents',\n",
        " 'multiple_lines']"
      ]
    },
    {
      "cell_type": "code",
      "execution_count": 21,
      "id": "dc0ba161",
      "metadata": {
        "colab": {
          "base_uri": "https://localhost:8080/",
          "height": 0
        },
        "id": "dc0ba161",
        "outputId": "70a368ce-5213-4dc5-d16e-7710512f12b5"
      },
      "outputs": [
        {
          "output_type": "execute_result",
          "data": {
            "text/plain": [
              "Index(['customer_id', 'begin_date', 'end_date', 'type', 'paperless_billing',\n",
              "       'payment_method', 'monthly_charges', 'total_charges',\n",
              "       'internet_service', 'online_security', 'online_backup',\n",
              "       'device_protection', 'tech_support', 'streaming_tv', 'streaming_movies',\n",
              "       'gender', 'senior_citizen', 'partner', 'dependents', 'multiple_lines'],\n",
              "      dtype='object')"
            ]
          },
          "metadata": {},
          "execution_count": 21
        }
      ],
      "source": [
        "df_merged.columns"
      ]
    },
    {
      "cell_type": "markdown",
      "id": "296b29eb",
      "metadata": {
        "id": "296b29eb"
      },
      "source": [
        "## Convert type"
      ]
    },
    {
      "cell_type": "markdown",
      "id": "5ef2dca4",
      "metadata": {
        "id": "5ef2dca4"
      },
      "source": [
        "### Date"
      ]
    },
    {
      "cell_type": "code",
      "execution_count": 22,
      "id": "db8b62cf",
      "metadata": {
        "id": "db8b62cf"
      },
      "outputs": [],
      "source": [
        "# to datetime\n",
        "df_merged['begin_date'] = pd.to_datetime(df_merged['begin_date'], format='%Y.%m.%d')"
      ]
    },
    {
      "cell_type": "markdown",
      "id": "ec5bfcd8",
      "metadata": {
        "id": "ec5bfcd8"
      },
      "source": [
        "### Numerical"
      ]
    },
    {
      "cell_type": "code",
      "execution_count": 23,
      "id": "56c1d9d4",
      "metadata": {
        "colab": {
          "base_uri": "https://localhost:8080/",
          "height": 0
        },
        "id": "56c1d9d4",
        "outputId": "41e0140e-03b1-4b29-a5fb-9ca8274f501f"
      },
      "outputs": [
        {
          "output_type": "execute_result",
          "data": {
            "text/plain": [
              "          11\n",
              "20.2      11\n",
              "19.75      9\n",
              "20.05      8\n",
              "19.9       8\n",
              "          ..\n",
              "6849.4     1\n",
              "692.35     1\n",
              "130.15     1\n",
              "3211.9     1\n",
              "6844.5     1\n",
              "Name: total_charges, Length: 6531, dtype: int64"
            ]
          },
          "metadata": {},
          "execution_count": 23
        }
      ],
      "source": [
        "# convert to numerical\n",
        "df_merged['total_charges'].value_counts()"
      ]
    },
    {
      "cell_type": "markdown",
      "id": "d96407a9",
      "metadata": {
        "id": "d96407a9"
      },
      "source": [
        "replace the ' '  with 0"
      ]
    },
    {
      "cell_type": "code",
      "execution_count": 24,
      "id": "ed43ace5",
      "metadata": {
        "id": "ed43ace5"
      },
      "outputs": [],
      "source": [
        "df_merged['total_charges'] = df_merged['total_charges'].replace(to_replace=' ', value='0')"
      ]
    },
    {
      "cell_type": "code",
      "execution_count": 25,
      "id": "93fb2190",
      "metadata": {
        "colab": {
          "base_uri": "https://localhost:8080/",
          "height": 0
        },
        "id": "93fb2190",
        "outputId": "06f3f18e-c977-4eee-983e-0b076e29a32f"
      },
      "outputs": [
        {
          "output_type": "execute_result",
          "data": {
            "text/plain": [
              "0         11\n",
              "20.2      11\n",
              "19.75      9\n",
              "20.05      8\n",
              "19.9       8\n",
              "          ..\n",
              "6849.4     1\n",
              "692.35     1\n",
              "130.15     1\n",
              "3211.9     1\n",
              "6844.5     1\n",
              "Name: total_charges, Length: 6531, dtype: int64"
            ]
          },
          "metadata": {},
          "execution_count": 25
        }
      ],
      "source": [
        "df_merged['total_charges'].value_counts()"
      ]
    },
    {
      "cell_type": "code",
      "execution_count": 26,
      "id": "71de6f4d",
      "metadata": {
        "id": "71de6f4d"
      },
      "outputs": [],
      "source": [
        "# to numeric\n",
        "df_merged['total_charges'] = df_merged['total_charges'].astype(float)"
      ]
    },
    {
      "cell_type": "markdown",
      "id": "0d03498c",
      "metadata": {
        "id": "0d03498c"
      },
      "source": [
        "### Categorical"
      ]
    },
    {
      "cell_type": "code",
      "execution_count": 27,
      "id": "66cbdd5f",
      "metadata": {
        "id": "66cbdd5f"
      },
      "outputs": [],
      "source": [
        "column_to_categorical = ['type', 'paperless_billing', 'payment_method', 'internet_service',\n",
        " 'online_security', 'online_backup','device_protection', 'tech_support', 'streaming_tv',\n",
        " 'streaming_movies', 'gender', 'senior_citizen', 'partner', 'dependents', 'multiple_lines']"
      ]
    },
    {
      "cell_type": "code",
      "execution_count": 28,
      "id": "2ce9969e",
      "metadata": {
        "id": "2ce9969e"
      },
      "outputs": [],
      "source": [
        "for column in column_to_categorical:\n",
        "    df_merged[column] = df_merged[column].astype('category')"
      ]
    },
    {
      "cell_type": "markdown",
      "id": "0afea3c9",
      "metadata": {
        "id": "0afea3c9"
      },
      "source": [
        "### create churn feature"
      ]
    },
    {
      "cell_type": "code",
      "execution_count": 29,
      "id": "561ad94d",
      "metadata": {
        "id": "561ad94d"
      },
      "outputs": [],
      "source": [
        "def churn_0_1(row):\n",
        "    \"\"\"\n",
        "    return 0 if user still on the service and 1 if user churned\n",
        "    \"\"\"\n",
        "    end_date = row['end_date']\n",
        "    if end_date == 'No':\n",
        "        return 0\n",
        "    else:\n",
        "        return 1"
      ]
    },
    {
      "cell_type": "code",
      "execution_count": 30,
      "id": "7dd00a76",
      "metadata": {
        "id": "7dd00a76"
      },
      "outputs": [],
      "source": [
        "df_merged['churn'] = df_merged.apply(churn_0_1, axis=1)"
      ]
    },
    {
      "cell_type": "code",
      "source": [
        "df_merged.sample(2)"
      ],
      "metadata": {
        "colab": {
          "base_uri": "https://localhost:8080/",
          "height": 246
        },
        "id": "AX70x7SOYuN0",
        "outputId": "6d11d4f1-338e-409a-9572-69d9a55eccf2"
      },
      "id": "AX70x7SOYuN0",
      "execution_count": 31,
      "outputs": [
        {
          "output_type": "execute_result",
          "data": {
            "text/plain": [
              "     customer_id begin_date end_date            type paperless_billing  \\\n",
              "3602  3038-PQIUY 2016-12-01       No  Month-to-month               Yes   \n",
              "65    5122-CYFXA 2019-11-01       No  Month-to-month               Yes   \n",
              "\n",
              "                 payment_method  monthly_charges  total_charges  \\\n",
              "3602  Bank transfer (automatic)            66.15         2522.4   \n",
              "65             Electronic check            75.30          244.1   \n",
              "\n",
              "     internet_service online_security online_backup device_protection  \\\n",
              "3602              DSL             Yes           Yes               Yes   \n",
              "65                DSL              No           Yes                No   \n",
              "\n",
              "     tech_support streaming_tv streaming_movies  gender senior_citizen  \\\n",
              "3602           No           No               No  Female              0   \n",
              "65            Yes          Yes              Yes  Female              0   \n",
              "\n",
              "     partner dependents multiple_lines  churn  \n",
              "3602      No         No            2.0      0  \n",
              "65        No         No            1.0      0  "
            ],
            "text/html": [
              "\n",
              "  <div id=\"df-ac220cf8-1ff8-457c-8eff-aec6b1f80326\">\n",
              "    <div class=\"colab-df-container\">\n",
              "      <div>\n",
              "<style scoped>\n",
              "    .dataframe tbody tr th:only-of-type {\n",
              "        vertical-align: middle;\n",
              "    }\n",
              "\n",
              "    .dataframe tbody tr th {\n",
              "        vertical-align: top;\n",
              "    }\n",
              "\n",
              "    .dataframe thead th {\n",
              "        text-align: right;\n",
              "    }\n",
              "</style>\n",
              "<table border=\"1\" class=\"dataframe\">\n",
              "  <thead>\n",
              "    <tr style=\"text-align: right;\">\n",
              "      <th></th>\n",
              "      <th>customer_id</th>\n",
              "      <th>begin_date</th>\n",
              "      <th>end_date</th>\n",
              "      <th>type</th>\n",
              "      <th>paperless_billing</th>\n",
              "      <th>payment_method</th>\n",
              "      <th>monthly_charges</th>\n",
              "      <th>total_charges</th>\n",
              "      <th>internet_service</th>\n",
              "      <th>online_security</th>\n",
              "      <th>online_backup</th>\n",
              "      <th>device_protection</th>\n",
              "      <th>tech_support</th>\n",
              "      <th>streaming_tv</th>\n",
              "      <th>streaming_movies</th>\n",
              "      <th>gender</th>\n",
              "      <th>senior_citizen</th>\n",
              "      <th>partner</th>\n",
              "      <th>dependents</th>\n",
              "      <th>multiple_lines</th>\n",
              "      <th>churn</th>\n",
              "    </tr>\n",
              "  </thead>\n",
              "  <tbody>\n",
              "    <tr>\n",
              "      <th>3602</th>\n",
              "      <td>3038-PQIUY</td>\n",
              "      <td>2016-12-01</td>\n",
              "      <td>No</td>\n",
              "      <td>Month-to-month</td>\n",
              "      <td>Yes</td>\n",
              "      <td>Bank transfer (automatic)</td>\n",
              "      <td>66.15</td>\n",
              "      <td>2522.4</td>\n",
              "      <td>DSL</td>\n",
              "      <td>Yes</td>\n",
              "      <td>Yes</td>\n",
              "      <td>Yes</td>\n",
              "      <td>No</td>\n",
              "      <td>No</td>\n",
              "      <td>No</td>\n",
              "      <td>Female</td>\n",
              "      <td>0</td>\n",
              "      <td>No</td>\n",
              "      <td>No</td>\n",
              "      <td>2.0</td>\n",
              "      <td>0</td>\n",
              "    </tr>\n",
              "    <tr>\n",
              "      <th>65</th>\n",
              "      <td>5122-CYFXA</td>\n",
              "      <td>2019-11-01</td>\n",
              "      <td>No</td>\n",
              "      <td>Month-to-month</td>\n",
              "      <td>Yes</td>\n",
              "      <td>Electronic check</td>\n",
              "      <td>75.30</td>\n",
              "      <td>244.1</td>\n",
              "      <td>DSL</td>\n",
              "      <td>No</td>\n",
              "      <td>Yes</td>\n",
              "      <td>No</td>\n",
              "      <td>Yes</td>\n",
              "      <td>Yes</td>\n",
              "      <td>Yes</td>\n",
              "      <td>Female</td>\n",
              "      <td>0</td>\n",
              "      <td>No</td>\n",
              "      <td>No</td>\n",
              "      <td>1.0</td>\n",
              "      <td>0</td>\n",
              "    </tr>\n",
              "  </tbody>\n",
              "</table>\n",
              "</div>\n",
              "      <button class=\"colab-df-convert\" onclick=\"convertToInteractive('df-ac220cf8-1ff8-457c-8eff-aec6b1f80326')\"\n",
              "              title=\"Convert this dataframe to an interactive table.\"\n",
              "              style=\"display:none;\">\n",
              "        \n",
              "  <svg xmlns=\"http://www.w3.org/2000/svg\" height=\"24px\"viewBox=\"0 0 24 24\"\n",
              "       width=\"24px\">\n",
              "    <path d=\"M0 0h24v24H0V0z\" fill=\"none\"/>\n",
              "    <path d=\"M18.56 5.44l.94 2.06.94-2.06 2.06-.94-2.06-.94-.94-2.06-.94 2.06-2.06.94zm-11 1L8.5 8.5l.94-2.06 2.06-.94-2.06-.94L8.5 2.5l-.94 2.06-2.06.94zm10 10l.94 2.06.94-2.06 2.06-.94-2.06-.94-.94-2.06-.94 2.06-2.06.94z\"/><path d=\"M17.41 7.96l-1.37-1.37c-.4-.4-.92-.59-1.43-.59-.52 0-1.04.2-1.43.59L10.3 9.45l-7.72 7.72c-.78.78-.78 2.05 0 2.83L4 21.41c.39.39.9.59 1.41.59.51 0 1.02-.2 1.41-.59l7.78-7.78 2.81-2.81c.8-.78.8-2.07 0-2.86zM5.41 20L4 18.59l7.72-7.72 1.47 1.35L5.41 20z\"/>\n",
              "  </svg>\n",
              "      </button>\n",
              "      \n",
              "  <style>\n",
              "    .colab-df-container {\n",
              "      display:flex;\n",
              "      flex-wrap:wrap;\n",
              "      gap: 12px;\n",
              "    }\n",
              "\n",
              "    .colab-df-convert {\n",
              "      background-color: #E8F0FE;\n",
              "      border: none;\n",
              "      border-radius: 50%;\n",
              "      cursor: pointer;\n",
              "      display: none;\n",
              "      fill: #1967D2;\n",
              "      height: 32px;\n",
              "      padding: 0 0 0 0;\n",
              "      width: 32px;\n",
              "    }\n",
              "\n",
              "    .colab-df-convert:hover {\n",
              "      background-color: #E2EBFA;\n",
              "      box-shadow: 0px 1px 2px rgba(60, 64, 67, 0.3), 0px 1px 3px 1px rgba(60, 64, 67, 0.15);\n",
              "      fill: #174EA6;\n",
              "    }\n",
              "\n",
              "    [theme=dark] .colab-df-convert {\n",
              "      background-color: #3B4455;\n",
              "      fill: #D2E3FC;\n",
              "    }\n",
              "\n",
              "    [theme=dark] .colab-df-convert:hover {\n",
              "      background-color: #434B5C;\n",
              "      box-shadow: 0px 1px 3px 1px rgba(0, 0, 0, 0.15);\n",
              "      filter: drop-shadow(0px 1px 2px rgba(0, 0, 0, 0.3));\n",
              "      fill: #FFFFFF;\n",
              "    }\n",
              "  </style>\n",
              "\n",
              "      <script>\n",
              "        const buttonEl =\n",
              "          document.querySelector('#df-ac220cf8-1ff8-457c-8eff-aec6b1f80326 button.colab-df-convert');\n",
              "        buttonEl.style.display =\n",
              "          google.colab.kernel.accessAllowed ? 'block' : 'none';\n",
              "\n",
              "        async function convertToInteractive(key) {\n",
              "          const element = document.querySelector('#df-ac220cf8-1ff8-457c-8eff-aec6b1f80326');\n",
              "          const dataTable =\n",
              "            await google.colab.kernel.invokeFunction('convertToInteractive',\n",
              "                                                     [key], {});\n",
              "          if (!dataTable) return;\n",
              "\n",
              "          const docLinkHtml = 'Like what you see? Visit the ' +\n",
              "            '<a target=\"_blank\" href=https://colab.research.google.com/notebooks/data_table.ipynb>data table notebook</a>'\n",
              "            + ' to learn more about interactive tables.';\n",
              "          element.innerHTML = '';\n",
              "          dataTable['output_type'] = 'display_data';\n",
              "          await google.colab.output.renderOutput(dataTable, element);\n",
              "          const docLink = document.createElement('div');\n",
              "          docLink.innerHTML = docLinkHtml;\n",
              "          element.appendChild(docLink);\n",
              "        }\n",
              "      </script>\n",
              "    </div>\n",
              "  </div>\n",
              "  "
            ]
          },
          "metadata": {},
          "execution_count": 31
        }
      ]
    },
    {
      "cell_type": "markdown",
      "id": "1cdaf4dd",
      "metadata": {
        "id": "1cdaf4dd"
      },
      "source": [
        "# EDA \n"
      ]
    },
    {
      "cell_type": "markdown",
      "source": [
        "### Categorical feature differences correlating with churned status"
      ],
      "metadata": {
        "id": "xquIX48RcInU"
      },
      "id": "xquIX48RcInU"
    },
    {
      "cell_type": "code",
      "source": [
        "\n",
        "def check_categorical_features(df, features, cols=3):\n",
        "    \"\"\"\n",
        "    this function displays bar charts comparing the churned population with the non churned population\n",
        "    \"\"\"\n",
        "\n",
        "    # count number of subplots needed\n",
        "    num_of_features = len(features)\n",
        "    rows = round(num_of_features/cols)\n",
        "\n",
        "    # figure size depends on number of rows\n",
        "    height = rows*6\n",
        "    width = 15\n",
        "\n",
        "    # create subplots\n",
        "    fig, ax = plt.subplots(nrows=rows, ncols=cols, figsize=(width, height), sharey='row')\n",
        "\n",
        "    # fill subplots\n",
        "    for f, f_ax in zip(features, ax.ravel()):\n",
        "        pd.crosstab(index=df[f], columns=df['churn'], normalize='columns').plot(kind='bar', ax=f_ax, title=f).set_xlabel('')\n",
        "        f_ax.set_ylabel('Proportion')\n",
        "    plt.setp(ax, ylim=[0,1])\n",
        "    plt.tight_layout()"
      ],
      "metadata": {
        "id": "1QsZzqFNcE61"
      },
      "id": "1QsZzqFNcE61",
      "execution_count": 32,
      "outputs": []
    },
    {
      "cell_type": "code",
      "source": [
        "categorical_features = ['gender', 'senior_citizen', 'partner', 'dependents',\n",
        "       'type', 'paperless_billing', 'payment_method', 'internet_service',\n",
        "       'online_security', 'online_backup', 'device_protection', 'tech_support',\n",
        "       'streaming_tv', 'streaming_movies', 'multiple_lines']"
      ],
      "metadata": {
        "id": "jfmJplNFcFDi"
      },
      "id": "jfmJplNFcFDi",
      "execution_count": 33,
      "outputs": []
    },
    {
      "cell_type": "code",
      "source": [
        "check_categorical_features(df_merged, categorical_features)"
      ],
      "metadata": {
        "colab": {
          "base_uri": "https://localhost:8080/",
          "height": 1278
        },
        "id": "2b7yYkBqeLm7",
        "outputId": "1da35e39-e853-467b-afd7-d79e2a640468"
      },
      "id": "2b7yYkBqeLm7",
      "execution_count": 34,
      "outputs": [
        {
          "output_type": "display_data",
          "data": {
            "text/plain": [
              "<Figure size 1080x2160 with 15 Axes>"
            ],
            "image/png": "[encoded data removed]"
          },
          "metadata": {
            "needs_background": "light"
          }
        }
      ]
    },
    {
      "cell_type": "markdown",
      "source": [
        "We can see that some features distributed the same or close to the same for churned and non-churned users, while others vary more widely. It is important to remember that these are correlations only, we do not know if that the cause for leaving the telecom provider.\n",
        "\n",
        "* `gender` - no difference between churned and non-churned.\n",
        "* `senior_citizen` - we have a higher percentage of senior citizens in the churned group.\n",
        "* `partner` - we have a higher percentage of singles in the churned group.\n",
        "* `dependents` - we have a higher percentage of users without dependents in the churned group.\n",
        "* `type` - churned users belonged mainly to the month-to-month package.\n",
        "* `paperless_billing` - we have a higher percentage of users using paperless billing in the churned group.\n",
        "* `payment_method` - churned users belonged mainly to the electronic check payment method.\n",
        "* `internet_service` - churned users belonged mainly to the fiber optic internet service\n",
        "* `online_security` - we have a higher percentage of churned users not use the online security service.\n",
        "* `online_backup` - we have a somewhat higher percentage of churned users not use the online backup service.\n",
        "* `device_protection` - we have a somewhat higher percentage of churned users not use the device protection service.\n",
        "* `tech_support` - we have a higher percentage of churned users not use the tech support service.\n",
        "* `streaming_tv` - we have a somewhat higher percentage of churned users use the TV streaming service.\n",
        "* `streaming_movies` - we have a somewhat higher percentage of churned users use the movie streaming service.\n",
        "* `multiple lines` - almost no difference between churned and non-churned users.\n",
        "\n",
        "If we are resource restricted, it would be possible to remove the features which differ very slightly or not at all between the two groups from the modeling. It is not the case here so we will leave these in for now."
      ],
      "metadata": {
        "id": "JGNTJssGe1Fe"
      },
      "id": "JGNTJssGe1Fe"
    },
    {
      "cell_type": "markdown",
      "source": [
        "### Quantitative feature differences correlating with churned status"
      ],
      "metadata": {
        "id": "D5xdeoYfgOLI"
      },
      "id": "D5xdeoYfgOLI"
    },
    {
      "cell_type": "markdown",
      "source": [
        "Now that we have looked at the categorical features, it's interesting also to look at the distribution of quantitative features between the two groups. The features we can look at here are the begin_date, monthly_charges and total_charges."
      ],
      "metadata": {
        "id": "qwHycPthgXvi"
      },
      "id": "qwHycPthgXvi"
    },
    {
      "cell_type": "code",
      "source": [
        "# plot normalized distribution for the 3 quantitative features\n",
        "for feat in ['begin_date', 'monthly_charges', 'total_charges']:\n",
        "\n",
        "    # create figure\n",
        "    plt.figure(figsize=(10,5))\n",
        "    \n",
        "    # plot the histogram\n",
        "    sns.histplot(df_merged, x=feat, hue='churn', stat='probability', common_norm=False)\n",
        "    \n",
        "    # add title\n",
        "    plt.title('Normalized histogram comparing churned and non-churned users - ' + str(feat))\n",
        "    plt.show()\n",
        "    \n",
        "print(); # suppress unneeded output relating to figure creation etc."
      ],
      "metadata": {
        "colab": {
          "base_uri": "https://localhost:8080/",
          "height": 1036
        },
        "id": "UkvgKWwxgaSR",
        "outputId": "1f6aa777-c3a6-4b1c-f95b-537305e32847"
      },
      "id": "UkvgKWwxgaSR",
      "execution_count": 35,
      "outputs": [
        {
          "output_type": "display_data",
          "data": {
            "text/plain": [
              "<Figure size 720x360 with 1 Axes>"
            ],
            "image/png": "[encoded data removed]"
          },
          "metadata": {
            "needs_background": "light"
          }
        },
        {
          "output_type": "display_data",
          "data": {
            "text/plain": [
              "<Figure size 720x360 with 1 Axes>"
            ],
            "image/png": "[encoded data removed]"
          },
          "metadata": {
            "needs_background": "light"
          }
        },
        {
          "output_type": "display_data",
          "data": {
            "text/plain": [
              "<Figure size 720x360 with 1 Axes>"
            ],
            "image/png": "[encoded data removed]"
          },
          "metadata": {
            "needs_background": "light"
          }
        },
        {
          "output_type": "stream",
          "name": "stdout",
          "text": [
            "\n"
          ]
        }
      ]
    },
    {
      "cell_type": "markdown",
      "source": [
        "We can see that the two groups are obviously different.\n",
        "\n",
        "* `begin_date` - on average, churned users are more recent joiners than non-churned users.\n",
        "* `monthly_charges` - we can see that a large proportion of churned users had high monthly payments compared to non-churned users.\n",
        "* `total_charges` - we can see that churned users have a much higher percentage of them in the lowest bin. This can probably be explained by the fact that most churned users are recent users (so less monthly number of charges). It could also have also been explained by the fact that these users left so in general they payed for less months than similar users who didn't leave, except that all the churning occurred in the last 4 months of the dataset."
      ],
      "metadata": {
        "id": "_nfPZYf1i8N3"
      },
      "id": "_nfPZYf1i8N3"
    },
    {
      "cell_type": "markdown",
      "source": [
        "### Statistical correlation of features"
      ],
      "metadata": {
        "id": "ktkRrk4CtWNs"
      },
      "id": "ktkRrk4CtWNs"
    },
    {
      "cell_type": "code",
      "source": [
        "# create dataframe copy before performing changes.\n",
        "df_copy = df_merged.copy()\n",
        "\n",
        "# convert boolean columns to boolean type so they will appear in the matrix\n",
        "for c in categorical_features:\n",
        "    options = df_copy[c].unique()\n",
        "    \n",
        "    if sorted(options) == ['No', 'Yes']:\n",
        "        df_copy[c] = (df_copy[c] == 'Yes').astype('boolean')\n",
        "    elif sorted(options) == [0, 1]:\n",
        "        df_copy[c] = (df_copy[c] == 1).astype('boolean')\n",
        "\n",
        "corr = df_copy.corr()\n",
        "\n",
        "f, ax = plt.subplots(figsize=(12, 8))\n",
        "\n",
        "sns.heatmap(corr, cmap=\"Blues\", annot=True, square=False, ax=ax,  linewidth = 1)\n",
        "plt.title('Pearson Correlation of Features')\n",
        "plt.yticks(rotation=0);"
      ],
      "metadata": {
        "colab": {
          "base_uri": "https://localhost:8080/",
          "height": 580
        },
        "id": "6xDEYCR5jYyJ",
        "outputId": "42ae409f-d82d-48f0-f472-560849f18e14"
      },
      "id": "6xDEYCR5jYyJ",
      "execution_count": 36,
      "outputs": [
        {
          "output_type": "display_data",
          "data": {
            "text/plain": [
              "<Figure size 864x576 with 2 Axes>"
            ],
            "image/png": "[encoded data removed]"
          },
          "metadata": {
            "needs_background": "light"
          }
        }
      ]
    },
    {
      "cell_type": "markdown",
      "source": [
        "<ins>Correlation of features with churned status</ins> \n",
        "\n",
        "Of the numerical and boolean types we could analyse this way, we can see that the largest correlation factors exist for the features we already noticed above. High monthly charges correlate with churning, and so does the use of paperless billing, being a senior_citizen. On the negative size, the highest correlations with churning exist for low total charges, no online security plan, no tech support, no dependents and no having partner. Still, all these 1 vs 1 correlations have an absolute Pearson factor of < 0.2, which is not very impressive, but noticeable.\n",
        "\n",
        "<ins>Other noteworthy correlation of features</ins> \n",
        "\n",
        "Streaming_tv and streaming_movies are both highly correlated with each other and with charges (monthly and total) also device protection and online backup. It is obvious that extra services elavate the price. Monthly and total charges correlate with each other. this make sence and the relation is the lengh of use which we will extract later for feature engineering. \n",
        "\n"
      ],
      "metadata": {
        "id": "t8JhKn59oQYf"
      },
      "id": "t8JhKn59oQYf"
    },
    {
      "cell_type": "markdown",
      "id": "b86be2b7",
      "metadata": {
        "id": "b86be2b7"
      },
      "source": [
        "### Time series exploration"
      ]
    },
    {
      "cell_type": "code",
      "execution_count": 37,
      "id": "77d95cca",
      "metadata": {
        "id": "77d95cca"
      },
      "outputs": [],
      "source": [
        "def churn_0_1_raw(row):\n",
        "    end_date = row['EndDate']\n",
        "    if end_date == 'No':\n",
        "        return 0\n",
        "    else:\n",
        "        return 1"
      ]
    },
    {
      "cell_type": "code",
      "execution_count": 38,
      "id": "0782bee5",
      "metadata": {
        "id": "0782bee5"
      },
      "outputs": [],
      "source": [
        "try:\n",
        "    df_time_series = pd.read_csv('contract.csv', index_col=['BeginDate'], parse_dates=['BeginDate'])\n",
        "    \n",
        "except:\n",
        "    df_time_series = pd.read_csv('/content/drive/MyDrive/churn_gm/contract.csv', index_col=['BeginDate'], parse_dates=['BeginDate'])\n",
        "\n",
        "\n",
        "df_time_series.sort_index(inplace=True)"
      ]
    },
    {
      "cell_type": "code",
      "execution_count": 40,
      "id": "25898cd5",
      "metadata": {
        "scrolled": true,
        "id": "25898cd5"
      },
      "outputs": [],
      "source": [
        "df_time_series['churn'] = df_time_series.apply(churn_0_1_raw, axis=1)\n",
        "df_time_series = df_time_series.drop(['customerID', 'EndDate', 'Type', 'PaperlessBilling', 'PaymentMethod',\n",
        "       'MonthlyCharges', 'TotalCharges'], axis=1)"
      ]
    },
    {
      "cell_type": "code",
      "execution_count": null,
      "id": "d651baf9",
      "metadata": {
        "colab": {
          "base_uri": "https://localhost:8080/",
          "height": 602
        },
        "id": "d651baf9",
        "outputId": "194ba296-1e1f-4817-8bfd-d3300860eff4"
      },
      "outputs": [
        {
          "output_type": "stream",
          "name": "stdout",
          "text": [
            "Yearly seasonal\n"
          ]
        },
        {
          "output_type": "display_data",
          "data": {
            "text/plain": [
              "<Figure size 720x576 with 3 Axes>"
            ],
            "image/png": "[encoded data removed]"
          },
          "metadata": {
            "needs_background": "light"
          }
        }
      ],
      "source": [
        "df_time_series_Y = df_time_series.resample('1Y').sum()\n",
        "result_Y = seasonal_decompose(df_time_series_Y, model='additive')\n",
        "fig = result_Y.plot(seasonal=False)\n",
        "fig.set_size_inches((10, 8))\n",
        "# Tight layout to realign things\n",
        "fig.tight_layout()\n",
        "print('Yearly seasonal')\n",
        "plt.show()"
      ]
    },
    {
      "cell_type": "markdown",
      "id": "bc16c285",
      "metadata": {
        "id": "bc16c285"
      },
      "source": [
        "We see general increase in churn over years. will add it also as a feature. \n",
        "\n",
        "Let's check the seasonality over month."
      ]
    },
    {
      "cell_type": "code",
      "execution_count": 44,
      "id": "16098c6c",
      "metadata": {
        "colab": {
          "base_uri": "https://localhost:8080/",
          "height": 605
        },
        "id": "16098c6c",
        "outputId": "fc385a90-3978-4a70-ff7c-45f3e3f986da"
      },
      "outputs": [
        {
          "output_type": "stream",
          "name": "stdout",
          "text": [
            "Monthly seasonal all years\n"
          ]
        },
        {
          "output_type": "display_data",
          "data": {
            "text/plain": [
              "<Figure size 720x576 with 3 Axes>"
            ],
            "image/png": "[encoded data removed]"
          },
          "metadata": {
            "needs_background": "light"
          }
        }
      ],
      "source": [
        "df_time_series_M = df_time_series['2015-01':'2020-01']\n",
        "df_time_series_M = df_time_series.resample('1M').sum()\n",
        "result_M = seasonal_decompose(df_time_series_M, model='additive')\n",
        "fig= result_M.plot(\n",
        "    observed=True,\n",
        "    seasonal=True,\n",
        "    trend=False,\n",
        "    resid=True,\n",
        "    weights=False\n",
        ")\n",
        "fig.set_size_inches((10, 8))\n",
        "fig.autofmt_xdate()\n",
        "\n",
        "# Tight layout to realign things\n",
        "fig.tight_layout()\n",
        "print('Monthly seasonal all years')\n",
        "plt.show()"
      ]
    },
    {
      "cell_type": "markdown",
      "id": "71269e00",
      "metadata": {
        "id": "71269e00"
      },
      "source": [
        "There is a clear seasonality with the month so we will add it also as a feature"
      ]
    },
    {
      "cell_type": "markdown",
      "id": "a8277a8f",
      "metadata": {
        "id": "a8277a8f"
      },
      "source": [
        "# Feature engineering"
      ]
    },
    {
      "cell_type": "markdown",
      "id": "3da044a8",
      "metadata": {
        "id": "3da044a8"
      },
      "source": [
        "## Add new features"
      ]
    },
    {
      "cell_type": "code",
      "execution_count": 45,
      "id": "cf6643b7",
      "metadata": {
        "id": "cf6643b7"
      },
      "outputs": [],
      "source": [
        "# change to yes no the senior_citizen\n",
        "df_merged['senior_citizen'] = df_merged['senior_citizen'].replace(to_replace={0:'No', 1:'Yes'})"
      ]
    },
    {
      "cell_type": "code",
      "execution_count": 46,
      "id": "bd11bc62",
      "metadata": {
        "id": "bd11bc62"
      },
      "outputs": [],
      "source": [
        "# create new boolean column\n",
        "df_merged['Male'] = df_merged['gender'].replace(to_replace={'Female':'No', 'Male':'Yes'})"
      ]
    },
    {
      "cell_type": "code",
      "execution_count": 47,
      "id": "2b472b07",
      "metadata": {
        "id": "2b472b07"
      },
      "outputs": [],
      "source": [
        "features_for_ohe_yes_no = [\n",
        "   'paperless_billing', 'online_security', 'online_backup', 'device_protection',\n",
        "   'tech_support', 'streaming_tv', 'streaming_movies', 'senior_citizen',\n",
        "   'partner', 'dependents', 'Male'\n",
        "]"
      ]
    },
    {
      "cell_type": "code",
      "execution_count": 48,
      "id": "0651e51b",
      "metadata": {
        "id": "0651e51b"
      },
      "outputs": [],
      "source": [
        "# change all yes no to 1 0\n",
        "df_merged[features_for_ohe_yes_no] = df_merged[features_for_ohe_yes_no].replace(\n",
        "    to_replace={'No':0, 'Yes':1}\n",
        ")"
      ]
    },
    {
      "cell_type": "code",
      "execution_count": 49,
      "id": "754c2581",
      "metadata": {
        "id": "754c2581"
      },
      "outputs": [],
      "source": [
        "# OHE for internet_service and remove the no as it is same as dsl == 0 and fiber_optic == 0\n",
        "df_merged['dsl'] = pd.get_dummies(\n",
        "    df_merged['internet_service'])['DSL']\n",
        "df_merged['fiber_optic'] = pd.get_dummies(\n",
        "    df_merged['internet_service'])['Fiber optic']"
      ]
    },
    {
      "cell_type": "code",
      "execution_count": 50,
      "id": "22f5ad64",
      "metadata": {
        "id": "22f5ad64"
      },
      "outputs": [],
      "source": [
        "# ohe for 'type' and 'payment_method'\n",
        "columns_for_ohe = ['type', 'payment_method']\n",
        "df_merged_ohe = pd.get_dummies(df_merged[columns_for_ohe], drop_first=True)\n",
        "df_merged = df_merged.join(df_merged_ohe)"
      ]
    },
    {
      "cell_type": "code",
      "execution_count": 51,
      "id": "fe943786",
      "metadata": {
        "id": "fe943786"
      },
      "outputs": [],
      "source": [
        "# add month and year feature\n",
        "\n",
        "try:\n",
        "    df_time_series_for_month_year_feature = pd.read_csv('contract.csv', index_col=['BeginDate'], parse_dates=['BeginDate'])\n",
        "    \n",
        "except:\n",
        "    df_time_series_for_month_year_feature = pd.read_csv('/content/drive/MyDrive/churn_gm/contract.csv', index_col=['BeginDate'], parse_dates=['BeginDate'])\n",
        "\n",
        "\n",
        "df_time_series_for_month_year_feature['month'] = df_time_series_for_month_year_feature.index.month\n",
        "df_time_series_for_month_year_feature['year'] = df_time_series_for_month_year_feature.index.year\n",
        "df_time_series_for_month_year_feature.reset_index(inplace=True)\n",
        "\n",
        "df_merged['month'] = df_time_series_for_month_year_feature['month']\n",
        "df_merged['year'] = df_time_series_for_month_year_feature['year']"
      ]
    },
    {
      "cell_type": "code",
      "source": [
        "# create new feature representing length of registration in months\n",
        "df_merged['months_registered'] = df_merged['total_charges'] / df_merged['monthly_charges']"
      ],
      "metadata": {
        "id": "43vChIwBAVDu"
      },
      "id": "43vChIwBAVDu",
      "execution_count": 52,
      "outputs": []
    },
    {
      "cell_type": "code",
      "source": [
        "df_merged.sample(2)"
      ],
      "metadata": {
        "colab": {
          "base_uri": "https://localhost:8080/",
          "height": 246
        },
        "id": "pu2rnjc0A-sf",
        "outputId": "a4207b45-64bc-409f-cfaa-38f0c3f753a3"
      },
      "id": "pu2rnjc0A-sf",
      "execution_count": 53,
      "outputs": [
        {
          "output_type": "execute_result",
          "data": {
            "text/plain": [
              "     customer_id begin_date end_date            type  paperless_billing  \\\n",
              "2539  2050-ONYDQ 2014-09-01       No        Two year                  0   \n",
              "4298  5651-CPDND 2019-04-01       No  Month-to-month                  0   \n",
              "\n",
              "               payment_method  monthly_charges  total_charges  \\\n",
              "2539  Credit card (automatic)             26.0        1654.85   \n",
              "4298             Mailed check             46.0         492.10   \n",
              "\n",
              "     internet_service  online_security  online_backup  device_protection  \\\n",
              "2539               No                0              0                  0   \n",
              "4298              DSL                0              0                  0   \n",
              "\n",
              "      tech_support  streaming_tv  streaming_movies  gender  senior_citizen  \\\n",
              "2539             0             0                 0  Female               0   \n",
              "4298             0             0                 0    Male               0   \n",
              "\n",
              "      partner  dependents multiple_lines  churn  Male  dsl  fiber_optic  \\\n",
              "2539        1           1            2.0      0     0    0            0   \n",
              "4298        0           0            1.0      0     1    1            0   \n",
              "\n",
              "      type_One year  type_Two year  payment_method_Credit card (automatic)  \\\n",
              "2539              0              1                                       1   \n",
              "4298              0              0                                       0   \n",
              "\n",
              "      payment_method_Electronic check  payment_method_Mailed check  month  \\\n",
              "2539                                0                            0      9   \n",
              "4298                                0                            1      4   \n",
              "\n",
              "      year  months_registered  \n",
              "2539  2014          63.648077  \n",
              "4298  2019          10.697826  "
            ],
            "text/html": [
              "\n",
              "  <div id=\"df-c9c14ab3-f84c-4771-9725-f2e504735dfa\">\n",
              "    <div class=\"colab-df-container\">\n",
              "      <div>\n",
              "<style scoped>\n",
              "    .dataframe tbody tr th:only-of-type {\n",
              "        vertical-align: middle;\n",
              "    }\n",
              "\n",
              "    .dataframe tbody tr th {\n",
              "        vertical-align: top;\n",
              "    }\n",
              "\n",
              "    .dataframe thead th {\n",
              "        text-align: right;\n",
              "    }\n",
              "</style>\n",
              "<table border=\"1\" class=\"dataframe\">\n",
              "  <thead>\n",
              "    <tr style=\"text-align: right;\">\n",
              "      <th></th>\n",
              "      <th>customer_id</th>\n",
              "      <th>begin_date</th>\n",
              "      <th>end_date</th>\n",
              "      <th>type</th>\n",
              "      <th>paperless_billing</th>\n",
              "      <th>payment_method</th>\n",
              "      <th>monthly_charges</th>\n",
              "      <th>total_charges</th>\n",
              "      <th>internet_service</th>\n",
              "      <th>online_security</th>\n",
              "      <th>online_backup</th>\n",
              "      <th>device_protection</th>\n",
              "      <th>tech_support</th>\n",
              "      <th>streaming_tv</th>\n",
              "      <th>streaming_movies</th>\n",
              "      <th>gender</th>\n",
              "      <th>senior_citizen</th>\n",
              "      <th>partner</th>\n",
              "      <th>dependents</th>\n",
              "      <th>multiple_lines</th>\n",
              "      <th>churn</th>\n",
              "      <th>Male</th>\n",
              "      <th>dsl</th>\n",
              "      <th>fiber_optic</th>\n",
              "      <th>type_One year</th>\n",
              "      <th>type_Two year</th>\n",
              "      <th>payment_method_Credit card (automatic)</th>\n",
              "      <th>payment_method_Electronic check</th>\n",
              "      <th>payment_method_Mailed check</th>\n",
              "      <th>month</th>\n",
              "      <th>year</th>\n",
              "      <th>months_registered</th>\n",
              "    </tr>\n",
              "  </thead>\n",
              "  <tbody>\n",
              "    <tr>\n",
              "      <th>2539</th>\n",
              "      <td>2050-ONYDQ</td>\n",
              "      <td>2014-09-01</td>\n",
              "      <td>No</td>\n",
              "      <td>Two year</td>\n",
              "      <td>0</td>\n",
              "      <td>Credit card (automatic)</td>\n",
              "      <td>26.0</td>\n",
              "      <td>1654.85</td>\n",
              "      <td>No</td>\n",
              "      <td>0</td>\n",
              "      <td>0</td>\n",
              "      <td>0</td>\n",
              "      <td>0</td>\n",
              "      <td>0</td>\n",
              "      <td>0</td>\n",
              "      <td>Female</td>\n",
              "      <td>0</td>\n",
              "      <td>1</td>\n",
              "      <td>1</td>\n",
              "      <td>2.0</td>\n",
              "      <td>0</td>\n",
              "      <td>0</td>\n",
              "      <td>0</td>\n",
              "      <td>0</td>\n",
              "      <td>0</td>\n",
              "      <td>1</td>\n",
              "      <td>1</td>\n",
              "      <td>0</td>\n",
              "      <td>0</td>\n",
              "      <td>9</td>\n",
              "      <td>2014</td>\n",
              "      <td>63.648077</td>\n",
              "    </tr>\n",
              "    <tr>\n",
              "      <th>4298</th>\n",
              "      <td>5651-CPDND</td>\n",
              "      <td>2019-04-01</td>\n",
              "      <td>No</td>\n",
              "      <td>Month-to-month</td>\n",
              "      <td>0</td>\n",
              "      <td>Mailed check</td>\n",
              "      <td>46.0</td>\n",
              "      <td>492.10</td>\n",
              "      <td>DSL</td>\n",
              "      <td>0</td>\n",
              "      <td>0</td>\n",
              "      <td>0</td>\n",
              "      <td>0</td>\n",
              "      <td>0</td>\n",
              "      <td>0</td>\n",
              "      <td>Male</td>\n",
              "      <td>0</td>\n",
              "      <td>0</td>\n",
              "      <td>0</td>\n",
              "      <td>1.0</td>\n",
              "      <td>0</td>\n",
              "      <td>1</td>\n",
              "      <td>1</td>\n",
              "      <td>0</td>\n",
              "      <td>0</td>\n",
              "      <td>0</td>\n",
              "      <td>0</td>\n",
              "      <td>0</td>\n",
              "      <td>1</td>\n",
              "      <td>4</td>\n",
              "      <td>2019</td>\n",
              "      <td>10.697826</td>\n",
              "    </tr>\n",
              "  </tbody>\n",
              "</table>\n",
              "</div>\n",
              "      <button class=\"colab-df-convert\" onclick=\"convertToInteractive('df-c9c14ab3-f84c-4771-9725-f2e504735dfa')\"\n",
              "              title=\"Convert this dataframe to an interactive table.\"\n",
              "              style=\"display:none;\">\n",
              "        \n",
              "  <svg xmlns=\"http://www.w3.org/2000/svg\" height=\"24px\"viewBox=\"0 0 24 24\"\n",
              "       width=\"24px\">\n",
              "    <path d=\"M0 0h24v24H0V0z\" fill=\"none\"/>\n",
              "    <path d=\"M18.56 5.44l.94 2.06.94-2.06 2.06-.94-2.06-.94-.94-2.06-.94 2.06-2.06.94zm-11 1L8.5 8.5l.94-2.06 2.06-.94-2.06-.94L8.5 2.5l-.94 2.06-2.06.94zm10 10l.94 2.06.94-2.06 2.06-.94-2.06-.94-.94-2.06-.94 2.06-2.06.94z\"/><path d=\"M17.41 7.96l-1.37-1.37c-.4-.4-.92-.59-1.43-.59-.52 0-1.04.2-1.43.59L10.3 9.45l-7.72 7.72c-.78.78-.78 2.05 0 2.83L4 21.41c.39.39.9.59 1.41.59.51 0 1.02-.2 1.41-.59l7.78-7.78 2.81-2.81c.8-.78.8-2.07 0-2.86zM5.41 20L4 18.59l7.72-7.72 1.47 1.35L5.41 20z\"/>\n",
              "  </svg>\n",
              "      </button>\n",
              "      \n",
              "  <style>\n",
              "    .colab-df-container {\n",
              "      display:flex;\n",
              "      flex-wrap:wrap;\n",
              "      gap: 12px;\n",
              "    }\n",
              "\n",
              "    .colab-df-convert {\n",
              "      background-color: #E8F0FE;\n",
              "      border: none;\n",
              "      border-radius: 50%;\n",
              "      cursor: pointer;\n",
              "      display: none;\n",
              "      fill: #1967D2;\n",
              "      height: 32px;\n",
              "      padding: 0 0 0 0;\n",
              "      width: 32px;\n",
              "    }\n",
              "\n",
              "    .colab-df-convert:hover {\n",
              "      background-color: #E2EBFA;\n",
              "      box-shadow: 0px 1px 2px rgba(60, 64, 67, 0.3), 0px 1px 3px 1px rgba(60, 64, 67, 0.15);\n",
              "      fill: #174EA6;\n",
              "    }\n",
              "\n",
              "    [theme=dark] .colab-df-convert {\n",
              "      background-color: #3B4455;\n",
              "      fill: #D2E3FC;\n",
              "    }\n",
              "\n",
              "    [theme=dark] .colab-df-convert:hover {\n",
              "      background-color: #434B5C;\n",
              "      box-shadow: 0px 1px 3px 1px rgba(0, 0, 0, 0.15);\n",
              "      filter: drop-shadow(0px 1px 2px rgba(0, 0, 0, 0.3));\n",
              "      fill: #FFFFFF;\n",
              "    }\n",
              "  </style>\n",
              "\n",
              "      <script>\n",
              "        const buttonEl =\n",
              "          document.querySelector('#df-c9c14ab3-f84c-4771-9725-f2e504735dfa button.colab-df-convert');\n",
              "        buttonEl.style.display =\n",
              "          google.colab.kernel.accessAllowed ? 'block' : 'none';\n",
              "\n",
              "        async function convertToInteractive(key) {\n",
              "          const element = document.querySelector('#df-c9c14ab3-f84c-4771-9725-f2e504735dfa');\n",
              "          const dataTable =\n",
              "            await google.colab.kernel.invokeFunction('convertToInteractive',\n",
              "                                                     [key], {});\n",
              "          if (!dataTable) return;\n",
              "\n",
              "          const docLinkHtml = 'Like what you see? Visit the ' +\n",
              "            '<a target=\"_blank\" href=https://colab.research.google.com/notebooks/data_table.ipynb>data table notebook</a>'\n",
              "            + ' to learn more about interactive tables.';\n",
              "          element.innerHTML = '';\n",
              "          dataTable['output_type'] = 'display_data';\n",
              "          await google.colab.output.renderOutput(dataTable, element);\n",
              "          const docLink = document.createElement('div');\n",
              "          docLink.innerHTML = docLinkHtml;\n",
              "          element.appendChild(docLink);\n",
              "        }\n",
              "      </script>\n",
              "    </div>\n",
              "  </div>\n",
              "  "
            ]
          },
          "metadata": {},
          "execution_count": 53
        }
      ]
    },
    {
      "cell_type": "markdown",
      "id": "c65fcaab",
      "metadata": {
        "id": "c65fcaab"
      },
      "source": [
        "# Prepare data for modeling"
      ]
    },
    {
      "cell_type": "markdown",
      "id": "c3972bdb",
      "metadata": {
        "id": "c3972bdb"
      },
      "source": [
        "## Split train and test"
      ]
    },
    {
      "cell_type": "code",
      "execution_count": 54,
      "id": "11cfc0fb",
      "metadata": {
        "id": "11cfc0fb"
      },
      "outputs": [],
      "source": [
        "features_columns = [\n",
        "    'paperless_billing', 'monthly_charges', 'total_charges',\n",
        "    'online_security', 'online_backup',\n",
        "    'device_protection', 'tech_support', 'streaming_tv', 'streaming_movies',\n",
        "    'senior_citizen', 'partner', 'dependents', 'multiple_lines',\n",
        "    'Male', 'dsl', 'fiber_optic', 'type_One year', 'type_Two year',\n",
        "    'payment_method_Credit card (automatic)',\n",
        "    'payment_method_Electronic check', 'payment_method_Mailed check',\n",
        "    'month', 'year', 'months_registered'\n",
        "]\n",
        "\n",
        "target_column = ['churn']"
      ]
    },
    {
      "cell_type": "code",
      "execution_count": 55,
      "id": "db599b6c",
      "metadata": {
        "id": "db599b6c"
      },
      "outputs": [],
      "source": [
        "X = df_merged[features_columns]\n",
        "y = df_merged[target_column]\n",
        "X_train, X_test, y_train, y_test = train_test_split(\n",
        "    X, y, test_size=0.2, random_state=12345, stratify=df_merged['churn']\n",
        ")"
      ]
    },
    {
      "cell_type": "code",
      "execution_count": 56,
      "id": "deb2bef9",
      "metadata": {
        "colab": {
          "base_uri": "https://localhost:8080/",
          "height": 0
        },
        "id": "deb2bef9",
        "outputId": "252ad724-8904-4aaa-fcbc-dde99e5d9c98"
      },
      "outputs": [
        {
          "output_type": "execute_result",
          "data": {
            "text/plain": [
              "((5634, 24), (1409, 24), (5634, 1), (1409, 1))"
            ]
          },
          "metadata": {},
          "execution_count": 56
        }
      ],
      "source": [
        "X_train.shape, X_test.shape, y_train.shape, y_test.shape"
      ]
    },
    {
      "cell_type": "code",
      "execution_count": 57,
      "id": "9d4df17d",
      "metadata": {
        "id": "9d4df17d"
      },
      "outputs": [],
      "source": [
        "X_train = X_train.astype(float)\n",
        "X_test = X_test.astype(float)"
      ]
    },
    {
      "cell_type": "code",
      "execution_count": 58,
      "id": "6ac94938",
      "metadata": {
        "colab": {
          "base_uri": "https://localhost:8080/",
          "height": 0
        },
        "id": "6ac94938",
        "outputId": "09ee7803-1a60-4bba-e9ab-92cda51310ec"
      },
      "outputs": [
        {
          "output_type": "execute_result",
          "data": {
            "text/plain": [
              "True"
            ]
          },
          "metadata": {},
          "execution_count": 58
        }
      ],
      "source": [
        "# check if stratify worked\n",
        "round(y_train['churn'].sum() / len(y_train), 3) == round(y_test['churn'].sum() / len(y_test), 3)"
      ]
    },
    {
      "cell_type": "code",
      "execution_count": 59,
      "id": "207980e8",
      "metadata": {
        "colab": {
          "base_uri": "https://localhost:8080/",
          "height": 0
        },
        "id": "207980e8",
        "outputId": "38bd0049-890b-4287-b4c6-5145fba1d0e3"
      },
      "outputs": [
        {
          "output_type": "execute_result",
          "data": {
            "text/plain": [
              "0.2653532126375577"
            ]
          },
          "metadata": {},
          "execution_count": 59
        }
      ],
      "source": [
        "y_train['churn'].sum() / len(y_train['churn'])"
      ]
    },
    {
      "cell_type": "markdown",
      "source": [
        "# Model Building (Baseline Validation Performance)\n",
        "Train models with the drain dataset without manipulations"
      ],
      "metadata": {
        "id": "ipD4XiBHt38d"
      },
      "id": "ipD4XiBHt38d"
    },
    {
      "cell_type": "code",
      "source": [
        "def simple_model_training(classifier, x_train=X_train, y_train=y_train):\n",
        "  cv = StratifiedKFold(n_splits=5, shuffle=True, random_state=12345)\n",
        "  scores = cross_val_score(classifier, x_train, y_train.values.ravel(), cv=cv, scoring='roc_auc')\n",
        "  print(scores)\n",
        "  print(scores.mean())  \n"
      ],
      "metadata": {
        "id": "ksMfhFPgmpDH"
      },
      "id": "ksMfhFPgmpDH",
      "execution_count": 60,
      "outputs": []
    },
    {
      "cell_type": "markdown",
      "source": [
        "## Logistic regression"
      ],
      "metadata": {
        "id": "H1YRX9j7uJdJ"
      },
      "id": "H1YRX9j7uJdJ"
    },
    {
      "cell_type": "code",
      "source": [
        "lr = LogisticRegression(random_state=12345, solver='liblinear', class_weight='balanced')\n",
        "simple_model_training(classifier=lr)"
      ],
      "metadata": {
        "colab": {
          "base_uri": "https://localhost:8080/",
          "height": 0
        },
        "id": "_5qKWVkxoyc9",
        "outputId": "03874f86-4ec0-4bd3-f97f-349257c0b661"
      },
      "id": "_5qKWVkxoyc9",
      "execution_count": 61,
      "outputs": [
        {
          "output_type": "stream",
          "name": "stdout",
          "text": [
            "[0.85869161 0.8289023  0.85334367 0.86584913 0.8264024 ]\n",
            "0.8466378219805211\n"
          ]
        }
      ]
    },
    {
      "cell_type": "markdown",
      "source": [
        "## Random forest"
      ],
      "metadata": {
        "id": "hdUuU3vNBAWh"
      },
      "id": "hdUuU3vNBAWh"
    },
    {
      "cell_type": "code",
      "source": [
        "rf = RandomForestClassifier(random_state=12345, class_weight='balanced')\n",
        "simple_model_training(classifier=rf)"
      ],
      "metadata": {
        "colab": {
          "base_uri": "https://localhost:8080/",
          "height": 0
        },
        "id": "86iyNieNBEez",
        "outputId": "a209d88a-2a40-422d-871f-a5b741bd48fb"
      },
      "id": "86iyNieNBEez",
      "execution_count": 62,
      "outputs": [
        {
          "output_type": "stream",
          "name": "stdout",
          "text": [
            "[0.89755304 0.87803548 0.90605157 0.90437529 0.88608744]\n",
            "0.8944205646398646\n"
          ]
        }
      ]
    },
    {
      "cell_type": "markdown",
      "source": [
        "## LGBM Classifier"
      ],
      "metadata": {
        "id": "QXFJuqO-BY1w"
      },
      "id": "QXFJuqO-BY1w"
    },
    {
      "cell_type": "code",
      "source": [
        "lgbm = LGBMClassifier(random_state=12345, objective='binary', class_weight='balanced')\n",
        "simple_model_training(classifier=lgbm)"
      ],
      "metadata": {
        "colab": {
          "base_uri": "https://localhost:8080/",
          "height": 0
        },
        "id": "5rcSYK9KBbrJ",
        "outputId": "18f48855-872d-4551-9292-fce8353dcffc"
      },
      "id": "5rcSYK9KBbrJ",
      "execution_count": 63,
      "outputs": [
        {
          "output_type": "stream",
          "name": "stdout",
          "text": [
            "[0.94738904 0.94007804 0.9660624  0.9607185  0.95363829]\n",
            "0.9535772525549271\n"
          ]
        }
      ]
    },
    {
      "cell_type": "markdown",
      "source": [
        "Testing the best preforming model on the test set"
      ],
      "metadata": {
        "id": "v8lhzsa3JZYf"
      },
      "id": "v8lhzsa3JZYf"
    },
    {
      "cell_type": "code",
      "source": [
        "lgbm.fit(X_train, y_train.values.ravel())\n",
        "print('')\n",
        "roc_auc_score(y_test, lgbm.predict_proba(X_test)[:, 1])"
      ],
      "metadata": {
        "colab": {
          "base_uri": "https://localhost:8080/",
          "height": 0
        },
        "id": "zVVJjBUeCdxv",
        "outputId": "85d3036e-ece4-4171-c09f-0e70d32cf629"
      },
      "id": "zVVJjBUeCdxv",
      "execution_count": 64,
      "outputs": [
        {
          "output_type": "execute_result",
          "data": {
            "text/plain": [
              "LGBMClassifier(class_weight='balanced', objective='binary', random_state=12345)"
            ]
          },
          "metadata": {},
          "execution_count": 64
        },
        {
          "output_type": "stream",
          "name": "stdout",
          "text": [
            "\n"
          ]
        },
        {
          "output_type": "execute_result",
          "data": {
            "text/plain": [
              "0.9598129633935261"
            ]
          },
          "metadata": {},
          "execution_count": 64
        }
      ]
    },
    {
      "cell_type": "markdown",
      "source": [
        "We see small score improvment from the cross validate model.\n",
        "\n",
        "Let's try to tune the models with emphesis to class imbalance and numerical features scaling."
      ],
      "metadata": {
        "id": "LKomHxGnqBrm"
      },
      "id": "LKomHxGnqBrm"
    },
    {
      "cell_type": "markdown",
      "source": [
        "# Scaling of numerical features\n",
        "Since we are planning on performing cross validation, to limit data leakage between the train and validation folds I will create a preprocessing step that includes scaling the data, but it will be performed based on each training fold and not globally on the whole training set at this point."
      ],
      "metadata": {
        "id": "d7nHlA53B0NO"
      },
      "id": "d7nHlA53B0NO"
    },
    {
      "cell_type": "code",
      "source": [
        "# choose which columns to scale\n",
        "num_cols = ['monthly_charges', 'total_charges', 'months_registered', 'month', 'year']\n",
        "\n",
        "# define possible transformers\n",
        "scaler = StandardScaler()\n",
        "\n",
        "# define column transformer for pipeline\n",
        "preprocess = make_column_transformer(\n",
        "    (scaler, num_cols),\n",
        "    remainder='passthrough')"
      ],
      "metadata": {
        "id": "0kdNi4BzB9aE"
      },
      "id": "0kdNi4BzB9aE",
      "execution_count": 65,
      "outputs": []
    },
    {
      "cell_type": "markdown",
      "id": "a56d3eb0",
      "metadata": {
        "id": "a56d3eb0"
      },
      "source": [
        "# Model training with hyperparameter tuning"
      ]
    },
    {
      "cell_type": "code",
      "execution_count": 66,
      "id": "17919d88",
      "metadata": {
        "id": "17919d88"
      },
      "outputs": [],
      "source": [
        "# create df to store results\n",
        "df_results_tunning = pd.DataFrame(columns=['model', 'roc_auc_scores'])\n",
        "\n",
        "def append_to_score_df(model_name, roc_auc):\n",
        "    row_val = [model_name, round(roc_auc, 3)]\n",
        "    df_results_tunning.loc[len(df_results_tunning)] = row_val\n",
        "    print(df_results_tunning)"
      ]
    },
    {
      "cell_type": "code",
      "source": [
        "def random_tune_model(model, param_dist, x_train, y_train):\n",
        "    \n",
        "    # define pipeline\n",
        "    steps = [('preprocessing', preprocess), ('smote', SMOTE(random_state=12345)), ('model', model)]\n",
        "    pipeline = Pipeline(steps=steps)\n",
        "\n",
        "\n",
        "    # create stratified cross validation folds\n",
        "    cv = StratifiedKFold(n_splits=5, shuffle=True, random_state=12345)\n",
        "    \n",
        "    # define grid search model\n",
        "    random_search = RandomizedSearchCV(estimator=pipeline, param_distributions=param_dist,\n",
        "                                       n_jobs=-1, cv=cv, scoring='roc_auc', n_iter=30)\n",
        "    \n",
        "    # perform the search\n",
        "    random_result = random_search.fit(x_train, y_train.values.ravel())\n",
        "    \n",
        "    # get scores for this model\n",
        "    print(\"Best: %f using %s\" % (random_result.best_score_, random_result.best_params_))\n",
        "    print('')\n",
        "    means = random_result.cv_results_['mean_test_score']\n",
        "    stds = random_result.cv_results_['std_test_score']\n",
        "    params = random_result.cv_results_['params']\n",
        "\n",
        "    zipped = zip(means, stds, params) \n",
        "\n",
        "    # Converting to list\n",
        "    zipped = list(zipped)\n",
        "\n",
        "    # Using sorted and lambda\n",
        "    res = sorted(zipped, key = lambda x: x[0], reverse=True)\n",
        "\n",
        "\n",
        "    for mean, stdev, param in res:\n",
        "        print(\"%f (%f) with: %r\" % (mean, stdev, param))\n",
        "        \n",
        "    return random_result, params\n"
      ],
      "metadata": {
        "id": "muFtTseYiI80"
      },
      "id": "muFtTseYiI80",
      "execution_count": 67,
      "outputs": []
    },
    {
      "cell_type": "markdown",
      "source": [
        "## Logistic regression"
      ],
      "metadata": {
        "id": "UaE_Fc_f0hxw"
      },
      "id": "UaE_Fc_f0hxw"
    },
    {
      "cell_type": "code",
      "source": [
        "# define model\n",
        "model_lr = LogisticRegression(random_state=12345)\n",
        "\n",
        "# Creating the hyperparameter dist\n",
        "# The main hyperparameters we may tune in logistic regression are: solver, penalty, and regularization strength\n",
        "solver = ['liblinear', 'newton-cg']\n",
        "C = np.arange(0.01, 1, 0.01)\n",
        "param_dist ={\n",
        "    'solver' : solver,\n",
        "    'C' : C,\n",
        "}\n",
        "new_params_dist = {'model__' + key: param_dist[key] for key in param_dist}\n",
        "\n",
        "# perform hyperparameter tuning\n",
        "random_result_lr, random_params_lr = random_tune_model(model_lr, new_params_dist, X_train, y_train)\n",
        "\n",
        "print(\"\")\n",
        "\n",
        "# append to df_train_results\n",
        "append_to_score_df('LogisticRegression', random_result_lr.best_score_)"
      ],
      "metadata": {
        "colab": {
          "base_uri": "https://localhost:8080/",
          "height": 0
        },
        "id": "kHTZMYBTjcG6",
        "outputId": "b35cb015-00c2-4657-a11f-4c8532bcbfda"
      },
      "id": "kHTZMYBTjcG6",
      "execution_count": 68,
      "outputs": [
        {
          "output_type": "stream",
          "name": "stdout",
          "text": [
            "Best: 0.956901 using {'model__solver': 'liblinear', 'model__C': 0.91}\n",
            "\n",
            "0.956901 (0.007878) with: {'model__solver': 'liblinear', 'model__C': 0.91}\n",
            "0.956434 (0.007965) with: {'model__solver': 'liblinear', 'model__C': 0.88}\n",
            "0.955689 (0.008183) with: {'model__solver': 'newton-cg', 'model__C': 0.8300000000000001}\n",
            "0.955000 (0.008242) with: {'model__solver': 'liblinear', 'model__C': 0.8}\n",
            "0.954261 (0.008438) with: {'model__solver': 'newton-cg', 'model__C': 0.76}\n",
            "0.953803 (0.008512) with: {'model__solver': 'newton-cg', 'model__C': 0.74}\n",
            "0.953592 (0.008542) with: {'model__solver': 'newton-cg', 'model__C': 0.73}\n",
            "0.953431 (0.008461) with: {'model__solver': 'liblinear', 'model__C': 0.73}\n",
            "0.953200 (0.008492) with: {'model__solver': 'liblinear', 'model__C': 0.72}\n",
            "0.952835 (0.008642) with: {'model__solver': 'newton-cg', 'model__C': 0.7000000000000001}\n",
            "0.952170 (0.008675) with: {'model__solver': 'liblinear', 'model__C': 0.68}\n",
            "0.950044 (0.009076) with: {'model__solver': 'liblinear', 'model__C': 0.61}\n",
            "0.948714 (0.009318) with: {'model__solver': 'newton-cg', 'model__C': 0.5700000000000001}\n",
            "0.948168 (0.009337) with: {'model__solver': 'liblinear', 'model__C': 0.56}\n",
            "0.947070 (0.009604) with: {'model__solver': 'newton-cg', 'model__C': 0.53}\n",
            "0.944024 (0.010129) with: {'model__solver': 'newton-cg', 'model__C': 0.47000000000000003}\n",
            "0.942830 (0.010307) with: {'model__solver': 'newton-cg', 'model__C': 0.45}\n",
            "0.940306 (0.010714) with: {'model__solver': 'newton-cg', 'model__C': 0.41000000000000003}\n",
            "0.939391 (0.010774) with: {'model__solver': 'liblinear', 'model__C': 0.4}\n",
            "0.935583 (0.011306) with: {'model__solver': 'newton-cg', 'model__C': 0.35000000000000003}\n",
            "0.934623 (0.011402) with: {'model__solver': 'newton-cg', 'model__C': 0.34}\n",
            "0.930454 (0.011844) with: {'model__solver': 'newton-cg', 'model__C': 0.3}\n",
            "0.911333 (0.013345) with: {'model__solver': 'newton-cg', 'model__C': 0.18000000000000002}\n",
            "0.906942 (0.013682) with: {'model__solver': 'newton-cg', 'model__C': 0.16}\n",
            "0.889334 (0.014368) with: {'model__solver': 'newton-cg', 'model__C': 0.09999999999999999}\n",
            "0.889178 (0.014396) with: {'model__solver': 'liblinear', 'model__C': 0.09999999999999999}\n",
            "0.885772 (0.014623) with: {'model__solver': 'newton-cg', 'model__C': 0.09}\n",
            "0.864214 (0.015402) with: {'model__solver': 'liblinear', 'model__C': 0.04}\n",
            "0.859117 (0.015613) with: {'model__solver': 'newton-cg', 'model__C': 0.03}\n",
            "0.859031 (0.015644) with: {'model__solver': 'liblinear', 'model__C': 0.03}\n",
            "\n",
            "                model  roc_auc_scores\n",
            "0  LogisticRegression           0.957\n"
          ]
        }
      ]
    },
    {
      "cell_type": "markdown",
      "source": [
        "## Random forest"
      ],
      "metadata": {
        "id": "dhfvA8Of0kAS"
      },
      "id": "dhfvA8Of0kAS"
    },
    {
      "cell_type": "code",
      "source": [
        "# define model\n",
        "model_rf = RandomForestClassifier(random_state=12345)\n",
        "\n",
        "# Creating the hyperparameter dist\n",
        "# the most important settings are the number of trees in the forest (n_estimators) and the number of features considered for splitting at each leaf node (max_features)\n",
        "n_estimators = range(10, 100)\n",
        "max_features = [\"auto\", \"sqrt\", \"log2\"]\n",
        "\n",
        "param_dist ={\n",
        "    'n_estimators' : n_estimators,\n",
        "    'max_features' : max_features\n",
        "}\n",
        "\n",
        "new_params_dist = {'model__' + key: param_dist[key] for key in param_dist}\n",
        "\n",
        "# perform hyperparameter tuning\n",
        "random_result_rf, random_params_rf = random_tune_model(model_rf, new_params_dist, X_train, y_train)\n",
        "\n",
        "print(\"\")\n",
        "\n",
        "# append to df_train_results\n",
        "append_to_score_df('RandomForestClassifier', random_result_rf.best_score_)"
      ],
      "metadata": {
        "colab": {
          "base_uri": "https://localhost:8080/",
          "height": 0
        },
        "id": "2Xuh-xWfXmKk",
        "outputId": "10252dbe-cf98-4d72-c04f-23490ee9d89b"
      },
      "id": "2Xuh-xWfXmKk",
      "execution_count": 69,
      "outputs": [
        {
          "output_type": "stream",
          "name": "stdout",
          "text": [
            "Best: 0.890979 using {'model__n_estimators': 97, 'model__max_features': 'log2'}\n",
            "\n",
            "0.890979 (0.012181) with: {'model__n_estimators': 97, 'model__max_features': 'log2'}\n",
            "0.890818 (0.012174) with: {'model__n_estimators': 89, 'model__max_features': 'sqrt'}\n",
            "0.890758 (0.012012) with: {'model__n_estimators': 92, 'model__max_features': 'sqrt'}\n",
            "0.890751 (0.012293) with: {'model__n_estimators': 90, 'model__max_features': 'log2'}\n",
            "0.890748 (0.012158) with: {'model__n_estimators': 87, 'model__max_features': 'log2'}\n",
            "0.890603 (0.012054) with: {'model__n_estimators': 81, 'model__max_features': 'auto'}\n",
            "0.890446 (0.011979) with: {'model__n_estimators': 84, 'model__max_features': 'log2'}\n",
            "0.890251 (0.012079) with: {'model__n_estimators': 75, 'model__max_features': 'log2'}\n",
            "0.889971 (0.012394) with: {'model__n_estimators': 72, 'model__max_features': 'log2'}\n",
            "0.889776 (0.012386) with: {'model__n_estimators': 69, 'model__max_features': 'log2'}\n",
            "0.889766 (0.012198) with: {'model__n_estimators': 71, 'model__max_features': 'auto'}\n",
            "0.889449 (0.012233) with: {'model__n_estimators': 66, 'model__max_features': 'log2'}\n",
            "0.889328 (0.012270) with: {'model__n_estimators': 65, 'model__max_features': 'auto'}\n",
            "0.889062 (0.011933) with: {'model__n_estimators': 59, 'model__max_features': 'log2'}\n",
            "0.888515 (0.011750) with: {'model__n_estimators': 57, 'model__max_features': 'sqrt'}\n",
            "0.888185 (0.011834) with: {'model__n_estimators': 51, 'model__max_features': 'sqrt'}\n",
            "0.888048 (0.012077) with: {'model__n_estimators': 50, 'model__max_features': 'auto'}\n",
            "0.887920 (0.012308) with: {'model__n_estimators': 49, 'model__max_features': 'sqrt'}\n",
            "0.887258 (0.012139) with: {'model__n_estimators': 40, 'model__max_features': 'log2'}\n",
            "0.887110 (0.012288) with: {'model__n_estimators': 41, 'model__max_features': 'log2'}\n",
            "0.885652 (0.011514) with: {'model__n_estimators': 36, 'model__max_features': 'sqrt'}\n",
            "0.883625 (0.012144) with: {'model__n_estimators': 30, 'model__max_features': 'auto'}\n",
            "0.883196 (0.011683) with: {'model__n_estimators': 29, 'model__max_features': 'sqrt'}\n",
            "0.883196 (0.011683) with: {'model__n_estimators': 29, 'model__max_features': 'auto'}\n",
            "0.882398 (0.012242) with: {'model__n_estimators': 25, 'model__max_features': 'auto'}\n",
            "0.881999 (0.012241) with: {'model__n_estimators': 20, 'model__max_features': 'sqrt'}\n",
            "0.881999 (0.012241) with: {'model__n_estimators': 20, 'model__max_features': 'auto'}\n",
            "0.872290 (0.014320) with: {'model__n_estimators': 11, 'model__max_features': 'auto'}\n",
            "0.869369 (0.013191) with: {'model__n_estimators': 10, 'model__max_features': 'auto'}\n",
            "0.869369 (0.013191) with: {'model__n_estimators': 10, 'model__max_features': 'log2'}\n",
            "\n",
            "                    model  roc_auc_scores\n",
            "0      LogisticRegression           0.957\n",
            "1  RandomForestClassifier           0.891\n"
          ]
        }
      ]
    },
    {
      "cell_type": "markdown",
      "source": [
        "## LGBMClassifier"
      ],
      "metadata": {
        "id": "aXkvTgs_1Mc3"
      },
      "id": "aXkvTgs_1Mc3"
    },
    {
      "cell_type": "code",
      "source": [
        "# define model\n",
        "model_lgbm = LGBMClassifier(random_state=12345, objective='binary')\n",
        "\n",
        "# Creating the hyperparameter dist\n",
        "\n",
        "boosting_type = ['gbdt', 'dart', 'goss']\n",
        "n_estimators = range(10, 100)\n",
        "learning_rate = np.arange(0.025, 0.3, 0.05)\n",
        "\n",
        "param_dist ={\n",
        "    'boosting_type' : boosting_type,\n",
        "    'n_estimators' : n_estimators,\n",
        "    'learning_rate' : learning_rate\n",
        "}\n",
        "\n",
        "new_params_dist = {'model__' + key: param_dist[key] for key in param_dist}\n",
        "\n",
        "# perform hyperparameter tuning\n",
        "random_result_lgbm, random_params_lgbm = random_tune_model(model_lgbm, new_params_dist, X_train, y_train)\n",
        "\n",
        "print(\"\")\n",
        "\n",
        "# append to df_train_results\n",
        "append_to_score_df('LGBMClassifier', random_result_lgbm.best_score_)"
      ],
      "metadata": {
        "colab": {
          "base_uri": "https://localhost:8080/",
          "height": 0
        },
        "id": "ZquoNqyDZfvr",
        "outputId": "8e467a44-4ab0-4be5-fd7b-b7f9928be32c"
      },
      "id": "ZquoNqyDZfvr",
      "execution_count": 70,
      "outputs": [
        {
          "output_type": "stream",
          "name": "stdout",
          "text": [
            "Best: 0.955299 using {'model__n_estimators': 98, 'model__learning_rate': 0.22500000000000003, 'model__boosting_type': 'gbdt'}\n",
            "\n",
            "0.955299 (0.008567) with: {'model__n_estimators': 98, 'model__learning_rate': 0.22500000000000003, 'model__boosting_type': 'gbdt'}\n",
            "0.955025 (0.008768) with: {'model__n_estimators': 84, 'model__learning_rate': 0.22500000000000003, 'model__boosting_type': 'gbdt'}\n",
            "0.954511 (0.006892) with: {'model__n_estimators': 97, 'model__learning_rate': 0.2750000000000001, 'model__boosting_type': 'gbdt'}\n",
            "0.954312 (0.006899) with: {'model__n_estimators': 94, 'model__learning_rate': 0.2750000000000001, 'model__boosting_type': 'gbdt'}\n",
            "0.954311 (0.007731) with: {'model__n_estimators': 61, 'model__learning_rate': 0.22500000000000003, 'model__boosting_type': 'gbdt'}\n",
            "0.953393 (0.007588) with: {'model__n_estimators': 46, 'model__learning_rate': 0.2750000000000001, 'model__boosting_type': 'gbdt'}\n",
            "0.953245 (0.007206) with: {'model__n_estimators': 45, 'model__learning_rate': 0.2750000000000001, 'model__boosting_type': 'gbdt'}\n",
            "0.948893 (0.010096) with: {'model__n_estimators': 60, 'model__learning_rate': 0.2750000000000001, 'model__boosting_type': 'goss'}\n",
            "0.946542 (0.006430) with: {'model__n_estimators': 89, 'model__learning_rate': 0.22500000000000003, 'model__boosting_type': 'dart'}\n",
            "0.944327 (0.008488) with: {'model__n_estimators': 84, 'model__learning_rate': 0.07500000000000001, 'model__boosting_type': 'gbdt'}\n",
            "0.940712 (0.010995) with: {'model__n_estimators': 36, 'model__learning_rate': 0.22500000000000003, 'model__boosting_type': 'goss'}\n",
            "0.935457 (0.007456) with: {'model__n_estimators': 71, 'model__learning_rate': 0.17500000000000002, 'model__boosting_type': 'dart'}\n",
            "0.934277 (0.007268) with: {'model__n_estimators': 96, 'model__learning_rate': 0.12500000000000003, 'model__boosting_type': 'dart'}\n",
            "0.933310 (0.008576) with: {'model__n_estimators': 85, 'model__learning_rate': 0.12500000000000003, 'model__boosting_type': 'dart'}\n",
            "0.924834 (0.009523) with: {'model__n_estimators': 49, 'model__learning_rate': 0.07500000000000001, 'model__boosting_type': 'gbdt'}\n",
            "0.917076 (0.010075) with: {'model__n_estimators': 92, 'model__learning_rate': 0.07500000000000001, 'model__boosting_type': 'dart'}\n",
            "0.916167 (0.008661) with: {'model__n_estimators': 40, 'model__learning_rate': 0.12500000000000003, 'model__boosting_type': 'dart'}\n",
            "0.913056 (0.011853) with: {'model__n_estimators': 68, 'model__learning_rate': 0.07500000000000001, 'model__boosting_type': 'dart'}\n",
            "0.908201 (0.011524) with: {'model__n_estimators': 87, 'model__learning_rate': 0.025, 'model__boosting_type': 'goss'}\n",
            "0.906258 (0.013356) with: {'model__n_estimators': 10, 'model__learning_rate': 0.17500000000000002, 'model__boosting_type': 'gbdt'}\n",
            "0.902790 (0.011520) with: {'model__n_estimators': 65, 'model__learning_rate': 0.025, 'model__boosting_type': 'goss'}\n",
            "0.901740 (0.012148) with: {'model__n_estimators': 17, 'model__learning_rate': 0.12500000000000003, 'model__boosting_type': 'dart'}\n",
            "0.901450 (0.012242) with: {'model__n_estimators': 23, 'model__learning_rate': 0.07500000000000001, 'model__boosting_type': 'goss'}\n",
            "0.901425 (0.011213) with: {'model__n_estimators': 27, 'model__learning_rate': 0.07500000000000001, 'model__boosting_type': 'dart'}\n",
            "0.899320 (0.010918) with: {'model__n_estimators': 11, 'model__learning_rate': 0.12500000000000003, 'model__boosting_type': 'gbdt'}\n",
            "0.899128 (0.012418) with: {'model__n_estimators': 47, 'model__learning_rate': 0.025, 'model__boosting_type': 'gbdt'}\n",
            "0.897112 (0.013171) with: {'model__n_estimators': 94, 'model__learning_rate': 0.025, 'model__boosting_type': 'dart'}\n",
            "0.891490 (0.013746) with: {'model__n_estimators': 31, 'model__learning_rate': 0.025, 'model__boosting_type': 'goss'}\n",
            "0.890491 (0.013033) with: {'model__n_estimators': 15, 'model__learning_rate': 0.07500000000000001, 'model__boosting_type': 'dart'}\n",
            "0.887305 (0.015276) with: {'model__n_estimators': 23, 'model__learning_rate': 0.025, 'model__boosting_type': 'gbdt'}\n",
            "\n",
            "                    model  roc_auc_scores\n",
            "0      LogisticRegression           0.957\n",
            "1  RandomForestClassifier           0.891\n",
            "2          LGBMClassifier           0.955\n"
          ]
        }
      ]
    },
    {
      "cell_type": "markdown",
      "source": [
        "We have two models that works very good and almost the same. Let's try ensemble them with voting model"
      ],
      "metadata": {
        "id": "G0K-rjTm5LcG"
      },
      "id": "G0K-rjTm5LcG"
    },
    {
      "cell_type": "markdown",
      "source": [
        "### Ensemble Method with voting model"
      ],
      "metadata": {
        "id": "7cdZZhXx1Bpg"
      },
      "id": "7cdZZhXx1Bpg"
    },
    {
      "cell_type": "code",
      "source": [
        "#Voting classifier takes all of the inputs and averages the results. For a \"hard\" voting classifier each classifier gets 1 vote \"yes\" or \"no\" and the result is just a popular vote. For this, you generally want odd numbers\n",
        "#A \"soft\" classifier averages the confidence of each of the models. If a the average confidence is > 50% that it is a 1 it will be counted as such\n",
        "\n",
        "voting_clf = VotingClassifier(estimators = [('model_lr',model_lr),('model_lgbm',model_lgbm)], voting = 'soft') "
      ],
      "metadata": {
        "id": "LdOFrNRG1T3t"
      },
      "id": "LdOFrNRG1T3t",
      "execution_count": 71,
      "outputs": []
    },
    {
      "cell_type": "code",
      "source": [
        "model = voting_clf\n",
        "steps = [('preprocessing', preprocess), ('smote', SMOTE(random_state=12345)), ('model', model)]\n",
        "pipeline = Pipeline(steps=steps)\n",
        "\n",
        "# create stratified cross validation folds\n",
        "cv = StratifiedKFold(n_splits=5, shuffle=True, random_state=12345)\n",
        "\n",
        "score = cross_val_score(pipeline,X_train, y_train.values.ravel(),cv=cv)\n",
        "print(score)\n",
        "print(score.mean())"
      ],
      "metadata": {
        "colab": {
          "base_uri": "https://localhost:8080/",
          "height": 0
        },
        "id": "Ke9Jk2KS3Su_",
        "outputId": "20e9de60-ad26-4842-f5d4-c129b0f323a9"
      },
      "id": "Ke9Jk2KS3Su_",
      "execution_count": 72,
      "outputs": [
        {
          "output_type": "stream",
          "name": "stderr",
          "text": [
            "/usr/local/lib/python3.7/dist-packages/sklearn/linear_model/_logistic.py:818: ConvergenceWarning: lbfgs failed to converge (status=1):\n",
            "STOP: TOTAL NO. of ITERATIONS REACHED LIMIT.\n",
            "\n",
            "Increase the number of iterations (max_iter) or scale the data as shown in:\n",
            "    https://scikit-learn.org/stable/modules/preprocessing.html\n",
            "Please also refer to the documentation for alternative solver options:\n",
            "    https://scikit-learn.org/stable/modules/linear_model.html#logistic-regression\n",
            "  extra_warning_msg=_LOGISTIC_SOLVER_CONVERGENCE_MSG,\n"
          ]
        },
        {
          "output_type": "stream",
          "name": "stdout",
          "text": [
            "[0.92635315 0.91304348 0.9299024  0.93256433 0.91918295]\n",
            "0.9242092605054996\n"
          ]
        }
      ]
    },
    {
      "cell_type": "markdown",
      "source": [
        "Ensemble the two best preforming models gave outcome that is worse than the two model sepratly. The opposite of synergy."
      ],
      "metadata": {
        "id": "avYA8hBb4o2A"
      },
      "id": "avYA8hBb4o2A"
    },
    {
      "cell_type": "markdown",
      "id": "a4b1cb7a",
      "metadata": {
        "id": "a4b1cb7a"
      },
      "source": [
        "## Dummy Classifier"
      ]
    },
    {
      "cell_type": "code",
      "execution_count": 73,
      "id": "5a93d7c3",
      "metadata": {
        "id": "5a93d7c3"
      },
      "outputs": [],
      "source": [
        "clf_dummy = DummyClassifier(random_state=12345, strategy='most_frequent') "
      ]
    },
    {
      "cell_type": "code",
      "execution_count": 74,
      "id": "535a662e",
      "metadata": {
        "colab": {
          "base_uri": "https://localhost:8080/",
          "height": 0
        },
        "id": "535a662e",
        "outputId": "62f06145-815f-4235-f58e-d29214385564"
      },
      "outputs": [
        {
          "output_type": "execute_result",
          "data": {
            "text/plain": [
              "((4507, 24), (1127, 24), (4507, 1), (1127, 1))"
            ]
          },
          "metadata": {},
          "execution_count": 74
        }
      ],
      "source": [
        "X_train_dummy, X_valid_dummy, y_train_dummy, y_valid_dummy = train_test_split(\n",
        "    X_train, y_train, test_size=0.2, random_state=12345\n",
        ")\n",
        "X_train_dummy.shape, X_valid_dummy.shape, y_train_dummy.shape, y_valid_dummy.shape"
      ]
    },
    {
      "cell_type": "code",
      "execution_count": 75,
      "id": "33b00c6a",
      "metadata": {
        "scrolled": true,
        "colab": {
          "base_uri": "https://localhost:8080/",
          "height": 0
        },
        "id": "33b00c6a",
        "outputId": "92ec9ee5-89ea-4c50-dc61-b7c206422973"
      },
      "outputs": [
        {
          "output_type": "execute_result",
          "data": {
            "text/plain": [
              "DummyClassifier(random_state=12345, strategy='most_frequent')"
            ]
          },
          "metadata": {},
          "execution_count": 75
        }
      ],
      "source": [
        "clf_dummy.fit(X_train_dummy, y_train_dummy)"
      ]
    },
    {
      "cell_type": "code",
      "execution_count": 76,
      "id": "4268a9ca",
      "metadata": {
        "colab": {
          "base_uri": "https://localhost:8080/",
          "height": 0
        },
        "id": "4268a9ca",
        "outputId": "662c05ea-0f8d-460b-f9b1-830c0eb4982d"
      },
      "outputs": [
        {
          "output_type": "stream",
          "name": "stdout",
          "text": [
            "The roc_auc score is: 0.500\n"
          ]
        }
      ],
      "source": [
        "probabilities_test = clf_dummy.predict_proba(X_valid_dummy)\n",
        "probabilities_one_test = probabilities_test[:, 1]\n",
        "roc_auc = roc_auc_score(y_valid_dummy, probabilities_one_test)\n",
        "print('The roc_auc score is: {:.3f}'.format(roc_auc))"
      ]
    },
    {
      "cell_type": "markdown",
      "source": [
        "# Testing the models on the test set\n",
        "We will now use the parameters we found above to train the best model on the whole training set, then predict the test targets and finally compare the results by calculating the roc-auc score on the unseen data in the test set. For reference, I will also include the 2 other less effective models. We will also time the modeling and add an additional score in the form of F1 score. Since this is an imbalanced classification problem the F1 score gives us a better way to score the models. I'll post both results."
      ],
      "metadata": {
        "id": "zesiWtdUtDAI"
      },
      "id": "zesiWtdUtDAI"
    },
    {
      "cell_type": "markdown",
      "source": [
        "## Performing the testing"
      ],
      "metadata": {
        "id": "mo4jZxZVtPqJ"
      },
      "id": "mo4jZxZVtPqJ"
    },
    {
      "cell_type": "code",
      "source": [
        "# define lists to store timing and scores\n",
        "training_time = []\n",
        "predicting_time = []\n",
        "roc_auc_scores = []\n",
        "f1_scores = []\n",
        "acc_scores = []\n",
        "fpr_vals = []\n",
        "tpr_vals = []\n",
        "\n",
        "# define all the models with optimal parameters\n",
        "models = [DummyClassifier(strategy='prior'),\n",
        "          random_result_lr.best_estimator_.named_steps['model'],\n",
        "          random_result_rf.best_estimator_.named_steps['model'],\n",
        "          random_result_lgbm.best_estimator_.named_steps['model']]\n",
        "\n",
        "# define all model names\n",
        "model_names = ['DummyClassifier()', 'LogisticRegression()', 'RandomForestClassifier()', 'LGBMClassifier()']"
      ],
      "metadata": {
        "id": "Eu530s0Xs-QH"
      },
      "id": "Eu530s0Xs-QH",
      "execution_count": 77,
      "outputs": []
    },
    {
      "cell_type": "code",
      "source": [
        "# perform scaling on whole train dataset and on test set based on the train set\n",
        "scaler = random_result_lr.best_estimator_.named_steps['preprocessing'] # the preprocessing step is identical for all\n",
        "x_train_scaled = scaler.fit_transform(X_train)\n",
        "x_test_scaled = scaler.transform(X_test)\n",
        "\n",
        "# perform smoting on whole dataset \n",
        "sm = SMOTE(random_state=12345)\n",
        "x_train_scaled_sm, y_train_sm = sm.fit_resample(x_train_scaled, y_train.values.ravel())\n",
        "x_test_scaled_sm, y_test_sm = sm.fit_resample(x_test_scaled, y_test.values.ravel())\n",
        "\n",
        "\n",
        "# perform training on full train dataset\n",
        "for estimator, name in zip(models, model_names):\n",
        "\n",
        "    # training\n",
        "    timing_train = %timeit -n3 -r3 -o estimator.fit(x_train_scaled_sm, y_train_sm)\n",
        "    training_time.append(timing_train.average)\n",
        "    \n",
        "    # predict test results and probabilities for roc_auc\n",
        "    preds_proba = estimator.predict_proba(x_test_scaled_sm)[:, 1]\n",
        "    preds = estimator.predict(x_test_scaled_sm)\n",
        "    timing_pred = %timeit -n3 -r3 -o estimator.predict(x_test_scaled_sm) # time the prediction step\n",
        "    predicting_time.append(timing_pred.average)\n",
        "    \n",
        "    # calculate scores\n",
        "    roc_auc_scores.append(roc_auc_score(y_test_sm, preds_proba))\n",
        "    f1_scores.append(f1_score(y_test_sm, preds))\n",
        "    acc_scores.append(accuracy_score(y_test_sm, preds))\n",
        "\n",
        "    # calculate probabilities\n",
        "    probabilities_test = estimator.predict_proba(x_test_scaled_sm)\n",
        "    probabilities_one_test = probabilities_test[:, 1]\n",
        "    fpr, tpr, thresholds = sklearn.metrics.roc_curve(y_test_sm, probabilities_one_test)\n",
        "    fpr_vals.append(fpr)\n",
        "    tpr_vals.append(tpr)"
      ],
      "metadata": {
        "colab": {
          "base_uri": "https://localhost:8080/",
          "height": 0
        },
        "id": "LZ4Ej8POl4gO",
        "outputId": "880ee043-f6a9-4ba7-f974-2c93d3b1aeb6"
      },
      "id": "LZ4Ej8POl4gO",
      "execution_count": 78,
      "outputs": [
        {
          "output_type": "stream",
          "name": "stdout",
          "text": [
            "The slowest run took 5.38 times longer than the fastest. This could mean that an intermediate result is being cached.\n",
            "1.27 ms ± 1.04 ms per loop (mean ± std. dev. of 3 runs, 3 loops each)\n",
            "82.4 µs ± 10.5 µs per loop (mean ± std. dev. of 3 runs, 3 loops each)\n",
            "63.9 ms ± 3.39 ms per loop (mean ± std. dev. of 3 runs, 3 loops each)\n",
            "298 µs ± 39 µs per loop (mean ± std. dev. of 3 runs, 3 loops each)\n",
            "1.02 s ± 5.81 ms per loop (mean ± std. dev. of 3 runs, 3 loops each)\n",
            "55.6 ms ± 853 µs per loop (mean ± std. dev. of 3 runs, 3 loops each)\n",
            "515 ms ± 3.05 ms per loop (mean ± std. dev. of 3 runs, 3 loops each)\n",
            "11 ms ± 574 µs per loop (mean ± std. dev. of 3 runs, 3 loops each)\n"
          ]
        }
      ]
    },
    {
      "cell_type": "code",
      "source": [
        "def roc_curve_generate(fpr_vals, tpr_vals, model_names):\n",
        "\n",
        "  # Initialise the subplot function using number of rows and columns\n",
        "  figure, axis = plt.subplots(2, 2, figsize=(10, 10));\n",
        "\n",
        "  for count, name  in enumerate(model_names):\n",
        "    \n",
        "    fpr = fpr_vals[count]\n",
        "    tpr = tpr_vals[count]\n",
        "\n",
        "    if count == 0:\n",
        "      first = 0\n",
        "      second = 0\n",
        "    elif count == 1:\n",
        "      first = 0\n",
        "      second = 1\n",
        "    elif count == 2:\n",
        "      first = 1\n",
        "      second = 0\n",
        "    else:\n",
        "      first = 1\n",
        "      second = 1\n",
        "\n",
        "\n",
        "    # < plot the graph >\n",
        "    axis[first, second].plot(fpr, tpr)\n",
        "\n",
        "    # ROC curve for random model (looks like a straight line)\n",
        "    axis[first, second].plot([0, 1], [0, 1], linestyle='--')\n",
        "\n",
        "    # < use the functions plt.xlim() and plt.ylim() to\n",
        "    #   set the boundary for the axes from 0 to 1 >\n",
        "    plt.xlim([0, 1])\n",
        "    plt.ylim([0, 1])\n",
        "\n",
        "    # < use the functions plt.xlabel() and plt.ylabel() to\n",
        "    #   name the axes \"False Positive Rate\" and \"True Positive Rate\" >\n",
        "    axis[first, second].set_xlabel('False Positive Rate')\n",
        "    axis[first, second].set_ylabel('True Positive Rate')\n",
        "\n",
        "    # < add the heading \"ROC curve\" with the function plt.title() >\n",
        "    axis[first, second].set_title('ROC curve'+'for model: '+name);"
      ],
      "metadata": {
        "id": "A6xuiZ2i106r"
      },
      "id": "A6xuiZ2i106r",
      "execution_count": 79,
      "outputs": []
    },
    {
      "cell_type": "code",
      "source": [
        "def confusion_summery_f1(clf, X_test, y_test):\n",
        "    predictions = clf.predict(X_test)\n",
        "    cm = confusion_matrix(y_test, predictions, labels=clf.classes_)\n",
        "    disp = ConfusionMatrixDisplay(confusion_matrix=cm, display_labels=clf.classes_)\n",
        "    disp.plot()\n",
        "\n",
        "    plt.show();\n",
        "\n",
        "    # changing the rc parameters and plotting a line plot\n",
        "    plt.rcParams['figure.figsize'] = [10, 10]\n",
        "    \n",
        "    my_recall_score = recall_score(y_test, predictions)\n",
        "    print('The recall score is: {:.3f}'.format(my_recall_score))\n",
        "    \n",
        "    my_precision_score = precision_score(y_test, predictions)\n",
        "    print('The precision score is: {:.3f}'.format(my_precision_score))\n",
        "    \n",
        "    my_f1_score = f1_score(y_test, predictions)\n",
        "    print('The f1 score is: {:.3f}'.format(my_f1_score)) "
      ],
      "metadata": {
        "id": "Z9sQN4Em48V2"
      },
      "id": "Z9sQN4Em48V2",
      "execution_count": 80,
      "outputs": []
    },
    {
      "cell_type": "markdown",
      "source": [
        "## Results analysis\n",
        "Having timed the different steps and retained the scores, we will now analyze the results."
      ],
      "metadata": {
        "id": "3OU82tdQvUsf"
      },
      "id": "3OU82tdQvUsf"
    },
    {
      "cell_type": "code",
      "source": [
        "# arrange results together\n",
        "df_results = pd.DataFrame([model_names, training_time, predicting_time, roc_auc_scores, f1_scores, acc_scores]).T\n",
        "df_results.columns = ['model', 'training_time', 'predict_time', 'roc_auc_scores', 'f1_scores', 'acc_scores']\n",
        "df_results\n",
        "\n",
        "# plot bar chart of training and prediction time\n",
        "df_results.plot(kind='bar', stacked=True, x='model', y=['training_time','predict_time'], figsize=(10,5), title='Time of processing for each model')\n",
        "plt.ylabel('Time [s]')\n",
        "plt.xticks(rotation=45);"
      ],
      "metadata": {
        "colab": {
          "base_uri": "https://localhost:8080/",
          "height": 435
        },
        "id": "ozUsGkwYvT9x",
        "outputId": "82867312-ed9f-4113-b59f-dcec6cb266aa"
      },
      "id": "ozUsGkwYvT9x",
      "execution_count": 81,
      "outputs": [
        {
          "output_type": "display_data",
          "data": {
            "text/plain": [
              "<Figure size 720x360 with 1 Axes>"
            ],
            "image/png": "[encoded data removed]"
          },
          "metadata": {
            "needs_background": "light"
          }
        }
      ]
    },
    {
      "cell_type": "markdown",
      "source": [
        "We can see that all models in general are pretty fast, with both training and prediction time totalling around second for even the \"slowest\" of the models, the random forest."
      ],
      "metadata": {
        "id": "Q8rfWcwBArd8"
      },
      "id": "Q8rfWcwBArd8"
    },
    {
      "cell_type": "code",
      "source": [
        "roc_curve_generate(fpr_vals, tpr_vals, model_names)"
      ],
      "metadata": {
        "colab": {
          "base_uri": "https://localhost:8080/",
          "height": 621
        },
        "id": "7lvtzLVu2FmH",
        "outputId": "10b8c446-2570-4f01-a674-eee70e7f08e0"
      },
      "id": "7lvtzLVu2FmH",
      "execution_count": 82,
      "outputs": [
        {
          "output_type": "display_data",
          "data": {
            "text/plain": [
              "<Figure size 720x720 with 4 Axes>"
            ],
            "image/png": "[encoded data removed]"
          },
          "metadata": {
            "needs_background": "light"
          }
        }
      ]
    },
    {
      "cell_type": "markdown",
      "source": [
        "\n",
        "\n",
        "The Receiver operating characteristic (ROC) curve shows the trade-off between sensitivity (or TPR) and specificity (1 – FPR). Classifiers that give curves closer to the top-left corner indicate a better performance. As a baseline, a random classifier is expected to give points lying along the diagonal (FPR = TPR). The lgbm is the closest to the top left corner while the senity check dummy model lays on the diagonal. "
      ],
      "metadata": {
        "id": "k_zwlTgMwDkw"
      },
      "id": "k_zwlTgMwDkw"
    },
    {
      "cell_type": "code",
      "source": [
        "# plot bar chart of scores\n",
        "df_results.plot(kind='bar', x='model', y=['roc_auc_scores', 'f1_scores', 'acc_scores'], figsize=(15,10), title='Scores of each model on test dataset (higher is better)')\n",
        "plt.grid(color = 'grey', linestyle = '--', linewidth = 0.5, axis='y')\n",
        "plt.ylabel('Score')\n",
        "plt.ylim(0.4,1)\n",
        "plt.xticks(rotation=45);"
      ],
      "metadata": {
        "colab": {
          "base_uri": "https://localhost:8080/",
          "height": 707
        },
        "id": "PF5mzdQ5wBVx",
        "outputId": "e96dcbe8-437d-48cc-8ea8-e74e27a52e0a"
      },
      "id": "PF5mzdQ5wBVx",
      "execution_count": 83,
      "outputs": [
        {
          "output_type": "display_data",
          "data": {
            "text/plain": [
              "<Figure size 1080x720 with 1 Axes>"
            ],
            "image/png": "[encoded data removed]"
          },
          "metadata": {
            "needs_background": "light"
          }
        }
      ]
    },
    {
      "cell_type": "code",
      "source": [
        "df_results_tunning"
      ],
      "metadata": {
        "colab": {
          "base_uri": "https://localhost:8080/",
          "height": 143
        },
        "id": "DUW4qclM1jt2",
        "outputId": "e7126781-04b8-4a99-fbfa-cda141edcdaf"
      },
      "id": "DUW4qclM1jt2",
      "execution_count": 84,
      "outputs": [
        {
          "output_type": "execute_result",
          "data": {
            "text/plain": [
              "                    model  roc_auc_scores\n",
              "0      LogisticRegression           0.957\n",
              "1  RandomForestClassifier           0.891\n",
              "2          LGBMClassifier           0.955"
            ],
            "text/html": [
              "\n",
              "  <div id=\"df-306cd4e0-fc6c-484e-9cff-934cf3ae0557\">\n",
              "    <div class=\"colab-df-container\">\n",
              "      <div>\n",
              "<style scoped>\n",
              "    .dataframe tbody tr th:only-of-type {\n",
              "        vertical-align: middle;\n",
              "    }\n",
              "\n",
              "    .dataframe tbody tr th {\n",
              "        vertical-align: top;\n",
              "    }\n",
              "\n",
              "    .dataframe thead th {\n",
              "        text-align: right;\n",
              "    }\n",
              "</style>\n",
              "<table border=\"1\" class=\"dataframe\">\n",
              "  <thead>\n",
              "    <tr style=\"text-align: right;\">\n",
              "      <th></th>\n",
              "      <th>model</th>\n",
              "      <th>roc_auc_scores</th>\n",
              "    </tr>\n",
              "  </thead>\n",
              "  <tbody>\n",
              "    <tr>\n",
              "      <th>0</th>\n",
              "      <td>LogisticRegression</td>\n",
              "      <td>0.957</td>\n",
              "    </tr>\n",
              "    <tr>\n",
              "      <th>1</th>\n",
              "      <td>RandomForestClassifier</td>\n",
              "      <td>0.891</td>\n",
              "    </tr>\n",
              "    <tr>\n",
              "      <th>2</th>\n",
              "      <td>LGBMClassifier</td>\n",
              "      <td>0.955</td>\n",
              "    </tr>\n",
              "  </tbody>\n",
              "</table>\n",
              "</div>\n",
              "      <button class=\"colab-df-convert\" onclick=\"convertToInteractive('df-306cd4e0-fc6c-484e-9cff-934cf3ae0557')\"\n",
              "              title=\"Convert this dataframe to an interactive table.\"\n",
              "              style=\"display:none;\">\n",
              "        \n",
              "  <svg xmlns=\"http://www.w3.org/2000/svg\" height=\"24px\"viewBox=\"0 0 24 24\"\n",
              "       width=\"24px\">\n",
              "    <path d=\"M0 0h24v24H0V0z\" fill=\"none\"/>\n",
              "    <path d=\"M18.56 5.44l.94 2.06.94-2.06 2.06-.94-2.06-.94-.94-2.06-.94 2.06-2.06.94zm-11 1L8.5 8.5l.94-2.06 2.06-.94-2.06-.94L8.5 2.5l-.94 2.06-2.06.94zm10 10l.94 2.06.94-2.06 2.06-.94-2.06-.94-.94-2.06-.94 2.06-2.06.94z\"/><path d=\"M17.41 7.96l-1.37-1.37c-.4-.4-.92-.59-1.43-.59-.52 0-1.04.2-1.43.59L10.3 9.45l-7.72 7.72c-.78.78-.78 2.05 0 2.83L4 21.41c.39.39.9.59 1.41.59.51 0 1.02-.2 1.41-.59l7.78-7.78 2.81-2.81c.8-.78.8-2.07 0-2.86zM5.41 20L4 18.59l7.72-7.72 1.47 1.35L5.41 20z\"/>\n",
              "  </svg>\n",
              "      </button>\n",
              "      \n",
              "  <style>\n",
              "    .colab-df-container {\n",
              "      display:flex;\n",
              "      flex-wrap:wrap;\n",
              "      gap: 12px;\n",
              "    }\n",
              "\n",
              "    .colab-df-convert {\n",
              "      background-color: #E8F0FE;\n",
              "      border: none;\n",
              "      border-radius: 50%;\n",
              "      cursor: pointer;\n",
              "      display: none;\n",
              "      fill: #1967D2;\n",
              "      height: 32px;\n",
              "      padding: 0 0 0 0;\n",
              "      width: 32px;\n",
              "    }\n",
              "\n",
              "    .colab-df-convert:hover {\n",
              "      background-color: #E2EBFA;\n",
              "      box-shadow: 0px 1px 2px rgba(60, 64, 67, 0.3), 0px 1px 3px 1px rgba(60, 64, 67, 0.15);\n",
              "      fill: #174EA6;\n",
              "    }\n",
              "\n",
              "    [theme=dark] .colab-df-convert {\n",
              "      background-color: #3B4455;\n",
              "      fill: #D2E3FC;\n",
              "    }\n",
              "\n",
              "    [theme=dark] .colab-df-convert:hover {\n",
              "      background-color: #434B5C;\n",
              "      box-shadow: 0px 1px 3px 1px rgba(0, 0, 0, 0.15);\n",
              "      filter: drop-shadow(0px 1px 2px rgba(0, 0, 0, 0.3));\n",
              "      fill: #FFFFFF;\n",
              "    }\n",
              "  </style>\n",
              "\n",
              "      <script>\n",
              "        const buttonEl =\n",
              "          document.querySelector('#df-306cd4e0-fc6c-484e-9cff-934cf3ae0557 button.colab-df-convert');\n",
              "        buttonEl.style.display =\n",
              "          google.colab.kernel.accessAllowed ? 'block' : 'none';\n",
              "\n",
              "        async function convertToInteractive(key) {\n",
              "          const element = document.querySelector('#df-306cd4e0-fc6c-484e-9cff-934cf3ae0557');\n",
              "          const dataTable =\n",
              "            await google.colab.kernel.invokeFunction('convertToInteractive',\n",
              "                                                     [key], {});\n",
              "          if (!dataTable) return;\n",
              "\n",
              "          const docLinkHtml = 'Like what you see? Visit the ' +\n",
              "            '<a target=\"_blank\" href=https://colab.research.google.com/notebooks/data_table.ipynb>data table notebook</a>'\n",
              "            + ' to learn more about interactive tables.';\n",
              "          element.innerHTML = '';\n",
              "          dataTable['output_type'] = 'display_data';\n",
              "          await google.colab.output.renderOutput(dataTable, element);\n",
              "          const docLink = document.createElement('div');\n",
              "          docLink.innerHTML = docLinkHtml;\n",
              "          element.appendChild(docLink);\n",
              "        }\n",
              "      </script>\n",
              "    </div>\n",
              "  </div>\n",
              "  "
            ]
          },
          "metadata": {},
          "execution_count": 84
        }
      ]
    },
    {
      "cell_type": "code",
      "source": [
        "df_results"
      ],
      "metadata": {
        "colab": {
          "base_uri": "https://localhost:8080/",
          "height": 175
        },
        "id": "nd4EE8RRwLTx",
        "outputId": "3151e36f-950e-4fe7-a052-8671ec5f9cc6"
      },
      "id": "nd4EE8RRwLTx",
      "execution_count": 85,
      "outputs": [
        {
          "output_type": "execute_result",
          "data": {
            "text/plain": [
              "                      model training_time predict_time roc_auc_scores  \\\n",
              "0         DummyClassifier()      0.001272     0.000082            0.5   \n",
              "1      LogisticRegression()       0.06388     0.000298       0.970704   \n",
              "2  RandomForestClassifier()      1.017172     0.055609       0.938535   \n",
              "3          LGBMClassifier()      0.514623     0.011025       0.985788   \n",
              "\n",
              "  f1_scores acc_scores  \n",
              "0       0.0        0.5  \n",
              "1  0.906279   0.903382  \n",
              "2  0.857577   0.864251  \n",
              "3  0.952099    0.95314  "
            ],
            "text/html": [
              "\n",
              "  <div id=\"df-e6dd734c-5323-46f3-a096-5cae2d7827d7\">\n",
              "    <div class=\"colab-df-container\">\n",
              "      <div>\n",
              "<style scoped>\n",
              "    .dataframe tbody tr th:only-of-type {\n",
              "        vertical-align: middle;\n",
              "    }\n",
              "\n",
              "    .dataframe tbody tr th {\n",
              "        vertical-align: top;\n",
              "    }\n",
              "\n",
              "    .dataframe thead th {\n",
              "        text-align: right;\n",
              "    }\n",
              "</style>\n",
              "<table border=\"1\" class=\"dataframe\">\n",
              "  <thead>\n",
              "    <tr style=\"text-align: right;\">\n",
              "      <th></th>\n",
              "      <th>model</th>\n",
              "      <th>training_time</th>\n",
              "      <th>predict_time</th>\n",
              "      <th>roc_auc_scores</th>\n",
              "      <th>f1_scores</th>\n",
              "      <th>acc_scores</th>\n",
              "    </tr>\n",
              "  </thead>\n",
              "  <tbody>\n",
              "    <tr>\n",
              "      <th>0</th>\n",
              "      <td>DummyClassifier()</td>\n",
              "      <td>0.001272</td>\n",
              "      <td>0.000082</td>\n",
              "      <td>0.5</td>\n",
              "      <td>0.0</td>\n",
              "      <td>0.5</td>\n",
              "    </tr>\n",
              "    <tr>\n",
              "      <th>1</th>\n",
              "      <td>LogisticRegression()</td>\n",
              "      <td>0.06388</td>\n",
              "      <td>0.000298</td>\n",
              "      <td>0.970704</td>\n",
              "      <td>0.906279</td>\n",
              "      <td>0.903382</td>\n",
              "    </tr>\n",
              "    <tr>\n",
              "      <th>2</th>\n",
              "      <td>RandomForestClassifier()</td>\n",
              "      <td>1.017172</td>\n",
              "      <td>0.055609</td>\n",
              "      <td>0.938535</td>\n",
              "      <td>0.857577</td>\n",
              "      <td>0.864251</td>\n",
              "    </tr>\n",
              "    <tr>\n",
              "      <th>3</th>\n",
              "      <td>LGBMClassifier()</td>\n",
              "      <td>0.514623</td>\n",
              "      <td>0.011025</td>\n",
              "      <td>0.985788</td>\n",
              "      <td>0.952099</td>\n",
              "      <td>0.95314</td>\n",
              "    </tr>\n",
              "  </tbody>\n",
              "</table>\n",
              "</div>\n",
              "      <button class=\"colab-df-convert\" onclick=\"convertToInteractive('df-e6dd734c-5323-46f3-a096-5cae2d7827d7')\"\n",
              "              title=\"Convert this dataframe to an interactive table.\"\n",
              "              style=\"display:none;\">\n",
              "        \n",
              "  <svg xmlns=\"http://www.w3.org/2000/svg\" height=\"24px\"viewBox=\"0 0 24 24\"\n",
              "       width=\"24px\">\n",
              "    <path d=\"M0 0h24v24H0V0z\" fill=\"none\"/>\n",
              "    <path d=\"M18.56 5.44l.94 2.06.94-2.06 2.06-.94-2.06-.94-.94-2.06-.94 2.06-2.06.94zm-11 1L8.5 8.5l.94-2.06 2.06-.94-2.06-.94L8.5 2.5l-.94 2.06-2.06.94zm10 10l.94 2.06.94-2.06 2.06-.94-2.06-.94-.94-2.06-.94 2.06-2.06.94z\"/><path d=\"M17.41 7.96l-1.37-1.37c-.4-.4-.92-.59-1.43-.59-.52 0-1.04.2-1.43.59L10.3 9.45l-7.72 7.72c-.78.78-.78 2.05 0 2.83L4 21.41c.39.39.9.59 1.41.59.51 0 1.02-.2 1.41-.59l7.78-7.78 2.81-2.81c.8-.78.8-2.07 0-2.86zM5.41 20L4 18.59l7.72-7.72 1.47 1.35L5.41 20z\"/>\n",
              "  </svg>\n",
              "      </button>\n",
              "      \n",
              "  <style>\n",
              "    .colab-df-container {\n",
              "      display:flex;\n",
              "      flex-wrap:wrap;\n",
              "      gap: 12px;\n",
              "    }\n",
              "\n",
              "    .colab-df-convert {\n",
              "      background-color: #E8F0FE;\n",
              "      border: none;\n",
              "      border-radius: 50%;\n",
              "      cursor: pointer;\n",
              "      display: none;\n",
              "      fill: #1967D2;\n",
              "      height: 32px;\n",
              "      padding: 0 0 0 0;\n",
              "      width: 32px;\n",
              "    }\n",
              "\n",
              "    .colab-df-convert:hover {\n",
              "      background-color: #E2EBFA;\n",
              "      box-shadow: 0px 1px 2px rgba(60, 64, 67, 0.3), 0px 1px 3px 1px rgba(60, 64, 67, 0.15);\n",
              "      fill: #174EA6;\n",
              "    }\n",
              "\n",
              "    [theme=dark] .colab-df-convert {\n",
              "      background-color: #3B4455;\n",
              "      fill: #D2E3FC;\n",
              "    }\n",
              "\n",
              "    [theme=dark] .colab-df-convert:hover {\n",
              "      background-color: #434B5C;\n",
              "      box-shadow: 0px 1px 3px 1px rgba(0, 0, 0, 0.15);\n",
              "      filter: drop-shadow(0px 1px 2px rgba(0, 0, 0, 0.3));\n",
              "      fill: #FFFFFF;\n",
              "    }\n",
              "  </style>\n",
              "\n",
              "      <script>\n",
              "        const buttonEl =\n",
              "          document.querySelector('#df-e6dd734c-5323-46f3-a096-5cae2d7827d7 button.colab-df-convert');\n",
              "        buttonEl.style.display =\n",
              "          google.colab.kernel.accessAllowed ? 'block' : 'none';\n",
              "\n",
              "        async function convertToInteractive(key) {\n",
              "          const element = document.querySelector('#df-e6dd734c-5323-46f3-a096-5cae2d7827d7');\n",
              "          const dataTable =\n",
              "            await google.colab.kernel.invokeFunction('convertToInteractive',\n",
              "                                                     [key], {});\n",
              "          if (!dataTable) return;\n",
              "\n",
              "          const docLinkHtml = 'Like what you see? Visit the ' +\n",
              "            '<a target=\"_blank\" href=https://colab.research.google.com/notebooks/data_table.ipynb>data table notebook</a>'\n",
              "            + ' to learn more about interactive tables.';\n",
              "          element.innerHTML = '';\n",
              "          dataTable['output_type'] = 'display_data';\n",
              "          await google.colab.output.renderOutput(dataTable, element);\n",
              "          const docLink = document.createElement('div');\n",
              "          docLink.innerHTML = docLinkHtml;\n",
              "          element.appendChild(docLink);\n",
              "        }\n",
              "      </script>\n",
              "    </div>\n",
              "  </div>\n",
              "  "
            ]
          },
          "metadata": {},
          "execution_count": 85
        }
      ]
    },
    {
      "cell_type": "markdown",
      "source": [
        "We can see all of our real models perform much better than the sanity check. We reached ~0.99 ROC-AUC score for the LGBMClassifier model, which shows that it wasn't overfitted on the training/validation set. The score is even a little bit higher than it was on the training/validation set. The other two models also reached scores higher then what they reached on the training/validation set.\n",
        "\n",
        "Looking at the F1 and accuracy scores, it follows the same order of results we saw as in ROC-AUC, the LGBMClassifier classifier takes the lead again, with ~0.95, while the other two models reach lower scores of ~0.94 for the LogisticRegression and ~0.86 for the RandomForestClassifier.\n",
        "\n",
        "LGBMClassifier and LogisticRegression are the favorite models. LGBMClassifier performs better on all the scoring metrics while LogisticRegression predicts just a little bit faster."
      ],
      "metadata": {
        "id": "jsHLSltZyZ-U"
      },
      "id": "jsHLSltZyZ-U"
    },
    {
      "cell_type": "code",
      "source": [
        "confusion_summery_f1(estimator, x_test_scaled_sm, y_test_sm)"
      ],
      "metadata": {
        "colab": {
          "base_uri": "https://localhost:8080/",
          "height": 333
        },
        "id": "lyn84UtO4eQ3",
        "outputId": "34d217d3-be0c-4e5c-d61b-3ffd7f305a0b"
      },
      "id": "lyn84UtO4eQ3",
      "execution_count": 86,
      "outputs": [
        {
          "output_type": "display_data",
          "data": {
            "text/plain": [
              "<Figure size 432x288 with 2 Axes>"
            ],
            "image/png": "[encoded data removed]"
          },
          "metadata": {
            "needs_background": "light"
          }
        },
        {
          "output_type": "stream",
          "name": "stdout",
          "text": [
            "The recall score is: 0.931\n",
            "The precision score is: 0.974\n",
            "The f1 score is: 0.952\n"
          ]
        }
      ]
    },
    {
      "cell_type": "markdown",
      "source": [
        "From the confusion matrix we get extra confidence in the lgbm classifier. The model predicts well the positive and negative classes. Since the precision is much larger we can understand that the model's ability to predict real churn clients from all what the model sugest will churn. "
      ],
      "metadata": {
        "id": "7ThprSRm5c26"
      },
      "id": "7ThprSRm5c26"
    },
    {
      "cell_type": "markdown",
      "source": [
        "## Further analysing the predictions"
      ],
      "metadata": {
        "id": "09Y-qN4s5Se7"
      },
      "id": "09Y-qN4s5Se7"
    },
    {
      "cell_type": "code",
      "source": [
        "preds = estimator.predict(x_test_scaled)\n",
        "\n",
        "x_test_for_review = deepcopy(X_test)\n",
        "x_test_for_review['predict_curn'] = preds.tolist()\n",
        "x_test_for_review['real_curn'] = y_test\n",
        "\n",
        "print('Sample of test observations with prediction and real churn')\n",
        "x_test_for_review.sample(20)\n",
        "\n",
        "print('')\n",
        "print('All test observations where prediction and real churn dpnt match')\n",
        "x_test_for_review.loc[x_test_for_review['predict_curn'] != x_test_for_review['real_curn'], :]"
      ],
      "metadata": {
        "colab": {
          "base_uri": "https://localhost:8080/",
          "height": 1234
        },
        "id": "EHH4VqnB5RHY",
        "outputId": "71a1d0d8-9444-4ebc-d161-b590ada4668a"
      },
      "id": "EHH4VqnB5RHY",
      "execution_count": 139,
      "outputs": [
        {
          "output_type": "stream",
          "name": "stdout",
          "text": [
            "Sample of test observations with prediction and real churn\n"
          ]
        },
        {
          "output_type": "execute_result",
          "data": {
            "text/plain": [
              "      paperless_billing  monthly_charges  total_charges  online_security  \\\n",
              "4142                0.0            60.50        3870.00              1.0   \n",
              "6892                1.0            99.70        4977.20              1.0   \n",
              "3682                1.0            69.10          69.10              0.0   \n",
              "2627                0.0            25.70         826.10              0.0   \n",
              "1032                1.0            92.10         729.95              0.0   \n",
              "4789                0.0            71.10          71.10              0.0   \n",
              "2352                1.0            19.70         168.90              0.0   \n",
              "6998                1.0            80.50        1011.80              0.0   \n",
              "4021                1.0            20.50          20.50              0.0   \n",
              "4797                1.0           114.05        8289.20              1.0   \n",
              "6036                0.0           110.50        5835.50              1.0   \n",
              "6501                1.0           105.70        6816.95              0.0   \n",
              "1271                1.0            53.60        2879.20              1.0   \n",
              "1922                0.0            60.35        1404.65              0.0   \n",
              "449                 0.0           105.50        7611.55              1.0   \n",
              "3944                0.0            20.25         172.35              0.0   \n",
              "3542                1.0            55.35        1636.95              1.0   \n",
              "4878                1.0            59.05        1882.80              0.0   \n",
              "5992                0.0            72.45        4653.85              1.0   \n",
              "5619                1.0            91.00        1859.50              0.0   \n",
              "\n",
              "      online_backup  device_protection  tech_support  streaming_tv  \\\n",
              "4142            1.0                0.0           1.0           0.0   \n",
              "6892            0.0                1.0           0.0           1.0   \n",
              "3682            0.0                0.0           0.0           0.0   \n",
              "2627            0.0                0.0           0.0           0.0   \n",
              "1032            0.0                1.0           0.0           1.0   \n",
              "4789            0.0                0.0           0.0           0.0   \n",
              "2352            0.0                0.0           0.0           0.0   \n",
              "6998            0.0                0.0           0.0           0.0   \n",
              "4021            0.0                0.0           0.0           0.0   \n",
              "4797            1.0                1.0           1.0           1.0   \n",
              "6036            1.0                1.0           1.0           1.0   \n",
              "6501            1.0                1.0           0.0           1.0   \n",
              "1271            1.0                1.0           1.0           1.0   \n",
              "1922            0.0                0.0           0.0           1.0   \n",
              "449             1.0                0.0           1.0           1.0   \n",
              "3944            0.0                0.0           0.0           0.0   \n",
              "3542            1.0                1.0           1.0           0.0   \n",
              "4878            0.0                0.0           0.0           1.0   \n",
              "5992            1.0                1.0           0.0           0.0   \n",
              "5619            0.0                0.0           0.0           1.0   \n",
              "\n",
              "      streaming_movies  senior_citizen  partner  dependents  multiple_lines  \\\n",
              "4142               0.0             0.0      0.0         0.0             1.0   \n",
              "6892               1.0             0.0      1.0         1.0             1.0   \n",
              "3682               0.0             0.0      0.0         0.0             1.0   \n",
              "2627               0.0             0.0      0.0         0.0             2.0   \n",
              "1032               1.0             1.0      0.0         0.0             1.0   \n",
              "4789               0.0             0.0      0.0         0.0             1.0   \n",
              "2352               0.0             0.0      0.0         0.0             1.0   \n",
              "6998               1.0             0.0      0.0         0.0             1.0   \n",
              "4021               0.0             0.0      1.0         1.0             1.0   \n",
              "4797               1.0             0.0      1.0         1.0             2.0   \n",
              "6036               1.0             0.0      1.0         0.0             1.0   \n",
              "6501               1.0             0.0      1.0         0.0             2.0   \n",
              "1271               0.0             0.0      0.0         0.0             0.0   \n",
              "1922               0.0             0.0      1.0         1.0             2.0   \n",
              "449                1.0             0.0      1.0         1.0             1.0   \n",
              "3944               0.0             0.0      1.0         1.0             1.0   \n",
              "3542               1.0             0.0      1.0         1.0             0.0   \n",
              "4878               0.0             0.0      1.0         0.0             2.0   \n",
              "5992               1.0             0.0      1.0         1.0             2.0   \n",
              "5619               1.0             1.0      1.0         0.0             1.0   \n",
              "\n",
              "      Male  dsl  fiber_optic  type_One year  type_Two year  \\\n",
              "4142   0.0  1.0          0.0            1.0            0.0   \n",
              "6892   0.0  0.0          1.0            1.0            0.0   \n",
              "3682   1.0  0.0          1.0            0.0            0.0   \n",
              "2627   0.0  0.0          0.0            0.0            1.0   \n",
              "1032   0.0  0.0          1.0            0.0            0.0   \n",
              "4789   0.0  0.0          1.0            0.0            0.0   \n",
              "2352   1.0  0.0          0.0            0.0            0.0   \n",
              "6998   0.0  0.0          1.0            0.0            0.0   \n",
              "4021   0.0  0.0          0.0            0.0            0.0   \n",
              "4797   1.0  0.0          1.0            0.0            1.0   \n",
              "6036   0.0  0.0          1.0            1.0            0.0   \n",
              "6501   0.0  0.0          1.0            1.0            0.0   \n",
              "1271   0.0  1.0          0.0            1.0            0.0   \n",
              "1922   1.0  1.0          0.0            0.0            0.0   \n",
              "449    1.0  0.0          1.0            0.0            1.0   \n",
              "3944   0.0  0.0          0.0            1.0            0.0   \n",
              "3542   1.0  1.0          0.0            1.0            0.0   \n",
              "4878   1.0  1.0          0.0            0.0            0.0   \n",
              "5992   1.0  1.0          0.0            1.0            0.0   \n",
              "5619   0.0  0.0          1.0            1.0            0.0   \n",
              "\n",
              "      payment_method_Credit card (automatic)  payment_method_Electronic check  \\\n",
              "4142                                     1.0                              0.0   \n",
              "6892                                     0.0                              0.0   \n",
              "3682                                     0.0                              1.0   \n",
              "2627                                     1.0                              0.0   \n",
              "1032                                     0.0                              1.0   \n",
              "4789                                     0.0                              0.0   \n",
              "2352                                     0.0                              0.0   \n",
              "6998                                     0.0                              1.0   \n",
              "4021                                     0.0                              0.0   \n",
              "4797                                     1.0                              0.0   \n",
              "6036                                     0.0                              1.0   \n",
              "6501                                     0.0                              0.0   \n",
              "1271                                     0.0                              1.0   \n",
              "1922                                     0.0                              1.0   \n",
              "449                                      0.0                              0.0   \n",
              "3944                                     0.0                              0.0   \n",
              "3542                                     1.0                              0.0   \n",
              "4878                                     1.0                              0.0   \n",
              "5992                                     1.0                              0.0   \n",
              "5619                                     0.0                              0.0   \n",
              "\n",
              "      payment_method_Mailed check  month    year  months_registered  \\\n",
              "4142                          0.0    7.0  2014.0          63.966942   \n",
              "6892                          0.0    2.0  2016.0          49.921765   \n",
              "3682                          0.0   12.0  2019.0           1.000000   \n",
              "2627                          0.0    5.0  2017.0          32.143969   \n",
              "1032                          0.0    2.0  2019.0           7.925624   \n",
              "4789                          1.0   11.0  2019.0           1.000000   \n",
              "2352                          0.0    6.0  2019.0           8.573604   \n",
              "6998                          0.0    1.0  2019.0          12.568944   \n",
              "4021                          1.0   11.0  2019.0           1.000000   \n",
              "4797                          0.0    2.0  2014.0          72.680403   \n",
              "6036                          0.0    9.0  2015.0          52.809955   \n",
              "6501                          0.0    7.0  2014.0          64.493377   \n",
              "1271                          0.0    9.0  2015.0          53.716418   \n",
              "1922                          0.0    1.0  2018.0          23.275062   \n",
              "449                           0.0    2.0  2014.0          72.147393   \n",
              "3944                          1.0    5.0  2019.0           8.511111   \n",
              "3542                          0.0    9.0  2017.0          29.574526   \n",
              "4878                          0.0    7.0  2017.0          31.884843   \n",
              "5992                          0.0    5.0  2014.0          64.235335   \n",
              "5619                          0.0    6.0  2018.0          20.434066   \n",
              "\n",
              "      predict_curn  real_curn  \n",
              "4142             0          0  \n",
              "6892             0          0  \n",
              "3682             1          1  \n",
              "2627             0          0  \n",
              "1032             1          1  \n",
              "4789             1          1  \n",
              "2352             0          0  \n",
              "6998             0          0  \n",
              "4021             1          1  \n",
              "4797             0          0  \n",
              "6036             0          0  \n",
              "6501             1          0  \n",
              "1271             0          0  \n",
              "1922             1          0  \n",
              "449              0          0  \n",
              "3944             0          0  \n",
              "3542             0          0  \n",
              "4878             0          0  \n",
              "5992             0          1  \n",
              "5619             0          0  "
            ],
            "text/html": [
              "\n",
              "  <div id=\"df-75534049-4cf2-4dad-8ed6-0de3c1a594a2\">\n",
              "    <div class=\"colab-df-container\">\n",
              "      <div>\n",
              "<style scoped>\n",
              "    .dataframe tbody tr th:only-of-type {\n",
              "        vertical-align: middle;\n",
              "    }\n",
              "\n",
              "    .dataframe tbody tr th {\n",
              "        vertical-align: top;\n",
              "    }\n",
              "\n",
              "    .dataframe thead th {\n",
              "        text-align: right;\n",
              "    }\n",
              "</style>\n",
              "<table border=\"1\" class=\"dataframe\">\n",
              "  <thead>\n",
              "    <tr style=\"text-align: right;\">\n",
              "      <th></th>\n",
              "      <th>paperless_billing</th>\n",
              "      <th>monthly_charges</th>\n",
              "      <th>total_charges</th>\n",
              "      <th>online_security</th>\n",
              "      <th>online_backup</th>\n",
              "      <th>device_protection</th>\n",
              "      <th>tech_support</th>\n",
              "      <th>streaming_tv</th>\n",
              "      <th>streaming_movies</th>\n",
              "      <th>senior_citizen</th>\n",
              "      <th>partner</th>\n",
              "      <th>dependents</th>\n",
              "      <th>multiple_lines</th>\n",
              "      <th>Male</th>\n",
              "      <th>dsl</th>\n",
              "      <th>fiber_optic</th>\n",
              "      <th>type_One year</th>\n",
              "      <th>type_Two year</th>\n",
              "      <th>payment_method_Credit card (automatic)</th>\n",
              "      <th>payment_method_Electronic check</th>\n",
              "      <th>payment_method_Mailed check</th>\n",
              "      <th>month</th>\n",
              "      <th>year</th>\n",
              "      <th>months_registered</th>\n",
              "      <th>predict_curn</th>\n",
              "      <th>real_curn</th>\n",
              "    </tr>\n",
              "  </thead>\n",
              "  <tbody>\n",
              "    <tr>\n",
              "      <th>4142</th>\n",
              "      <td>0.0</td>\n",
              "      <td>60.50</td>\n",
              "      <td>3870.00</td>\n",
              "      <td>1.0</td>\n",
              "      <td>1.0</td>\n",
              "      <td>0.0</td>\n",
              "      <td>1.0</td>\n",
              "      <td>0.0</td>\n",
              "      <td>0.0</td>\n",
              "      <td>0.0</td>\n",
              "      <td>0.0</td>\n",
              "      <td>0.0</td>\n",
              "      <td>1.0</td>\n",
              "      <td>0.0</td>\n",
              "      <td>1.0</td>\n",
              "      <td>0.0</td>\n",
              "      <td>1.0</td>\n",
              "      <td>0.0</td>\n",
              "      <td>1.0</td>\n",
              "      <td>0.0</td>\n",
              "      <td>0.0</td>\n",
              "      <td>7.0</td>\n",
              "      <td>2014.0</td>\n",
              "      <td>63.966942</td>\n",
              "      <td>0</td>\n",
              "      <td>0</td>\n",
              "    </tr>\n",
              "    <tr>\n",
              "      <th>6892</th>\n",
              "      <td>1.0</td>\n",
              "      <td>99.70</td>\n",
              "      <td>4977.20</td>\n",
              "      <td>1.0</td>\n",
              "      <td>0.0</td>\n",
              "      <td>1.0</td>\n",
              "      <td>0.0</td>\n",
              "      <td>1.0</td>\n",
              "      <td>1.0</td>\n",
              "      <td>0.0</td>\n",
              "      <td>1.0</td>\n",
              "      <td>1.0</td>\n",
              "      <td>1.0</td>\n",
              "      <td>0.0</td>\n",
              "      <td>0.0</td>\n",
              "      <td>1.0</td>\n",
              "      <td>1.0</td>\n",
              "      <td>0.0</td>\n",
              "      <td>0.0</td>\n",
              "      <td>0.0</td>\n",
              "      <td>0.0</td>\n",
              "      <td>2.0</td>\n",
              "      <td>2016.0</td>\n",
              "      <td>49.921765</td>\n",
              "      <td>0</td>\n",
              "      <td>0</td>\n",
              "    </tr>\n",
              "    <tr>\n",
              "      <th>3682</th>\n",
              "      <td>1.0</td>\n",
              "      <td>69.10</td>\n",
              "      <td>69.10</td>\n",
              "      <td>0.0</td>\n",
              "      <td>0.0</td>\n",
              "      <td>0.0</td>\n",
              "      <td>0.0</td>\n",
              "      <td>0.0</td>\n",
              "      <td>0.0</td>\n",
              "      <td>0.0</td>\n",
              "      <td>0.0</td>\n",
              "      <td>0.0</td>\n",
              "      <td>1.0</td>\n",
              "      <td>1.0</td>\n",
              "      <td>0.0</td>\n",
              "      <td>1.0</td>\n",
              "      <td>0.0</td>\n",
              "      <td>0.0</td>\n",
              "      <td>0.0</td>\n",
              "      <td>1.0</td>\n",
              "      <td>0.0</td>\n",
              "      <td>12.0</td>\n",
              "      <td>2019.0</td>\n",
              "      <td>1.000000</td>\n",
              "      <td>1</td>\n",
              "      <td>1</td>\n",
              "    </tr>\n",
              "    <tr>\n",
              "      <th>2627</th>\n",
              "      <td>0.0</td>\n",
              "      <td>25.70</td>\n",
              "      <td>826.10</td>\n",
              "      <td>0.0</td>\n",
              "      <td>0.0</td>\n",
              "      <td>0.0</td>\n",
              "      <td>0.0</td>\n",
              "      <td>0.0</td>\n",
              "      <td>0.0</td>\n",
              "      <td>0.0</td>\n",
              "      <td>0.0</td>\n",
              "      <td>0.0</td>\n",
              "      <td>2.0</td>\n",
              "      <td>0.0</td>\n",
              "      <td>0.0</td>\n",
              "      <td>0.0</td>\n",
              "      <td>0.0</td>\n",
              "      <td>1.0</td>\n",
              "      <td>1.0</td>\n",
              "      <td>0.0</td>\n",
              "      <td>0.0</td>\n",
              "      <td>5.0</td>\n",
              "      <td>2017.0</td>\n",
              "      <td>32.143969</td>\n",
              "      <td>0</td>\n",
              "      <td>0</td>\n",
              "    </tr>\n",
              "    <tr>\n",
              "      <th>1032</th>\n",
              "      <td>1.0</td>\n",
              "      <td>92.10</td>\n",
              "      <td>729.95</td>\n",
              "      <td>0.0</td>\n",
              "      <td>0.0</td>\n",
              "      <td>1.0</td>\n",
              "      <td>0.0</td>\n",
              "      <td>1.0</td>\n",
              "      <td>1.0</td>\n",
              "      <td>1.0</td>\n",
              "      <td>0.0</td>\n",
              "      <td>0.0</td>\n",
              "      <td>1.0</td>\n",
              "      <td>0.0</td>\n",
              "      <td>0.0</td>\n",
              "      <td>1.0</td>\n",
              "      <td>0.0</td>\n",
              "      <td>0.0</td>\n",
              "      <td>0.0</td>\n",
              "      <td>1.0</td>\n",
              "      <td>0.0</td>\n",
              "      <td>2.0</td>\n",
              "      <td>2019.0</td>\n",
              "      <td>7.925624</td>\n",
              "      <td>1</td>\n",
              "      <td>1</td>\n",
              "    </tr>\n",
              "    <tr>\n",
              "      <th>4789</th>\n",
              "      <td>0.0</td>\n",
              "      <td>71.10</td>\n",
              "      <td>71.10</td>\n",
              "      <td>0.0</td>\n",
              "      <td>0.0</td>\n",
              "      <td>0.0</td>\n",
              "      <td>0.0</td>\n",
              "      <td>0.0</td>\n",
              "      <td>0.0</td>\n",
              "      <td>0.0</td>\n",
              "      <td>0.0</td>\n",
              "      <td>0.0</td>\n",
              "      <td>1.0</td>\n",
              "      <td>0.0</td>\n",
              "      <td>0.0</td>\n",
              "      <td>1.0</td>\n",
              "      <td>0.0</td>\n",
              "      <td>0.0</td>\n",
              "      <td>0.0</td>\n",
              "      <td>0.0</td>\n",
              "      <td>1.0</td>\n",
              "      <td>11.0</td>\n",
              "      <td>2019.0</td>\n",
              "      <td>1.000000</td>\n",
              "      <td>1</td>\n",
              "      <td>1</td>\n",
              "    </tr>\n",
              "    <tr>\n",
              "      <th>2352</th>\n",
              "      <td>1.0</td>\n",
              "      <td>19.70</td>\n",
              "      <td>168.90</td>\n",
              "      <td>0.0</td>\n",
              "      <td>0.0</td>\n",
              "      <td>0.0</td>\n",
              "      <td>0.0</td>\n",
              "      <td>0.0</td>\n",
              "      <td>0.0</td>\n",
              "      <td>0.0</td>\n",
              "      <td>0.0</td>\n",
              "      <td>0.0</td>\n",
              "      <td>1.0</td>\n",
              "      <td>1.0</td>\n",
              "      <td>0.0</td>\n",
              "      <td>0.0</td>\n",
              "      <td>0.0</td>\n",
              "      <td>0.0</td>\n",
              "      <td>0.0</td>\n",
              "      <td>0.0</td>\n",
              "      <td>0.0</td>\n",
              "      <td>6.0</td>\n",
              "      <td>2019.0</td>\n",
              "      <td>8.573604</td>\n",
              "      <td>0</td>\n",
              "      <td>0</td>\n",
              "    </tr>\n",
              "    <tr>\n",
              "      <th>6998</th>\n",
              "      <td>1.0</td>\n",
              "      <td>80.50</td>\n",
              "      <td>1011.80</td>\n",
              "      <td>0.0</td>\n",
              "      <td>0.0</td>\n",
              "      <td>0.0</td>\n",
              "      <td>0.0</td>\n",
              "      <td>0.0</td>\n",
              "      <td>1.0</td>\n",
              "      <td>0.0</td>\n",
              "      <td>0.0</td>\n",
              "      <td>0.0</td>\n",
              "      <td>1.0</td>\n",
              "      <td>0.0</td>\n",
              "      <td>0.0</td>\n",
              "      <td>1.0</td>\n",
              "      <td>0.0</td>\n",
              "      <td>0.0</td>\n",
              "      <td>0.0</td>\n",
              "      <td>1.0</td>\n",
              "      <td>0.0</td>\n",
              "      <td>1.0</td>\n",
              "      <td>2019.0</td>\n",
              "      <td>12.568944</td>\n",
              "      <td>0</td>\n",
              "      <td>0</td>\n",
              "    </tr>\n",
              "    <tr>\n",
              "      <th>4021</th>\n",
              "      <td>1.0</td>\n",
              "      <td>20.50</td>\n",
              "      <td>20.50</td>\n",
              "      <td>0.0</td>\n",
              "      <td>0.0</td>\n",
              "      <td>0.0</td>\n",
              "      <td>0.0</td>\n",
              "      <td>0.0</td>\n",
              "      <td>0.0</td>\n",
              "      <td>0.0</td>\n",
              "      <td>1.0</td>\n",
              "      <td>1.0</td>\n",
              "      <td>1.0</td>\n",
              "      <td>0.0</td>\n",
              "      <td>0.0</td>\n",
              "      <td>0.0</td>\n",
              "      <td>0.0</td>\n",
              "      <td>0.0</td>\n",
              "      <td>0.0</td>\n",
              "      <td>0.0</td>\n",
              "      <td>1.0</td>\n",
              "      <td>11.0</td>\n",
              "      <td>2019.0</td>\n",
              "      <td>1.000000</td>\n",
              "      <td>1</td>\n",
              "      <td>1</td>\n",
              "    </tr>\n",
              "    <tr>\n",
              "      <th>4797</th>\n",
              "      <td>1.0</td>\n",
              "      <td>114.05</td>\n",
              "      <td>8289.20</td>\n",
              "      <td>1.0</td>\n",
              "      <td>1.0</td>\n",
              "      <td>1.0</td>\n",
              "      <td>1.0</td>\n",
              "      <td>1.0</td>\n",
              "      <td>1.0</td>\n",
              "      <td>0.0</td>\n",
              "      <td>1.0</td>\n",
              "      <td>1.0</td>\n",
              "      <td>2.0</td>\n",
              "      <td>1.0</td>\n",
              "      <td>0.0</td>\n",
              "      <td>1.0</td>\n",
              "      <td>0.0</td>\n",
              "      <td>1.0</td>\n",
              "      <td>1.0</td>\n",
              "      <td>0.0</td>\n",
              "      <td>0.0</td>\n",
              "      <td>2.0</td>\n",
              "      <td>2014.0</td>\n",
              "      <td>72.680403</td>\n",
              "      <td>0</td>\n",
              "      <td>0</td>\n",
              "    </tr>\n",
              "    <tr>\n",
              "      <th>6036</th>\n",
              "      <td>0.0</td>\n",
              "      <td>110.50</td>\n",
              "      <td>5835.50</td>\n",
              "      <td>1.0</td>\n",
              "      <td>1.0</td>\n",
              "      <td>1.0</td>\n",
              "      <td>1.0</td>\n",
              "      <td>1.0</td>\n",
              "      <td>1.0</td>\n",
              "      <td>0.0</td>\n",
              "      <td>1.0</td>\n",
              "      <td>0.0</td>\n",
              "      <td>1.0</td>\n",
              "      <td>0.0</td>\n",
              "      <td>0.0</td>\n",
              "      <td>1.0</td>\n",
              "      <td>1.0</td>\n",
              "      <td>0.0</td>\n",
              "      <td>0.0</td>\n",
              "      <td>1.0</td>\n",
              "      <td>0.0</td>\n",
              "      <td>9.0</td>\n",
              "      <td>2015.0</td>\n",
              "      <td>52.809955</td>\n",
              "      <td>0</td>\n",
              "      <td>0</td>\n",
              "    </tr>\n",
              "    <tr>\n",
              "      <th>6501</th>\n",
              "      <td>1.0</td>\n",
              "      <td>105.70</td>\n",
              "      <td>6816.95</td>\n",
              "      <td>0.0</td>\n",
              "      <td>1.0</td>\n",
              "      <td>1.0</td>\n",
              "      <td>0.0</td>\n",
              "      <td>1.0</td>\n",
              "      <td>1.0</td>\n",
              "      <td>0.0</td>\n",
              "      <td>1.0</td>\n",
              "      <td>0.0</td>\n",
              "      <td>2.0</td>\n",
              "      <td>0.0</td>\n",
              "      <td>0.0</td>\n",
              "      <td>1.0</td>\n",
              "      <td>1.0</td>\n",
              "      <td>0.0</td>\n",
              "      <td>0.0</td>\n",
              "      <td>0.0</td>\n",
              "      <td>0.0</td>\n",
              "      <td>7.0</td>\n",
              "      <td>2014.0</td>\n",
              "      <td>64.493377</td>\n",
              "      <td>1</td>\n",
              "      <td>0</td>\n",
              "    </tr>\n",
              "    <tr>\n",
              "      <th>1271</th>\n",
              "      <td>1.0</td>\n",
              "      <td>53.60</td>\n",
              "      <td>2879.20</td>\n",
              "      <td>1.0</td>\n",
              "      <td>1.0</td>\n",
              "      <td>1.0</td>\n",
              "      <td>1.0</td>\n",
              "      <td>1.0</td>\n",
              "      <td>0.0</td>\n",
              "      <td>0.0</td>\n",
              "      <td>0.0</td>\n",
              "      <td>0.0</td>\n",
              "      <td>0.0</td>\n",
              "      <td>0.0</td>\n",
              "      <td>1.0</td>\n",
              "      <td>0.0</td>\n",
              "      <td>1.0</td>\n",
              "      <td>0.0</td>\n",
              "      <td>0.0</td>\n",
              "      <td>1.0</td>\n",
              "      <td>0.0</td>\n",
              "      <td>9.0</td>\n",
              "      <td>2015.0</td>\n",
              "      <td>53.716418</td>\n",
              "      <td>0</td>\n",
              "      <td>0</td>\n",
              "    </tr>\n",
              "    <tr>\n",
              "      <th>1922</th>\n",
              "      <td>0.0</td>\n",
              "      <td>60.35</td>\n",
              "      <td>1404.65</td>\n",
              "      <td>0.0</td>\n",
              "      <td>0.0</td>\n",
              "      <td>0.0</td>\n",
              "      <td>0.0</td>\n",
              "      <td>1.0</td>\n",
              "      <td>0.0</td>\n",
              "      <td>0.0</td>\n",
              "      <td>1.0</td>\n",
              "      <td>1.0</td>\n",
              "      <td>2.0</td>\n",
              "      <td>1.0</td>\n",
              "      <td>1.0</td>\n",
              "      <td>0.0</td>\n",
              "      <td>0.0</td>\n",
              "      <td>0.0</td>\n",
              "      <td>0.0</td>\n",
              "      <td>1.0</td>\n",
              "      <td>0.0</td>\n",
              "      <td>1.0</td>\n",
              "      <td>2018.0</td>\n",
              "      <td>23.275062</td>\n",
              "      <td>1</td>\n",
              "      <td>0</td>\n",
              "    </tr>\n",
              "    <tr>\n",
              "      <th>449</th>\n",
              "      <td>0.0</td>\n",
              "      <td>105.50</td>\n",
              "      <td>7611.55</td>\n",
              "      <td>1.0</td>\n",
              "      <td>1.0</td>\n",
              "      <td>0.0</td>\n",
              "      <td>1.0</td>\n",
              "      <td>1.0</td>\n",
              "      <td>1.0</td>\n",
              "      <td>0.0</td>\n",
              "      <td>1.0</td>\n",
              "      <td>1.0</td>\n",
              "      <td>1.0</td>\n",
              "      <td>1.0</td>\n",
              "      <td>0.0</td>\n",
              "      <td>1.0</td>\n",
              "      <td>0.0</td>\n",
              "      <td>1.0</td>\n",
              "      <td>0.0</td>\n",
              "      <td>0.0</td>\n",
              "      <td>0.0</td>\n",
              "      <td>2.0</td>\n",
              "      <td>2014.0</td>\n",
              "      <td>72.147393</td>\n",
              "      <td>0</td>\n",
              "      <td>0</td>\n",
              "    </tr>\n",
              "    <tr>\n",
              "      <th>3944</th>\n",
              "      <td>0.0</td>\n",
              "      <td>20.25</td>\n",
              "      <td>172.35</td>\n",
              "      <td>0.0</td>\n",
              "      <td>0.0</td>\n",
              "      <td>0.0</td>\n",
              "      <td>0.0</td>\n",
              "      <td>0.0</td>\n",
              "      <td>0.0</td>\n",
              "      <td>0.0</td>\n",
              "      <td>1.0</td>\n",
              "      <td>1.0</td>\n",
              "      <td>1.0</td>\n",
              "      <td>0.0</td>\n",
              "      <td>0.0</td>\n",
              "      <td>0.0</td>\n",
              "      <td>1.0</td>\n",
              "      <td>0.0</td>\n",
              "      <td>0.0</td>\n",
              "      <td>0.0</td>\n",
              "      <td>1.0</td>\n",
              "      <td>5.0</td>\n",
              "      <td>2019.0</td>\n",
              "      <td>8.511111</td>\n",
              "      <td>0</td>\n",
              "      <td>0</td>\n",
              "    </tr>\n",
              "    <tr>\n",
              "      <th>3542</th>\n",
              "      <td>1.0</td>\n",
              "      <td>55.35</td>\n",
              "      <td>1636.95</td>\n",
              "      <td>1.0</td>\n",
              "      <td>1.0</td>\n",
              "      <td>1.0</td>\n",
              "      <td>1.0</td>\n",
              "      <td>0.0</td>\n",
              "      <td>1.0</td>\n",
              "      <td>0.0</td>\n",
              "      <td>1.0</td>\n",
              "      <td>1.0</td>\n",
              "      <td>0.0</td>\n",
              "      <td>1.0</td>\n",
              "      <td>1.0</td>\n",
              "      <td>0.0</td>\n",
              "      <td>1.0</td>\n",
              "      <td>0.0</td>\n",
              "      <td>1.0</td>\n",
              "      <td>0.0</td>\n",
              "      <td>0.0</td>\n",
              "      <td>9.0</td>\n",
              "      <td>2017.0</td>\n",
              "      <td>29.574526</td>\n",
              "      <td>0</td>\n",
              "      <td>0</td>\n",
              "    </tr>\n",
              "    <tr>\n",
              "      <th>4878</th>\n",
              "      <td>1.0</td>\n",
              "      <td>59.05</td>\n",
              "      <td>1882.80</td>\n",
              "      <td>0.0</td>\n",
              "      <td>0.0</td>\n",
              "      <td>0.0</td>\n",
              "      <td>0.0</td>\n",
              "      <td>1.0</td>\n",
              "      <td>0.0</td>\n",
              "      <td>0.0</td>\n",
              "      <td>1.0</td>\n",
              "      <td>0.0</td>\n",
              "      <td>2.0</td>\n",
              "      <td>1.0</td>\n",
              "      <td>1.0</td>\n",
              "      <td>0.0</td>\n",
              "      <td>0.0</td>\n",
              "      <td>0.0</td>\n",
              "      <td>1.0</td>\n",
              "      <td>0.0</td>\n",
              "      <td>0.0</td>\n",
              "      <td>7.0</td>\n",
              "      <td>2017.0</td>\n",
              "      <td>31.884843</td>\n",
              "      <td>0</td>\n",
              "      <td>0</td>\n",
              "    </tr>\n",
              "    <tr>\n",
              "      <th>5992</th>\n",
              "      <td>0.0</td>\n",
              "      <td>72.45</td>\n",
              "      <td>4653.85</td>\n",
              "      <td>1.0</td>\n",
              "      <td>1.0</td>\n",
              "      <td>1.0</td>\n",
              "      <td>0.0</td>\n",
              "      <td>0.0</td>\n",
              "      <td>1.0</td>\n",
              "      <td>0.0</td>\n",
              "      <td>1.0</td>\n",
              "      <td>1.0</td>\n",
              "      <td>2.0</td>\n",
              "      <td>1.0</td>\n",
              "      <td>1.0</td>\n",
              "      <td>0.0</td>\n",
              "      <td>1.0</td>\n",
              "      <td>0.0</td>\n",
              "      <td>1.0</td>\n",
              "      <td>0.0</td>\n",
              "      <td>0.0</td>\n",
              "      <td>5.0</td>\n",
              "      <td>2014.0</td>\n",
              "      <td>64.235335</td>\n",
              "      <td>0</td>\n",
              "      <td>1</td>\n",
              "    </tr>\n",
              "    <tr>\n",
              "      <th>5619</th>\n",
              "      <td>1.0</td>\n",
              "      <td>91.00</td>\n",
              "      <td>1859.50</td>\n",
              "      <td>0.0</td>\n",
              "      <td>0.0</td>\n",
              "      <td>0.0</td>\n",
              "      <td>0.0</td>\n",
              "      <td>1.0</td>\n",
              "      <td>1.0</td>\n",
              "      <td>1.0</td>\n",
              "      <td>1.0</td>\n",
              "      <td>0.0</td>\n",
              "      <td>1.0</td>\n",
              "      <td>0.0</td>\n",
              "      <td>0.0</td>\n",
              "      <td>1.0</td>\n",
              "      <td>1.0</td>\n",
              "      <td>0.0</td>\n",
              "      <td>0.0</td>\n",
              "      <td>0.0</td>\n",
              "      <td>0.0</td>\n",
              "      <td>6.0</td>\n",
              "      <td>2018.0</td>\n",
              "      <td>20.434066</td>\n",
              "      <td>0</td>\n",
              "      <td>0</td>\n",
              "    </tr>\n",
              "  </tbody>\n",
              "</table>\n",
              "</div>\n",
              "      <button class=\"colab-df-convert\" onclick=\"convertToInteractive('df-75534049-4cf2-4dad-8ed6-0de3c1a594a2')\"\n",
              "              title=\"Convert this dataframe to an interactive table.\"\n",
              "              style=\"display:none;\">\n",
              "        \n",
              "  <svg xmlns=\"http://www.w3.org/2000/svg\" height=\"24px\"viewBox=\"0 0 24 24\"\n",
              "       width=\"24px\">\n",
              "    <path d=\"M0 0h24v24H0V0z\" fill=\"none\"/>\n",
              "    <path d=\"M18.56 5.44l.94 2.06.94-2.06 2.06-.94-2.06-.94-.94-2.06-.94 2.06-2.06.94zm-11 1L8.5 8.5l.94-2.06 2.06-.94-2.06-.94L8.5 2.5l-.94 2.06-2.06.94zm10 10l.94 2.06.94-2.06 2.06-.94-2.06-.94-.94-2.06-.94 2.06-2.06.94z\"/><path d=\"M17.41 7.96l-1.37-1.37c-.4-.4-.92-.59-1.43-.59-.52 0-1.04.2-1.43.59L10.3 9.45l-7.72 7.72c-.78.78-.78 2.05 0 2.83L4 21.41c.39.39.9.59 1.41.59.51 0 1.02-.2 1.41-.59l7.78-7.78 2.81-2.81c.8-.78.8-2.07 0-2.86zM5.41 20L4 18.59l7.72-7.72 1.47 1.35L5.41 20z\"/>\n",
              "  </svg>\n",
              "      </button>\n",
              "      \n",
              "  <style>\n",
              "    .colab-df-container {\n",
              "      display:flex;\n",
              "      flex-wrap:wrap;\n",
              "      gap: 12px;\n",
              "    }\n",
              "\n",
              "    .colab-df-convert {\n",
              "      background-color: #E8F0FE;\n",
              "      border: none;\n",
              "      border-radius: 50%;\n",
              "      cursor: pointer;\n",
              "      display: none;\n",
              "      fill: #1967D2;\n",
              "      height: 32px;\n",
              "      padding: 0 0 0 0;\n",
              "      width: 32px;\n",
              "    }\n",
              "\n",
              "    .colab-df-convert:hover {\n",
              "      background-color: #E2EBFA;\n",
              "      box-shadow: 0px 1px 2px rgba(60, 64, 67, 0.3), 0px 1px 3px 1px rgba(60, 64, 67, 0.15);\n",
              "      fill: #174EA6;\n",
              "    }\n",
              "\n",
              "    [theme=dark] .colab-df-convert {\n",
              "      background-color: #3B4455;\n",
              "      fill: #D2E3FC;\n",
              "    }\n",
              "\n",
              "    [theme=dark] .colab-df-convert:hover {\n",
              "      background-color: #434B5C;\n",
              "      box-shadow: 0px 1px 3px 1px rgba(0, 0, 0, 0.15);\n",
              "      filter: drop-shadow(0px 1px 2px rgba(0, 0, 0, 0.3));\n",
              "      fill: #FFFFFF;\n",
              "    }\n",
              "  </style>\n",
              "\n",
              "      <script>\n",
              "        const buttonEl =\n",
              "          document.querySelector('#df-75534049-4cf2-4dad-8ed6-0de3c1a594a2 button.colab-df-convert');\n",
              "        buttonEl.style.display =\n",
              "          google.colab.kernel.accessAllowed ? 'block' : 'none';\n",
              "\n",
              "        async function convertToInteractive(key) {\n",
              "          const element = document.querySelector('#df-75534049-4cf2-4dad-8ed6-0de3c1a594a2');\n",
              "          const dataTable =\n",
              "            await google.colab.kernel.invokeFunction('convertToInteractive',\n",
              "                                                     [key], {});\n",
              "          if (!dataTable) return;\n",
              "\n",
              "          const docLinkHtml = 'Like what you see? Visit the ' +\n",
              "            '<a target=\"_blank\" href=https://colab.research.google.com/notebooks/data_table.ipynb>data table notebook</a>'\n",
              "            + ' to learn more about interactive tables.';\n",
              "          element.innerHTML = '';\n",
              "          dataTable['output_type'] = 'display_data';\n",
              "          await google.colab.output.renderOutput(dataTable, element);\n",
              "          const docLink = document.createElement('div');\n",
              "          docLink.innerHTML = docLinkHtml;\n",
              "          element.appendChild(docLink);\n",
              "        }\n",
              "      </script>\n",
              "    </div>\n",
              "  </div>\n",
              "  "
            ]
          },
          "metadata": {},
          "execution_count": 139
        },
        {
          "output_type": "stream",
          "name": "stdout",
          "text": [
            "\n",
            "All test observations where prediction and real churn dpnt match\n"
          ]
        },
        {
          "output_type": "execute_result",
          "data": {
            "text/plain": [
              "      paperless_billing  monthly_charges  total_charges  online_security  \\\n",
              "3995                1.0            74.90        2068.55              1.0   \n",
              "3694                1.0           108.75        7156.20              1.0   \n",
              "5904                0.0            98.90        6838.60              0.0   \n",
              "868                 0.0            85.55        5084.65              0.0   \n",
              "5483                1.0            77.75        4458.15              0.0   \n",
              "...                 ...              ...            ...              ...   \n",
              "3058                1.0            55.85         937.50              0.0   \n",
              "2822                0.0            79.90        3326.20              1.0   \n",
              "6680                1.0            95.50        4627.85              0.0   \n",
              "2671                0.0           105.40        6713.20              0.0   \n",
              "4577                1.0           104.85        6312.90              1.0   \n",
              "\n",
              "      online_backup  device_protection  tech_support  streaming_tv  \\\n",
              "3995            0.0                0.0           0.0           0.0   \n",
              "3694            0.0                1.0           1.0           1.0   \n",
              "5904            1.0                0.0           0.0           1.0   \n",
              "868             0.0                0.0           0.0           0.0   \n",
              "5483            0.0                1.0           0.0           0.0   \n",
              "...             ...                ...           ...           ...   \n",
              "3058            0.0                1.0           0.0           0.0   \n",
              "2822            1.0                1.0           1.0           0.0   \n",
              "6680            1.0                1.0           1.0           1.0   \n",
              "2671            1.0                0.0           1.0           1.0   \n",
              "4577            0.0                1.0           0.0           1.0   \n",
              "\n",
              "      streaming_movies  senior_citizen  partner  dependents  multiple_lines  \\\n",
              "3995               0.0             0.0      0.0         1.0             1.0   \n",
              "3694               1.0             0.0      1.0         1.0             2.0   \n",
              "5904               1.0             0.0      0.0         0.0             2.0   \n",
              "868                1.0             0.0      1.0         0.0             2.0   \n",
              "5483               0.0             0.0      1.0         0.0             2.0   \n",
              "...                ...             ...      ...         ...             ...   \n",
              "3058               0.0             0.0      0.0         1.0             2.0   \n",
              "2822               1.0             0.0      1.0         1.0             2.0   \n",
              "6680               0.0             0.0      0.0         1.0             1.0   \n",
              "2671               1.0             0.0      0.0         0.0             2.0   \n",
              "4577               1.0             1.0      1.0         0.0             2.0   \n",
              "\n",
              "      Male  dsl  fiber_optic  type_One year  type_Two year  \\\n",
              "3995   1.0  0.0          1.0            0.0            0.0   \n",
              "3694   0.0  0.0          1.0            0.0            1.0   \n",
              "5904   0.0  0.0          1.0            1.0            0.0   \n",
              "868    1.0  0.0          1.0            1.0            0.0   \n",
              "5483   0.0  0.0          1.0            0.0            0.0   \n",
              "...    ...  ...          ...            ...            ...   \n",
              "3058   0.0  1.0          0.0            1.0            0.0   \n",
              "2822   0.0  1.0          0.0            0.0            0.0   \n",
              "6680   0.0  0.0          1.0            0.0            1.0   \n",
              "2671   1.0  0.0          1.0            0.0            0.0   \n",
              "4577   0.0  0.0          1.0            1.0            0.0   \n",
              "\n",
              "      payment_method_Credit card (automatic)  payment_method_Electronic check  \\\n",
              "3995                                     0.0                              0.0   \n",
              "3694                                     1.0                              0.0   \n",
              "5904                                     0.0                              1.0   \n",
              "868                                      0.0                              1.0   \n",
              "5483                                     0.0                              1.0   \n",
              "...                                      ...                              ...   \n",
              "3058                                     0.0                              0.0   \n",
              "2822                                     1.0                              0.0   \n",
              "6680                                     0.0                              0.0   \n",
              "2671                                     0.0                              1.0   \n",
              "4577                                     0.0                              1.0   \n",
              "\n",
              "      payment_method_Mailed check  month    year  months_registered  \\\n",
              "3995                          0.0    9.0  2017.0          27.617490   \n",
              "3694                          0.0    5.0  2014.0          65.804138   \n",
              "5904                          0.0    4.0  2014.0          69.146613   \n",
              "868                           0.0   11.0  2014.0          59.434833   \n",
              "5483                          0.0    6.0  2015.0          57.339550   \n",
              "...                           ...    ...     ...                ...   \n",
              "3058                          1.0    8.0  2018.0          16.786034   \n",
              "2822                          0.0    5.0  2016.0          41.629537   \n",
              "6680                          1.0   12.0  2015.0          48.459162   \n",
              "2671                          0.0   11.0  2014.0          63.692600   \n",
              "4577                          0.0   12.0  2014.0          60.208870   \n",
              "\n",
              "      predict_curn  real_curn  \n",
              "3995             0          1  \n",
              "3694             0          1  \n",
              "5904             1          0  \n",
              "868              0          1  \n",
              "5483             0          1  \n",
              "...            ...        ...  \n",
              "3058             0          1  \n",
              "2822             0          1  \n",
              "6680             0          1  \n",
              "2671             1          0  \n",
              "4577             1          0  \n",
              "\n",
              "[93 rows x 26 columns]"
            ],
            "text/html": [
              "\n",
              "  <div id=\"df-178abbc0-e528-4266-9fc4-8130e60843d3\">\n",
              "    <div class=\"colab-df-container\">\n",
              "      <div>\n",
              "<style scoped>\n",
              "    .dataframe tbody tr th:only-of-type {\n",
              "        vertical-align: middle;\n",
              "    }\n",
              "\n",
              "    .dataframe tbody tr th {\n",
              "        vertical-align: top;\n",
              "    }\n",
              "\n",
              "    .dataframe thead th {\n",
              "        text-align: right;\n",
              "    }\n",
              "</style>\n",
              "<table border=\"1\" class=\"dataframe\">\n",
              "  <thead>\n",
              "    <tr style=\"text-align: right;\">\n",
              "      <th></th>\n",
              "      <th>paperless_billing</th>\n",
              "      <th>monthly_charges</th>\n",
              "      <th>total_charges</th>\n",
              "      <th>online_security</th>\n",
              "      <th>online_backup</th>\n",
              "      <th>device_protection</th>\n",
              "      <th>tech_support</th>\n",
              "      <th>streaming_tv</th>\n",
              "      <th>streaming_movies</th>\n",
              "      <th>senior_citizen</th>\n",
              "      <th>partner</th>\n",
              "      <th>dependents</th>\n",
              "      <th>multiple_lines</th>\n",
              "      <th>Male</th>\n",
              "      <th>dsl</th>\n",
              "      <th>fiber_optic</th>\n",
              "      <th>type_One year</th>\n",
              "      <th>type_Two year</th>\n",
              "      <th>payment_method_Credit card (automatic)</th>\n",
              "      <th>payment_method_Electronic check</th>\n",
              "      <th>payment_method_Mailed check</th>\n",
              "      <th>month</th>\n",
              "      <th>year</th>\n",
              "      <th>months_registered</th>\n",
              "      <th>predict_curn</th>\n",
              "      <th>real_curn</th>\n",
              "    </tr>\n",
              "  </thead>\n",
              "  <tbody>\n",
              "    <tr>\n",
              "      <th>3995</th>\n",
              "      <td>1.0</td>\n",
              "      <td>74.90</td>\n",
              "      <td>2068.55</td>\n",
              "      <td>1.0</td>\n",
              "      <td>0.0</td>\n",
              "      <td>0.0</td>\n",
              "      <td>0.0</td>\n",
              "      <td>0.0</td>\n",
              "      <td>0.0</td>\n",
              "      <td>0.0</td>\n",
              "      <td>0.0</td>\n",
              "      <td>1.0</td>\n",
              "      <td>1.0</td>\n",
              "      <td>1.0</td>\n",
              "      <td>0.0</td>\n",
              "      <td>1.0</td>\n",
              "      <td>0.0</td>\n",
              "      <td>0.0</td>\n",
              "      <td>0.0</td>\n",
              "      <td>0.0</td>\n",
              "      <td>0.0</td>\n",
              "      <td>9.0</td>\n",
              "      <td>2017.0</td>\n",
              "      <td>27.617490</td>\n",
              "      <td>0</td>\n",
              "      <td>1</td>\n",
              "    </tr>\n",
              "    <tr>\n",
              "      <th>3694</th>\n",
              "      <td>1.0</td>\n",
              "      <td>108.75</td>\n",
              "      <td>7156.20</td>\n",
              "      <td>1.0</td>\n",
              "      <td>0.0</td>\n",
              "      <td>1.0</td>\n",
              "      <td>1.0</td>\n",
              "      <td>1.0</td>\n",
              "      <td>1.0</td>\n",
              "      <td>0.0</td>\n",
              "      <td>1.0</td>\n",
              "      <td>1.0</td>\n",
              "      <td>2.0</td>\n",
              "      <td>0.0</td>\n",
              "      <td>0.0</td>\n",
              "      <td>1.0</td>\n",
              "      <td>0.0</td>\n",
              "      <td>1.0</td>\n",
              "      <td>1.0</td>\n",
              "      <td>0.0</td>\n",
              "      <td>0.0</td>\n",
              "      <td>5.0</td>\n",
              "      <td>2014.0</td>\n",
              "      <td>65.804138</td>\n",
              "      <td>0</td>\n",
              "      <td>1</td>\n",
              "    </tr>\n",
              "    <tr>\n",
              "      <th>5904</th>\n",
              "      <td>0.0</td>\n",
              "      <td>98.90</td>\n",
              "      <td>6838.60</td>\n",
              "      <td>0.0</td>\n",
              "      <td>1.0</td>\n",
              "      <td>0.0</td>\n",
              "      <td>0.0</td>\n",
              "      <td>1.0</td>\n",
              "      <td>1.0</td>\n",
              "      <td>0.0</td>\n",
              "      <td>0.0</td>\n",
              "      <td>0.0</td>\n",
              "      <td>2.0</td>\n",
              "      <td>0.0</td>\n",
              "      <td>0.0</td>\n",
              "      <td>1.0</td>\n",
              "      <td>1.0</td>\n",
              "      <td>0.0</td>\n",
              "      <td>0.0</td>\n",
              "      <td>1.0</td>\n",
              "      <td>0.0</td>\n",
              "      <td>4.0</td>\n",
              "      <td>2014.0</td>\n",
              "      <td>69.146613</td>\n",
              "      <td>1</td>\n",
              "      <td>0</td>\n",
              "    </tr>\n",
              "    <tr>\n",
              "      <th>868</th>\n",
              "      <td>0.0</td>\n",
              "      <td>85.55</td>\n",
              "      <td>5084.65</td>\n",
              "      <td>0.0</td>\n",
              "      <td>0.0</td>\n",
              "      <td>0.0</td>\n",
              "      <td>0.0</td>\n",
              "      <td>0.0</td>\n",
              "      <td>1.0</td>\n",
              "      <td>0.0</td>\n",
              "      <td>1.0</td>\n",
              "      <td>0.0</td>\n",
              "      <td>2.0</td>\n",
              "      <td>1.0</td>\n",
              "      <td>0.0</td>\n",
              "      <td>1.0</td>\n",
              "      <td>1.0</td>\n",
              "      <td>0.0</td>\n",
              "      <td>0.0</td>\n",
              "      <td>1.0</td>\n",
              "      <td>0.0</td>\n",
              "      <td>11.0</td>\n",
              "      <td>2014.0</td>\n",
              "      <td>59.434833</td>\n",
              "      <td>0</td>\n",
              "      <td>1</td>\n",
              "    </tr>\n",
              "    <tr>\n",
              "      <th>5483</th>\n",
              "      <td>1.0</td>\n",
              "      <td>77.75</td>\n",
              "      <td>4458.15</td>\n",
              "      <td>0.0</td>\n",
              "      <td>0.0</td>\n",
              "      <td>1.0</td>\n",
              "      <td>0.0</td>\n",
              "      <td>0.0</td>\n",
              "      <td>0.0</td>\n",
              "      <td>0.0</td>\n",
              "      <td>1.0</td>\n",
              "      <td>0.0</td>\n",
              "      <td>2.0</td>\n",
              "      <td>0.0</td>\n",
              "      <td>0.0</td>\n",
              "      <td>1.0</td>\n",
              "      <td>0.0</td>\n",
              "      <td>0.0</td>\n",
              "      <td>0.0</td>\n",
              "      <td>1.0</td>\n",
              "      <td>0.0</td>\n",
              "      <td>6.0</td>\n",
              "      <td>2015.0</td>\n",
              "      <td>57.339550</td>\n",
              "      <td>0</td>\n",
              "      <td>1</td>\n",
              "    </tr>\n",
              "    <tr>\n",
              "      <th>...</th>\n",
              "      <td>...</td>\n",
              "      <td>...</td>\n",
              "      <td>...</td>\n",
              "      <td>...</td>\n",
              "      <td>...</td>\n",
              "      <td>...</td>\n",
              "      <td>...</td>\n",
              "      <td>...</td>\n",
              "      <td>...</td>\n",
              "      <td>...</td>\n",
              "      <td>...</td>\n",
              "      <td>...</td>\n",
              "      <td>...</td>\n",
              "      <td>...</td>\n",
              "      <td>...</td>\n",
              "      <td>...</td>\n",
              "      <td>...</td>\n",
              "      <td>...</td>\n",
              "      <td>...</td>\n",
              "      <td>...</td>\n",
              "      <td>...</td>\n",
              "      <td>...</td>\n",
              "      <td>...</td>\n",
              "      <td>...</td>\n",
              "      <td>...</td>\n",
              "      <td>...</td>\n",
              "    </tr>\n",
              "    <tr>\n",
              "      <th>3058</th>\n",
              "      <td>1.0</td>\n",
              "      <td>55.85</td>\n",
              "      <td>937.50</td>\n",
              "      <td>0.0</td>\n",
              "      <td>0.0</td>\n",
              "      <td>1.0</td>\n",
              "      <td>0.0</td>\n",
              "      <td>0.0</td>\n",
              "      <td>0.0</td>\n",
              "      <td>0.0</td>\n",
              "      <td>0.0</td>\n",
              "      <td>1.0</td>\n",
              "      <td>2.0</td>\n",
              "      <td>0.0</td>\n",
              "      <td>1.0</td>\n",
              "      <td>0.0</td>\n",
              "      <td>1.0</td>\n",
              "      <td>0.0</td>\n",
              "      <td>0.0</td>\n",
              "      <td>0.0</td>\n",
              "      <td>1.0</td>\n",
              "      <td>8.0</td>\n",
              "      <td>2018.0</td>\n",
              "      <td>16.786034</td>\n",
              "      <td>0</td>\n",
              "      <td>1</td>\n",
              "    </tr>\n",
              "    <tr>\n",
              "      <th>2822</th>\n",
              "      <td>0.0</td>\n",
              "      <td>79.90</td>\n",
              "      <td>3326.20</td>\n",
              "      <td>1.0</td>\n",
              "      <td>1.0</td>\n",
              "      <td>1.0</td>\n",
              "      <td>1.0</td>\n",
              "      <td>0.0</td>\n",
              "      <td>1.0</td>\n",
              "      <td>0.0</td>\n",
              "      <td>1.0</td>\n",
              "      <td>1.0</td>\n",
              "      <td>2.0</td>\n",
              "      <td>0.0</td>\n",
              "      <td>1.0</td>\n",
              "      <td>0.0</td>\n",
              "      <td>0.0</td>\n",
              "      <td>0.0</td>\n",
              "      <td>1.0</td>\n",
              "      <td>0.0</td>\n",
              "      <td>0.0</td>\n",
              "      <td>5.0</td>\n",
              "      <td>2016.0</td>\n",
              "      <td>41.629537</td>\n",
              "      <td>0</td>\n",
              "      <td>1</td>\n",
              "    </tr>\n",
              "    <tr>\n",
              "      <th>6680</th>\n",
              "      <td>1.0</td>\n",
              "      <td>95.50</td>\n",
              "      <td>4627.85</td>\n",
              "      <td>0.0</td>\n",
              "      <td>1.0</td>\n",
              "      <td>1.0</td>\n",
              "      <td>1.0</td>\n",
              "      <td>1.0</td>\n",
              "      <td>0.0</td>\n",
              "      <td>0.0</td>\n",
              "      <td>0.0</td>\n",
              "      <td>1.0</td>\n",
              "      <td>1.0</td>\n",
              "      <td>0.0</td>\n",
              "      <td>0.0</td>\n",
              "      <td>1.0</td>\n",
              "      <td>0.0</td>\n",
              "      <td>1.0</td>\n",
              "      <td>0.0</td>\n",
              "      <td>0.0</td>\n",
              "      <td>1.0</td>\n",
              "      <td>12.0</td>\n",
              "      <td>2015.0</td>\n",
              "      <td>48.459162</td>\n",
              "      <td>0</td>\n",
              "      <td>1</td>\n",
              "    </tr>\n",
              "    <tr>\n",
              "      <th>2671</th>\n",
              "      <td>0.0</td>\n",
              "      <td>105.40</td>\n",
              "      <td>6713.20</td>\n",
              "      <td>0.0</td>\n",
              "      <td>1.0</td>\n",
              "      <td>0.0</td>\n",
              "      <td>1.0</td>\n",
              "      <td>1.0</td>\n",
              "      <td>1.0</td>\n",
              "      <td>0.0</td>\n",
              "      <td>0.0</td>\n",
              "      <td>0.0</td>\n",
              "      <td>2.0</td>\n",
              "      <td>1.0</td>\n",
              "      <td>0.0</td>\n",
              "      <td>1.0</td>\n",
              "      <td>0.0</td>\n",
              "      <td>0.0</td>\n",
              "      <td>0.0</td>\n",
              "      <td>1.0</td>\n",
              "      <td>0.0</td>\n",
              "      <td>11.0</td>\n",
              "      <td>2014.0</td>\n",
              "      <td>63.692600</td>\n",
              "      <td>1</td>\n",
              "      <td>0</td>\n",
              "    </tr>\n",
              "    <tr>\n",
              "      <th>4577</th>\n",
              "      <td>1.0</td>\n",
              "      <td>104.85</td>\n",
              "      <td>6312.90</td>\n",
              "      <td>1.0</td>\n",
              "      <td>0.0</td>\n",
              "      <td>1.0</td>\n",
              "      <td>0.0</td>\n",
              "      <td>1.0</td>\n",
              "      <td>1.0</td>\n",
              "      <td>1.0</td>\n",
              "      <td>1.0</td>\n",
              "      <td>0.0</td>\n",
              "      <td>2.0</td>\n",
              "      <td>0.0</td>\n",
              "      <td>0.0</td>\n",
              "      <td>1.0</td>\n",
              "      <td>1.0</td>\n",
              "      <td>0.0</td>\n",
              "      <td>0.0</td>\n",
              "      <td>1.0</td>\n",
              "      <td>0.0</td>\n",
              "      <td>12.0</td>\n",
              "      <td>2014.0</td>\n",
              "      <td>60.208870</td>\n",
              "      <td>1</td>\n",
              "      <td>0</td>\n",
              "    </tr>\n",
              "  </tbody>\n",
              "</table>\n",
              "<p>93 rows × 26 columns</p>\n",
              "</div>\n",
              "      <button class=\"colab-df-convert\" onclick=\"convertToInteractive('df-178abbc0-e528-4266-9fc4-8130e60843d3')\"\n",
              "              title=\"Convert this dataframe to an interactive table.\"\n",
              "              style=\"display:none;\">\n",
              "        \n",
              "  <svg xmlns=\"http://www.w3.org/2000/svg\" height=\"24px\"viewBox=\"0 0 24 24\"\n",
              "       width=\"24px\">\n",
              "    <path d=\"M0 0h24v24H0V0z\" fill=\"none\"/>\n",
              "    <path d=\"M18.56 5.44l.94 2.06.94-2.06 2.06-.94-2.06-.94-.94-2.06-.94 2.06-2.06.94zm-11 1L8.5 8.5l.94-2.06 2.06-.94-2.06-.94L8.5 2.5l-.94 2.06-2.06.94zm10 10l.94 2.06.94-2.06 2.06-.94-2.06-.94-.94-2.06-.94 2.06-2.06.94z\"/><path d=\"M17.41 7.96l-1.37-1.37c-.4-.4-.92-.59-1.43-.59-.52 0-1.04.2-1.43.59L10.3 9.45l-7.72 7.72c-.78.78-.78 2.05 0 2.83L4 21.41c.39.39.9.59 1.41.59.51 0 1.02-.2 1.41-.59l7.78-7.78 2.81-2.81c.8-.78.8-2.07 0-2.86zM5.41 20L4 18.59l7.72-7.72 1.47 1.35L5.41 20z\"/>\n",
              "  </svg>\n",
              "      </button>\n",
              "      \n",
              "  <style>\n",
              "    .colab-df-container {\n",
              "      display:flex;\n",
              "      flex-wrap:wrap;\n",
              "      gap: 12px;\n",
              "    }\n",
              "\n",
              "    .colab-df-convert {\n",
              "      background-color: #E8F0FE;\n",
              "      border: none;\n",
              "      border-radius: 50%;\n",
              "      cursor: pointer;\n",
              "      display: none;\n",
              "      fill: #1967D2;\n",
              "      height: 32px;\n",
              "      padding: 0 0 0 0;\n",
              "      width: 32px;\n",
              "    }\n",
              "\n",
              "    .colab-df-convert:hover {\n",
              "      background-color: #E2EBFA;\n",
              "      box-shadow: 0px 1px 2px rgba(60, 64, 67, 0.3), 0px 1px 3px 1px rgba(60, 64, 67, 0.15);\n",
              "      fill: #174EA6;\n",
              "    }\n",
              "\n",
              "    [theme=dark] .colab-df-convert {\n",
              "      background-color: #3B4455;\n",
              "      fill: #D2E3FC;\n",
              "    }\n",
              "\n",
              "    [theme=dark] .colab-df-convert:hover {\n",
              "      background-color: #434B5C;\n",
              "      box-shadow: 0px 1px 3px 1px rgba(0, 0, 0, 0.15);\n",
              "      filter: drop-shadow(0px 1px 2px rgba(0, 0, 0, 0.3));\n",
              "      fill: #FFFFFF;\n",
              "    }\n",
              "  </style>\n",
              "\n",
              "      <script>\n",
              "        const buttonEl =\n",
              "          document.querySelector('#df-178abbc0-e528-4266-9fc4-8130e60843d3 button.colab-df-convert');\n",
              "        buttonEl.style.display =\n",
              "          google.colab.kernel.accessAllowed ? 'block' : 'none';\n",
              "\n",
              "        async function convertToInteractive(key) {\n",
              "          const element = document.querySelector('#df-178abbc0-e528-4266-9fc4-8130e60843d3');\n",
              "          const dataTable =\n",
              "            await google.colab.kernel.invokeFunction('convertToInteractive',\n",
              "                                                     [key], {});\n",
              "          if (!dataTable) return;\n",
              "\n",
              "          const docLinkHtml = 'Like what you see? Visit the ' +\n",
              "            '<a target=\"_blank\" href=https://colab.research.google.com/notebooks/data_table.ipynb>data table notebook</a>'\n",
              "            + ' to learn more about interactive tables.';\n",
              "          element.innerHTML = '';\n",
              "          dataTable['output_type'] = 'display_data';\n",
              "          await google.colab.output.renderOutput(dataTable, element);\n",
              "          const docLink = document.createElement('div');\n",
              "          docLink.innerHTML = docLinkHtml;\n",
              "          element.appendChild(docLink);\n",
              "        }\n",
              "      </script>\n",
              "    </div>\n",
              "  </div>\n",
              "  "
            ]
          },
          "metadata": {},
          "execution_count": 139
        }
      ]
    },
    {
      "cell_type": "markdown",
      "source": [
        "# Conclusions and summary"
      ],
      "metadata": {
        "id": "jwS650vbiOYi"
      },
      "id": "jwS650vbiOYi"
    },
    {
      "cell_type": "markdown",
      "source": [
        "Taking both the scores and the time and model complexity into account, the LGBM classifier is still the best model for Interconnect's needs. The time difference is neglectable for our purpose. It has the highest AUC-ROC score and the highest F1 and accuracy scores and while it takes longer to train/predict than the logistic regression model, we are still talking about less than half  a second which is insignificant compared to the added correctness of the predictions it generates.\n",
        "\n",
        "To sum up, I downloaded the data, took a brief look at it and then:\n",
        "\n",
        "* **Preprocessing**:\n",
        "    * merged the different datasets into one based on `customer_id`\n",
        "    * filled in missing data due to the merging\n",
        "    * standardized column names to lowercase and underscore between words\n",
        "    * created the `churn` 0/1 column based on `end_date`\n",
        "        * noticed a 3:1 class imbalance in favor of the negative class\n",
        "        * 11 observations had missing `total_charges` due to joining on the last day of the data, and were dropped\n",
        "\n",
        "* **Exploratory data analysis**:\n",
        "    * looked graphically at categorical feature differences in regards to churned status which showed us which features could be important in the modeling stage\n",
        "    * analyzed the histograms of `begin_date`, `total_charges` and `monthly_charges` comparing between the churned statuses \n",
        "        * discovered churned users are usually more recent, had higher monthly charges and lower total charges\n",
        "    * looked at the correlation matrix vs churn status to confirm the correlations, noticing the highest absolute Pearson correlation of features 1 to 1 vs churned status to be below 0.2.\n",
        "\n",
        "* **Preparing data for supervised learning**:\n",
        "    * engineered a few extra features which might be helpful\n",
        "        * `months_registered` as the ratio of total charges to monthly charges, representing how long users were registered\n",
        "        * `month` and `year` as features that might show seasonality in regards to churning\n",
        "    * converted all Yes/No categorical features to 0/1 int types\n",
        "    * converted `multiple lines` to a 0/1/2 value `num_lines` representing how many phone lines the user has\n",
        "    * dropped unneeded columns (`customer_id`, `end_date`, `multiple_lines` and `begin_date`)\n",
        "    * performed dummy encoding / OHE for the `gender`, `type`, `payment_method` and `internet_service` features\n",
        "    * divided the data 4:1 between train/validation and test sets\n",
        "    * prepared a pre-processing step for the modeling pipelines that scales all numerical features using StandardScaler() and produced synthetic observation to the minority positive class using SMOTE().\n",
        "\n",
        "* **Modeling and hyperparameter tuning**:\n",
        "    * created a helper function to perform the repetitive parts of hyperparameter tuning\n",
        "    * tuned parameters for 3 different functions using randomsearch cross validation via 5 StratifiedKfold folds:\n",
        "        * LogisticRegression: tuned the solver, penalty and  Inverse of regularization strength parameter.\n",
        "        * RandomForestClassifier: tuned the max_features and n_estimators parameters\n",
        "        * LGBMClassifier: tuned the boosting_type, learning_rate and n_estimators parameters\n",
        "    * the LGBMClassifier model had the highest score with 0.96 maximum AUC-ROC score.\n",
        "\n",
        "* **Testing the models**:\n",
        "    * used the above optimal parameters train the models on the full training set\n",
        "    * as a sanity check, added a DummyClassifier() that always predicts the most common class\n",
        "    * noticed that in terms of learning and prediction time, RF > LGBM > LR, but all models took less than 1 second\n",
        "    * achieved AUC-ROC scores of 0.99 for the LGBM model, with the next best model being RF and last LR\n",
        "    * achieved accuracy scores of \\~0.87 for RF, \\~0.94 for LR and \\~0.96 for LGBM"
      ],
      "metadata": {
        "id": "l61kjP2m5-75"
      },
      "id": "l61kjP2m5-75"
    },
    {
      "cell_type": "code",
      "source": [
        "!apt-get install texlive texlive-xetex texlive-latex-extra pandoc\n",
        "!pip install pypandoc"
      ],
      "metadata": {
        "colab": {
          "base_uri": "https://localhost:8080/"
        },
        "id": "oMYOHmk472u6",
        "outputId": "d96d4354-34c6-466a-8c2c-b07362cdcc39"
      },
      "id": "oMYOHmk472u6",
      "execution_count": 140,
      "outputs": [
        {
          "output_type": "stream",
          "name": "stdout",
          "text": [
            "Reading package lists... Done\n",
            "Building dependency tree       \n",
            "Reading state information... Done\n",
            "pandoc is already the newest version (1.19.2.4~dfsg-1build4).\n",
            "pandoc set to manually installed.\n",
            "The following package was automatically installed and is no longer required:\n",
            "  libnvidia-common-460\n",
            "Use 'apt autoremove' to remove it.\n",
            "The following additional packages will be installed:\n",
            "  fonts-droid-fallback fonts-lato fonts-lmodern fonts-noto-mono fonts-texgyre\n",
            "  javascript-common libcupsfilters1 libcupsimage2 libgs9 libgs9-common\n",
            "  libijs-0.35 libjbig2dec0 libjs-jquery libkpathsea6 libpotrace0 libptexenc1\n",
            "  libruby2.5 libsynctex1 libtexlua52 libtexluajit2 libzzip-0-13 lmodern\n",
            "  poppler-data preview-latex-style rake ruby ruby-did-you-mean ruby-minitest\n",
            "  ruby-net-telnet ruby-power-assert ruby-test-unit ruby2.5\n",
            "  rubygems-integration t1utils tex-common tex-gyre texlive-base\n",
            "  texlive-binaries texlive-fonts-recommended texlive-latex-base\n",
            "  texlive-latex-recommended texlive-pictures texlive-plain-generic tipa\n",
            "Suggested packages:\n",
            "  fonts-noto apache2 | lighttpd | httpd poppler-utils ghostscript\n",
            "  fonts-japanese-mincho | fonts-ipafont-mincho fonts-japanese-gothic\n",
            "  | fonts-ipafont-gothic fonts-arphic-ukai fonts-arphic-uming fonts-nanum ri\n",
            "  ruby-dev bundler debhelper gv | postscript-viewer perl-tk xpdf-reader\n",
            "  | pdf-viewer texlive-fonts-recommended-doc texlive-latex-base-doc\n",
            "  python-pygments icc-profiles libfile-which-perl\n",
            "  libspreadsheet-parseexcel-perl texlive-latex-extra-doc\n",
            "  texlive-latex-recommended-doc texlive-pstricks dot2tex prerex ruby-tcltk\n",
            "  | libtcltk-ruby texlive-pictures-doc vprerex\n",
            "The following NEW packages will be installed:\n",
            "  fonts-droid-fallback fonts-lato fonts-lmodern fonts-noto-mono fonts-texgyre\n",
            "  javascript-common libcupsfilters1 libcupsimage2 libgs9 libgs9-common\n",
            "  libijs-0.35 libjbig2dec0 libjs-jquery libkpathsea6 libpotrace0 libptexenc1\n",
            "  libruby2.5 libsynctex1 libtexlua52 libtexluajit2 libzzip-0-13 lmodern\n",
            "  poppler-data preview-latex-style rake ruby ruby-did-you-mean ruby-minitest\n",
            "  ruby-net-telnet ruby-power-assert ruby-test-unit ruby2.5\n",
            "  rubygems-integration t1utils tex-common tex-gyre texlive texlive-base\n",
            "  texlive-binaries texlive-fonts-recommended texlive-latex-base\n",
            "  texlive-latex-extra texlive-latex-recommended texlive-pictures\n",
            "  texlive-plain-generic texlive-xetex tipa\n",
            "0 upgraded, 47 newly installed, 0 to remove and 5 not upgraded.\n",
            "Need to get 146 MB of archives.\n",
            "After this operation, 460 MB of additional disk space will be used.\n",
            "Get:1 http://archive.ubuntu.com/ubuntu bionic/main amd64 fonts-droid-fallback all 1:6.0.1r16-1.1 [1,805 kB]\n",
            "Get:2 http://archive.ubuntu.com/ubuntu bionic/main amd64 fonts-lato all 2.0-2 [2,698 kB]\n",
            "Get:3 http://archive.ubuntu.com/ubuntu bionic/main amd64 poppler-data all 0.4.8-2 [1,479 kB]\n",
            "Get:4 http://archive.ubuntu.com/ubuntu bionic/main amd64 tex-common all 6.09 [33.0 kB]\n",
            "Get:5 http://archive.ubuntu.com/ubuntu bionic/main amd64 fonts-lmodern all 2.004.5-3 [4,551 kB]\n",
            "Get:6 http://archive.ubuntu.com/ubuntu bionic/main amd64 fonts-noto-mono all 20171026-2 [75.5 kB]\n",
            "Get:7 http://archive.ubuntu.com/ubuntu bionic/universe amd64 fonts-texgyre all 20160520-1 [8,761 kB]\n",
            "Get:8 http://archive.ubuntu.com/ubuntu bionic/main amd64 javascript-common all 11 [6,066 B]\n",
            "Get:9 http://archive.ubuntu.com/ubuntu bionic-updates/main amd64 libcupsfilters1 amd64 1.20.2-0ubuntu3.1 [108 kB]\n",
            "Get:10 http://archive.ubuntu.com/ubuntu bionic-updates/main amd64 libcupsimage2 amd64 2.2.7-1ubuntu2.9 [18.6 kB]\n",
            "Get:11 http://archive.ubuntu.com/ubuntu bionic/main amd64 libijs-0.35 amd64 0.35-13 [15.5 kB]\n",
            "Get:12 http://archive.ubuntu.com/ubuntu bionic/main amd64 libjbig2dec0 amd64 0.13-6 [55.9 kB]\n",
            "Get:13 http://archive.ubuntu.com/ubuntu bionic-updates/main amd64 libgs9-common all 9.26~dfsg+0-0ubuntu0.18.04.17 [5,092 kB]\n",
            "Get:14 http://archive.ubuntu.com/ubuntu bionic-updates/main amd64 libgs9 amd64 9.26~dfsg+0-0ubuntu0.18.04.17 [2,267 kB]\n",
            "Get:15 http://archive.ubuntu.com/ubuntu bionic/main amd64 libjs-jquery all 3.2.1-1 [152 kB]\n",
            "Get:16 http://archive.ubuntu.com/ubuntu bionic-updates/main amd64 libkpathsea6 amd64 2017.20170613.44572-8ubuntu0.1 [54.9 kB]\n",
            "Get:17 http://archive.ubuntu.com/ubuntu bionic/main amd64 libpotrace0 amd64 1.14-2 [17.4 kB]\n",
            "Get:18 http://archive.ubuntu.com/ubuntu bionic-updates/main amd64 libptexenc1 amd64 2017.20170613.44572-8ubuntu0.1 [34.5 kB]\n",
            "Get:19 http://archive.ubuntu.com/ubuntu bionic/main amd64 rubygems-integration all 1.11 [4,994 B]\n",
            "Get:20 http://archive.ubuntu.com/ubuntu bionic-updates/main amd64 ruby2.5 amd64 2.5.1-1ubuntu1.12 [48.6 kB]\n",
            "Get:21 http://archive.ubuntu.com/ubuntu bionic/main amd64 ruby amd64 1:2.5.1 [5,712 B]\n",
            "Get:22 http://archive.ubuntu.com/ubuntu bionic-updates/main amd64 rake all 12.3.1-1ubuntu0.1 [44.9 kB]\n",
            "Get:23 http://archive.ubuntu.com/ubuntu bionic/main amd64 ruby-did-you-mean all 1.2.0-2 [9,700 B]\n",
            "Get:24 http://archive.ubuntu.com/ubuntu bionic/main amd64 ruby-minitest all 5.10.3-1 [38.6 kB]\n",
            "Get:25 http://archive.ubuntu.com/ubuntu bionic/main amd64 ruby-net-telnet all 0.1.1-2 [12.6 kB]\n",
            "Get:26 http://archive.ubuntu.com/ubuntu bionic/main amd64 ruby-power-assert all 0.3.0-1 [7,952 B]\n",
            "Get:27 http://archive.ubuntu.com/ubuntu bionic/main amd64 ruby-test-unit all 3.2.5-1 [61.1 kB]\n",
            "Get:28 http://archive.ubuntu.com/ubuntu bionic-updates/main amd64 libruby2.5 amd64 2.5.1-1ubuntu1.12 [3,073 kB]\n",
            "Get:29 http://archive.ubuntu.com/ubuntu bionic-updates/main amd64 libsynctex1 amd64 2017.20170613.44572-8ubuntu0.1 [41.4 kB]\n",
            "Get:30 http://archive.ubuntu.com/ubuntu bionic-updates/main amd64 libtexlua52 amd64 2017.20170613.44572-8ubuntu0.1 [91.2 kB]\n",
            "Get:31 http://archive.ubuntu.com/ubuntu bionic-updates/main amd64 libtexluajit2 amd64 2017.20170613.44572-8ubuntu0.1 [230 kB]\n",
            "Get:32 http://archive.ubuntu.com/ubuntu bionic-updates/main amd64 libzzip-0-13 amd64 0.13.62-3.1ubuntu0.18.04.1 [26.0 kB]\n",
            "Get:33 http://archive.ubuntu.com/ubuntu bionic/main amd64 lmodern all 2.004.5-3 [9,631 kB]\n",
            "Get:34 http://archive.ubuntu.com/ubuntu bionic/main amd64 preview-latex-style all 11.91-1ubuntu1 [185 kB]\n",
            "Get:35 http://archive.ubuntu.com/ubuntu bionic/main amd64 t1utils amd64 1.41-2 [56.0 kB]\n",
            "Get:36 http://archive.ubuntu.com/ubuntu bionic/universe amd64 tex-gyre all 20160520-1 [4,998 kB]\n",
            "Get:37 http://archive.ubuntu.com/ubuntu bionic-updates/main amd64 texlive-binaries amd64 2017.20170613.44572-8ubuntu0.1 [8,179 kB]\n",
            "Get:38 http://archive.ubuntu.com/ubuntu bionic/main amd64 texlive-base all 2017.20180305-1 [18.7 MB]\n",
            "Get:39 http://archive.ubuntu.com/ubuntu bionic/universe amd64 texlive-fonts-recommended all 2017.20180305-1 [5,262 kB]\n",
            "Get:40 http://archive.ubuntu.com/ubuntu bionic/main amd64 texlive-latex-base all 2017.20180305-1 [951 kB]\n",
            "Get:41 http://archive.ubuntu.com/ubuntu bionic/main amd64 texlive-latex-recommended all 2017.20180305-1 [14.9 MB]\n",
            "Get:42 http://archive.ubuntu.com/ubuntu bionic/universe amd64 texlive all 2017.20180305-1 [14.4 kB]\n",
            "Get:43 http://archive.ubuntu.com/ubuntu bionic/universe amd64 texlive-pictures all 2017.20180305-1 [4,026 kB]\n",
            "Get:44 http://archive.ubuntu.com/ubuntu bionic/universe amd64 texlive-latex-extra all 2017.20180305-2 [10.6 MB]\n",
            "Get:45 http://archive.ubuntu.com/ubuntu bionic/universe amd64 texlive-plain-generic all 2017.20180305-2 [23.6 MB]\n",
            "Get:46 http://archive.ubuntu.com/ubuntu bionic/universe amd64 tipa all 2:1.3-20 [2,978 kB]\n",
            "Get:47 http://archive.ubuntu.com/ubuntu bionic/universe amd64 texlive-xetex all 2017.20180305-1 [10.7 MB]\n",
            "Fetched 146 MB in 3s (53.3 MB/s)\n",
            "Extracting templates from packages: 100%\n",
            "Preconfiguring packages ...\n",
            "Selecting previously unselected package fonts-droid-fallback.\n",
            "(Reading database ... 123991 files and directories currently installed.)\n",
            "Preparing to unpack .../00-fonts-droid-fallback_1%3a6.0.1r16-1.1_all.deb ...\n",
            "Unpacking fonts-droid-fallback (1:6.0.1r16-1.1) ...\n",
            "Selecting previously unselected package fonts-lato.\n",
            "Preparing to unpack .../01-fonts-lato_2.0-2_all.deb ...\n",
            "Unpacking fonts-lato (2.0-2) ...\n",
            "Selecting previously unselected package poppler-data.\n",
            "Preparing to unpack .../02-poppler-data_0.4.8-2_all.deb ...\n",
            "Unpacking poppler-data (0.4.8-2) ...\n",
            "Selecting previously unselected package tex-common.\n",
            "Preparing to unpack .../03-tex-common_6.09_all.deb ...\n",
            "Unpacking tex-common (6.09) ...\n",
            "Selecting previously unselected package fonts-lmodern.\n",
            "Preparing to unpack .../04-fonts-lmodern_2.004.5-3_all.deb ...\n",
            "Unpacking fonts-lmodern (2.004.5-3) ...\n",
            "Selecting previously unselected package fonts-noto-mono.\n",
            "Preparing to unpack .../05-fonts-noto-mono_20171026-2_all.deb ...\n",
            "Unpacking fonts-noto-mono (20171026-2) ...\n",
            "Selecting previously unselected package fonts-texgyre.\n",
            "Preparing to unpack .../06-fonts-texgyre_20160520-1_all.deb ...\n",
            "Unpacking fonts-texgyre (20160520-1) ...\n",
            "Selecting previously unselected package javascript-common.\n",
            "Preparing to unpack .../07-javascript-common_11_all.deb ...\n",
            "Unpacking javascript-common (11) ...\n",
            "Selecting previously unselected package libcupsfilters1:amd64.\n",
            "Preparing to unpack .../08-libcupsfilters1_1.20.2-0ubuntu3.1_amd64.deb ...\n",
            "Unpacking libcupsfilters1:amd64 (1.20.2-0ubuntu3.1) ...\n",
            "Selecting previously unselected package libcupsimage2:amd64.\n",
            "Preparing to unpack .../09-libcupsimage2_2.2.7-1ubuntu2.9_amd64.deb ...\n",
            "Unpacking libcupsimage2:amd64 (2.2.7-1ubuntu2.9) ...\n",
            "Selecting previously unselected package libijs-0.35:amd64.\n",
            "Preparing to unpack .../10-libijs-0.35_0.35-13_amd64.deb ...\n",
            "Unpacking libijs-0.35:amd64 (0.35-13) ...\n",
            "Selecting previously unselected package libjbig2dec0:amd64.\n",
            "Preparing to unpack .../11-libjbig2dec0_0.13-6_amd64.deb ...\n",
            "Unpacking libjbig2dec0:amd64 (0.13-6) ...\n",
            "Selecting previously unselected package libgs9-common.\n",
            "Preparing to unpack .../12-libgs9-common_9.26~dfsg+0-0ubuntu0.18.04.17_all.deb ...\n",
            "Unpacking libgs9-common (9.26~dfsg+0-0ubuntu0.18.04.17) ...\n",
            "Selecting previously unselected package libgs9:amd64.\n",
            "Preparing to unpack .../13-libgs9_9.26~dfsg+0-0ubuntu0.18.04.17_amd64.deb ...\n",
            "Unpacking libgs9:amd64 (9.26~dfsg+0-0ubuntu0.18.04.17) ...\n",
            "Selecting previously unselected package libjs-jquery.\n",
            "Preparing to unpack .../14-libjs-jquery_3.2.1-1_all.deb ...\n",
            "Unpacking libjs-jquery (3.2.1-1) ...\n",
            "Selecting previously unselected package libkpathsea6:amd64.\n",
            "Preparing to unpack .../15-libkpathsea6_2017.20170613.44572-8ubuntu0.1_amd64.deb ...\n",
            "Unpacking libkpathsea6:amd64 (2017.20170613.44572-8ubuntu0.1) ...\n",
            "Selecting previously unselected package libpotrace0.\n",
            "Preparing to unpack .../16-libpotrace0_1.14-2_amd64.deb ...\n",
            "Unpacking libpotrace0 (1.14-2) ...\n",
            "Selecting previously unselected package libptexenc1:amd64.\n",
            "Preparing to unpack .../17-libptexenc1_2017.20170613.44572-8ubuntu0.1_amd64.deb ...\n",
            "Unpacking libptexenc1:amd64 (2017.20170613.44572-8ubuntu0.1) ...\n",
            "Selecting previously unselected package rubygems-integration.\n",
            "Preparing to unpack .../18-rubygems-integration_1.11_all.deb ...\n",
            "Unpacking rubygems-integration (1.11) ...\n",
            "Selecting previously unselected package ruby2.5.\n",
            "Preparing to unpack .../19-ruby2.5_2.5.1-1ubuntu1.12_amd64.deb ...\n",
            "Unpacking ruby2.5 (2.5.1-1ubuntu1.12) ...\n",
            "Selecting previously unselected package ruby.\n",
            "Preparing to unpack .../20-ruby_1%3a2.5.1_amd64.deb ...\n",
            "Unpacking ruby (1:2.5.1) ...\n",
            "Selecting previously unselected package rake.\n",
            "Preparing to unpack .../21-rake_12.3.1-1ubuntu0.1_all.deb ...\n",
            "Unpacking rake (12.3.1-1ubuntu0.1) ...\n",
            "Selecting previously unselected package ruby-did-you-mean.\n",
            "Preparing to unpack .../22-ruby-did-you-mean_1.2.0-2_all.deb ...\n",
            "Unpacking ruby-did-you-mean (1.2.0-2) ...\n",
            "Selecting previously unselected package ruby-minitest.\n",
            "Preparing to unpack .../23-ruby-minitest_5.10.3-1_all.deb ...\n",
            "Unpacking ruby-minitest (5.10.3-1) ...\n",
            "Selecting previously unselected package ruby-net-telnet.\n",
            "Preparing to unpack .../24-ruby-net-telnet_0.1.1-2_all.deb ...\n",
            "Unpacking ruby-net-telnet (0.1.1-2) ...\n",
            "Selecting previously unselected package ruby-power-assert.\n",
            "Preparing to unpack .../25-ruby-power-assert_0.3.0-1_all.deb ...\n",
            "Unpacking ruby-power-assert (0.3.0-1) ...\n",
            "Selecting previously unselected package ruby-test-unit.\n",
            "Preparing to unpack .../26-ruby-test-unit_3.2.5-1_all.deb ...\n",
            "Unpacking ruby-test-unit (3.2.5-1) ...\n",
            "Selecting previously unselected package libruby2.5:amd64.\n",
            "Preparing to unpack .../27-libruby2.5_2.5.1-1ubuntu1.12_amd64.deb ...\n",
            "Unpacking libruby2.5:amd64 (2.5.1-1ubuntu1.12) ...\n",
            "Selecting previously unselected package libsynctex1:amd64.\n",
            "Preparing to unpack .../28-libsynctex1_2017.20170613.44572-8ubuntu0.1_amd64.deb ...\n",
            "Unpacking libsynctex1:amd64 (2017.20170613.44572-8ubuntu0.1) ...\n",
            "Selecting previously unselected package libtexlua52:amd64.\n",
            "Preparing to unpack .../29-libtexlua52_2017.20170613.44572-8ubuntu0.1_amd64.deb ...\n",
            "Unpacking libtexlua52:amd64 (2017.20170613.44572-8ubuntu0.1) ...\n",
            "Selecting previously unselected package libtexluajit2:amd64.\n",
            "Preparing to unpack .../30-libtexluajit2_2017.20170613.44572-8ubuntu0.1_amd64.deb ...\n",
            "Unpacking libtexluajit2:amd64 (2017.20170613.44572-8ubuntu0.1) ...\n",
            "Selecting previously unselected package libzzip-0-13:amd64.\n",
            "Preparing to unpack .../31-libzzip-0-13_0.13.62-3.1ubuntu0.18.04.1_amd64.deb ...\n",
            "Unpacking libzzip-0-13:amd64 (0.13.62-3.1ubuntu0.18.04.1) ...\n",
            "Selecting previously unselected package lmodern.\n",
            "Preparing to unpack .../32-lmodern_2.004.5-3_all.deb ...\n",
            "Unpacking lmodern (2.004.5-3) ...\n",
            "Selecting previously unselected package preview-latex-style.\n",
            "Preparing to unpack .../33-preview-latex-style_11.91-1ubuntu1_all.deb ...\n",
            "Unpacking preview-latex-style (11.91-1ubuntu1) ...\n",
            "Selecting previously unselected package t1utils.\n",
            "Preparing to unpack .../34-t1utils_1.41-2_amd64.deb ...\n",
            "Unpacking t1utils (1.41-2) ...\n",
            "Selecting previously unselected package tex-gyre.\n",
            "Preparing to unpack .../35-tex-gyre_20160520-1_all.deb ...\n",
            "Unpacking tex-gyre (20160520-1) ...\n",
            "Selecting previously unselected package texlive-binaries.\n",
            "Preparing to unpack .../36-texlive-binaries_2017.20170613.44572-8ubuntu0.1_amd64.deb ...\n",
            "Unpacking texlive-binaries (2017.20170613.44572-8ubuntu0.1) ...\n",
            "Selecting previously unselected package texlive-base.\n",
            "Preparing to unpack .../37-texlive-base_2017.20180305-1_all.deb ...\n",
            "Unpacking texlive-base (2017.20180305-1) ...\n",
            "Selecting previously unselected package texlive-fonts-recommended.\n",
            "Preparing to unpack .../38-texlive-fonts-recommended_2017.20180305-1_all.deb ...\n",
            "Unpacking texlive-fonts-recommended (2017.20180305-1) ...\n",
            "Selecting previously unselected package texlive-latex-base.\n",
            "Preparing to unpack .../39-texlive-latex-base_2017.20180305-1_all.deb ...\n",
            "Unpacking texlive-latex-base (2017.20180305-1) ...\n",
            "Selecting previously unselected package texlive-latex-recommended.\n",
            "Preparing to unpack .../40-texlive-latex-recommended_2017.20180305-1_all.deb ...\n",
            "Unpacking texlive-latex-recommended (2017.20180305-1) ...\n",
            "Selecting previously unselected package texlive.\n",
            "Preparing to unpack .../41-texlive_2017.20180305-1_all.deb ...\n",
            "Unpacking texlive (2017.20180305-1) ...\n",
            "Selecting previously unselected package texlive-pictures.\n",
            "Preparing to unpack .../42-texlive-pictures_2017.20180305-1_all.deb ...\n",
            "Unpacking texlive-pictures (2017.20180305-1) ...\n",
            "Selecting previously unselected package texlive-latex-extra.\n",
            "Preparing to unpack .../43-texlive-latex-extra_2017.20180305-2_all.deb ...\n",
            "Unpacking texlive-latex-extra (2017.20180305-2) ...\n",
            "Selecting previously unselected package texlive-plain-generic.\n",
            "Preparing to unpack .../44-texlive-plain-generic_2017.20180305-2_all.deb ...\n",
            "Unpacking texlive-plain-generic (2017.20180305-2) ...\n",
            "Selecting previously unselected package tipa.\n",
            "Preparing to unpack .../45-tipa_2%3a1.3-20_all.deb ...\n",
            "Unpacking tipa (2:1.3-20) ...\n",
            "Selecting previously unselected package texlive-xetex.\n",
            "Preparing to unpack .../46-texlive-xetex_2017.20180305-1_all.deb ...\n",
            "Unpacking texlive-xetex (2017.20180305-1) ...\n",
            "Setting up libgs9-common (9.26~dfsg+0-0ubuntu0.18.04.17) ...\n",
            "Setting up libkpathsea6:amd64 (2017.20170613.44572-8ubuntu0.1) ...\n",
            "Setting up libjs-jquery (3.2.1-1) ...\n",
            "Setting up libtexlua52:amd64 (2017.20170613.44572-8ubuntu0.1) ...\n",
            "Setting up fonts-droid-fallback (1:6.0.1r16-1.1) ...\n",
            "Setting up libsynctex1:amd64 (2017.20170613.44572-8ubuntu0.1) ...\n",
            "Setting up libptexenc1:amd64 (2017.20170613.44572-8ubuntu0.1) ...\n",
            "Setting up tex-common (6.09) ...\n",
            "update-language: texlive-base not installed and configured, doing nothing!\n",
            "Setting up poppler-data (0.4.8-2) ...\n",
            "Setting up tex-gyre (20160520-1) ...\n",
            "Setting up preview-latex-style (11.91-1ubuntu1) ...\n",
            "Setting up fonts-texgyre (20160520-1) ...\n",
            "Setting up fonts-noto-mono (20171026-2) ...\n",
            "Setting up fonts-lato (2.0-2) ...\n",
            "Setting up libcupsfilters1:amd64 (1.20.2-0ubuntu3.1) ...\n",
            "Setting up libcupsimage2:amd64 (2.2.7-1ubuntu2.9) ...\n",
            "Setting up libjbig2dec0:amd64 (0.13-6) ...\n",
            "Setting up ruby-did-you-mean (1.2.0-2) ...\n",
            "Setting up t1utils (1.41-2) ...\n",
            "Setting up ruby-net-telnet (0.1.1-2) ...\n",
            "Setting up libijs-0.35:amd64 (0.35-13) ...\n",
            "Setting up rubygems-integration (1.11) ...\n",
            "Setting up libpotrace0 (1.14-2) ...\n",
            "Setting up javascript-common (11) ...\n",
            "Setting up ruby-minitest (5.10.3-1) ...\n",
            "Setting up libzzip-0-13:amd64 (0.13.62-3.1ubuntu0.18.04.1) ...\n",
            "Setting up libgs9:amd64 (9.26~dfsg+0-0ubuntu0.18.04.17) ...\n",
            "Setting up libtexluajit2:amd64 (2017.20170613.44572-8ubuntu0.1) ...\n",
            "Setting up fonts-lmodern (2.004.5-3) ...\n",
            "Setting up ruby-power-assert (0.3.0-1) ...\n",
            "Setting up texlive-binaries (2017.20170613.44572-8ubuntu0.1) ...\n",
            "update-alternatives: using /usr/bin/xdvi-xaw to provide /usr/bin/xdvi.bin (xdvi.bin) in auto mode\n",
            "update-alternatives: using /usr/bin/bibtex.original to provide /usr/bin/bibtex (bibtex) in auto mode\n",
            "Setting up texlive-base (2017.20180305-1) ...\n",
            "mktexlsr: Updating /var/lib/texmf/ls-R-TEXLIVEDIST... \n",
            "mktexlsr: Updating /var/lib/texmf/ls-R-TEXMFMAIN... \n",
            "mktexlsr: Updating /var/lib/texmf/ls-R... \n",
            "mktexlsr: Done.\n",
            "tl-paper: setting paper size for dvips to a4: /var/lib/texmf/dvips/config/config-paper.ps\n",
            "tl-paper: setting paper size for dvipdfmx to a4: /var/lib/texmf/dvipdfmx/dvipdfmx-paper.cfg\n",
            "tl-paper: setting paper size for xdvi to a4: /var/lib/texmf/xdvi/XDvi-paper\n",
            "tl-paper: setting paper size for pdftex to a4: /var/lib/texmf/tex/generic/config/pdftexconfig.tex\n",
            "Setting up texlive-fonts-recommended (2017.20180305-1) ...\n",
            "Setting up texlive-plain-generic (2017.20180305-2) ...\n",
            "Setting up texlive-latex-base (2017.20180305-1) ...\n",
            "Setting up lmodern (2.004.5-3) ...\n",
            "Setting up texlive-latex-recommended (2017.20180305-1) ...\n",
            "Setting up texlive-pictures (2017.20180305-1) ...\n",
            "Setting up tipa (2:1.3-20) ...\n",
            "Regenerating '/var/lib/texmf/fmtutil.cnf-DEBIAN'... done.\n",
            "Regenerating '/var/lib/texmf/fmtutil.cnf-TEXLIVEDIST'... done.\n",
            "update-fmtutil has updated the following file(s):\n",
            "\t/var/lib/texmf/fmtutil.cnf-DEBIAN\n",
            "\t/var/lib/texmf/fmtutil.cnf-TEXLIVEDIST\n",
            "If you want to activate the changes in the above file(s),\n",
            "you should run fmtutil-sys or fmtutil.\n",
            "Setting up texlive (2017.20180305-1) ...\n",
            "Setting up texlive-latex-extra (2017.20180305-2) ...\n",
            "Setting up texlive-xetex (2017.20180305-1) ...\n",
            "Setting up ruby2.5 (2.5.1-1ubuntu1.12) ...\n",
            "Setting up ruby (1:2.5.1) ...\n",
            "Setting up ruby-test-unit (3.2.5-1) ...\n",
            "Setting up rake (12.3.1-1ubuntu0.1) ...\n",
            "Setting up libruby2.5:amd64 (2.5.1-1ubuntu1.12) ...\n",
            "Processing triggers for mime-support (3.60ubuntu1) ...\n",
            "Processing triggers for libc-bin (2.27-3ubuntu1.6) ...\n",
            "Processing triggers for man-db (2.8.3-2ubuntu0.1) ...\n",
            "Processing triggers for fontconfig (2.12.6-0ubuntu2) ...\n",
            "Processing triggers for tex-common (6.09) ...\n",
            "Running updmap-sys. This may take some time... done.\n",
            "Running mktexlsr /var/lib/texmf ... done.\n",
            "Building format(s) --all.\n",
            "\tThis may take some time... done.\n",
            "Looking in indexes: https://pypi.org/simple, https://us-python.pkg.dev/colab-wheels/public/simple/\n",
            "Collecting pypandoc\n",
            "  Downloading pypandoc-1.10-py3-none-any.whl (20 kB)\n",
            "Installing collected packages: pypandoc\n",
            "Successfully installed pypandoc-1.10\n"
          ]
        }
      ]
    },
    {
      "cell_type": "code",
      "source": [
        "!cp /content/drive/MyDrive/churn_gm/telecom_project_main_v2.ipynb ./"
      ],
      "metadata": {
        "id": "tngxhJsH-G_7"
      },
      "id": "tngxhJsH-G_7",
      "execution_count": 146,
      "outputs": []
    },
    {
      "cell_type": "code",
      "source": [
        "!jupyter nbconvert --to pdf telecom_project_main_v2.ipynb"
      ],
      "metadata": {
        "colab": {
          "base_uri": "https://localhost:8080/"
        },
        "id": "uwvbuwZ_8nIt",
        "outputId": "2319026d-0add-4564-aa7c-c64933db328d"
      },
      "id": "uwvbuwZ_8nIt",
      "execution_count": 147,
      "outputs": [
        {
          "output_type": "stream",
          "name": "stdout",
          "text": [
            "[NbConvertApp] Converting notebook telecom_project_main_v2.ipynb to pdf\n",
            "[NbConvertApp] Support files will be in telecom_project_main_v2_files/\n",
            "[NbConvertApp] Making directory ./telecom_project_main_v2_files\n",
            "[NbConvertApp] Making directory ./telecom_project_main_v2_files\n",
            "[NbConvertApp] Making directory ./telecom_project_main_v2_files\n",
            "[NbConvertApp] Making directory ./telecom_project_main_v2_files\n",
            "[NbConvertApp] Making directory ./telecom_project_main_v2_files\n",
            "[NbConvertApp] Making directory ./telecom_project_main_v2_files\n",
            "[NbConvertApp] Making directory ./telecom_project_main_v2_files\n",
            "[NbConvertApp] Making directory ./telecom_project_main_v2_files\n",
            "[NbConvertApp] Making directory ./telecom_project_main_v2_files\n",
            "[NbConvertApp] Making directory ./telecom_project_main_v2_files\n",
            "[NbConvertApp] Making directory ./telecom_project_main_v2_files\n",
            "[NbConvertApp] Writing 234888 bytes to ./notebook.tex\n",
            "[NbConvertApp] Building PDF\n",
            "[NbConvertApp] Running xelatex 3 times: ['xelatex', './notebook.tex', '-quiet']\n",
            "[NbConvertApp] Running bibtex 1 time: ['bibtex', './notebook']\n",
            "[NbConvertApp] WARNING | bibtex had problems, most likely because there were no citations\n",
            "[NbConvertApp] PDF successfully created\n",
            "[NbConvertApp] Writing 515901 bytes to telecom_project_main_v2.pdf\n"
          ]
        }
      ]
    }
  ],
  "metadata": {
    "kernelspec": {
      "display_name": "Python 3 (ipykernel)",
      "language": "python",
      "name": "python3"
    },
    "language_info": {
      "codemirror_mode": {
        "name": "ipython",
        "version": 3
      },
      "file_extension": ".py",
      "mimetype": "text/x-python",
      "name": "python",
      "nbconvert_exporter": "python",
      "pygments_lexer": "ipython3",
      "version": "3.11.0"
    },
    "toc": {
      "base_numbering": 1,
      "nav_menu": {},
      "number_sections": true,
      "sideBar": true,
      "skip_h1_title": false,
      "title_cell": "Table of Contents",
      "title_sidebar": "Contents",
      "toc_cell": false,
      "toc_position": {
        "height": "calc(100% - 180px)",
        "left": "10px",
        "top": "150px",
        "width": "384px"
      },
      "toc_section_display": true,
      "toc_window_display": false
    },
    "colab": {
      "provenance": [],
      "collapsed_sections": [
        "caca5fcb"
      ]
    }
  },
  "nbformat": 4,
  "nbformat_minor": 5
}